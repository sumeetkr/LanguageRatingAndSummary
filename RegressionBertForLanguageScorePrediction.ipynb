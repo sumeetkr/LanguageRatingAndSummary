{
  "nbformat": 4,
  "nbformat_minor": 0,
  "metadata": {
    "colab": {
      "provenance": []
    },
    "kernelspec": {
      "name": "python3",
      "display_name": "Python 3"
    },
    "language_info": {
      "name": "python"
    },
    "widgets": {
      "application/vnd.jupyter.widget-state+json": {
        "bee481f8e2ea4f0586060915a7445cc0": {
          "model_module": "@jupyter-widgets/controls",
          "model_name": "HBoxModel",
          "model_module_version": "1.5.0",
          "state": {
            "_dom_classes": [],
            "_model_module": "@jupyter-widgets/controls",
            "_model_module_version": "1.5.0",
            "_model_name": "HBoxModel",
            "_view_count": null,
            "_view_module": "@jupyter-widgets/controls",
            "_view_module_version": "1.5.0",
            "_view_name": "HBoxView",
            "box_style": "",
            "children": [
              "IPY_MODEL_6a61d952ee3f426caacf54d1a8842722",
              "IPY_MODEL_66b89288d1e3454490545c89888e388a",
              "IPY_MODEL_4448217e586c4140bdb5c88b1b5d8b2f"
            ],
            "layout": "IPY_MODEL_3ba41befc4af4f3d8edcb5b22ecd92e0"
          }
        },
        "6a61d952ee3f426caacf54d1a8842722": {
          "model_module": "@jupyter-widgets/controls",
          "model_name": "HTMLModel",
          "model_module_version": "1.5.0",
          "state": {
            "_dom_classes": [],
            "_model_module": "@jupyter-widgets/controls",
            "_model_module_version": "1.5.0",
            "_model_name": "HTMLModel",
            "_view_count": null,
            "_view_module": "@jupyter-widgets/controls",
            "_view_module_version": "1.5.0",
            "_view_name": "HTMLView",
            "description": "",
            "description_tooltip": null,
            "layout": "IPY_MODEL_ddbd545a4714452e8fdc9ee8560c1358",
            "placeholder": "​",
            "style": "IPY_MODEL_84bf4ad854a548d18c3eba2944ff2de8",
            "value": "Map: 100%"
          }
        },
        "66b89288d1e3454490545c89888e388a": {
          "model_module": "@jupyter-widgets/controls",
          "model_name": "FloatProgressModel",
          "model_module_version": "1.5.0",
          "state": {
            "_dom_classes": [],
            "_model_module": "@jupyter-widgets/controls",
            "_model_module_version": "1.5.0",
            "_model_name": "FloatProgressModel",
            "_view_count": null,
            "_view_module": "@jupyter-widgets/controls",
            "_view_module_version": "1.5.0",
            "_view_name": "ProgressView",
            "bar_style": "",
            "description": "",
            "description_tooltip": null,
            "layout": "IPY_MODEL_16b3dd856fbc42ca9e079f9005ecce6a",
            "max": 700,
            "min": 0,
            "orientation": "horizontal",
            "style": "IPY_MODEL_c4440c43e8524740bc52676fbb204a6c",
            "value": 700
          }
        },
        "4448217e586c4140bdb5c88b1b5d8b2f": {
          "model_module": "@jupyter-widgets/controls",
          "model_name": "HTMLModel",
          "model_module_version": "1.5.0",
          "state": {
            "_dom_classes": [],
            "_model_module": "@jupyter-widgets/controls",
            "_model_module_version": "1.5.0",
            "_model_name": "HTMLModel",
            "_view_count": null,
            "_view_module": "@jupyter-widgets/controls",
            "_view_module_version": "1.5.0",
            "_view_name": "HTMLView",
            "description": "",
            "description_tooltip": null,
            "layout": "IPY_MODEL_ffdf74b5d56a43f386e56606bd6868ab",
            "placeholder": "​",
            "style": "IPY_MODEL_d2184efe2e8f40238349780cf85f256b",
            "value": " 700/700 [00:44&lt;00:00, 15.78 examples/s]"
          }
        },
        "3ba41befc4af4f3d8edcb5b22ecd92e0": {
          "model_module": "@jupyter-widgets/base",
          "model_name": "LayoutModel",
          "model_module_version": "1.2.0",
          "state": {
            "_model_module": "@jupyter-widgets/base",
            "_model_module_version": "1.2.0",
            "_model_name": "LayoutModel",
            "_view_count": null,
            "_view_module": "@jupyter-widgets/base",
            "_view_module_version": "1.2.0",
            "_view_name": "LayoutView",
            "align_content": null,
            "align_items": null,
            "align_self": null,
            "border": null,
            "bottom": null,
            "display": null,
            "flex": null,
            "flex_flow": null,
            "grid_area": null,
            "grid_auto_columns": null,
            "grid_auto_flow": null,
            "grid_auto_rows": null,
            "grid_column": null,
            "grid_gap": null,
            "grid_row": null,
            "grid_template_areas": null,
            "grid_template_columns": null,
            "grid_template_rows": null,
            "height": null,
            "justify_content": null,
            "justify_items": null,
            "left": null,
            "margin": null,
            "max_height": null,
            "max_width": null,
            "min_height": null,
            "min_width": null,
            "object_fit": null,
            "object_position": null,
            "order": null,
            "overflow": null,
            "overflow_x": null,
            "overflow_y": null,
            "padding": null,
            "right": null,
            "top": null,
            "visibility": "hidden",
            "width": null
          }
        },
        "ddbd545a4714452e8fdc9ee8560c1358": {
          "model_module": "@jupyter-widgets/base",
          "model_name": "LayoutModel",
          "model_module_version": "1.2.0",
          "state": {
            "_model_module": "@jupyter-widgets/base",
            "_model_module_version": "1.2.0",
            "_model_name": "LayoutModel",
            "_view_count": null,
            "_view_module": "@jupyter-widgets/base",
            "_view_module_version": "1.2.0",
            "_view_name": "LayoutView",
            "align_content": null,
            "align_items": null,
            "align_self": null,
            "border": null,
            "bottom": null,
            "display": null,
            "flex": null,
            "flex_flow": null,
            "grid_area": null,
            "grid_auto_columns": null,
            "grid_auto_flow": null,
            "grid_auto_rows": null,
            "grid_column": null,
            "grid_gap": null,
            "grid_row": null,
            "grid_template_areas": null,
            "grid_template_columns": null,
            "grid_template_rows": null,
            "height": null,
            "justify_content": null,
            "justify_items": null,
            "left": null,
            "margin": null,
            "max_height": null,
            "max_width": null,
            "min_height": null,
            "min_width": null,
            "object_fit": null,
            "object_position": null,
            "order": null,
            "overflow": null,
            "overflow_x": null,
            "overflow_y": null,
            "padding": null,
            "right": null,
            "top": null,
            "visibility": null,
            "width": null
          }
        },
        "84bf4ad854a548d18c3eba2944ff2de8": {
          "model_module": "@jupyter-widgets/controls",
          "model_name": "DescriptionStyleModel",
          "model_module_version": "1.5.0",
          "state": {
            "_model_module": "@jupyter-widgets/controls",
            "_model_module_version": "1.5.0",
            "_model_name": "DescriptionStyleModel",
            "_view_count": null,
            "_view_module": "@jupyter-widgets/base",
            "_view_module_version": "1.2.0",
            "_view_name": "StyleView",
            "description_width": ""
          }
        },
        "16b3dd856fbc42ca9e079f9005ecce6a": {
          "model_module": "@jupyter-widgets/base",
          "model_name": "LayoutModel",
          "model_module_version": "1.2.0",
          "state": {
            "_model_module": "@jupyter-widgets/base",
            "_model_module_version": "1.2.0",
            "_model_name": "LayoutModel",
            "_view_count": null,
            "_view_module": "@jupyter-widgets/base",
            "_view_module_version": "1.2.0",
            "_view_name": "LayoutView",
            "align_content": null,
            "align_items": null,
            "align_self": null,
            "border": null,
            "bottom": null,
            "display": null,
            "flex": null,
            "flex_flow": null,
            "grid_area": null,
            "grid_auto_columns": null,
            "grid_auto_flow": null,
            "grid_auto_rows": null,
            "grid_column": null,
            "grid_gap": null,
            "grid_row": null,
            "grid_template_areas": null,
            "grid_template_columns": null,
            "grid_template_rows": null,
            "height": null,
            "justify_content": null,
            "justify_items": null,
            "left": null,
            "margin": null,
            "max_height": null,
            "max_width": null,
            "min_height": null,
            "min_width": null,
            "object_fit": null,
            "object_position": null,
            "order": null,
            "overflow": null,
            "overflow_x": null,
            "overflow_y": null,
            "padding": null,
            "right": null,
            "top": null,
            "visibility": null,
            "width": null
          }
        },
        "c4440c43e8524740bc52676fbb204a6c": {
          "model_module": "@jupyter-widgets/controls",
          "model_name": "ProgressStyleModel",
          "model_module_version": "1.5.0",
          "state": {
            "_model_module": "@jupyter-widgets/controls",
            "_model_module_version": "1.5.0",
            "_model_name": "ProgressStyleModel",
            "_view_count": null,
            "_view_module": "@jupyter-widgets/base",
            "_view_module_version": "1.2.0",
            "_view_name": "StyleView",
            "bar_color": null,
            "description_width": ""
          }
        },
        "ffdf74b5d56a43f386e56606bd6868ab": {
          "model_module": "@jupyter-widgets/base",
          "model_name": "LayoutModel",
          "model_module_version": "1.2.0",
          "state": {
            "_model_module": "@jupyter-widgets/base",
            "_model_module_version": "1.2.0",
            "_model_name": "LayoutModel",
            "_view_count": null,
            "_view_module": "@jupyter-widgets/base",
            "_view_module_version": "1.2.0",
            "_view_name": "LayoutView",
            "align_content": null,
            "align_items": null,
            "align_self": null,
            "border": null,
            "bottom": null,
            "display": null,
            "flex": null,
            "flex_flow": null,
            "grid_area": null,
            "grid_auto_columns": null,
            "grid_auto_flow": null,
            "grid_auto_rows": null,
            "grid_column": null,
            "grid_gap": null,
            "grid_row": null,
            "grid_template_areas": null,
            "grid_template_columns": null,
            "grid_template_rows": null,
            "height": null,
            "justify_content": null,
            "justify_items": null,
            "left": null,
            "margin": null,
            "max_height": null,
            "max_width": null,
            "min_height": null,
            "min_width": null,
            "object_fit": null,
            "object_position": null,
            "order": null,
            "overflow": null,
            "overflow_x": null,
            "overflow_y": null,
            "padding": null,
            "right": null,
            "top": null,
            "visibility": null,
            "width": null
          }
        },
        "d2184efe2e8f40238349780cf85f256b": {
          "model_module": "@jupyter-widgets/controls",
          "model_name": "DescriptionStyleModel",
          "model_module_version": "1.5.0",
          "state": {
            "_model_module": "@jupyter-widgets/controls",
            "_model_module_version": "1.5.0",
            "_model_name": "DescriptionStyleModel",
            "_view_count": null,
            "_view_module": "@jupyter-widgets/base",
            "_view_module_version": "1.2.0",
            "_view_name": "StyleView",
            "description_width": ""
          }
        },
        "686cf7c8345349439345b2bfc5f3dbe8": {
          "model_module": "@jupyter-widgets/controls",
          "model_name": "HBoxModel",
          "model_module_version": "1.5.0",
          "state": {
            "_dom_classes": [],
            "_model_module": "@jupyter-widgets/controls",
            "_model_module_version": "1.5.0",
            "_model_name": "HBoxModel",
            "_view_count": null,
            "_view_module": "@jupyter-widgets/controls",
            "_view_module_version": "1.5.0",
            "_view_name": "HBoxView",
            "box_style": "",
            "children": [
              "IPY_MODEL_c0ad3086c0944d23a846b506b654d6c9",
              "IPY_MODEL_177eb9c6274c46ceb05f3ce0b48e1332",
              "IPY_MODEL_5753851a26804427a4141d4def7859cf"
            ],
            "layout": "IPY_MODEL_41e9789fd17c4792aee293e05371b935"
          }
        },
        "c0ad3086c0944d23a846b506b654d6c9": {
          "model_module": "@jupyter-widgets/controls",
          "model_name": "HTMLModel",
          "model_module_version": "1.5.0",
          "state": {
            "_dom_classes": [],
            "_model_module": "@jupyter-widgets/controls",
            "_model_module_version": "1.5.0",
            "_model_name": "HTMLModel",
            "_view_count": null,
            "_view_module": "@jupyter-widgets/controls",
            "_view_module_version": "1.5.0",
            "_view_name": "HTMLView",
            "description": "",
            "description_tooltip": null,
            "layout": "IPY_MODEL_8d438def73644e288446eea43e921003",
            "placeholder": "​",
            "style": "IPY_MODEL_f020a823b0804840abdf0ded2dfa9072",
            "value": "Map: 100%"
          }
        },
        "177eb9c6274c46ceb05f3ce0b48e1332": {
          "model_module": "@jupyter-widgets/controls",
          "model_name": "FloatProgressModel",
          "model_module_version": "1.5.0",
          "state": {
            "_dom_classes": [],
            "_model_module": "@jupyter-widgets/controls",
            "_model_module_version": "1.5.0",
            "_model_name": "FloatProgressModel",
            "_view_count": null,
            "_view_module": "@jupyter-widgets/controls",
            "_view_module_version": "1.5.0",
            "_view_name": "ProgressView",
            "bar_style": "",
            "description": "",
            "description_tooltip": null,
            "layout": "IPY_MODEL_85d96070ed28421494c4d59e5b9cdeb9",
            "max": 300,
            "min": 0,
            "orientation": "horizontal",
            "style": "IPY_MODEL_973f626b18bb4e52b71a72bc4a5ecf25",
            "value": 300
          }
        },
        "5753851a26804427a4141d4def7859cf": {
          "model_module": "@jupyter-widgets/controls",
          "model_name": "HTMLModel",
          "model_module_version": "1.5.0",
          "state": {
            "_dom_classes": [],
            "_model_module": "@jupyter-widgets/controls",
            "_model_module_version": "1.5.0",
            "_model_name": "HTMLModel",
            "_view_count": null,
            "_view_module": "@jupyter-widgets/controls",
            "_view_module_version": "1.5.0",
            "_view_name": "HTMLView",
            "description": "",
            "description_tooltip": null,
            "layout": "IPY_MODEL_c440aea1799f40749a5efefd7a04248f",
            "placeholder": "​",
            "style": "IPY_MODEL_ea3dc628d08a4cc9bb32112a64bbd0a7",
            "value": " 300/300 [00:13&lt;00:00, 22.54 examples/s]"
          }
        },
        "41e9789fd17c4792aee293e05371b935": {
          "model_module": "@jupyter-widgets/base",
          "model_name": "LayoutModel",
          "model_module_version": "1.2.0",
          "state": {
            "_model_module": "@jupyter-widgets/base",
            "_model_module_version": "1.2.0",
            "_model_name": "LayoutModel",
            "_view_count": null,
            "_view_module": "@jupyter-widgets/base",
            "_view_module_version": "1.2.0",
            "_view_name": "LayoutView",
            "align_content": null,
            "align_items": null,
            "align_self": null,
            "border": null,
            "bottom": null,
            "display": null,
            "flex": null,
            "flex_flow": null,
            "grid_area": null,
            "grid_auto_columns": null,
            "grid_auto_flow": null,
            "grid_auto_rows": null,
            "grid_column": null,
            "grid_gap": null,
            "grid_row": null,
            "grid_template_areas": null,
            "grid_template_columns": null,
            "grid_template_rows": null,
            "height": null,
            "justify_content": null,
            "justify_items": null,
            "left": null,
            "margin": null,
            "max_height": null,
            "max_width": null,
            "min_height": null,
            "min_width": null,
            "object_fit": null,
            "object_position": null,
            "order": null,
            "overflow": null,
            "overflow_x": null,
            "overflow_y": null,
            "padding": null,
            "right": null,
            "top": null,
            "visibility": "hidden",
            "width": null
          }
        },
        "8d438def73644e288446eea43e921003": {
          "model_module": "@jupyter-widgets/base",
          "model_name": "LayoutModel",
          "model_module_version": "1.2.0",
          "state": {
            "_model_module": "@jupyter-widgets/base",
            "_model_module_version": "1.2.0",
            "_model_name": "LayoutModel",
            "_view_count": null,
            "_view_module": "@jupyter-widgets/base",
            "_view_module_version": "1.2.0",
            "_view_name": "LayoutView",
            "align_content": null,
            "align_items": null,
            "align_self": null,
            "border": null,
            "bottom": null,
            "display": null,
            "flex": null,
            "flex_flow": null,
            "grid_area": null,
            "grid_auto_columns": null,
            "grid_auto_flow": null,
            "grid_auto_rows": null,
            "grid_column": null,
            "grid_gap": null,
            "grid_row": null,
            "grid_template_areas": null,
            "grid_template_columns": null,
            "grid_template_rows": null,
            "height": null,
            "justify_content": null,
            "justify_items": null,
            "left": null,
            "margin": null,
            "max_height": null,
            "max_width": null,
            "min_height": null,
            "min_width": null,
            "object_fit": null,
            "object_position": null,
            "order": null,
            "overflow": null,
            "overflow_x": null,
            "overflow_y": null,
            "padding": null,
            "right": null,
            "top": null,
            "visibility": null,
            "width": null
          }
        },
        "f020a823b0804840abdf0ded2dfa9072": {
          "model_module": "@jupyter-widgets/controls",
          "model_name": "DescriptionStyleModel",
          "model_module_version": "1.5.0",
          "state": {
            "_model_module": "@jupyter-widgets/controls",
            "_model_module_version": "1.5.0",
            "_model_name": "DescriptionStyleModel",
            "_view_count": null,
            "_view_module": "@jupyter-widgets/base",
            "_view_module_version": "1.2.0",
            "_view_name": "StyleView",
            "description_width": ""
          }
        },
        "85d96070ed28421494c4d59e5b9cdeb9": {
          "model_module": "@jupyter-widgets/base",
          "model_name": "LayoutModel",
          "model_module_version": "1.2.0",
          "state": {
            "_model_module": "@jupyter-widgets/base",
            "_model_module_version": "1.2.0",
            "_model_name": "LayoutModel",
            "_view_count": null,
            "_view_module": "@jupyter-widgets/base",
            "_view_module_version": "1.2.0",
            "_view_name": "LayoutView",
            "align_content": null,
            "align_items": null,
            "align_self": null,
            "border": null,
            "bottom": null,
            "display": null,
            "flex": null,
            "flex_flow": null,
            "grid_area": null,
            "grid_auto_columns": null,
            "grid_auto_flow": null,
            "grid_auto_rows": null,
            "grid_column": null,
            "grid_gap": null,
            "grid_row": null,
            "grid_template_areas": null,
            "grid_template_columns": null,
            "grid_template_rows": null,
            "height": null,
            "justify_content": null,
            "justify_items": null,
            "left": null,
            "margin": null,
            "max_height": null,
            "max_width": null,
            "min_height": null,
            "min_width": null,
            "object_fit": null,
            "object_position": null,
            "order": null,
            "overflow": null,
            "overflow_x": null,
            "overflow_y": null,
            "padding": null,
            "right": null,
            "top": null,
            "visibility": null,
            "width": null
          }
        },
        "973f626b18bb4e52b71a72bc4a5ecf25": {
          "model_module": "@jupyter-widgets/controls",
          "model_name": "ProgressStyleModel",
          "model_module_version": "1.5.0",
          "state": {
            "_model_module": "@jupyter-widgets/controls",
            "_model_module_version": "1.5.0",
            "_model_name": "ProgressStyleModel",
            "_view_count": null,
            "_view_module": "@jupyter-widgets/base",
            "_view_module_version": "1.2.0",
            "_view_name": "StyleView",
            "bar_color": null,
            "description_width": ""
          }
        },
        "c440aea1799f40749a5efefd7a04248f": {
          "model_module": "@jupyter-widgets/base",
          "model_name": "LayoutModel",
          "model_module_version": "1.2.0",
          "state": {
            "_model_module": "@jupyter-widgets/base",
            "_model_module_version": "1.2.0",
            "_model_name": "LayoutModel",
            "_view_count": null,
            "_view_module": "@jupyter-widgets/base",
            "_view_module_version": "1.2.0",
            "_view_name": "LayoutView",
            "align_content": null,
            "align_items": null,
            "align_self": null,
            "border": null,
            "bottom": null,
            "display": null,
            "flex": null,
            "flex_flow": null,
            "grid_area": null,
            "grid_auto_columns": null,
            "grid_auto_flow": null,
            "grid_auto_rows": null,
            "grid_column": null,
            "grid_gap": null,
            "grid_row": null,
            "grid_template_areas": null,
            "grid_template_columns": null,
            "grid_template_rows": null,
            "height": null,
            "justify_content": null,
            "justify_items": null,
            "left": null,
            "margin": null,
            "max_height": null,
            "max_width": null,
            "min_height": null,
            "min_width": null,
            "object_fit": null,
            "object_position": null,
            "order": null,
            "overflow": null,
            "overflow_x": null,
            "overflow_y": null,
            "padding": null,
            "right": null,
            "top": null,
            "visibility": null,
            "width": null
          }
        },
        "ea3dc628d08a4cc9bb32112a64bbd0a7": {
          "model_module": "@jupyter-widgets/controls",
          "model_name": "DescriptionStyleModel",
          "model_module_version": "1.5.0",
          "state": {
            "_model_module": "@jupyter-widgets/controls",
            "_model_module_version": "1.5.0",
            "_model_name": "DescriptionStyleModel",
            "_view_count": null,
            "_view_module": "@jupyter-widgets/base",
            "_view_module_version": "1.2.0",
            "_view_name": "StyleView",
            "description_width": ""
          }
        },
        "3291ce925dcb4222b4818a5632f0766b": {
          "model_module": "@jupyter-widgets/controls",
          "model_name": "HBoxModel",
          "model_module_version": "1.5.0",
          "state": {
            "_dom_classes": [],
            "_model_module": "@jupyter-widgets/controls",
            "_model_module_version": "1.5.0",
            "_model_name": "HBoxModel",
            "_view_count": null,
            "_view_module": "@jupyter-widgets/controls",
            "_view_module_version": "1.5.0",
            "_view_name": "HBoxView",
            "box_style": "",
            "children": [
              "IPY_MODEL_2dabc5ee12c840a1b5c45bdf75723046",
              "IPY_MODEL_4b061058eab849a7b1936c6ec069a1d2",
              "IPY_MODEL_f4a76560182546f6bda7060ca6ed9787"
            ],
            "layout": "IPY_MODEL_0b988aa15be8471d9a42bd658d7d766c"
          }
        },
        "2dabc5ee12c840a1b5c45bdf75723046": {
          "model_module": "@jupyter-widgets/controls",
          "model_name": "HTMLModel",
          "model_module_version": "1.5.0",
          "state": {
            "_dom_classes": [],
            "_model_module": "@jupyter-widgets/controls",
            "_model_module_version": "1.5.0",
            "_model_name": "HTMLModel",
            "_view_count": null,
            "_view_module": "@jupyter-widgets/controls",
            "_view_module_version": "1.5.0",
            "_view_name": "HTMLView",
            "description": "",
            "description_tooltip": null,
            "layout": "IPY_MODEL_683ebc62c37749cba082302a2e061166",
            "placeholder": "​",
            "style": "IPY_MODEL_f8cac0ec79cd48d18b2f29411ac53772",
            "value": "Map: 100%"
          }
        },
        "4b061058eab849a7b1936c6ec069a1d2": {
          "model_module": "@jupyter-widgets/controls",
          "model_name": "FloatProgressModel",
          "model_module_version": "1.5.0",
          "state": {
            "_dom_classes": [],
            "_model_module": "@jupyter-widgets/controls",
            "_model_module_version": "1.5.0",
            "_model_name": "FloatProgressModel",
            "_view_count": null,
            "_view_module": "@jupyter-widgets/controls",
            "_view_module_version": "1.5.0",
            "_view_name": "ProgressView",
            "bar_style": "",
            "description": "",
            "description_tooltip": null,
            "layout": "IPY_MODEL_005c0ea848ea4ebd9a9efd6c8c8fa371",
            "max": 1,
            "min": 0,
            "orientation": "horizontal",
            "style": "IPY_MODEL_1943f7003839424590e16df880e34c77",
            "value": 1
          }
        },
        "f4a76560182546f6bda7060ca6ed9787": {
          "model_module": "@jupyter-widgets/controls",
          "model_name": "HTMLModel",
          "model_module_version": "1.5.0",
          "state": {
            "_dom_classes": [],
            "_model_module": "@jupyter-widgets/controls",
            "_model_module_version": "1.5.0",
            "_model_name": "HTMLModel",
            "_view_count": null,
            "_view_module": "@jupyter-widgets/controls",
            "_view_module_version": "1.5.0",
            "_view_name": "HTMLView",
            "description": "",
            "description_tooltip": null,
            "layout": "IPY_MODEL_572873460d214eeb8c044474f9461bcb",
            "placeholder": "​",
            "style": "IPY_MODEL_452cc08834b1468980e414be42d92a47",
            "value": " 1/1 [00:00&lt;00:00,  8.13 examples/s]"
          }
        },
        "0b988aa15be8471d9a42bd658d7d766c": {
          "model_module": "@jupyter-widgets/base",
          "model_name": "LayoutModel",
          "model_module_version": "1.2.0",
          "state": {
            "_model_module": "@jupyter-widgets/base",
            "_model_module_version": "1.2.0",
            "_model_name": "LayoutModel",
            "_view_count": null,
            "_view_module": "@jupyter-widgets/base",
            "_view_module_version": "1.2.0",
            "_view_name": "LayoutView",
            "align_content": null,
            "align_items": null,
            "align_self": null,
            "border": null,
            "bottom": null,
            "display": null,
            "flex": null,
            "flex_flow": null,
            "grid_area": null,
            "grid_auto_columns": null,
            "grid_auto_flow": null,
            "grid_auto_rows": null,
            "grid_column": null,
            "grid_gap": null,
            "grid_row": null,
            "grid_template_areas": null,
            "grid_template_columns": null,
            "grid_template_rows": null,
            "height": null,
            "justify_content": null,
            "justify_items": null,
            "left": null,
            "margin": null,
            "max_height": null,
            "max_width": null,
            "min_height": null,
            "min_width": null,
            "object_fit": null,
            "object_position": null,
            "order": null,
            "overflow": null,
            "overflow_x": null,
            "overflow_y": null,
            "padding": null,
            "right": null,
            "top": null,
            "visibility": "hidden",
            "width": null
          }
        },
        "683ebc62c37749cba082302a2e061166": {
          "model_module": "@jupyter-widgets/base",
          "model_name": "LayoutModel",
          "model_module_version": "1.2.0",
          "state": {
            "_model_module": "@jupyter-widgets/base",
            "_model_module_version": "1.2.0",
            "_model_name": "LayoutModel",
            "_view_count": null,
            "_view_module": "@jupyter-widgets/base",
            "_view_module_version": "1.2.0",
            "_view_name": "LayoutView",
            "align_content": null,
            "align_items": null,
            "align_self": null,
            "border": null,
            "bottom": null,
            "display": null,
            "flex": null,
            "flex_flow": null,
            "grid_area": null,
            "grid_auto_columns": null,
            "grid_auto_flow": null,
            "grid_auto_rows": null,
            "grid_column": null,
            "grid_gap": null,
            "grid_row": null,
            "grid_template_areas": null,
            "grid_template_columns": null,
            "grid_template_rows": null,
            "height": null,
            "justify_content": null,
            "justify_items": null,
            "left": null,
            "margin": null,
            "max_height": null,
            "max_width": null,
            "min_height": null,
            "min_width": null,
            "object_fit": null,
            "object_position": null,
            "order": null,
            "overflow": null,
            "overflow_x": null,
            "overflow_y": null,
            "padding": null,
            "right": null,
            "top": null,
            "visibility": null,
            "width": null
          }
        },
        "f8cac0ec79cd48d18b2f29411ac53772": {
          "model_module": "@jupyter-widgets/controls",
          "model_name": "DescriptionStyleModel",
          "model_module_version": "1.5.0",
          "state": {
            "_model_module": "@jupyter-widgets/controls",
            "_model_module_version": "1.5.0",
            "_model_name": "DescriptionStyleModel",
            "_view_count": null,
            "_view_module": "@jupyter-widgets/base",
            "_view_module_version": "1.2.0",
            "_view_name": "StyleView",
            "description_width": ""
          }
        },
        "005c0ea848ea4ebd9a9efd6c8c8fa371": {
          "model_module": "@jupyter-widgets/base",
          "model_name": "LayoutModel",
          "model_module_version": "1.2.0",
          "state": {
            "_model_module": "@jupyter-widgets/base",
            "_model_module_version": "1.2.0",
            "_model_name": "LayoutModel",
            "_view_count": null,
            "_view_module": "@jupyter-widgets/base",
            "_view_module_version": "1.2.0",
            "_view_name": "LayoutView",
            "align_content": null,
            "align_items": null,
            "align_self": null,
            "border": null,
            "bottom": null,
            "display": null,
            "flex": null,
            "flex_flow": null,
            "grid_area": null,
            "grid_auto_columns": null,
            "grid_auto_flow": null,
            "grid_auto_rows": null,
            "grid_column": null,
            "grid_gap": null,
            "grid_row": null,
            "grid_template_areas": null,
            "grid_template_columns": null,
            "grid_template_rows": null,
            "height": null,
            "justify_content": null,
            "justify_items": null,
            "left": null,
            "margin": null,
            "max_height": null,
            "max_width": null,
            "min_height": null,
            "min_width": null,
            "object_fit": null,
            "object_position": null,
            "order": null,
            "overflow": null,
            "overflow_x": null,
            "overflow_y": null,
            "padding": null,
            "right": null,
            "top": null,
            "visibility": null,
            "width": null
          }
        },
        "1943f7003839424590e16df880e34c77": {
          "model_module": "@jupyter-widgets/controls",
          "model_name": "ProgressStyleModel",
          "model_module_version": "1.5.0",
          "state": {
            "_model_module": "@jupyter-widgets/controls",
            "_model_module_version": "1.5.0",
            "_model_name": "ProgressStyleModel",
            "_view_count": null,
            "_view_module": "@jupyter-widgets/base",
            "_view_module_version": "1.2.0",
            "_view_name": "StyleView",
            "bar_color": null,
            "description_width": ""
          }
        },
        "572873460d214eeb8c044474f9461bcb": {
          "model_module": "@jupyter-widgets/base",
          "model_name": "LayoutModel",
          "model_module_version": "1.2.0",
          "state": {
            "_model_module": "@jupyter-widgets/base",
            "_model_module_version": "1.2.0",
            "_model_name": "LayoutModel",
            "_view_count": null,
            "_view_module": "@jupyter-widgets/base",
            "_view_module_version": "1.2.0",
            "_view_name": "LayoutView",
            "align_content": null,
            "align_items": null,
            "align_self": null,
            "border": null,
            "bottom": null,
            "display": null,
            "flex": null,
            "flex_flow": null,
            "grid_area": null,
            "grid_auto_columns": null,
            "grid_auto_flow": null,
            "grid_auto_rows": null,
            "grid_column": null,
            "grid_gap": null,
            "grid_row": null,
            "grid_template_areas": null,
            "grid_template_columns": null,
            "grid_template_rows": null,
            "height": null,
            "justify_content": null,
            "justify_items": null,
            "left": null,
            "margin": null,
            "max_height": null,
            "max_width": null,
            "min_height": null,
            "min_width": null,
            "object_fit": null,
            "object_position": null,
            "order": null,
            "overflow": null,
            "overflow_x": null,
            "overflow_y": null,
            "padding": null,
            "right": null,
            "top": null,
            "visibility": null,
            "width": null
          }
        },
        "452cc08834b1468980e414be42d92a47": {
          "model_module": "@jupyter-widgets/controls",
          "model_name": "DescriptionStyleModel",
          "model_module_version": "1.5.0",
          "state": {
            "_model_module": "@jupyter-widgets/controls",
            "_model_module_version": "1.5.0",
            "_model_name": "DescriptionStyleModel",
            "_view_count": null,
            "_view_module": "@jupyter-widgets/base",
            "_view_module_version": "1.2.0",
            "_view_name": "StyleView",
            "description_width": ""
          }
        },
        "b7cf322db8234380a6e4f9927399d3bd": {
          "model_module": "@jupyter-widgets/controls",
          "model_name": "HBoxModel",
          "model_module_version": "1.5.0",
          "state": {
            "_dom_classes": [],
            "_model_module": "@jupyter-widgets/controls",
            "_model_module_version": "1.5.0",
            "_model_name": "HBoxModel",
            "_view_count": null,
            "_view_module": "@jupyter-widgets/controls",
            "_view_module_version": "1.5.0",
            "_view_name": "HBoxView",
            "box_style": "",
            "children": [
              "IPY_MODEL_7437a60a0dd34d94bd719937c40fb097",
              "IPY_MODEL_2a3ed57cc2964ab3b200a70435400cba",
              "IPY_MODEL_5aa2af082e704f9ebd98274fa20490e0"
            ],
            "layout": "IPY_MODEL_19ee598331534fec965a64b6328861f9"
          }
        },
        "7437a60a0dd34d94bd719937c40fb097": {
          "model_module": "@jupyter-widgets/controls",
          "model_name": "HTMLModel",
          "model_module_version": "1.5.0",
          "state": {
            "_dom_classes": [],
            "_model_module": "@jupyter-widgets/controls",
            "_model_module_version": "1.5.0",
            "_model_name": "HTMLModel",
            "_view_count": null,
            "_view_module": "@jupyter-widgets/controls",
            "_view_module_version": "1.5.0",
            "_view_name": "HTMLView",
            "description": "",
            "description_tooltip": null,
            "layout": "IPY_MODEL_f32aa0ec59e84f28a19404c9f9c38293",
            "placeholder": "​",
            "style": "IPY_MODEL_200ac24d225c48ada1fb1beb0eabcd75",
            "value": "Map: 100%"
          }
        },
        "2a3ed57cc2964ab3b200a70435400cba": {
          "model_module": "@jupyter-widgets/controls",
          "model_name": "FloatProgressModel",
          "model_module_version": "1.5.0",
          "state": {
            "_dom_classes": [],
            "_model_module": "@jupyter-widgets/controls",
            "_model_module_version": "1.5.0",
            "_model_name": "FloatProgressModel",
            "_view_count": null,
            "_view_module": "@jupyter-widgets/controls",
            "_view_module_version": "1.5.0",
            "_view_name": "ProgressView",
            "bar_style": "",
            "description": "",
            "description_tooltip": null,
            "layout": "IPY_MODEL_68178823318840679ed11a4e23f4f71e",
            "max": 1,
            "min": 0,
            "orientation": "horizontal",
            "style": "IPY_MODEL_8b6b72fccbd64c3095c6d571891794b3",
            "value": 1
          }
        },
        "5aa2af082e704f9ebd98274fa20490e0": {
          "model_module": "@jupyter-widgets/controls",
          "model_name": "HTMLModel",
          "model_module_version": "1.5.0",
          "state": {
            "_dom_classes": [],
            "_model_module": "@jupyter-widgets/controls",
            "_model_module_version": "1.5.0",
            "_model_name": "HTMLModel",
            "_view_count": null,
            "_view_module": "@jupyter-widgets/controls",
            "_view_module_version": "1.5.0",
            "_view_name": "HTMLView",
            "description": "",
            "description_tooltip": null,
            "layout": "IPY_MODEL_c45406fc80344c4fa54104a0ae38c816",
            "placeholder": "​",
            "style": "IPY_MODEL_b24b837b3c114c45a893733d7a157fa1",
            "value": " 1/1 [00:00&lt;00:00,  9.91 examples/s]"
          }
        },
        "19ee598331534fec965a64b6328861f9": {
          "model_module": "@jupyter-widgets/base",
          "model_name": "LayoutModel",
          "model_module_version": "1.2.0",
          "state": {
            "_model_module": "@jupyter-widgets/base",
            "_model_module_version": "1.2.0",
            "_model_name": "LayoutModel",
            "_view_count": null,
            "_view_module": "@jupyter-widgets/base",
            "_view_module_version": "1.2.0",
            "_view_name": "LayoutView",
            "align_content": null,
            "align_items": null,
            "align_self": null,
            "border": null,
            "bottom": null,
            "display": null,
            "flex": null,
            "flex_flow": null,
            "grid_area": null,
            "grid_auto_columns": null,
            "grid_auto_flow": null,
            "grid_auto_rows": null,
            "grid_column": null,
            "grid_gap": null,
            "grid_row": null,
            "grid_template_areas": null,
            "grid_template_columns": null,
            "grid_template_rows": null,
            "height": null,
            "justify_content": null,
            "justify_items": null,
            "left": null,
            "margin": null,
            "max_height": null,
            "max_width": null,
            "min_height": null,
            "min_width": null,
            "object_fit": null,
            "object_position": null,
            "order": null,
            "overflow": null,
            "overflow_x": null,
            "overflow_y": null,
            "padding": null,
            "right": null,
            "top": null,
            "visibility": "hidden",
            "width": null
          }
        },
        "f32aa0ec59e84f28a19404c9f9c38293": {
          "model_module": "@jupyter-widgets/base",
          "model_name": "LayoutModel",
          "model_module_version": "1.2.0",
          "state": {
            "_model_module": "@jupyter-widgets/base",
            "_model_module_version": "1.2.0",
            "_model_name": "LayoutModel",
            "_view_count": null,
            "_view_module": "@jupyter-widgets/base",
            "_view_module_version": "1.2.0",
            "_view_name": "LayoutView",
            "align_content": null,
            "align_items": null,
            "align_self": null,
            "border": null,
            "bottom": null,
            "display": null,
            "flex": null,
            "flex_flow": null,
            "grid_area": null,
            "grid_auto_columns": null,
            "grid_auto_flow": null,
            "grid_auto_rows": null,
            "grid_column": null,
            "grid_gap": null,
            "grid_row": null,
            "grid_template_areas": null,
            "grid_template_columns": null,
            "grid_template_rows": null,
            "height": null,
            "justify_content": null,
            "justify_items": null,
            "left": null,
            "margin": null,
            "max_height": null,
            "max_width": null,
            "min_height": null,
            "min_width": null,
            "object_fit": null,
            "object_position": null,
            "order": null,
            "overflow": null,
            "overflow_x": null,
            "overflow_y": null,
            "padding": null,
            "right": null,
            "top": null,
            "visibility": null,
            "width": null
          }
        },
        "200ac24d225c48ada1fb1beb0eabcd75": {
          "model_module": "@jupyter-widgets/controls",
          "model_name": "DescriptionStyleModel",
          "model_module_version": "1.5.0",
          "state": {
            "_model_module": "@jupyter-widgets/controls",
            "_model_module_version": "1.5.0",
            "_model_name": "DescriptionStyleModel",
            "_view_count": null,
            "_view_module": "@jupyter-widgets/base",
            "_view_module_version": "1.2.0",
            "_view_name": "StyleView",
            "description_width": ""
          }
        },
        "68178823318840679ed11a4e23f4f71e": {
          "model_module": "@jupyter-widgets/base",
          "model_name": "LayoutModel",
          "model_module_version": "1.2.0",
          "state": {
            "_model_module": "@jupyter-widgets/base",
            "_model_module_version": "1.2.0",
            "_model_name": "LayoutModel",
            "_view_count": null,
            "_view_module": "@jupyter-widgets/base",
            "_view_module_version": "1.2.0",
            "_view_name": "LayoutView",
            "align_content": null,
            "align_items": null,
            "align_self": null,
            "border": null,
            "bottom": null,
            "display": null,
            "flex": null,
            "flex_flow": null,
            "grid_area": null,
            "grid_auto_columns": null,
            "grid_auto_flow": null,
            "grid_auto_rows": null,
            "grid_column": null,
            "grid_gap": null,
            "grid_row": null,
            "grid_template_areas": null,
            "grid_template_columns": null,
            "grid_template_rows": null,
            "height": null,
            "justify_content": null,
            "justify_items": null,
            "left": null,
            "margin": null,
            "max_height": null,
            "max_width": null,
            "min_height": null,
            "min_width": null,
            "object_fit": null,
            "object_position": null,
            "order": null,
            "overflow": null,
            "overflow_x": null,
            "overflow_y": null,
            "padding": null,
            "right": null,
            "top": null,
            "visibility": null,
            "width": null
          }
        },
        "8b6b72fccbd64c3095c6d571891794b3": {
          "model_module": "@jupyter-widgets/controls",
          "model_name": "ProgressStyleModel",
          "model_module_version": "1.5.0",
          "state": {
            "_model_module": "@jupyter-widgets/controls",
            "_model_module_version": "1.5.0",
            "_model_name": "ProgressStyleModel",
            "_view_count": null,
            "_view_module": "@jupyter-widgets/base",
            "_view_module_version": "1.2.0",
            "_view_name": "StyleView",
            "bar_color": null,
            "description_width": ""
          }
        },
        "c45406fc80344c4fa54104a0ae38c816": {
          "model_module": "@jupyter-widgets/base",
          "model_name": "LayoutModel",
          "model_module_version": "1.2.0",
          "state": {
            "_model_module": "@jupyter-widgets/base",
            "_model_module_version": "1.2.0",
            "_model_name": "LayoutModel",
            "_view_count": null,
            "_view_module": "@jupyter-widgets/base",
            "_view_module_version": "1.2.0",
            "_view_name": "LayoutView",
            "align_content": null,
            "align_items": null,
            "align_self": null,
            "border": null,
            "bottom": null,
            "display": null,
            "flex": null,
            "flex_flow": null,
            "grid_area": null,
            "grid_auto_columns": null,
            "grid_auto_flow": null,
            "grid_auto_rows": null,
            "grid_column": null,
            "grid_gap": null,
            "grid_row": null,
            "grid_template_areas": null,
            "grid_template_columns": null,
            "grid_template_rows": null,
            "height": null,
            "justify_content": null,
            "justify_items": null,
            "left": null,
            "margin": null,
            "max_height": null,
            "max_width": null,
            "min_height": null,
            "min_width": null,
            "object_fit": null,
            "object_position": null,
            "order": null,
            "overflow": null,
            "overflow_x": null,
            "overflow_y": null,
            "padding": null,
            "right": null,
            "top": null,
            "visibility": null,
            "width": null
          }
        },
        "b24b837b3c114c45a893733d7a157fa1": {
          "model_module": "@jupyter-widgets/controls",
          "model_name": "DescriptionStyleModel",
          "model_module_version": "1.5.0",
          "state": {
            "_model_module": "@jupyter-widgets/controls",
            "_model_module_version": "1.5.0",
            "_model_name": "DescriptionStyleModel",
            "_view_count": null,
            "_view_module": "@jupyter-widgets/base",
            "_view_module_version": "1.2.0",
            "_view_name": "StyleView",
            "description_width": ""
          }
        },
        "b779f9b779204433b903b5aca1e3cd6f": {
          "model_module": "@jupyter-widgets/controls",
          "model_name": "HBoxModel",
          "model_module_version": "1.5.0",
          "state": {
            "_dom_classes": [],
            "_model_module": "@jupyter-widgets/controls",
            "_model_module_version": "1.5.0",
            "_model_name": "HBoxModel",
            "_view_count": null,
            "_view_module": "@jupyter-widgets/controls",
            "_view_module_version": "1.5.0",
            "_view_name": "HBoxView",
            "box_style": "",
            "children": [
              "IPY_MODEL_27bb213730024328aea8934c43ce9baa",
              "IPY_MODEL_95887cbae2464436bd5b92c2c2e05590",
              "IPY_MODEL_dde4418510844e68a6ed99188a21d56d"
            ],
            "layout": "IPY_MODEL_f28051d1d154479a8db0d5ee0e03fb51"
          }
        },
        "27bb213730024328aea8934c43ce9baa": {
          "model_module": "@jupyter-widgets/controls",
          "model_name": "HTMLModel",
          "model_module_version": "1.5.0",
          "state": {
            "_dom_classes": [],
            "_model_module": "@jupyter-widgets/controls",
            "_model_module_version": "1.5.0",
            "_model_name": "HTMLModel",
            "_view_count": null,
            "_view_module": "@jupyter-widgets/controls",
            "_view_module_version": "1.5.0",
            "_view_name": "HTMLView",
            "description": "",
            "description_tooltip": null,
            "layout": "IPY_MODEL_1c09a2aae6f64ce8b9e22604d24ce572",
            "placeholder": "​",
            "style": "IPY_MODEL_f899851ad741443cb119a8ccc6ce4504",
            "value": "Map:   0%"
          }
        },
        "95887cbae2464436bd5b92c2c2e05590": {
          "model_module": "@jupyter-widgets/controls",
          "model_name": "FloatProgressModel",
          "model_module_version": "1.5.0",
          "state": {
            "_dom_classes": [],
            "_model_module": "@jupyter-widgets/controls",
            "_model_module_version": "1.5.0",
            "_model_name": "FloatProgressModel",
            "_view_count": null,
            "_view_module": "@jupyter-widgets/controls",
            "_view_module_version": "1.5.0",
            "_view_name": "ProgressView",
            "bar_style": "",
            "description": "",
            "description_tooltip": null,
            "layout": "IPY_MODEL_61a7282ef0184c3e881a8f65e19b67f2",
            "max": 1,
            "min": 0,
            "orientation": "horizontal",
            "style": "IPY_MODEL_f411d339b8d64cb8a6a3d336b917cfd1",
            "value": 1
          }
        },
        "dde4418510844e68a6ed99188a21d56d": {
          "model_module": "@jupyter-widgets/controls",
          "model_name": "HTMLModel",
          "model_module_version": "1.5.0",
          "state": {
            "_dom_classes": [],
            "_model_module": "@jupyter-widgets/controls",
            "_model_module_version": "1.5.0",
            "_model_name": "HTMLModel",
            "_view_count": null,
            "_view_module": "@jupyter-widgets/controls",
            "_view_module_version": "1.5.0",
            "_view_name": "HTMLView",
            "description": "",
            "description_tooltip": null,
            "layout": "IPY_MODEL_9ecf7379aedd4325985ca7419e0a5ce4",
            "placeholder": "​",
            "style": "IPY_MODEL_2b9c86bc09ce4533a86c8a9b0d912a8d",
            "value": " 0/1 [00:00&lt;?, ? examples/s]"
          }
        },
        "f28051d1d154479a8db0d5ee0e03fb51": {
          "model_module": "@jupyter-widgets/base",
          "model_name": "LayoutModel",
          "model_module_version": "1.2.0",
          "state": {
            "_model_module": "@jupyter-widgets/base",
            "_model_module_version": "1.2.0",
            "_model_name": "LayoutModel",
            "_view_count": null,
            "_view_module": "@jupyter-widgets/base",
            "_view_module_version": "1.2.0",
            "_view_name": "LayoutView",
            "align_content": null,
            "align_items": null,
            "align_self": null,
            "border": null,
            "bottom": null,
            "display": null,
            "flex": null,
            "flex_flow": null,
            "grid_area": null,
            "grid_auto_columns": null,
            "grid_auto_flow": null,
            "grid_auto_rows": null,
            "grid_column": null,
            "grid_gap": null,
            "grid_row": null,
            "grid_template_areas": null,
            "grid_template_columns": null,
            "grid_template_rows": null,
            "height": null,
            "justify_content": null,
            "justify_items": null,
            "left": null,
            "margin": null,
            "max_height": null,
            "max_width": null,
            "min_height": null,
            "min_width": null,
            "object_fit": null,
            "object_position": null,
            "order": null,
            "overflow": null,
            "overflow_x": null,
            "overflow_y": null,
            "padding": null,
            "right": null,
            "top": null,
            "visibility": "hidden",
            "width": null
          }
        },
        "1c09a2aae6f64ce8b9e22604d24ce572": {
          "model_module": "@jupyter-widgets/base",
          "model_name": "LayoutModel",
          "model_module_version": "1.2.0",
          "state": {
            "_model_module": "@jupyter-widgets/base",
            "_model_module_version": "1.2.0",
            "_model_name": "LayoutModel",
            "_view_count": null,
            "_view_module": "@jupyter-widgets/base",
            "_view_module_version": "1.2.0",
            "_view_name": "LayoutView",
            "align_content": null,
            "align_items": null,
            "align_self": null,
            "border": null,
            "bottom": null,
            "display": null,
            "flex": null,
            "flex_flow": null,
            "grid_area": null,
            "grid_auto_columns": null,
            "grid_auto_flow": null,
            "grid_auto_rows": null,
            "grid_column": null,
            "grid_gap": null,
            "grid_row": null,
            "grid_template_areas": null,
            "grid_template_columns": null,
            "grid_template_rows": null,
            "height": null,
            "justify_content": null,
            "justify_items": null,
            "left": null,
            "margin": null,
            "max_height": null,
            "max_width": null,
            "min_height": null,
            "min_width": null,
            "object_fit": null,
            "object_position": null,
            "order": null,
            "overflow": null,
            "overflow_x": null,
            "overflow_y": null,
            "padding": null,
            "right": null,
            "top": null,
            "visibility": null,
            "width": null
          }
        },
        "f899851ad741443cb119a8ccc6ce4504": {
          "model_module": "@jupyter-widgets/controls",
          "model_name": "DescriptionStyleModel",
          "model_module_version": "1.5.0",
          "state": {
            "_model_module": "@jupyter-widgets/controls",
            "_model_module_version": "1.5.0",
            "_model_name": "DescriptionStyleModel",
            "_view_count": null,
            "_view_module": "@jupyter-widgets/base",
            "_view_module_version": "1.2.0",
            "_view_name": "StyleView",
            "description_width": ""
          }
        },
        "61a7282ef0184c3e881a8f65e19b67f2": {
          "model_module": "@jupyter-widgets/base",
          "model_name": "LayoutModel",
          "model_module_version": "1.2.0",
          "state": {
            "_model_module": "@jupyter-widgets/base",
            "_model_module_version": "1.2.0",
            "_model_name": "LayoutModel",
            "_view_count": null,
            "_view_module": "@jupyter-widgets/base",
            "_view_module_version": "1.2.0",
            "_view_name": "LayoutView",
            "align_content": null,
            "align_items": null,
            "align_self": null,
            "border": null,
            "bottom": null,
            "display": null,
            "flex": null,
            "flex_flow": null,
            "grid_area": null,
            "grid_auto_columns": null,
            "grid_auto_flow": null,
            "grid_auto_rows": null,
            "grid_column": null,
            "grid_gap": null,
            "grid_row": null,
            "grid_template_areas": null,
            "grid_template_columns": null,
            "grid_template_rows": null,
            "height": null,
            "justify_content": null,
            "justify_items": null,
            "left": null,
            "margin": null,
            "max_height": null,
            "max_width": null,
            "min_height": null,
            "min_width": null,
            "object_fit": null,
            "object_position": null,
            "order": null,
            "overflow": null,
            "overflow_x": null,
            "overflow_y": null,
            "padding": null,
            "right": null,
            "top": null,
            "visibility": null,
            "width": null
          }
        },
        "f411d339b8d64cb8a6a3d336b917cfd1": {
          "model_module": "@jupyter-widgets/controls",
          "model_name": "ProgressStyleModel",
          "model_module_version": "1.5.0",
          "state": {
            "_model_module": "@jupyter-widgets/controls",
            "_model_module_version": "1.5.0",
            "_model_name": "ProgressStyleModel",
            "_view_count": null,
            "_view_module": "@jupyter-widgets/base",
            "_view_module_version": "1.2.0",
            "_view_name": "StyleView",
            "bar_color": null,
            "description_width": ""
          }
        },
        "9ecf7379aedd4325985ca7419e0a5ce4": {
          "model_module": "@jupyter-widgets/base",
          "model_name": "LayoutModel",
          "model_module_version": "1.2.0",
          "state": {
            "_model_module": "@jupyter-widgets/base",
            "_model_module_version": "1.2.0",
            "_model_name": "LayoutModel",
            "_view_count": null,
            "_view_module": "@jupyter-widgets/base",
            "_view_module_version": "1.2.0",
            "_view_name": "LayoutView",
            "align_content": null,
            "align_items": null,
            "align_self": null,
            "border": null,
            "bottom": null,
            "display": null,
            "flex": null,
            "flex_flow": null,
            "grid_area": null,
            "grid_auto_columns": null,
            "grid_auto_flow": null,
            "grid_auto_rows": null,
            "grid_column": null,
            "grid_gap": null,
            "grid_row": null,
            "grid_template_areas": null,
            "grid_template_columns": null,
            "grid_template_rows": null,
            "height": null,
            "justify_content": null,
            "justify_items": null,
            "left": null,
            "margin": null,
            "max_height": null,
            "max_width": null,
            "min_height": null,
            "min_width": null,
            "object_fit": null,
            "object_position": null,
            "order": null,
            "overflow": null,
            "overflow_x": null,
            "overflow_y": null,
            "padding": null,
            "right": null,
            "top": null,
            "visibility": null,
            "width": null
          }
        },
        "2b9c86bc09ce4533a86c8a9b0d912a8d": {
          "model_module": "@jupyter-widgets/controls",
          "model_name": "DescriptionStyleModel",
          "model_module_version": "1.5.0",
          "state": {
            "_model_module": "@jupyter-widgets/controls",
            "_model_module_version": "1.5.0",
            "_model_name": "DescriptionStyleModel",
            "_view_count": null,
            "_view_module": "@jupyter-widgets/base",
            "_view_module_version": "1.2.0",
            "_view_name": "StyleView",
            "description_width": ""
          }
        },
        "778a0c120ac442639a59eb1a6ecaafa4": {
          "model_module": "@jupyter-widgets/controls",
          "model_name": "HBoxModel",
          "model_module_version": "1.5.0",
          "state": {
            "_dom_classes": [],
            "_model_module": "@jupyter-widgets/controls",
            "_model_module_version": "1.5.0",
            "_model_name": "HBoxModel",
            "_view_count": null,
            "_view_module": "@jupyter-widgets/controls",
            "_view_module_version": "1.5.0",
            "_view_name": "HBoxView",
            "box_style": "",
            "children": [
              "IPY_MODEL_5661b2868bbd4a56bf44d654a461096e",
              "IPY_MODEL_66189ae1fa3943eaa55b3674ab7ed00b",
              "IPY_MODEL_b5a24ea907ca49dab58bbec23c6545a0"
            ],
            "layout": "IPY_MODEL_b5fcc2a67a834311a888fc7f3e321168"
          }
        },
        "5661b2868bbd4a56bf44d654a461096e": {
          "model_module": "@jupyter-widgets/controls",
          "model_name": "HTMLModel",
          "model_module_version": "1.5.0",
          "state": {
            "_dom_classes": [],
            "_model_module": "@jupyter-widgets/controls",
            "_model_module_version": "1.5.0",
            "_model_name": "HTMLModel",
            "_view_count": null,
            "_view_module": "@jupyter-widgets/controls",
            "_view_module_version": "1.5.0",
            "_view_name": "HTMLView",
            "description": "",
            "description_tooltip": null,
            "layout": "IPY_MODEL_617ff3a216c047c981206745bac0cffa",
            "placeholder": "​",
            "style": "IPY_MODEL_58e00b90a302469988ebe533b4b714b6",
            "value": "Map: 100%"
          }
        },
        "66189ae1fa3943eaa55b3674ab7ed00b": {
          "model_module": "@jupyter-widgets/controls",
          "model_name": "FloatProgressModel",
          "model_module_version": "1.5.0",
          "state": {
            "_dom_classes": [],
            "_model_module": "@jupyter-widgets/controls",
            "_model_module_version": "1.5.0",
            "_model_name": "FloatProgressModel",
            "_view_count": null,
            "_view_module": "@jupyter-widgets/controls",
            "_view_module_version": "1.5.0",
            "_view_name": "ProgressView",
            "bar_style": "",
            "description": "",
            "description_tooltip": null,
            "layout": "IPY_MODEL_dbea399282a44daba2defed3db6ed597",
            "max": 1,
            "min": 0,
            "orientation": "horizontal",
            "style": "IPY_MODEL_1e97abf72b4e4fcd912da80bcf1e1209",
            "value": 1
          }
        },
        "b5a24ea907ca49dab58bbec23c6545a0": {
          "model_module": "@jupyter-widgets/controls",
          "model_name": "HTMLModel",
          "model_module_version": "1.5.0",
          "state": {
            "_dom_classes": [],
            "_model_module": "@jupyter-widgets/controls",
            "_model_module_version": "1.5.0",
            "_model_name": "HTMLModel",
            "_view_count": null,
            "_view_module": "@jupyter-widgets/controls",
            "_view_module_version": "1.5.0",
            "_view_name": "HTMLView",
            "description": "",
            "description_tooltip": null,
            "layout": "IPY_MODEL_ea4bc8f2c53c40baa7324d5887e42de0",
            "placeholder": "​",
            "style": "IPY_MODEL_f674d067a8ff42fa83546d1429a7edc6",
            "value": " 1/1 [00:00&lt;00:00,  7.15 examples/s]"
          }
        },
        "b5fcc2a67a834311a888fc7f3e321168": {
          "model_module": "@jupyter-widgets/base",
          "model_name": "LayoutModel",
          "model_module_version": "1.2.0",
          "state": {
            "_model_module": "@jupyter-widgets/base",
            "_model_module_version": "1.2.0",
            "_model_name": "LayoutModel",
            "_view_count": null,
            "_view_module": "@jupyter-widgets/base",
            "_view_module_version": "1.2.0",
            "_view_name": "LayoutView",
            "align_content": null,
            "align_items": null,
            "align_self": null,
            "border": null,
            "bottom": null,
            "display": null,
            "flex": null,
            "flex_flow": null,
            "grid_area": null,
            "grid_auto_columns": null,
            "grid_auto_flow": null,
            "grid_auto_rows": null,
            "grid_column": null,
            "grid_gap": null,
            "grid_row": null,
            "grid_template_areas": null,
            "grid_template_columns": null,
            "grid_template_rows": null,
            "height": null,
            "justify_content": null,
            "justify_items": null,
            "left": null,
            "margin": null,
            "max_height": null,
            "max_width": null,
            "min_height": null,
            "min_width": null,
            "object_fit": null,
            "object_position": null,
            "order": null,
            "overflow": null,
            "overflow_x": null,
            "overflow_y": null,
            "padding": null,
            "right": null,
            "top": null,
            "visibility": "hidden",
            "width": null
          }
        },
        "617ff3a216c047c981206745bac0cffa": {
          "model_module": "@jupyter-widgets/base",
          "model_name": "LayoutModel",
          "model_module_version": "1.2.0",
          "state": {
            "_model_module": "@jupyter-widgets/base",
            "_model_module_version": "1.2.0",
            "_model_name": "LayoutModel",
            "_view_count": null,
            "_view_module": "@jupyter-widgets/base",
            "_view_module_version": "1.2.0",
            "_view_name": "LayoutView",
            "align_content": null,
            "align_items": null,
            "align_self": null,
            "border": null,
            "bottom": null,
            "display": null,
            "flex": null,
            "flex_flow": null,
            "grid_area": null,
            "grid_auto_columns": null,
            "grid_auto_flow": null,
            "grid_auto_rows": null,
            "grid_column": null,
            "grid_gap": null,
            "grid_row": null,
            "grid_template_areas": null,
            "grid_template_columns": null,
            "grid_template_rows": null,
            "height": null,
            "justify_content": null,
            "justify_items": null,
            "left": null,
            "margin": null,
            "max_height": null,
            "max_width": null,
            "min_height": null,
            "min_width": null,
            "object_fit": null,
            "object_position": null,
            "order": null,
            "overflow": null,
            "overflow_x": null,
            "overflow_y": null,
            "padding": null,
            "right": null,
            "top": null,
            "visibility": null,
            "width": null
          }
        },
        "58e00b90a302469988ebe533b4b714b6": {
          "model_module": "@jupyter-widgets/controls",
          "model_name": "DescriptionStyleModel",
          "model_module_version": "1.5.0",
          "state": {
            "_model_module": "@jupyter-widgets/controls",
            "_model_module_version": "1.5.0",
            "_model_name": "DescriptionStyleModel",
            "_view_count": null,
            "_view_module": "@jupyter-widgets/base",
            "_view_module_version": "1.2.0",
            "_view_name": "StyleView",
            "description_width": ""
          }
        },
        "dbea399282a44daba2defed3db6ed597": {
          "model_module": "@jupyter-widgets/base",
          "model_name": "LayoutModel",
          "model_module_version": "1.2.0",
          "state": {
            "_model_module": "@jupyter-widgets/base",
            "_model_module_version": "1.2.0",
            "_model_name": "LayoutModel",
            "_view_count": null,
            "_view_module": "@jupyter-widgets/base",
            "_view_module_version": "1.2.0",
            "_view_name": "LayoutView",
            "align_content": null,
            "align_items": null,
            "align_self": null,
            "border": null,
            "bottom": null,
            "display": null,
            "flex": null,
            "flex_flow": null,
            "grid_area": null,
            "grid_auto_columns": null,
            "grid_auto_flow": null,
            "grid_auto_rows": null,
            "grid_column": null,
            "grid_gap": null,
            "grid_row": null,
            "grid_template_areas": null,
            "grid_template_columns": null,
            "grid_template_rows": null,
            "height": null,
            "justify_content": null,
            "justify_items": null,
            "left": null,
            "margin": null,
            "max_height": null,
            "max_width": null,
            "min_height": null,
            "min_width": null,
            "object_fit": null,
            "object_position": null,
            "order": null,
            "overflow": null,
            "overflow_x": null,
            "overflow_y": null,
            "padding": null,
            "right": null,
            "top": null,
            "visibility": null,
            "width": null
          }
        },
        "1e97abf72b4e4fcd912da80bcf1e1209": {
          "model_module": "@jupyter-widgets/controls",
          "model_name": "ProgressStyleModel",
          "model_module_version": "1.5.0",
          "state": {
            "_model_module": "@jupyter-widgets/controls",
            "_model_module_version": "1.5.0",
            "_model_name": "ProgressStyleModel",
            "_view_count": null,
            "_view_module": "@jupyter-widgets/base",
            "_view_module_version": "1.2.0",
            "_view_name": "StyleView",
            "bar_color": null,
            "description_width": ""
          }
        },
        "ea4bc8f2c53c40baa7324d5887e42de0": {
          "model_module": "@jupyter-widgets/base",
          "model_name": "LayoutModel",
          "model_module_version": "1.2.0",
          "state": {
            "_model_module": "@jupyter-widgets/base",
            "_model_module_version": "1.2.0",
            "_model_name": "LayoutModel",
            "_view_count": null,
            "_view_module": "@jupyter-widgets/base",
            "_view_module_version": "1.2.0",
            "_view_name": "LayoutView",
            "align_content": null,
            "align_items": null,
            "align_self": null,
            "border": null,
            "bottom": null,
            "display": null,
            "flex": null,
            "flex_flow": null,
            "grid_area": null,
            "grid_auto_columns": null,
            "grid_auto_flow": null,
            "grid_auto_rows": null,
            "grid_column": null,
            "grid_gap": null,
            "grid_row": null,
            "grid_template_areas": null,
            "grid_template_columns": null,
            "grid_template_rows": null,
            "height": null,
            "justify_content": null,
            "justify_items": null,
            "left": null,
            "margin": null,
            "max_height": null,
            "max_width": null,
            "min_height": null,
            "min_width": null,
            "object_fit": null,
            "object_position": null,
            "order": null,
            "overflow": null,
            "overflow_x": null,
            "overflow_y": null,
            "padding": null,
            "right": null,
            "top": null,
            "visibility": null,
            "width": null
          }
        },
        "f674d067a8ff42fa83546d1429a7edc6": {
          "model_module": "@jupyter-widgets/controls",
          "model_name": "DescriptionStyleModel",
          "model_module_version": "1.5.0",
          "state": {
            "_model_module": "@jupyter-widgets/controls",
            "_model_module_version": "1.5.0",
            "_model_name": "DescriptionStyleModel",
            "_view_count": null,
            "_view_module": "@jupyter-widgets/base",
            "_view_module_version": "1.2.0",
            "_view_name": "StyleView",
            "description_width": ""
          }
        }
      }
    }
  },
  "cells": [
    {
      "cell_type": "code",
      "execution_count": null,
      "metadata": {
        "colab": {
          "base_uri": "https://localhost:8080/"
        },
        "id": "1gYNB8B9S5nf",
        "outputId": "2b6f23b5-c678-42dc-a9c6-d364193da1fd"
      },
      "outputs": [
        {
          "output_type": "stream",
          "name": "stdout",
          "text": [
            "Mounted at /content/drive/\n"
          ]
        }
      ],
      "source": [
        "from google.colab import drive\n",
        "drive.mount('/content/drive/')"
      ]
    },
    {
      "cell_type": "code",
      "source": [
        "import pandas as pd\n",
        "import numpy as np\n",
        "import re"
      ],
      "metadata": {
        "id": "BEt5rJc2TPyA"
      },
      "execution_count": null,
      "outputs": []
    },
    {
      "cell_type": "code",
      "source": [
        "df=pd.read_csv(\"/content/drive/MyDrive/Research ISB - Data Science for Product Managers/kidsInMindSubtitles2004.csv\")"
      ],
      "metadata": {
        "id": "uz8Lk3_LTVHj"
      },
      "execution_count": null,
      "outputs": []
    },
    {
      "cell_type": "code",
      "source": [
        "df.rename(columns = {'subtitles':'text', 'Language':'labels'}, inplace = True)\n",
        "df=df.head(1000)\n",
        "df.labels=df.labels.astype(float)"
      ],
      "metadata": {
        "colab": {
          "base_uri": "https://localhost:8080/"
        },
        "id": "F5uKkImUcvOu",
        "outputId": "49b8d88e-22be-4364-e944-80c4d40f77d4"
      },
      "execution_count": null,
      "outputs": [
        {
          "output_type": "stream",
          "name": "stderr",
          "text": [
            "/usr/local/lib/python3.8/dist-packages/pandas/core/generic.py:5516: SettingWithCopyWarning: \n",
            "A value is trying to be set on a copy of a slice from a DataFrame.\n",
            "Try using .loc[row_indexer,col_indexer] = value instead\n",
            "\n",
            "See the caveats in the documentation: https://pandas.pydata.org/pandas-docs/stable/user_guide/indexing.html#returning-a-view-versus-a-copy\n",
            "  self[name] = value\n"
          ]
        }
      ]
    },
    {
      "cell_type": "code",
      "source": [
        "!pip install transformers"
      ],
      "metadata": {
        "colab": {
          "base_uri": "https://localhost:8080/"
        },
        "id": "sbW-KbF-Xdvu",
        "outputId": "fbcd1abc-5a6e-4cf0-c961-a831184d5e51"
      },
      "execution_count": null,
      "outputs": [
        {
          "output_type": "stream",
          "name": "stdout",
          "text": [
            "Looking in indexes: https://pypi.org/simple, https://us-python.pkg.dev/colab-wheels/public/simple/\n",
            "Requirement already satisfied: transformers in /usr/local/lib/python3.8/dist-packages (4.26.1)\n",
            "Requirement already satisfied: huggingface-hub<1.0,>=0.11.0 in /usr/local/lib/python3.8/dist-packages (from transformers) (0.12.1)\n",
            "Requirement already satisfied: filelock in /usr/local/lib/python3.8/dist-packages (from transformers) (3.9.0)\n",
            "Requirement already satisfied: tokenizers!=0.11.3,<0.14,>=0.11.1 in /usr/local/lib/python3.8/dist-packages (from transformers) (0.13.2)\n",
            "Requirement already satisfied: packaging>=20.0 in /usr/local/lib/python3.8/dist-packages (from transformers) (23.0)\n",
            "Requirement already satisfied: pyyaml>=5.1 in /usr/local/lib/python3.8/dist-packages (from transformers) (6.0)\n",
            "Requirement already satisfied: numpy>=1.17 in /usr/local/lib/python3.8/dist-packages (from transformers) (1.22.4)\n",
            "Requirement already satisfied: regex!=2019.12.17 in /usr/local/lib/python3.8/dist-packages (from transformers) (2022.6.2)\n",
            "Requirement already satisfied: requests in /usr/local/lib/python3.8/dist-packages (from transformers) (2.25.1)\n",
            "Requirement already satisfied: tqdm>=4.27 in /usr/local/lib/python3.8/dist-packages (from transformers) (4.64.1)\n",
            "Requirement already satisfied: typing-extensions>=3.7.4.3 in /usr/local/lib/python3.8/dist-packages (from huggingface-hub<1.0,>=0.11.0->transformers) (4.5.0)\n",
            "Requirement already satisfied: chardet<5,>=3.0.2 in /usr/local/lib/python3.8/dist-packages (from requests->transformers) (4.0.0)\n",
            "Requirement already satisfied: certifi>=2017.4.17 in /usr/local/lib/python3.8/dist-packages (from requests->transformers) (2022.12.7)\n",
            "Requirement already satisfied: urllib3<1.27,>=1.21.1 in /usr/local/lib/python3.8/dist-packages (from requests->transformers) (1.26.14)\n",
            "Requirement already satisfied: idna<3,>=2.5 in /usr/local/lib/python3.8/dist-packages (from requests->transformers) (2.10)\n"
          ]
        }
      ]
    },
    {
      "cell_type": "code",
      "source": [
        "!pip install datasets"
      ],
      "metadata": {
        "colab": {
          "base_uri": "https://localhost:8080/"
        },
        "id": "pfUkgLdDXi_R",
        "outputId": "cb7fea73-d2be-4f94-bc13-a7ae84807c51"
      },
      "execution_count": null,
      "outputs": [
        {
          "output_type": "stream",
          "name": "stdout",
          "text": [
            "Looking in indexes: https://pypi.org/simple, https://us-python.pkg.dev/colab-wheels/public/simple/\n",
            "Requirement already satisfied: datasets in /usr/local/lib/python3.8/dist-packages (2.10.1)\n",
            "Requirement already satisfied: pyarrow>=6.0.0 in /usr/local/lib/python3.8/dist-packages (from datasets) (9.0.0)\n",
            "Requirement already satisfied: dill<0.3.7,>=0.3.0 in /usr/local/lib/python3.8/dist-packages (from datasets) (0.3.6)\n",
            "Requirement already satisfied: xxhash in /usr/local/lib/python3.8/dist-packages (from datasets) (3.2.0)\n",
            "Requirement already satisfied: multiprocess in /usr/local/lib/python3.8/dist-packages (from datasets) (0.70.14)\n",
            "Requirement already satisfied: responses<0.19 in /usr/local/lib/python3.8/dist-packages (from datasets) (0.18.0)\n",
            "Requirement already satisfied: numpy>=1.17 in /usr/local/lib/python3.8/dist-packages (from datasets) (1.22.4)\n",
            "Requirement already satisfied: fsspec[http]>=2021.11.1 in /usr/local/lib/python3.8/dist-packages (from datasets) (2023.1.0)\n",
            "Requirement already satisfied: pyyaml>=5.1 in /usr/local/lib/python3.8/dist-packages (from datasets) (6.0)\n",
            "Requirement already satisfied: requests>=2.19.0 in /usr/local/lib/python3.8/dist-packages (from datasets) (2.25.1)\n",
            "Requirement already satisfied: packaging in /usr/local/lib/python3.8/dist-packages (from datasets) (23.0)\n",
            "Requirement already satisfied: aiohttp in /usr/local/lib/python3.8/dist-packages (from datasets) (3.8.4)\n",
            "Requirement already satisfied: huggingface-hub<1.0.0,>=0.2.0 in /usr/local/lib/python3.8/dist-packages (from datasets) (0.12.1)\n",
            "Requirement already satisfied: pandas in /usr/local/lib/python3.8/dist-packages (from datasets) (1.3.5)\n",
            "Requirement already satisfied: tqdm>=4.62.1 in /usr/local/lib/python3.8/dist-packages (from datasets) (4.64.1)\n",
            "Requirement already satisfied: frozenlist>=1.1.1 in /usr/local/lib/python3.8/dist-packages (from aiohttp->datasets) (1.3.3)\n",
            "Requirement already satisfied: yarl<2.0,>=1.0 in /usr/local/lib/python3.8/dist-packages (from aiohttp->datasets) (1.8.2)\n",
            "Requirement already satisfied: async-timeout<5.0,>=4.0.0a3 in /usr/local/lib/python3.8/dist-packages (from aiohttp->datasets) (4.0.2)\n",
            "Requirement already satisfied: charset-normalizer<4.0,>=2.0 in /usr/local/lib/python3.8/dist-packages (from aiohttp->datasets) (3.0.1)\n",
            "Requirement already satisfied: multidict<7.0,>=4.5 in /usr/local/lib/python3.8/dist-packages (from aiohttp->datasets) (6.0.4)\n",
            "Requirement already satisfied: aiosignal>=1.1.2 in /usr/local/lib/python3.8/dist-packages (from aiohttp->datasets) (1.3.1)\n",
            "Requirement already satisfied: attrs>=17.3.0 in /usr/local/lib/python3.8/dist-packages (from aiohttp->datasets) (22.2.0)\n",
            "Requirement already satisfied: filelock in /usr/local/lib/python3.8/dist-packages (from huggingface-hub<1.0.0,>=0.2.0->datasets) (3.9.0)\n",
            "Requirement already satisfied: typing-extensions>=3.7.4.3 in /usr/local/lib/python3.8/dist-packages (from huggingface-hub<1.0.0,>=0.2.0->datasets) (4.5.0)\n",
            "Requirement already satisfied: chardet<5,>=3.0.2 in /usr/local/lib/python3.8/dist-packages (from requests>=2.19.0->datasets) (4.0.0)\n",
            "Requirement already satisfied: idna<3,>=2.5 in /usr/local/lib/python3.8/dist-packages (from requests>=2.19.0->datasets) (2.10)\n",
            "Requirement already satisfied: certifi>=2017.4.17 in /usr/local/lib/python3.8/dist-packages (from requests>=2.19.0->datasets) (2022.12.7)\n",
            "Requirement already satisfied: urllib3<1.27,>=1.21.1 in /usr/local/lib/python3.8/dist-packages (from requests>=2.19.0->datasets) (1.26.14)\n",
            "Requirement already satisfied: python-dateutil>=2.7.3 in /usr/local/lib/python3.8/dist-packages (from pandas->datasets) (2.8.2)\n",
            "Requirement already satisfied: pytz>=2017.3 in /usr/local/lib/python3.8/dist-packages (from pandas->datasets) (2022.7.1)\n",
            "Requirement already satisfied: six>=1.5 in /usr/local/lib/python3.8/dist-packages (from python-dateutil>=2.7.3->pandas->datasets) (1.15.0)\n"
          ]
        }
      ]
    },
    {
      "cell_type": "code",
      "source": [
        "from datasets import Dataset,load_dataset, load_from_disk\n",
        "from transformers import AutoTokenizer, AutoModelForSequenceClassification"
      ],
      "metadata": {
        "id": "L6JSYvhBXldn"
      },
      "execution_count": null,
      "outputs": []
    },
    {
      "cell_type": "code",
      "source": [
        "dataset = Dataset.from_pandas(df,preserve_index=False) \n",
        "dataset = dataset.train_test_split(test_size=0.3) \n",
        "\n",
        "dataset"
      ],
      "metadata": {
        "colab": {
          "base_uri": "https://localhost:8080/"
        },
        "id": "B8JCtuowXsID",
        "outputId": "5a3c1bbf-1124-4d63-bd67-e1aa6f9a3cc1"
      },
      "execution_count": null,
      "outputs": [
        {
          "output_type": "execute_result",
          "data": {
            "text/plain": [
              "DatasetDict({\n",
              "    train: Dataset({\n",
              "        features: ['Unnamed: 0', 'Unnamed: 0.1', 'Movie_Title', 'Sex_Nudity', 'Violence_Gore', 'labels', 'Movie_Description', 'Sex_Nudity_Description', 'Violence_Gore_Description', 'Language_Description', 'Substance_Use_Description', 'Discussion_Topics_Description', 'Message', 'HyperLink', 'text'],\n",
              "        num_rows: 700\n",
              "    })\n",
              "    test: Dataset({\n",
              "        features: ['Unnamed: 0', 'Unnamed: 0.1', 'Movie_Title', 'Sex_Nudity', 'Violence_Gore', 'labels', 'Movie_Description', 'Sex_Nudity_Description', 'Violence_Gore_Description', 'Language_Description', 'Substance_Use_Description', 'Discussion_Topics_Description', 'Message', 'HyperLink', 'text'],\n",
              "        num_rows: 300\n",
              "    })\n",
              "})"
            ]
          },
          "metadata": {},
          "execution_count": 39
        }
      ]
    },
    {
      "cell_type": "code",
      "source": [
        "dataset['train']['text'][:5]"
      ],
      "metadata": {
        "colab": {
          "base_uri": "https://localhost:8080/"
        },
        "id": "fX9H7RYOXvEW",
        "outputId": "89e90be5-ddd8-4168-c185-048645b23793"
      },
      "execution_count": null,
      "outputs": [
        {
          "output_type": "execute_result",
          "data": {
            "text/plain": [
              "['Scared the living crap out of me.Meryl Streep she wasn\\'t.Who\\'s Meryl Streep?Zoe, she\\'s like Katie Holmes\\nto our parents.So, what\\'s next, ladies?-I have to go home.\\n-No.I can\\'t have another fight with\\nmy parents. They think I\\'m in bed.Were you kids in bed early?-I stayed up till 10.\\n-After 9, Rhett was asleep.-Who\\'s driving them?\\n-I will.Nicki\\'s selling coffee at school,\\nI\\'m helping her.It sucks.Do not say \"sucks,\" say \"disappoints.\"I don\\'t need a lunch.\\nI\\'ll go with Tash.Eat pizza three days in a row?\\nI think not.That\\'s really good.The proportions are perfect......but do you draw\\nwhat you really see?The simplest is the hardest.\\nSeeing what\\'s in front of you.What\\'s on for tonight?I am so grounded. I got busted\\nsneaking back inside last night.-Damn, how\\'d you manage that?\\n-My dad set the motion detector.Our parents are getting\\nparanoid in their old age.Mine still trust me.It\\'s beautiful.Not a bad couple of decades.Better than the first two\\nwithout you.To 20 years of you and me.And to our children, safe at home.Hey, cool, you lost them!Macho Mustang boys, to boot!-We struck a blow for sisterhood!\\n-The only \"blow\" you know.Diss.-Any raves?\\n-Full Moon Underground.San Bernardino.\\nProbably Saturday.I\\'ll tell Mom I\\'m staying with you.I can\\'t believe you\\nstill work that scam.What can I say?\\nMy \\'rents are clueless.I\\'ll bring glowsticks if you buy gas.-That\\'s such a good idea!\\n-Nice try, Beams.Rest, it\\'ll be one hell of a weekend.-Bye, Tasha.\\n-Don\\'t let the bedbugs bite!Hasta!Now they call the cops on me.Hello!Hello!I\\'m sorry I\\'m late.Ruby Baker?Yeah, I\\'m Ruby.Whatever they said, I\\'m not missing.\\nI just went out.Your parents were in a car accident.Are they okay?-Ruby, why don\\'t you have a seat, hon?\\n-Are they okay?My partner will help you have a seat.\\nRuby.-I can sit down myself.\\n-I know.Are they okay?-Relax.\\n-We\\'re here to help you.You\\'ll be okay.Relax. Ruby?Ruby.You\\'ll be okay.-Get her pulse.\\n-Can you hear me, Ruby?\"They are as asleep.In the morning, they\\'re like grass\\nwhich groweth up.In the morning, it flourisheth\\nand groweth up.In the evening, it is cut down\\nand withereth......for we\\'re consumed by thine anger\\nand by thy wrath we\\'re troubled.Thou has set our iniquities\\nbefore thee, our secret sins......in the light of thy countenance.For all our days are\\npassed away in thy wrath.We spend our years as\\na tale that is told......so teach us to number our days......that we may apply\\nour hearts unto wisdom.\"I think Rhett Baker wants to\\nsay something. Rhett?I just--I just wanna say....I just....It\\'s okay.I didn\\'t work with Dave and Grace\\nor see them every day......but I knew them for 10 years......and I\\'m sure if they\\ncould hear this....Well, Grace......would do her dismissive\\nlittle giggle.You know the one.And Dave would mutter\\nan \"expletive deleted.\"They\\'d hate to be remembered\\nas anything but......ordinary.Which is exactly what they were:Anything but ordinary.But they will live on......through their children\\nand in all our hearts.Ruby?Do you remember me?I\\'m Uncle Jack,\\nyour mom\\'s brother.I\\'ll go wait by the car, okay?If there\\'s anything that you need......anything I can do......I don\\'t mean in the next few weeks\\nor months, I mean anytime.How come I haven\\'t seen you\\nin, like, 10 years?Have you even met my brother Rhett?Well, of course I have.I haven\\'t seen either of you in years.First of all, I live pretty far away.\\nChicago.Then how will you help us?I don\\'t know.\\nThere\\'s the phone, e-mail.-You and my mom never wrote.\\n-That\\'s true.As siblings get older,\\nthey go separate ways.-You and Rhett are close now--\\n-We\\'re not.We have nothing in common.Used to feel that way about your mom.\\nIt\\'s not true.I used to think I\\'d take a month off\\nand come out here......and get to know you,\\nyour brother and Grace again.Nice to see you.\\nSorry things didn\\'t work out.-I\\'ll call you later, okay?\\n-Okay.Ruby? Hi.-I\\'m Alvin Begleiter.\\n-Hi.I\\'m so sorry.I\\'m your--\\nI was your parents\\' estate lawyer.I planned their wills......what they wanted to do\\nwith their money and--The most important issue right now\\nis who\\'ll take care of you.You and Rhett.I\\'m assuming you know the Glasses?I\\'ve known them my whole life.Good. I know that your parents......chose them after a great deal\\nof consideration.And there\\'s something else.Your parents were extremely thrifty......and with your mom\\'s share,\\nyour dad\\'s life insurance......there\\'s enough for you\\nand Rhett for the rest of your lives.Obviously you don\\'t know Rhett.That\\'s good.\\nI\\'ll give you one of my cards.I don\\'t expect trouble.But if you have any concerns,\\nany problems....I\\'m an estate lawyer\\nand also a trust lawyer.I want to be someone you can trust.-You call me, okay?\\n-Okay.Mr. Glass.-Ruby.\\n-Thank you.My mom and dad would\\'ve\\nloved that speech.-They would\\'ve loved it.\\n-Come here.That\\'s good.\\nWe\\'re gonna get through this.We\\'ll get through it together, okay?Oh, Ruby.You\\'re in good hands.Hey!-You guys ready for Malibu?\\n-It\\'ll be a change, we won\\'t lie.It\\'s not the worst place.-Is this your car?\\n-My company\\'s, on loan for today.Sweet!This place is huge!Hey, Rubes, check out this view.Yeah, it\\'s pretty amazing.-Cool, a meteorite!\\n-It\\'s art, Rhett.Give them the tour.\\nStall them, I\\'ll order dinner.Let\\'s get the lay of the land.Master suite.Home gym.-Home theater.\\n-Sweet.-You never have to leave home.\\n-If only.Vicki comes in most days.-Hola, niÃ±os.\\n-Hola.Hello!This is your room.It\\'s temporary quarters, of course.Unpack, get settled,\\nand I\\'ll meet you in the kitchen.We\\'re sharing a room?Glance at me when I\\'m changing\\nand you\\'re busted.We have a little calamari,\\na little risotto with mushrooms......and green salad with\\nsome Swiss chard.-Do you have any Garfield?\\n-What is that?-It\\'s crap in a can.\\n-If it\\'s crap, how come you eat it?-Come on, kids. Try the calamari.\\n-Isn\\'t that squid?-Honey, tonight....\\n-I\\'ll call Domino\\'s.Thank you.Can you turn and face the wall?Who are you, the Blair Witch?I\\'m worse. Just face the wall.Turn that stupid thing off!There\\'s public school,\\nthen there\\'s public school.Trust me, there won\\'t be any\\nBloods or Crips.I\\'m not scared of getting gunned down.-You\\'re a great kid--\\n-It\\'s not about being great.-It\\'s about being....\\n-New?Middle-of-the-year new.There\\'s a saying we teach\\nthe Pain Ward patients.\"This too shall pass.\"This too shall pass.\\nThis too shall pass.Hi.Why don\\'t you take\\na seat in the back?We have a new addition.Would you introduce yourself,\\nMiss Baker?You just did.Hi.I\\'m Ruby Baker.I used to go to Shady Lane.\\nThat\\'s in the Valley.Not my choice,\\njust an accident of birth.How come you moved here?It was another accident.Let\\'s make Ruby feel welcome.Thanks for the lift.Sweet!I can\\'t believe it!Like one of those isn\\'t noisy enough?No, Rubes. You can\\'t play\\n\"PokÃ©mon Snap\" on PlayStation.You can play \"Ape Escape,\"\\nbut not on N-64.Mom and Dad would freak out.Don\\'t talk about them.I haven\\'t seen one girl\\nwith blue-black hair.The guys surf and swim all day.\\nThat sun-worshiping culture.That sounds hot.I checked my pager all day.\\nI figured you\\'d call and you didn\\'t.Cell phones are banned at school.\\nThe kids don\\'t care.They can\\'t see they\\nlost their liberties.They have so much sunstroke,\\nthey\\'re wasted.Ruby?I got us an assortment\\nof different things.Some cold pastas, some salads.Ruby, I think that you\\'d be\\nwell-served by a better attitude.It\\'s okay. I don\\'t mind take-out.\\nYou\\'re busy.It\\'s not from Wendy\\'s.I meant your attitude\\ntoward your new school.-My attitude?\\n-I overheard your conversation.You were listening in?No, I was trying to get a line out,\\nbut that\\'s beside the point.The point is, you need those\\nkids to like you.Otherwise, you\\'ll isolate,\\nsabotage yourself.-You\\'ll have a miserable time.\\n-Okay, I get it.I learned something.Ruby?Ruby.-Wake up.\\n-I\\'m awake.-Wake up.\\n-Mommy?Mommy?You scared the crap out of me.I heard noises. I thought\\nit was a burglar or coyote.I\\'m not used to kids here.Come here.Thank you.You must be freezing.No more 3 a.m. swims. With all\\nthe glass, you hear everything.I\\'ll set the alarm at night.Are you coming?Drunk driving among teens has......steadily decreased,\\nbut we can do better.As these images starkly attest......alcohol remains the No. 1\\nproblem among teens.This year, 20 percent\\nof teenage drivers....How was your first day\\nof Driver\\'s Ed?-Fine, I guess.\\n-They still show gruesome movies?Those were the Dark Ages.They have better ways\\nof teaching kids today.May I be excused?Stupid, kid-proof piece of crap.Ruby?Was it awful?\\nI mean, the driving class?-I can just imagine.\\n-No, it\\'s....I have my period.Come with me.Thank you.Four doctors recommend....This cramp, too, shall pass.I\\'ll turn it off\\nwhen I get to a save point.It\\'s cool. I don\\'t care.It\\'s kind of relaxing.Erin, get out of there!What were you doing in there?\\nTell me the truth!-What are you implying?\\n-Tell me!No, I won\\'t answer you!\\nGood night!-What the hell are you doing?\\n-Getting ready for bed.-Watch your language.\\n-Don\\'t play games with me.You know what I\\'m talking about.I\\'m too tired to guess.\\nI\\'m sick of your accusations.Is that what you call it now?-How many--\\n-I\\'ve done every--You told me you--Ruby?-Hi, I\\'m Hannah.\\n-Hi.There\\'s this rumor you were\\non academic probation.Cut to the chase, huh?I was. I had sex with the dean\\nand he took it off my record.Oh, not really.I was supposed to be at\\nmy friend Tasha\\'s......doing an essay,\\nand went to this rave.Sunday I was fried and\\ndownloaded this thing off the net.-Tuesday, I was busted.\\n-Hey, Hannah!-Hey! I gotta go.\\n-Bye.Hey, Ruby.My company\\'s driving people\\nto a premiere.I gotta make sure everything\\nruns smooth. Wanna come?I have homework, three more hours.\\nPretty heavy, so....That\\'s perfect.Can we catch the end of the movie\\nor go to the party?Actually, the hell with Westwood.-My drivers can handle a premiere.\\n-Evening, sir.Mud pie for the lady.\\nKetel One, rocks, for me.Great.Thank you.That party\\'d be a mob scene.\\nI really want to talk to you.-Here you are.\\n-Thank you.I remember when you guys moved\\ndown the block 11 years ago.It was funny. I noticed the furniture\\nas they brought it in.Erin noticed a little girl.But you were upset.\\nI guess about moving cross-country.You wouldn\\'t say a word.Just hugged this plastic doll\\nagainst your chest.Malibu Barbie, I think it was.\\nProphetic, huh?Think you mean \"pathetic.\"No, no.-I guess you moved on years ago.\\n-From what?From hugging plastic dolls.I should hope so.Last night, when you fought......it wasn\\'t about us, right?No. Married people sometimes\\nlike to......push each other\\'s buttons.It\\'s a form of intimacy,\\na lower form, nothing serious.One thing I haven\\'t said about Erin:It can be lonely living with her.But that\\'s my cross to bear,\\nnot yours.I think it\\'s past my bedtime, Terry.Of course it is.Let\\'s get you to bed.Terry.You\\'re not wearing\\nyour shoulder belt.Hey.Try not to make too much noise.\\nRhett and Erin are asleep.Okay?Hamlet senses something\\'s wrong......that he alone can set right.I want two pages next Friday......about what he means\\nand whether he succeeds.Mr. Begleiter, before my parents--They ever speak about\\nguardians for Rhett and me?Different from the Glasses? No.-I think they wanted to.\\n-They discussed it with you?No, but my parents weren\\'t\\nfriendly with them after they moved.Ruby, the Glasses aren\\'t your parents.They\\'ll never be your parents.-If Erin or Terry has done anything--\\n-We sleep in one room.That\\'s not ideal.The other night we were alone\\nin Terry\\'s car. He--What? What did he do?He just put my seat belt on.The way he leaned across me wasn\\'t--\\nIt just-- And I felt....I know it sounds stupid.And then......Erin was shooting up.\\nI saw her holding a needle.Anyway, she looked really baked.Ruby.Ruby.Try and understand this.The accident, in effect......orphaned you and your brother.So if this doesn\\'t work out\\nwith the Glasses......you\\'ve no place to go.You\\'ll become wards of the state.I\\'m not trying to scare you.I\\'m just telling you the facts of life.I drove halfway here\\nwith the housekeeper......and then hitchhiked\\nand I was scared.But I told myself once I made it,\\nyou\\'d help me and Rhett.When we met, you said\\nI could trust you.Okay.All right.I believe you. And I know\\nwho to get in touch with.It\\'s not gonna be easy.\\nI can\\'t promise you results.But I promise you that I\\'ll look\\ninto this. You have my word on that.Thank you.When we spoke after the funeral......you had said that......we had more than enough.How much would that be exactly?That\\'s a question for the\\ntrust officer at the bank.But between us,\\nfour million dollars.So you can see,\\nyou\\'re financially very secure.Yeah.Now why don\\'t you go home.\\nAnd do me one more favor?No hitchhiking.-This is out, okay?\\n-Yes, sir.Alvin Begleiter calling.I just had a disturbing visit\\nfrom Ruby Baker.Rhett, why don\\'t you leave that now?Go and do some homework.I have a lot of homework too.Stay a minute, would you?What you saw last night\\nisn\\'t what you think.Erin suffers from diabetes.I hid it.I don\\'t want you or Rhett to worry.\\nThe disease is under control.You saw Erin giving herself\\nher nightly insulin injection.Must\\'ve been a shock to walk in on.One more thing.Terry tells me that you got a\\nlittle skittish with him last night.That makes us feel sad.\\nWe want you to trust us, Ruby.We need your trust.I overreacted, I\\'m sorry.There\\'re still things\\nI need to get used to.We all do.We\\'re all under stress.I\\'m gonna begin my Hamlet paper.If you need help, let me know.That\\'d be great.That\\'s fine. Put it in park\\nand step out.And Ruby? You\\'ll get behind\\nthe wheel next.You can apply a bit more gas.Sorry, I\\'m a bad driver.There aren\\'t any bad,\\njust inexperienced.Take a breath, start driving back.Bye.He\\'s not in now.\\nI\\'ll have him call you back.He\\'s not in now.\\nI\\'ll have him call you back.Hi.-I\\'m Ruby Baker. Terry\\'s--\\n-I know who you are.Okay. Cool.I came to catch a ride from Terry.He\\'s having a powwow with\\nsome people now.-If you wanna wait, there\\'s a lounge.\\n-Okay, thanks.-Glass Transit, may I help you?\\n-Any service technician to the office.-What\\'s going on, Terry?\\n-The usual.Not to worry.\\nNothing that can\\'t be handled.-We had a payment plan.\\n-The dates arrive, the money doesn\\'t.About that payment plan.\\nNicole had a day......I\\'d call it unrealistic.-You proposed that plan.\\n-I know.-It\\'s not dishonesty. We gotta--\\n-What is it?NaÃ¯ve optimism.But I\\'m an optimist by nature.I\\'m betting on myself.I\\'ll be right there.-Where\\'s the money?\\n-You\\'re not listening. The money---Say is, as in, \"the money is.\"\\n-Yeah.Can I help you?-Whose car is this?\\n-Hell if I know. Showed up one day.-One day, when?\\n-I don\\'t know. Few months ago?-We had a car like this.\\n-You really shouldn\\'t be back here.Ruby?Ruby?What happened was nothing.\\nJust a business glitch.Hope you didn\\'t get freaked.\\nPeople get weird about money.I didn\\'t mean to just show up.\\nI waited for Vicki and she never came.We had to let her go.\\nErin got held up at the hospital.-Back up. You had to let Vicki go?\\n-We had to.She drove you without permission.Just to Santa Monica,\\nto the Promenade.How did you know that she drove me?How did we know? It\\'s our job to know.-Did you have a hard day at work?\\n-It was fine, thanks.Hamlet.Don\\'t you hate how he can\\'t\\nmake up his mind?To be, not be, not not be,\\nbe, be not.My father drove a Saab.Terry!Thank you.For finishing my paper.That would be wrong.-Ruby.\\n-Yeah?Come with me.Sure.Ruby Baker? I\\'m Nancy Ryan.I\\'m an inspector with Social Services.Your lawyer said you\\nhave problems with your guardians.Please relax and be open.\\nEverything said here stays private.Okay? So......you\\'re 16......and your brother is 11,\\nand you share a bedroom?Yeah, for now.And you saw Erin Glass\\ninjecting herself?-They said she has diabetes.\\n-Diabetes? I\\'m gonna check that.Now it\\'s gonna be in writing twice.My word still won\\'t count\\nnext to the Glasses.Which is why I\\'ll phone the Glasses\\nand ask them to meet me......so I can verify everything.-Okay?\\n-But......how can I live with them?-Do you wanna live with them?\\n-Sometimes things are fine.Last night, Terry helped me\\nwith something......but maybe that was\\nto keep me happy.I know this is scary for you,\\nbut don\\'t worry.We tell the guardians that we\\nperform a routine inspection.If it\\'s still in progress......you just act like we\\'ve\\nnever met or spoken.You have no idea why I\\'m there. Okay?This is my husband, Terry Glass.-Hello.\\n-Hello.Is this necessary in the middle\\nof the day?We\\'ll get this done\\nas quickly as possible.It\\'s intrusive.\\nLet\\'s get it over with.-May I...?\\n-Of course.Only one child sleeps here?Yes, Rhett.And the girl, Ruby,\\nshe has her own room?-Of course.\\n-She\\'s 16.Nice accommodations.The kids are home.\\nDo you want to meet them?Yes, I would. Just to say hi.But first, Dr. Glass,\\nmay I look upstairs?This is awkward,\\nbut it\\'s also important.It\\'s a matter of safety,\\nso there\\'s nothing......dangerous in easy reach.-\"Humulin I and U.\"\\n-Diabetes. I\\'m insulin-dependent.We have it totally under control.It would appear that you do.Here\\'s the two best kids in the world.Hi, you must be Rhett. I\\'m Nancy Ryan.Nice to meet you.So Rhett, how do you spend\\nyour evenings?When I finish my homework, I read.And you must be Ruby.\\nYou have a very nice room.You\\'ve made a wonderful home\\nfor these children.-Thank you, Dr. Glass.\\n-Thank you.We\\'ll see you out.You read? You lie.Guess who I learned from?Bye now.Why don\\'t we order some dinner, hon?How do you like your new room?Couldn\\'t have come at a better time.Come on, Mr. Begleiter.-Hello?\\n-Sorry to disturb you this late.But I found myself wondering,\\n\"Where\\'s the money?\"You might as well know.Six months ago I took on a partner.\\nA silent partner and......I recently found out\\nhe was skimming cash.You\\'ve lost me. What does\\nthis have to do with our loan?I\\'m waiting, Mr. Glass.-Mr. Glass, you still there?\\n-Yeah.He charged personal\\nexpenses to the company.When I want a heartbreaking\\nhuman interest story......I\\'ll watch the news.Meanwhile, your payment\\'s due\\ntomorrow, close of business.Do you fully understand me?Mr. Glass?I\\'m here.I\\'m seeking full restitution\\nfrom my partner.Plus I found a whole new\\nsource of equity.My big, new, personal piggy bank.So you can expect another $30,000.That barely covers interest.\\nYou need to pay off the principal.But I need some more time.\\nNot a lot more time.A week at the most.We\\'ll give you two days,\\nbecause we like you.We\\'d hate for you to find\\nyour beautiful house burnt down......with your wife inside.Yeah?\"I unfold a tale whose\\nword would harrow up thy soul......freeze thy young blood......make thy two eyes\\nstart from their spheres......and each hair to stand an end.If thou didst thy father love......revenge his foul and unnatural\\nmurder. Murder most foul...But this most foul,\\nstrange, and unnatural....\"Begleiterand Brice.-This is Ruby Baker for Mr. Begleiter.\\n-One moment.-Did you get my e-mail?\\n-No, Terry trashed my account.Or maybe the bill didn\\'t get paid.Did you find out about the BMW?Right, the BMW.It was registered\\nto a business: G.T.l.Glass Transit Incorporated.-Terry\\'s company.\\n-Now don\\'t you get it?Ruby, please come with me.I have to call you back later.\\nBye-bye.This is Miss Bassett,\\nour vice principal.Ruby.The paper you turned in to Mr. Kim,\\nthat was your work, nobody helped?-No.\\n-Not even Harold Bloom?\"Dance of contraries,\"\\ndidn\\'t sound like a student.I found it and other phrases\\nin Mr. Bloom\\'s book:Shakespeare:\\nThe Invention of the Human.We were told there\\'s a case of\\nplagiarism on your school record.You understand why we have to\\ntake decisive action--You were told?-By who?\\n-That is hardly the issue here.This sort of cheating\\nhas to have real consequences.We\\'ve spoken to your guardians.Of course you have.Frankly, we\\'re not sure whether\\nyou can continue at this school.Well?Why don\\'t you ask Terry?Or maybe it\\'s time you took\\nsome responsibility.Maybe it\\'s time.This is Jack Avery.\\nI\\'m out of the country......but I\\'m checking my messages.Wake up.Don\\'t make a sound.\\nGet dressed. We\\'re gonna go.-Where? With who?\\n-Away with me.-Quit it! You\\'re looking!\\n-Like there\\'s something to see.It\\'s raining. I was sleeping.\\nI don\\'t wanna go.It\\'ll be really fun.They\\'re giving away\\nDragon Ball Z at Blockbuster.We can go and avoid the rush.Really?Close the door.What if they find out?I\\'ll take the blame.\\nGet in the car.You don\\'t know what you\\'re doing.Wanna slow down a little?One thing I learned from Terry:\\nBuckle up.-Terry\\'s gonna kill you!\\n-Maybe so.Turn that off.Turn that shit off!Look out!You almost creamed that guy!Right. Turn it off!-I wanna go back.\\n-We\\'re not.-What do you mean?\\n-Figure it out.We have to! You tricked me\\nand now I\\'m in trouble.-The Glasses tricked you.\\n-What?Did not. They\\'re sleeping.They were gonna send me away\\nand you\\'d stay home with them.I like Terry. I like Erin.You like the shit they buy you.\\nYou couldn\\'t see it.They made you lie\\nto that social worker.I didn\\'t know she was\\na social worker.You didn\\'t wanna lose\\nyour Nintendo.They bought you off.-Where are you taking us?\\n-The point was to get away.Crap.Don\\'t say anything stupid.The highway is closed.There\\'s a mudslide.\\nYou need to use Malibu Canyon....-Can I see your driver\\'s license?\\n-My license?-And your registration too.\\n-It\\'s....It\\'s over there in all my stuff.I think I saw it over here.Pull onto the shoulder and step out.Officer!These are my kids.Terry Glass, Glass Transit.-We loaned you limos for the parade.\\n-How are you?Rhett, poor baby! Come with me.We have a behavior problem\\nback at home.Your sister\\'s going through\\na hard time right now.-You know, teenage-girl stuff.\\n-Got you.Good luck.Move over.-You can turn around here.\\n-Thanks.Don\\'t you have anything to say to me?You killed my parents.That\\'s insane and hurtful.You\\'re threatened by your\\nbusiness associates. I saw it.Like Erin said to me,\\n\"We need your trust.\"You need my trust,\\n$4 million worth.I got a business.\\nMy wife\\'s a successful doctor.-I got a big, new--\\n-\"Piggy bank.\"That\\'s just words out of context.-What about the BMW my dad drove?\\n-What about it?!For their anniversary,\\nI lent them a Beemer......so Dave wouldn\\'t drive her\\nin that Saab......which I repainted.No good deed goes unpunished.In your trashy mind,\\nyou twisted that into--What do you think? Cut the steering,\\nstripped the brakes?Yeah.It\\'s understandable,\\nbasic psychology.You don\\'t wanna blame your dad.That he had too much booze\\nthat night.Then you\\'d\\nask why your mom and dad......hit the bottle.\\nWhose behavior drove them to drink?Get this straight.You and Rhett are mine.I suggest you forget your lurid,\\nadolescent fantasies and start--Help!-Let me go, bastard!\\n-Calm down, little girl!What\\'s happening out there?Your sister is having a tantrum.Come on. Come back to bed.Let me go! Get off!Let go!You...!Listen hard, Ruby.Anything happens to you,\\nwe got Rhett......and all we need is one child.Erin! Stop him, please!Erin!Please come help me, please!\\nHe\\'s not gonna hurt you!Erin, please don\\'t! Erin, don\\'t! No!Thank you for listening.You\\'ll feel better now, Ruby.\\nRest, relax.-Where to, ladies?\\n-The mall.Time-out.\\nHas anyone heard from Ruby?-Me? Not for a month.\\n-Same. Won\\'t even answer my e-mails.What up with Little Miss Malibu?\\nToo busy bodysurfing?Then we are too busy for her.-Hello?\\n-Where\\'s the rest of our money?The bank sent me a check\\nwith the wrong zip code.Some incompetent jerk at the bank\\ninverted the last digits!So I\\'ll need another--We gotta expand the house,\\na wing for the kids.Our little boy gets bigger every day,\\nand the girl is a teen.I don\\'t know if you have kids....Anyway, construction costs\\nin Malibu are off the charts.I\\'m estimating a quarter million.We\\'ll need to see blueprints.\\nThere\\'s an approval process.You can\\'t get them\\nwithout an architect.Mine wants a cash down payment.\\nHe\\'s in demand.I believe we advanced you......$30,000 for that purpose\\njust last month.But that was for a room,\\nbefore I realized I needed a wing.Isn\\'t a guardian supposed to\\nkeep the kids comfortable?Here\\'s the trust.It authorizes me to use money\\nto enlarge the house.And guardians aren\\'t supposed\\nto suffer economically......in fulfilling their obligations?\\nI\\'m paying two tuitions.I employ a nanny. The kids see\\ntherapists to deal with the tragedy.I plan trips to broaden\\ntheir horizons...... and it\\'s like a root canal\\nwhen I need reimbursement.-Where\\'d you get it?\\n-You faxed it to us last week.I\\'m surprised to hear you have\\nboth children at Westcott.Did I say Westcott? We changed our\\nminds about it. It\\'s too glitzy.-We gotta do what\\'s best for them.\\n-Isn\\'t that the truth?Thank you for waiting.\\nI\\'ll take your order.I need five dozen\\n10cc syringes fentanyl......and I need two dozen\\n20cc syringes Demerol.We sent up 60 of fentanyl on Monday.I doubled the PCA infusion\\nrate of Demerol in six patients.Dr. Glass?I\\'m on the phone with the pharmacy.Dr. Wise wants to see you.The Medical Director.Wake up, Ruby.Sleeping Beauty.All you do is sleep. It scares me.So you\\'re losing your medical license.\\nThat\\'s wonderful.-I have a sickness.\\n-Yeah, it\\'s called self-pity.Complicated by being born\\nwithout a freaking backbone.So I\\'m weak, am I?Maybe I am.At least I\\'m not greedy\\nand reckless......borrowing a million\\nfrom loan sharks--Which should\\'ve been paid off!\\nWe had a good thing going......till you put your hand in.A good thing? You son of a bitch!-I was a doctor!\\n-Yeah, but you became a junkie.Not until you did what you did.Where were you when I did it?Right. I saw an opportunity, Erin.I saw an opportunity and grabbed it.I had what you didn\\'t.\\nI had the nerve, the will.Since nobody gave me\\na chance, I took it.I\\'m not doing this anymore.It\\'s already done.This is about containing the damage.\\nUnderstand?Good.You know we have to\\nget rid of the girl.Speaking of which, we\\'re dry?There\\'s nothing to take care of her,\\nso I\\'ll get something.If I can\\'t find drugs in L.A....Hi!Wave at the camera, Ruby.\\nWave at the camera!They can\\'t catch me!-Come in the water, Erin!\\n-Wait! I\\'m coming too!Spin me, Erin! Faster!\\n-Good girl.Rhett. Rhett, move away.Erin! It took some doing......but I found some\\npharmaceutical morphine.Erin?God, not now.Erin?Erin?1875 Montego Canyon.I thought you\\'d wanna know.Ruby?Honey?Terry needs to talk to you kids.You kids are a handful,\\nyou know that?Where\\'s your sister?\\nWhere\\'s your damn sister?I should\\'ve put you here from day one.What\\'s happening?He got the Jag.-He walked back in the house.\\n-Keep working.He\\'s sleeping.He fell asleep.\\nThere\\'s gonna be a change of plans.Why would he do that?He\\'s bombed!He finished a bottle of vodka.\\nIt\\'s right there.I see what\\'s weird.Begleiter! What\\'s going on?You ought to have your\\nwife take a look at that.-She\\'s not home.\\n-Your office said you were home.I kept calling but nobody answered,\\nso here I am.The bank blocked your\\nguardianship account.The officer believes\\nthere\\'s malfeasance.The sons of bitches!I went out on a limb for you.I warned you about the girl\\'s claims......about her accusations, because I\\ntrusted you, as did the Bakers.But if you\\'ve lied,\\nthe courts will step in.If they take these children,\\nthey have no place to go.He thought he was helping us.Mr. Glass, where are the children?At their music lessons.\\nTheir piano lessons.Next, I\\'ll have to buy\\nthem a Steinway......and the bank will say,\\n\"Can\\'t they play the kazoo?\"Shit!That\\'s my Testarossa.No, that\\'s our Testarossa.\\nUntil we get our money back.You planned to skip town today?Where\\'d you get that idea?-Your wife called us this morning.\\n-My wife?Before you leave, how about repaying\\nthe loan in one lump cash sum?He doesn\\'t have our money.-What\\'s going on, Terry?\\n-Ask him.-Your partner?\\n-Bastard robbed me blind.-Oh, my God. I\\'m leaving.\\n-No, no, no.-You\\'re not.\\n-Really?-We need an explanation.\\n-From me?I have nothing to do with this!-Nobody listens anymore.\\n-Are you happy, Terry?Feel good about that?\\nTerry, you\\'re a troublemaker.-That took care of the problem.\\n-No. We\\'ll discuss this in the car.There\\'s nothing to discuss!Just walk like a man out to the Jag.That was the problem. You solved it.The rest is pure profit.Not the Jag. The Volvo.Wait here for a minute, okay?-Nice little drive in our car.\\n-No! Not in there!Not in there! No! Not in there!I don\\'t even have the key!We got all the keys to all the cars.Take the Volvo, not the Jag!-Let\\'s go!\\n-Okay, you win!-You win.\\n-It\\'s over.Just please take the Volvo, okay?You\\'re making this difficult.-Whatever.\\n-Take the Volvo.Brand loyalty. I like that.That little bitch!You\\'re some kind of joker.\\nWe\\'ll take the Jaguar.No!You haven\\'t been\\nto our Tarzana office.We got a handball court and a sauna......and way in the back we have\\nthis special room.Totally soundproof.What the--?What the--?What\\'d you do to this car?!\\nWhat\\'d you do to this car?!Hi, you guys need some help?Yes.-Everything under control?\\n-We got it covered.Terry.You two kids stay in the car.I have a possible T.C.\\nSouthbound, Malibu Canyon.-I\\'ll be investigating.\\n-Copy that.I have a rollover T.C......with one fatality.\\nI\\'ll need two backup units.Ruby.It\\'s okay.Ruby, go! Drive!-Where\\'s the stupid key?!\\n-It\\'s okay!We\\'re gonna die here! Let\\'s go!\\nCome on, find them!Ruby!I need your help.-He\\'s getting closer!\\n-I got them!He\\'s getting closer!Drive! Drive! Drive!Why are you stopping?!It\\'s okay, honey.-Buckle up.\\n-What\\'re you doing?!-All\\'s forgiven.\\n-What\\'re you doing?You kids okay?\\nGo back and wait by my car.Things will get easier from here on.They already have.Let\\'s go home.',\n",
              " '# Entre el cielo y la tierra ## Entre la luz y la oscuridad ## Entre la fe y el pecado ## SÃ³lo se encuentra mi corazÃ³n ## EstÃ¡ Dios y solo mi corazÃ³n #Corre! Corre! Corre!Compatriotas,\\nMexico is under siege.A plot as insidious\\nas it is dangerousthreatens our nation.Outcasts from Romeand from all over Europeare coming into our country\\nto destabilize the government,to poison the minds and hearts\\nof our people,to turn them into fanatics\\nat the service of foreign interests.This situation, this evil,this threatcannot be ignored,and it will not be tolerated.Therefore\\nI have instructed our Congressto create a set of lawsdesigned to deal with\\nthis national emergency.Camine.Firstly, every foreign-born bishop,priest or minister\\nwill be deported immediately.Second, there will be\\na five-year jail sentencefor any priest who criticizes\\nthe government.The wearing of religious vestments\\nin public is strictly forbidden.Make no mistake.This government is going to do\\nwhatever is necessaryto preserve the dignity of Mexico,the freedom of its peopleand the immortal ideals\\nof La Revolucion Mexicana.Muchachos!Don\\'t waste God\\'s good food\\nmaking fun of me.I-I\\'m ashamed of you.He\\'s a man of God.Padre. Padre.Jose will work for you\\nfor the next two weeks, Padre.Anything you need him\\nto do for the church.That won\\'t be necessary.It was a harmless prank.And I hear fruit is good for the hair.I-I know that the priests\\nconsider prayer a penitence,but for a boy like my godson,\\nhard work is better.Uh, you\\'ve no doubt,\\nuh, heard about the Calles Law.Yes.Just be careful about\\nwearing your cassock in public.God save us from these heathens.Have you had breakfast, Joselito?Elodia makes wonderful chilaquiles,and my friend Father Vega\\nwill be here any minute.Don\\'t call me Joselito.Oh, that\\'s right.You\\'re tough.I forgot.The soldiers are coming into towns,making sure the laws are being enforced.I came from Europe over 70 years ago,when I was just 7 years old.Would they really kick out\\nan old man like me?From what I hear,\\nthey probably will.There have been spontaneous\\nprotests all over Mexico.A resistance is forming,and Rome, uh--Rome is taking\\ntoo long to respond.An armed resistance?Let\\'s pray it doesn\\'t come to that.But...It may become inevitable.That\\'s a mistake.Our Savior is the Prince of Peace.But the Bible also says\\nthere is a time for peace,a time for war.We cannot allow the godless\\nto take away our freedom.If need be,we must stand up and resist.Even if I were younger,I would not fight.You won\\'t need to fight to help.You can feed and shelter\\nthe ones who come through.Now, that I would do.Listo?Listo, Su Excelencia.His Holiness Pope Pius XIcondemns the Calles Law.Beginning midnight on August 1st,all holy services in Mexicowill be suspended.No puede ser.Respeto derecho de fe!Respeto derecho de fe!What beautiful little girl is gonna\\nbeat me in chess today?Me.- You?\\n- Yes.Okay, we\\'ll see.PeriÃ³dico! PeriÃ³dico!The cathedral is being closed\\nat the orders of President Callesso the government\\ncan make an inventoryand safeguard its contents.Let\\'s go.The girls will not be able to get\\ntheir confirmation, Enrique.It\\'s only temporary, Tulita.Calles won\\'t be able to sustain this.Besides, I was sure\\nour daughters will survivewithout the, uh, nuns\\nslapping their palms,all that holy nonsense.It is not a joke.It may mean nothing to you,\\nbut it means everything to me.Daddy, does that mean\\nno more catechism?So we can play now?You can study science for now.You know how important this is to me.It\\'s only temporary.Besides, I\\'m sure there\\'ll be\\nplenty of clandestine services.Oh, so the girls can feel like\\nthey are doing something shamefulwhen they go to Mass?What do you want me to do?Come.Tula.Tula.Go look at the hats.Tulita...as a military man, I can tell youthat it\\'s only a matter of time\\nbefore Calles is overthrown.In the meantime,\\nyou can teach the girls at home.Unless, of course, you want me to.Excuse me.Hi.For the repeal of the Calles Law.Oh, excellent.Thank you.Good luck.Excuse me, sir.Please, for the repeal\\nof the Calles Law.Please don\\'t misunderstand me.I\\'m a good Catholic.But you\\'re wasting your time.Excuse me?What good do you think this will do?Calles can\\'t ignore a million signatures.I\\'m sorry to say he can and he will.But on the other hand,\\nan economic boycott,that would be quite\\na different matter.Brilliant, Adriana.This is a brilliant idea.Thank you,\\nbut it wasn\\'t mine.It is very, very ambitious.But why not?\\nA big sacrifice.Only buy what we\\nabsolutely need.A type of Lent,but this will attest to our faith.And it will humble Calles.Hello, Jose.It seems Dr. LimÃ³n\\nhas lost his watch.Have you found anything\\nwhile you\\'ve been sweeping?No, Padre.Oh.He must have lost it\\nsomewhere else.You\\'re a good sweeper, Jose,but I think you\\'d be a better altar boy.Well done.I\\'m proud of you.What did I tell you?You cannot be soft with these people.They confuse reason with weakness.I showed restraint.What did they do?Become more rebellious,\\nmore insolent.The purpose of this boycott\\nis very evident.They want to wreck the economy\\nand bring our government down.Congress rejected the petition.There will be no stopping\\nthe uprisings now.The boycott is working.They\\'re afraid, and it\\'s showing.It\\'s not easy.We have thousands of supporters\\nall over the country.We can do this.So, I tried.Followed your advice.Did not work.So now, the next message I sendwill be unmistakably clear.Alto ya!Vamos!Ya!Vamos ya!AyÃºdanos!Mas duro!Saquen los niÃ±os!Sangre de Cristo!No! No! Stop it! No!Thank God, Adriana.You\\'re so lucky.They thought you were dead.Calles is a monster.I know.We must find another\\npeaceful solution.Anacleto, the armed conflict\\nhas already begun.I say we support the rebellion.They\\'ll need food, medicine.And ammunition.We can support themwith communication and funds...but we will not fight.I kneel the first time.Ring.Then when I bring the Host up here,ring the bell.And then I go down again.Right?Finally.He\\'s teaching me to be an altar boy.You?I thought you were being punished.Hmm.Don Enrique, we have a problem\\nwith milling machine four.Grab those there.Ay.Beautiful.Look at this.Charles Lindbergh\\ncrosses the Atlantic solo.Me? I am here,going mad surrounded by pink soap.You have a beautiful familyand enough memories of battle\\nto last a lifetime.Memories.You live in your memories,\\nyou\\'re already dead.I saw you at the church.Are you a gardener now?Maybe an altar boy.Really?Marilena!I\\'ll see you later.The federales are coming!They\\'re coming!Padre, the federal soldiers are coming.You must hide.Hide? I\\'m too old to hide.Please, Father, come with me.You can hide at our house.Would I hide from God?This is my home.I\\'m safe here, Joselito.Jose, who are youif you don\\'t stand up\\nfor what you believe?There is no greater glorythan to give your life for Christ.Now...go.Please, Father.Go, and run fast.God bless you.Let this be a lessonto any of you who help\\nthe traitorous Cristeros.Ya!Ya!Apunten...ya!Stop.Fuego!Jose. Mi amor.Estas bien?Thank the Lord.Mi amor.They killed Father Christopher.I told him he could come here.He wouldn\\'t come with me.I should have made him come with me.Jose...it was very brave of you to try.Can\\'t Godfather punish them?Your padrino\\'s a mayor...but even he has no power\\nover the federales.Anacleto Gonzalez Flores?Yes?This is the most I could get.Umberto, God bless you.We need to take\\nfive belts each if you can.Let me show you.Hello, Padre.It is prohibited to say Mass,\\nPadre Robles.I forgive you, my son.Ya!Captain.Please. What do you want?Money?I can get you money.Spend it in hell, cabron.We have over 20,000 menwho call themselves\\ndefenders or populists.Most don\\'t even know\\nof each other\\'s existence.That\\'s why we need\\na commander in chiefand a central command.What about your military friends?Well, they suggested\\nEnrique Gorostieta...an experienced, decorated general\\nand strategist.He defeated Zapata.I know of him.I doubt he\\'s sympathetic to our cause.I don\\'t even think he\\'s Catholic.We are not hiring him to pray.He is a great man\\ncapable of doing great things.Close your eyes,\\nand sleep with the angels.I\\'ll try.Okay.Close your eyes.My mother brought us\\nthat vase from Sevilla.Sorry, Mother.You looking for me?He has to be dead.Let\\'s go in.You go first.Okay?Come on.Come out, cabron.Got you surrounded.We heard they rode by Chucho\\'s.We came as fast as we could.Are you all right?Who else came to help you?Go get the rest of the gunsand the ammunition\\nand their horses.We\\'re Cristeros now, boys!How many?- Six.\\n- Six.Four here.Four there.14.Catorce.Catorce.Miguel Gomez Loza.Enrique Gorostieta.Sit down, please.I represent the National League\\nfor the Defense of Religious Liberty.Maybe you have heard us\\nreferred to as the League.I have heard you called\\nby another name,Cristeros.Surely you don\\'t support Calles.No.He\\'s a barbarianand a fool.There are uprisings\\nall around the country.Over 20,000 men,but no leader.No leader?I am not what you might call\\na devout believer.We propose to hire youto turn our armed resistance\\ninto a formidable army.An army?I thank you, sir,\\nfor a most generous offer.Okay, let\\'s make an army.Let\\'s make a, uh, formidable armyout of a group of ragtag peasants\\nin huaraches...out of a few game ranchers,out of some tenderfooted clergywho are trembling at the thought\\nof holding a weapon for the first time.You want me to make\\na national guard out of that?Look at me.Do you have proper weapons? No.Do you have\\nan ammunition supply? No.Do you have\\na central command? No.How many is that?Three no\\'s.All you have is belief,and belief will not save them in battle.A central command?The League has an extensive\\nsecret network all over Mexico.Weapons, ammunition?From dissenters\\nwithin the army itselfand soldiers we have defeated.Surely you have read about\\nour victories in your paper.And your defeats.General, that\\'s why\\nwe want to hire you.And suppose I\\'m interested\\nin your offer.What are your finances?You gonna pay me in prayers?Tell me what you want,\\nand I will bring it back to the League.I don\\'t think the Cristeros\\ncan afford me.The question here is,where does the finest general\\nin Mexico want to serve?If I don\\'t take these photographs,\\nwho will?Who will record this barbarity\\nthat wouldn\\'t be believed?Why didn\\'t they shoot you?Heh.I always promise them a portrait.10 seconds.Miguel.Mijo, what happened?Are you all right?Yes, Father.There was a big battle.Bullet went right through my ankle.They killed my horse.Hi.I will get Dr. LimÃ³n.No, no, no, no.It\\'s better if no one knows.No one will know.I have known him for almost 30 years.Will he be all right?Yes.Boys, time to go.Don\\'t tell anyone what you saw here.Viva!Viva Cristo Rey!Viva El Catorce!El Catorce!El Catorce!El Catorce!There you go, Padre.Thank you, Pablo.The legendary El Catorce.Victoriano Ramirez.My brother Pablo.Hey.They should be here, Pablo.Bring them inside.Where is the general?I\\'m sorry.\\nI didn\\'t introduce myself.General Jose Reyes Vega.You\\'re General Vega?Yes.You\\'re a priest.I\\'m a priest.A priest general, huh?Oh. All right.Some water?Uh, what else do you have?Some tequila. Help yourself.You know, I--I heard that your last battle\\ndidn\\'t go so well.Now I know why.Really? Maybe--Maybe priests shouldn\\'t\\nbe generals. Hmm?Of course, we didn\\'t know\\nyou would be fighting so close.Did you know that you drove\\nthe federales right into our campwhen we were completely unprepared?You were completely unprepared?And this is my fault?I\\'m saying we should\\nbe working together.Under whose command?The League appointed me\\ncommander.Well, I don\\'t know anything\\nabout any League, Padre.I\\'m fighting for Cristo Rey\\ny la Virgen de Guadalupe.And I\\'m responsible\\nfor my own men.Together,\\nwe would be much stronger.We\\'ll stay out of your way.We\\'re going to Autlan.Jose, women are here\\nwith ammunition.Bring Adriana in.The what?The women\\nwith the ammunition.Que viva Cristo Rey, Padre.Que viva.I also brought three nurses.God bless you, Adriana.God bless you,\\nand thank you, ladies.You are as important\\nto this war as any soldier.- Gracias, Padre.\\n- Si, Padre.God bless you.Padre. Excuse me, Padre.You think that\\'s right to involve\\nthe women like this?Our Catholic sisters\\nare a big part of this war.Without them bringing\\nammunition, food,taking care of the wounded,all would be lost.Ah.All right.Do you need ammo, guns?No, no, no.You keep the ladies\\'\\nammunition, Padre.We\\'ve got plenty from\\nthe federales we\\'ve killed.What is the occasion?Hmm.- Salud.\\n- Salud.An attorney for the League\\nrepresenting the Cristeroscame to see me today.They want to hire me\\nto command their rebellion.You?Yes.Well, how ironic.You cannot fight for something\\nyou don\\'t believe in.I may have issues with the Church,but I believe in religious freedom.And I believe in you.And if I\\'m successful,the church bells will ring freely again,and our girls,\\nthey can continue their catechism.You are really considering this?Yes.Tulita, I have asked them\\nfor 3,000 pesos a month.That\\'s twice what\\nthe federal generals make.Plus 50,000 in insurance\\nfor you and the girls.They\\'ve agreed to everything.50,000 if you die.I\\'m not gonna die.So you have it all figured out?And where do I and the girls fit in this?Tulita, listen to me.I\\'m dying here.I\\'m a military man.You knew that when you married me.You a Cristero?You are an atheist.Are you awake?Yes.You were right.It would be hypocritical.I\\'m going to turn \\'em down.You may have nothing you believe in, but I do.I believe in what you\\nwould be fighting for.Maybe by doing it, you will, too.Just come back to me, General...to us...to the loving man I married.I promise.The American secretary of State--Como se llama el gringo ese?Mr. Kellogg.Kellogg...is making the outrageous remarkthat Bolshevik forces\\nare at work in Mexicoand stating\\nthat we have to guaranteethe life and property\\nof every U.S. citizen in Mexico.What does he think I am?Mexico will not tolerate\\nforeign governmentsmeddling in our internal affairs.Thank you for coming.Not at all.Dwight, do you speak any Spanish?Just a little.Look, I\\'ll be blunt.Our ambassador to Mexico\\nhas botched things, badly.You revamped the aviation policy.You\\'ve been General Pershing\\'s\\nright-hand man.I think you can handle\\nambassador to Mexico.Cal. Cal, my dear friend,\\nI\\'m honored.Don\\'t answer now.Think about it.Talk it over with Elizabeth.What\\'s the real story?President Calles is repealing\\nthe Bucareli Agreements.50 years, and our oil concessions\\nare finished.And what would you like me\\nto do, Mr. President?What you always do.Fix it.Let\\'s be frank.You called them Bolsheviks.I was simply\\ncalling a spade a spade.Would you have us just roll over\\nand let them steal our oil fields?And just how do you\\nthink offending themis gonna help our cause?President Coolidge\\nwants a diplomatic approach.I\\'m convinced he\\'s right.Half of Europe just became\\nthe Soviet Union.We need Mexico\\nin more ways than one.Well, I warn you from experience\\nthat there\\'s no negotiating with Calles.Thank you for your assessment\\nand your advice,but I am the current\\nambassador to Mexico.The results of your tenure\\nspeak for themselves.Now, why am I getting all this pressure\\nfrom the Knights of Columbusabout this conflict between Calles\\nand the Church?Conflict?Oh, that\\'s nothing.We\\'re Cristeros, and we\\'re taking\\nthe gold off this train.Viva Cristo Rey.You see?Que viva.It\\'s all right. Stand aside.That\\'s it.Excellent, Pablo.We are only after the gold.We are Cristeros.Don\\'t be afraid.Get the passengers off the train.You did it, Pablito.Well done!Pablo! Pablo!Pablo.Pablo. No, no. Pablo.Aca.Francisco.Francisco!Take the dynamite.\\nBlow the safe.Clear the people from this area!AndalÃ©! Forma fila!MuÃ©vase! MuÃ©vase!Clear this area!\\nWe\\'re blowing the safe!Camine! Camine!Come on.Vamonos!It\\'s lit, sir.Muevete! Muevete!Are all the passengers out?Are all the passengers out?Yes, sir, they are.Then what are you waiting for?Set fire to this train!AndalÃ©! Apurate!HÃ¡gale! HÃ¡gale!We got it, all of it.Fuego!These so-called Cristerosburned hundreds\\nof innocent people alive.The Mexican government has proofthat the Roman Catholic Episcopate\\nordered this atrocity.Bishops have agreed\\nto leave the country,avoiding responsibility,\\nand abandon Mexico.General, everything\\'s ready.You can communicate to troops\\nin any area through us.Our best undercover operative\\nwill accompany you.This is for you.And viva Cristo Rey.Caballeros,\\nGeneral Enrique Gorostieta.And what\\'s this catrin you hirelike you hire a whore\\ngonna do for us?Who is this ranch handwho has already decided\\nthat his military strategyis better than that\\nof a twice-decorated generalwho fought with Huerta?Why should we trust you?Because I know\\nhow to lead an army.This is not about killing 14,\\nVictoriano Ramirez.It\\'s about winning the war,\\nand war is chess.Teniente.I\\'ve been following this war very closely.The federales, they control the trainsand the towns the trains go through.The outlying towns\\nand villages will be ours.There will be no reason to fightlined up in front of each other\\nlike ancient knights.We will fight with lightning\\nattacks from the wings,and before they know\\nwhat happened to them,the Cristeros will be gone.We will not attack from one side,but from two and sometimes three,like a jimador and his machete.Understood?How many armed men\\nand cavalry do we have?General Vega.I know who you are.I have 4,000 men and 100 cavalry.Good.General Pedroza.I have 2,000 at your service,\\ncomandante.I have 700 armed rancheros\\non horseback,and I will command my own men.And you will take orders from me.Like hell, I will.Then why are you here?I don\\'t know.Well, I do.You wanted to meet me.You knew that we needed\\na central command,and you wanted to see\\nwhat kind of man I was.So I will tell you,and I will tell you all.I am a veteran of two wars,and I was promoted to general\\nwhen I was very young...for a specific reason,because I have a gift.Yes, I have a gift--\\nfor military strategy.And he\\'s humble, too.I am now the commander\\nof this army.If you don\\'t show respect,\\nyou can go.Now.Go.Go to the hills,\\nand continue to fight.Raid villages until you\\nare shot or hanged.Go.So you stay.Good.General Vega.The entire world has heard\\nabout the priestwho burned people alive.You gave Calles exactly\\nwhat he needed,a way to demonize us,so now public support for our cause\\nhas been severely compromised.Those are more of Calles\\' lies.Lies?They have raped and killed women\\nin front of their children,marched them for days and days,Ieft them to die in corrals\\nlike diseased cattle.They have taken priests--So you\\'re here for revenge?Is that it, Padre?Is that why you\\'re here?Because if you are,\\nyou can go homeand pray to God\\nthat He may forgive you.Because we are now an army.We are an army fighting for God\\nand for the Church...and for absolute freedom.We must work together,me and you.We might die together,me and you.But we will fight with honor...and dignity...and with cunning...and by the grace of God...we will be victorious.Viva Cristo Rey.God bless you, Father.Now all the devils burning in hellwill enjoy your art.Stop!- Please, sir, stop!\\n- Stop what?Mayor Picazo is my padrino.Mayor Picazo knows we are here.Please, sir, I\\'m begging you.Get out of here.Get out of here!Padrino! They have Miguel.They\\'re going to kill him.I know.I know, Jose.I know, uh--\\nI know all about him.He is a well-known Cristero.He killed a federal sergeant.They\\'ve been waiting for him\\nto come backto that subversive father of his.But his father never did anything.Don\\'t think I don\\'t know\\nwhere you were last night.And I saved your life this time, Jose,but I\\'m warning you.These are dark times.I won\\'t be able to do it again.Now get out.We\\'re going to join the Cristeros.Cristeros.How?They\\'ll say we\\'re too young.They won\\'t take us.Not if we tell them\\nthey will kill us here.Come on, Lalo.You and me,together.Not ours.Where did you find it, son?There.Someone\\'s smuggling ammunition.- Check the station.\\n- Open your bag.What\\'s going on?They\\'ve raided and closed\\nevery one of the League offices.Many have been arrested,and God knows how many\\nhave been tortured or killed by now.We need your help.I can\\'t help you.The more and more I think,\\nAnacleto was right.All this violence\\nhas gotten us nowhere.I understand.But I need you to take\\nthis to Gorostieta.No, Miguel.Adriana, this is critical,contact information\\nfor all our principal members.Without this, there will be\\nno central command.You would go without saying goodbye?I can\\'t stay here, Mother.Not while my friends and brothers\\nare joining the Cristeros.I need to fight.Que Nuestra SeÃ±ora de Guadalupe...te bendiga, mi amor.May she watch over...and protect you.T ell Papa I love him.You will need a horse.Are you ready?Let\\'s go.Calles\\' revenge.Revenge for what I did.Yes! Revenge for what you did!Teniente.General.These Christians must be buried.Today we will become\\nan army of gravediggers.You think it suits me?Well...anything that covers that face of yours.- Mm.\\n- Gracias, seÃ±ora.De nada. De nada.Oh, it must be SeÃ±ora Hernandez\\nneeding her medicine.We are eating.People count on us, Jorge.Just a minute.Good evening.I need some medicine for my son.\\nCan you please help me?Of course, dear boy.Uh, give me one second,\\nand I\\'ll get the keys.Thank you.The police are here.Let\\'s go. Quickly.I\\'ll handle the door.To the passageway.- No, Anacleto. No.\\n- Hey, hey, hey.I\\'ll be right behind you.- No, Anacleto.\\n- Go.Go! Go! Go!It\\'s very late. Can you please\\ncome back in the morning?I\\'m sorry?Open the door.Anacleto Gonzalez Flores?Or is it Don Jose?I am Anacleto.We know exactly what\\npeaceful work you\\'re doing.We hope your friends learn\\nfrom your mistakes.May God bless\\nand forgive you, sir.I do.Jose?Yes?Do you ever wonder about God?Yes.I\\'m scared.Me, too.But Jesus is watching over us, Lalo.Since when did you become a priest?I\\'m no priest.But I believe it.I know it.I know it.Good night, Jose.Good night.Quien vive?Viva Cristo Rey.Get down.Stomach!Down!Hold the positions.We want to see the general, sir.He\\'s too busy to talk to you.Turn around and go home.We won\\'t leave until we\\ntalk to the general.Go home, now!Teniente!Who wants to talk to me?These boys, sir.Go. Now.Go. Let\\'s go!Rapido!Why are you here?We want to be Cristeros, mi General.And why do you want to be Cristeros?The padre of the church of Sahuayo...was killed...in front of me.He was teaching me to be an altar boy.Marta! Get these young men\\nsomething to eat!Si, mi General.Go.Gracias, mi General.You must be hungry.Come on.Get up!War is no place for bums.Enjoy.General, can you teach me to shoot?It would not be right in the eyes of God\\nto make you soldiers.We can fight.Yes, I know you could fight,but it\\'d be better for you\\nto serve the causeby helping out around the camp.What I need is for you to show methat you\\'re good workers\\nand that you\\'re disciplined.Like this?May the body\\nof Our Lord Jesus Christpreserve your soul\\nunto everlasting life.May the body\\nof Our Lord Jesus Christpreserve your soul\\nunto everlasting life.May the body\\nof Our Lord Jesus Christpreserve your soul\\nunto everlasting life.Amen.You need to confess first.Wouldn\\'t He already know?You should confess.May the body\\nof Our Lord Jesus Christpreserve your soul\\nunto everlasting life.Un honor conocerlo.Good to have you here.Thank you.Mmm.You like Mexican food?Well, don\\'t get much of it\\nin New Jersey,but this, just delicious.It\\'s called mole poblano.It\\'s made with chocolate.Chocolate. Hmm.One of Mexico\\'s pre-Colombian\\ngifts to the world.Oh, this is magnificent.Thank you. What are\\nyour impressions of Mexico?Well, I\\'ve traveled in Mexico\\nnumerous times,and, uh, you know,\\nI\\'m always charmed.And it\\'s--it\\'s interesting,invariably I discover something\\nthat connects our two countries,chocolate and petroleum\\nbeing two of them.American oil companies have been\\ngranted a 50-year concessionthat I consider very generous.Please sit.Well, I understand there are some\\nin Washingtonwho don\\'t see it that way.We\\'ve been following your war\\nwith the Catholic Church.I would hardly call it a war.Terrible, what happened on the train.They were led by a priest.What does that tell you about\\ntheir so-called moral superiority?51 people burned alive.Barbaric.But surely that doesn\\'t represent\\nthe entire Catholic population.In my experience, it\\'s small groups\\nof extremists that start wars.In my experience as a revolutionary,a small group of determined men\\ncan bring down a government,and that is why every Catholic aggression\\nmust be responded to immediately,forcefully, and without hesitation.And if we continue talking politics,\\nwe\\'re gonna ruin our digestions.Ambassador, salud.Salud.Bienvenido a Mexico.Hey!- Victoriano.\\n- Eh?Don\\'t go through the canyon\\nto Tlaquepaque.It\\'s a trap.How do you know that?My scout was there yesterday.Let\\'s just say it\\'s a gut feeling.An ambush is what\\nI would do if I was them.Let me ask you something, General.I\\'m just curious.If we die, if you lose this war--We\\'re not gonna lose this war.If you lose this war,do you still get paid all the money?Or do you get, like, half?I\\'m just curious.You want something from me, Flaco?If we die, we all die,but my family will be taken care of.That\\'s very good for your family.We\\'ll go through the canyon.Of course you will.Go with God, then.Hyah! Hyah!Mi General,why did you let him\\ndisrespect you that way?Up in the rocks!They\\'re up in the rocks!Take cover!Que viva Cristo Rey!Wait here!Viva Cristo Rey.Que viva.Hyah.Muevanse, muchachos.Jose!Mi General.Chamaco\\'s very happy to see you.He\\'s very tired.I heard you saved Victorianoeven though he said those things.A man like Victoriano,\\nrespect is won.Look at him. Come here.Look how beautiful he is.He\\'s a Friesan.His name means \"little child.\"He\\'s a legendary war horse\\nfrom northern Europe.In the Middle Ages, he would carry\\narmored knights and kings into battle.His owner gave him to us\\nspecifically for our cause.He\\'s the only one\\nof its kind in all of Mexico.Go.Say hello.What\\'s it like to ride him?You tell me.He\\'ll need to be exercised\\ntomorrow morning.But you have to be gentle on the reins.\\nHe has a very sensitive mouth.And he\\'s very fast.He loves to run,\\nso you have to hold on tight.Hey, Chamaco.Bello Chamaco.But what\\'s it like to ride him?It\\'s like being close to heaven.Jose.I\\'ve never had a son, but if I did,\\nI would want him to be just like you.Que viva Cristo Rey.Que viva!Bueno....meijor fortificacion.Pero cuanta gente\\ntenemos en esta area?Aqui en esta area, tenemos\\nunas dos mil tropas--Senor Presidente.Mi General Ortiz\\nand almost 500 men are dead.Ortiz?That\\'s impossible.Who told you that?A counterambush, sir.Cristeros hired Enrique Gorostietaas commander\\nof all the Cristero forces.General Gorostieta is behind this?He fought with Huerta, sir.I know.I know that.What I don\\'t knowis how could someone like Ortiz\\nbe so incompetent?Gorostieta.His treason will not be\\nforgotten nor forgiven.Do you understand?Go to Los Altos immediately.Bring all the men you can.Yes, Mr. President.Go.Go!Gorostieta is back in politics?Yes, sir.But I know him.His heart is not in this.Find out what he really wants.What he--Porfirio Diaz used to say,\"A dog with a bone in his mouthdoesn\\'t bark and doesn\\'t bite.\"In politics, everything has a price.Go find his.How was the ride?Like flying, sir.Come here.Tomorrow morning,\\nI\\'m going to lead the men into battle.Want to carry the flag?It would be an honor, sir.We leave at first light.Today we are gonna\\nsend a message.We are gonna send a message to Callesand to the rest of the world...that freedom is not just for writersand for politicians and--\\nand for fancy documents!Freedom--Freedom is our home,our wives, our children, our faith.Freedom is our lives...and we will defend it or die trying!It is not only our duty to defend it,but it is our right!You must remember that men\\nwill fire bullets,but God decides where they land!Que viva Cristo Rey!Que viva!- Que viva Cristo Rey!\\n- Que viva!- Que viva!\\n- Que viva!My dearest Tulita...today was a magnificent day,and not simply because\\nwe routed the federalesin our greatest victory yet.There is a change\\nin the spirit of my men,a transformation\\nI can see in their eyes.They finally believe\\nwe can win this war.I know the federales\\ncan sense this, too.The scent of fear now blows\\nfrom their camps.We must strike them harder now,push them backso the people will be emboldened\\nto support us in the cities.Then Calles and his army\\nwill have nowhere to hide.My strategy cannot fail us,and I will be home before long.Keep me close in your heart, my love,and I will see you again tonight\\nin my dreams.This--This warhas Americans and other foreigners\\nreluctant to do businessor even visit,and I wonder if...you can see your way\\nto some kind of compromise.No.But if your country and my country\\nwould strengthen their ties...this could end very quickly.That\\'s not what I had in mind.Actual military support is--\\nof course, is out of the question,but I think a provision could be madefor the sale of American\\nmachine guns and aircraft.When can I get the planes?Well, Mr. President,first we need the gesture of goodwill.Now, I think a different positionon American petroleum interests\\nwould go a long way.I will bring your generous offer\\nto Congress.Forward!Mi General, here\\'s my horse.Hey. Hey, what are you doing?Come here. Come on.\\nGet on the horse.You\\'ll be faster alone, mi General.What are you doing?\\nGet on the horse.Sorry, mi General.Get on the hor--Jose!\\nThey\\'re gonna kill you!Get on the horse!I\\'ll be fine, mi General.Stay low, Jose!I\\'ll come back for you!- Take cover!\\n- Do it!Viva Cristo Rey.Que viva.Jose!You took his horse?You took a boy\\'s horse?He refused to get on.\\nIt was either him or me.Is he dead?I don\\'t know.I looked for him myself.He wasn\\'t among the dead.I think he either escaped to the forest\\nor he was captured.Send two men. Search for him.I already sent men to the forest.He\\'ll be all right.He\\'s braver than most men.This is true.Leave me alone.Get my horse ready.Oh, God.Victoriano.That is my boy.We let him down.He inspires me,\\nand we let him down.This is, um--Here.I found that...where I left him.That was his.Jose!Jose!Jose!Jose!Jose!Thank you.How are you?Not good.A scout tells us that General Rodriguez\\nis heading towards Tepatitlanto set up headquarters.This will be one of the most\\nimportant battles of our struggle.I\\'m entrusting it to you...with Pedroza and Victoriano\\nunder your command.I\\'m ready, Commander.You, Pedroza and Victoriano\\nwill be in Tepatitlan in two days.We can pull some more troops in.If you get there first,\\nit will not be necessary.You go into the city.You look for vantage points--buildings, rooftops, behind walls,sheltered places.There will be not one Cristero in sight.Padre, can\\'t you see the gun?We have to attack now.Hyah!What the hell is he doing?Fuego!Catorce!Did we get the--Did we get the machine gun?Yes.Yes.Yes. Yes.Okay.Viva Cristo Rey.Que viva.In nomine Patris\\net Fili et Spiritus Sanctus.Well done, Victoriano.Ah, Lalo.- Lalo, are you a strong rider?\\n- Yes, sir.I want you to ride\\nlike the wind to Sahuayo.Find out if Jose is there.You report back to me\\nas soon as possible.Yes, sir.You\\'re only alive because\\nthe capitan knows your padrino.Are they going to kill us?I don\\'t want to die.I\\'m scared, too, Lorenzo.This is what happens when you don\\'t\\ntell me what I need to know.Pull.No! No!Muevete.Get out!I\\'m gonna take you home, Jose.I\\'m gonna take you home.Just--Just say the words.\"Death to Cristo Rey.Long live the federal government.\"No, Padrino.They\\'re just words.I--I can\\'t, Padrino.Just f-for your mother.Viva Cristo Rey.Your luck has run out.- Bishop Diaz?\\n- Yes.- Bishop Ruiz?\\n- Yes.Dwight Morrow.\\nWhat a pleasure.The pleasure is ours,\\nMr. Ambassador.Would you care for some tea?Please join us.Oh, superb, superb.The prospects of the trip\\nhave improved already.Mr. Ambassador...who actually invited us?It\\'s important to everyone.And I\\'ve been working\\nwith President Callesto try and find a solution\\nto this madness.We are ready to listen\\nand to bring the message to Rome.Well, I know Rome\\nand the top prelateshave not publicly claimed support\\nfor the Cristeros,but neither have they disowned them.And in this situation,\\ntheir silence is deafening.This whole thing has been--It\\'s been an unnecessary tragedy.And Calles himself sees that now,and he\\'s ready to find a compromise\\nwith the Church.What is critical is that we reach\\nan agreement soonso that the killings stopand services can begin again in peace,and with peace comes\\nstability and prosperity.Peace and stability, Mr. Ambassador?Gentlemen, would you excuse me\\nfor a moment?Of course.Jose.Lalo.The general sent me\\nto see if you were here.You have to go.La Guada could see you.Hold on.I\\'m in God\\'s hands, Lalo.Go. Before they see you.A complete pardonfor the entire Cristero army?What should we do with\\ntheir leadership?Give them a parade with confetti\\nall the way up to Chapultepec Castle?Well, the pardon must be universal,specifically including the leadership,or there won\\'t be an accord.How many men did you lose\\nwith General Rodriguez in Tepatitlan?5,000? 6,000?Just how many more\\nare you prepared to lose?And Rome?\\nWill it accept the other terms?I believe I can arrange a meeting\\nwith the bishopsto confirm their support.Before I give you my answer,there is something I need to do first.What\\'s that?Go see an old friend.Frankly, I thought you would not come.You came to me.This is Cristero country.This is Mexico, Enrique.Please join me.How\\'s the family?Your wife, Tulita?She\\'s very excited.Church bells will be\\nringing freely very soon.Salud.Viva Cristo Rey.Your war is coming to an end very soon.You\\'re here to concede?Not quite, no.It\\'s not my war.It\\'s your war.You declared war on freedom.I know you for a long time,\\nand I know you\\'re not a fool,so you must know this war\\nis not about freedom,and it\\'s not about religion.It\\'s about who is going to decide\\nthe fate of Mexico and its people.Well, the people of Mexico\\nhave spoken.They did speak when they elected me\\nPresident, not you.I run things in this country.Not for long.An agreement is being discussed.Mexico and Rome\\nare going to make peace.An agreement?No one wants this war anymore, Enrique.Mexico is bleeding on its own fields.Mexico is hanging from telegraph poles\\nfrom Monterrey to Veracruz.Of course you need an agreement.But freedom has no compromise.By definition, it is absolute,and that\\'s why we will be victorious.Keep your agreement.Please spare me\\nyour rhetorical idealismand tell me,\\nwhat do you really want?Absolute freedom.Is that in the agreement?The agreement is all but sealed.This is yours, your agreement.\\nIt\\'s not ours.You\\'re holding your fate in your hands.The fate of Mexico,the destiny of Mexico...it\\'s in God\\'s hands,\\nnot yours or mine.Que viva Cristo Rey.The American Ambassador Morrow\\nhas made a preliminary agreementbetween the government\\nof Mexico and Rome.An agreement?\\nWhat kind of an agreement?The Church has been asked\\nto forgo half of its demands.In return, the government will loosen\\nsome restrictions on the clergy.What does that mean exactly?The extreme laws will be rescinded.Others will be...officially unenforced.And then what?With Rome\\'s blessing,the church bells could be\\nringing again within a month.My brother died for this.For what?Mi General,\\nwhat should we do?We will defeat this government,we will overthrow Calles,and we will establish\\na democratic governmentthat respects\\nthe rights of the people!Especially the basic right\\nto worship God in peace.And with God on our side,\\nwe will prevail.I wish I had your faith.Jose\\'s faith.I don\\'t know where to find it.If your heart\\'s open,it might find you.# Entre el cielo y la tierra ## Entre la luz... #In a few seconds,\\nyou\\'re gonna beg meto let you spit on Cristo Rey.Jesus nos da fuerzas!Do you have anything to tell me?Viva Cristo Rey!Viva Cristo Rey!Viva Cristo Rey!#...y sÃ³lo mi corazÃ³n #And what about going through Colotlan\\nto get to get to Tlaltenango?No, better through Aguascalientes.\\nIt\\'s safer.General! They have Jose.They\\'re going to kill him.- In Sahuayo?\\n- Yes, sir.Teniente, you plus 1 0 men come with me!- The rest, return to camp!\\n- Si, mi General.Desmonte. Vaya.10 caballos y 10 jinetes\\ncon el General.El resto se regresa\\nal campamento.  Ya!Ho! Hah!# Entre el cielo y la tierra ## Entre la luz y la oscuridad ## Entre la fe y el pecado ## SÃ³lo se encuentra mi corazÃ³n ## EstÃ¡ Dios y sÃ³lo mi corazÃ³n #J ust say the words.You can go home.I love you.Viva Cristo Rey.I\\'m going home.Why couldn\\'t I save him?You tried.What kind of God\\nwould allow that to happen?God allows us\\nthe freedom to choose.Some choose to be evil.But God can take even\\nthe most horrific eventsand use them for good.Like the cross.Maybe Jose wasn\\'t supposed to be saved.How could you even say that?He--He was just a little boy.He had a whole life in front of him.Even as a boy...he was a martyr.We never know what God has in mind.What God has in mind?What does He have in mind?That Rome should turn its back on us...and all the people that have\\ngiven their lives for Him?That\\'s what He has in mind?Who are you gonna obey?Rome or me?I am a priest first, mi comandante.You can still be a priest,\\nafter everything you\\'ve done?I will always be a priest.And I will pray every day...for our merciful God to forgive me.What about me?Will you pray for me?Will you pray for what I\\'ve done?Better pray hard.Check.I resign. I\\'m tired.I miss my wife Tulita and the girls.This young man died for us!Viva Cristo Rey.Vega!How many?I don\\'t know.I want to confess.- Now?\\n- Now.We need to make a run for the horses,\\nget to a safe position.Let\\'s go around the back.Are you a priest first, or aren\\'t you?Didn\\'t you say not to worry about\\nthose who can kill the body,but those who can kill the soul?It was something like that.So... you were listening.Ego te absolvo a peccatis tuis,in nomine Patriset Fili et Spiritus Sancti.Amen.Padre, this is between you and me.And Him.They\\'re everywhere!- They\\'re all on the roof.\\n- Come on.Not for long.Bullets.How are you feeling?Viva Cristo Rey.Viva Cristo Rey!Follow me.Disparen!Ready?Load up.Padre, can you confess yourself?No.Then I will try.Padre Vega is a good man.He served You well,\\nas well as he could,and that\\'s all anyone can ask of us,so forgive him...and have mercy on us both.Amen.Padre!Okay, stay with me.Stay with me. Stay with me.Teniente!Gather the horses.I want the men and Padre Vega\\nout of here immediately.Okay, talk to me.Stay with me. T alk to me.Your confession...You make a better general\\nthan a priest.Mi General.Okay, here we go.Teniente, what they want is me.Get the men back to El Lucero.And get Padre Vega to a doctor...- and a real priest.\\n- Mi General--Do as I say.Padre, que viva--Padre! Padre!Que viva Cristo Rey!Que viva.Que viva!Cristeros!Viva Cristo Rey!Fuego directo!We never know\\nwhat God has in mind.You cannot fight for something\\nyou don\\'t believe in.I believe in religious freedom,\\nand I believe in you.God allows us\\nthe freedom to choose.I believe in what you\\nwould be fighting for.Maybe by doing it, you will, too.God can take even the most horrific events\\nand use them for good.Viva Cristo Rey.Que viva.# Entre el cielo y la tierra ## Entre la luz y la oscuridad ## Entre la fe y el pecado ## SÃ³lo se encuentra mi corazÃ³n ## EstÃ¡ Dios y sÃ³lo mi corazÃ³n ## Dios y sÃ³lo mi corazÃ³n #',\n",
              " 'Shh shh shh.This is a story\\nfrom long ago...when the great mammoths\\nstill roamed our lands.It\\'s the story\\nof my two brothers and me.When the three of us\\nwere young...we were taught that\\nthe world is full of magic.The source of this magic...is the everchanging lights\\nthat dance across the sky.The shaman woman\\nof our village told us...that these lights are\\nthe spirits of our ancestors...and that they have the power\\nto make changes in our world.Small things become big.Winter turns to spring.One thing\\nalways changes into another.But the greatest change\\nI ever saw...was that of my brother...a boy who desperately\\nwanted to be...a man.-Get down!\\n-What?Get down - get down!Kenai!Aah! Uhh! Whoo!Uhh!Never try to milk a caribou.Uhh!No, no. Don\\'t, don\\'t.\\nNo. Come on, don\\'t. No, no, no.Hey, will you two knock it off?That\\'s all right, Sitka.After today, he won\\'t treat me\\nlike that anymore.Oh, right--\\nthe big manhood ceremony.It doesn\\'t matter\\nwhat the spirits say.You\\'ll always be\\nour baby brother.Oh, yeah?\\nWell, wait until I get my totem.-Baby brother.\\n-Aah!Hey, I said knock it off.Now, the quicker\\nwe get these fish...the faster we\\'re going\\nto get to your ceremony...so let\\'s all just try\\nand get along for a few hours.-OK, Denahi?\\n-Whatever you say.-OK, Ke--\\n-So, what are we waiting for?Aw--Uhh.-Whoo!\\n-Whoo!Uhh!Whoo! Ha ha ha!Ooh!-Yay! Kenai\\'s back!\\n-Kenai!Kenai , are you excited about\\ngetting your spirit rock today?It\\'s not a rock.\\nIt\\'ll be my totem.Ooh.Yeah, I\\'ll probably get,\\nlike, a sabertooth tiger...for bravery or strength\\nor greatness.You know,\\nsomething that fits me.How about a mammoth\\nfor your fat head?Just make sure\\nyou get that basket tied up.Don\\'t worry.No stupid bear is going to get\\nanywhere near this fish.Just tie it up.Just tie it up.She\\'s back!\\nHey, everybody, Tanana\\'s back!Come on!Come on, Kenai, let\\'s go!Come on, come on.Tanana\\'s got your rock!\\nCome on!-Tanana.\\n-What?-Tanana.\\n-What?Tanana. Ha ha ha!Well , hello there, sweetheart.What a big girl.When each of us comes of age...the great spirits\\nreveal to us...a totem that helps guide us\\nthrough our lives.Some of us use courage\\nto guide us.Ha ha.Others, patience.And some of us, beauty.Kenai...you nervous?Whew. Excited.Ooh, you should be.\\nIt\\'s a good one.Kenai,\\nI have been to the mountain...where the lights\\ntouch the earth...and the great spirits have\\nrevealed to me your totem.To become a man, your actions\\nmust be guided by one thing.Your totem is...Love.-What?\\n-Yes, love.The bear of love?A love that connects and unites\\nall living things.-Who wants to trade?\\n-There is no trading!Uh, Kenai...Love is the most precious\\nof totems.It reveals itself\\nin unexpected ways.Let love guide your actions.Then one day, you\\'ll be a man...and will place your mark\\nnext to those of our ancestors.and will place your mark\\nnext to those of our ancestors.Yeah!Oh...-There he is.\\n-Ohh.Ha ha! Come here, loverboy.-Uhh. Leave me alone.\\n-Aw, Kenai, wait.-Uhh.\\n-I\\'m sorry.What?Your totem--\\nI think it\\'s really great.-You do?\\n-Yeah.-And I made you something.\\n-Really?Now when you skip around\\nloving everybody...you\\'ll smell so sweet.-Ugh. Uhh!\\n-Well, isn\\'t this nice?Instead of fighting, you\\'re\\ngiving each other flowers.Yeah, isn\\'t it lovely?He\\'s so in touch\\nwith his totem already.Uhh!Hey, dog breath,\\ngo take care of the fish.Sure.\\nKenai loves me, he loves me not.Kenai loves me, he loves me not.Kenai loves me, he loves me not.Kenai.Someday, I\\'m going to just...He\\'s just such a--Hey, bonehead, just because\\nhis totem is wisdom...doesn\\'t mean he\\'s wise.I mean, look at him.Kenai loves me, he loves me not.Hey! Whoa!Hi, Denahi.Oh, hi. Ha ha.-Aah!\\n-Ooh.-Let go!\\n-Yeah...I guess the spirits messed up\\non both of our totems.You know, I felt the same way\\nwhen Tanana gave me mine.-Get out of here.\\n-No, really.I said, \"the eagle of guidance?\"\\nWhat does that mean?Ha ha.\\nBut now that I\\'m older...I know it\\'s about\\nbeing a leader...and keeping an eye on you two.I just want to get\\nmy handprint on that wall.Just be patient, Kenai.When you live by your totem,\\nyou will.-Really?\\n-Guarantee it.-Really?\\n-Guarantee it.But, come on. The bear of love?I mean,\\na bear doesn\\'t love anyone.They don\\'t think. They don\\'t\\nfeel. I mean, they\\'re--They\\'re thieves.You didn\\'t tie it off, did you?Uh...You should\\'ve got\\nthe totem of pinheads.Knock it off.\\nWe\\'ll just make another basket.We? Oh, no.No. It took me two weeks\\nto make that basket.You get loverboy to do it.He\\'s the one that\\'s\\nmessing things up all the time.Typical Kenai.All right.\\nI\\'ll go get your basket.Kenai, wait. Kenai!What?Uhh. Unh! Unh!Unh!Kenai!Kenai!-Where\\'d he go?\\n-lf we\\'re lucky, far away.Huh.Aah!Uhh!Kenai!Kenai!Sitka, no!\\nYou got to get out of here!-What?\\n-The bear!-Look behind you!\\n-Aah!Hey, bear, come on! Over here!Come on, bear! Come this way!Uhh.Aah!Denahi! Uhh! Hold on!Come on, pull!Uhh!Unh!Aah! Uhh!Sitka.Sitka!Sitka?Come on!-Sitka!\\n-Sitka!-Sitka. Sitka!\\n-Sitka!Sitka, where are you?Kenai!No.Sitka!Sitka!Help us find you!Sitka!Sitka, where are you?Sitka!-You ready?\\n-For what?We\\'re going after the bear.I know what you\\'re feeling,\\nbut killing that bear is wrong.Wrong?Our brother is dead, and\\nit\\'s because of that monster.I don\\'t blame the bear, Kenai.I see.Killing that bear\\nwon\\'t make you a man.Oh, now you\\'re trying\\nto be wise.I\\'m trying to follow my totem.\\nWhy can\\'t you do the same?You really think love has\\nanything to do with being a man?A man wouldn\\'t just sit here\\nand do nothing.Kenai.Don\\'t upset the spirits.Spirits.\\nThanks for your wisdom.I\\'ve got to stop him.You left too soon, Sitka.Your brothers\\nneed your guidance.Ha.Aah!Aah!Aah! Aah!Kenai.Uhh.Aah!What?Sitka?Unh! Ooh!Uhh! Oh!Uhh! Unh!Unh!No.I don\\'t blame the bear, Kenai.A man wouldn\\'t just\\nsit here and do nothing.Uhh.So, Kenai, you\\'ve decided\\nto join the living.Whoo, that\\'s quite a bump\\nyou\\'ve got there.That must\\'ve been one heck of\\na ride down those rapids, huh?Tanana?Uhh. Ohh.Ooh.Nana, you won\\'t believe this.I was at the top\\nof this huge rock...and all of the sudden, this--Kenai, honey,\\nshh, shh, shh, shh, shh.I don\\'t speak bear.Huh?No.No, no! No!Aah!All right, all right.Aah! Will you settle down?-Kenai!\\n-Oof!Kenai. Kenai, Kenai.This isn\\'t going to work.Kenai, listen to me.Sitka did this.Hmm. Strange.Spirits don\\'t usually make\\nthese kind of changes.Oh. Oh, my, my, my.Sitka must have something\\nreally big planned for you.Yep, yep, yep.You\\'re going to get a whole new\\nperspective on things.Oh. Do you see\\nin black and white or color?Hey, listen to me.You got yourself into this mess.If you want to change, take it\\nup with your brother\\'s spirit.You\\'ll find him\\non the mountain...where the lights\\ntouch the earth.He\\'ll help you make up\\nfor what you\\'ve done wrong.But I didn\\'t do anything wrong.Tanana?Tanana! W-wait!\\nI didn\\'t do anything wrong!I don\\'t even know\\nhow to get there.What happened to them?I don\\'t know.Well, they were\\nright here a second ago...and now they\\'re gone.Yeah.\\nThat\\'s pretty weird, huh?So, you\\'re telling me...you didn\\'t eat them , and\\nyou have no idea where they are?-Uh-uh.\\n-Hey, hey, you.You just talked.J-just back away...\\nreal slow-like.How\\'d you do that?-Aah!\\n-Aah!Are we there yet?Don\\'t make me\\nturn this formation around.Hey, wait, wait, wait, wait!\\nCome back!Hey, wait, wait, wait, wait!\\nCome back!I\\'m trying to find\\nwhere the lights--What\\'s he getting\\nall worked up about, eh?Gee, I don\\'t know. Maybe\\nthe gulls pooped on him, eh?Oh, gee, I think\\nhe\\'s looking over here.-Let\\'s beat it. This way.\\n-No, no, no, this way.Aw...-Thank you very much.\\n-OK, just stay still, eh.Hey, you two.Head down, head down.Oh, gee, I think\\nhe\\'s seen us, eh. Now what?Act like we\\'re not here.-Oh, we\\'re not here.\\n-Shh! What are you doing, eh?-Well, you said to tell--\\n-Don\\'t say anything. Shh.-OK.\\n-I said don\\'t say anything.-Um, excuse me.\\n-Aah!-Please, don\\'t eat us!\\n-You wouldn\\'t like us, eh.We\\'re really gamy.Yeah.\\nEat hoof-for-brains over there.Oh, nice, eh, pine-cone breath.-Crusty tail.\\n-Twig legs.-Sorry.\\n-You went too far that time.-OK, I\\'m sorry.\\n-Guys.Besides,\\nyours is bigger than mine.I\\'m not eating anybody.-Oh.\\n-Whew!That\\'s mighty decent of you, eh.Yeah. Hey, my name\\'s Rutt.\\nThis is my brother Tuke.How\\'s it going, bear?Don\\'t call me that.Sorry, uh, uh, Mr. Bear?No, I mean, I\\'m not a bear.\\nI hate bears.Well, gee, eh?\\nYou\\'re one big beaver.No kiddin\\', eh?Do either of you know where\\nthe lights touch the earth?Y-y-y-y-yeah...No. Uh, no.Sorry, bear. Or beaver.I\\'m not a beaver.\\nI\\'m--I\\'m a bear.No, I mean, I\\'m not a bear.\\nI\\'m a man.-Excuse me?\\n-Ha ha ha.I was transformed\\ninto a bear magically.I--I was lifted into the sky\\nby my brother.Uh-huh...You\\'re crazy!Gesundheit.No, a fruitcake!Are you OK?No! That bear...\\nover there! He\\'s crazy!I am not crazy!Well, who ever said you were?-We understand.\\n-You do?Oh, yeah, yeah, yeah, you see,\\nwe\\'re not moose, either.-We\\'re--we\\'re not?\\n-No. Heh.We\\'re like, uh...\\nwe\\'re like squirrels. Yeah.Oh. Oh, yeah. Beauty, eh?Yeah, well, he--he\\'s actually\\nthe squirrel, eh?I\\'m more of\\na pure-bred wolverine.Look at these cuspids.\\nRrrrraahh!Give him a little room.Uhh. Why am I even talking\\nto a couple of dumb moose?No, we\\'re squirrels, eh?Wolverine.I\\'ll find it myself.-Oh, I wouldn\\'t go that way.\\n-Why not, eh?Uh, well...there was a reason.You brought it up.I\\'m trying to,\\nbut you\\'re talking--Aah! Uhh! Ow! Uhh!Aah! Unh! Ow!So, you think of it yet?Uh, no, but it\\'s\\ndrivin\\' me nuts, too, eh?Ow.Uhh.Psst. Hey.-Is the coast clear?\\n-What?Are there any hunters around?Uh, no.-Aw, good!\\n-Aah!How you doin\\'? Guess you didn\\'t\\nsee the trap, huh?I saw it from a mile away.\\nHa ha.You must be pretty embarrassed.Don\\'t worry.I won\\'t tell anyone.What?You need to get down.\\nLet me help.Wait, wait, wait, wait, wait!-Ow!\\n-Hold still!No, just--ow! Stop that!Uhh! If you just--ow!\\nGive me--Stop it! Uhh!It\\'s no use.The only way to get down\\nis to chew your own foot off.I don\\'t need\\nsome stupid bear\\'s help.I just need the stick.-OK, here.\\n-No, no, no.I\\'ll do it myself. Put it back.No, where you found it.-Oh.\\n-To the left.By the little rock.-Here?\\n-Yes!OK.Boy, that tree is strong, huh?You know, when I was little...I was really into climbin\\'\\ntrees--all kinds of trees.I climbed pine trees,\\noak trees, fig trees...maple trees, uh, birch trees,\\nwillow trees...My eyes were watering,\\nand my tongue was swollen...and from that moment on, I was\\nmore careful about what I lick.Ha! Ha. See?It\\'s all about--uhh--\\nusing your head.Ohh! Uhh!Ooh! That was funny!\\nDo it again!Don\\'t you have someplace to go?-Yeah, the salmon run.\\n-Uhh.Hmm. How about this?I get you down,\\nthen we go together. Deal?Yeah, OK, fine. If you can\\nmagically get me down...I\\'ll go with you to this--this---Salmon run.\\n-Whatever.But if you can\\'t...you turn around, walk away,\\nand never come back...ever.-You swear?\\n-Yeah.-Pinky swear.\\n-Yeah, sure, fine. Pinky swear.But this is a human trap, and\\nyou\\'re just a dumb little bear.So there\\'s really no way\\nyou\\'re gonna be able to--Whaaah!Whaaah!Uhh!OK, so, what I\\'m thinking is...we travel by day\\nand sleep by night.My bedtime is an hour after\\nsunset. Or I think--Run!Yeah, good riddance!Uhh.Denahi? Denahi, you found me!You wouldn\\'t believe\\nwhat a nightmare this has been!Denahi? It--it\\'s me--Kenai!Aah! Aah!Is he gone?-I think he was going--\\n-Shh!Whew.Hello? I can\\'t breathe.Why is he chasing me?That\\'s what they do.But it\\'s not like him.Yeah, well, lucky for him\\nhe didn\\'t find us...\\'cause when I get into a fight,\\nI go all crazy...and I\\'m a raging ball\\nof brown fur.Uhh!I mean, I don\\'t want to brag or\\nnothin\\', but I got some moves.-Oh, really?\\n-Yep.This first one--well, it\\'s just\\na little thing...I like to call...\\n\"The Slasher\"!And this one I like to call\\n\"Flying Fury of Death\"!Uh-huh.-He\\'s coming back!\\n-Where?Typical.Ha ha. Yeah, well, the next time\\nwe run into that hunter--There is no \"we,\" OK? I\\'m not\\ntaking you to any salmon run.What?! But you pinky swore.Yeah, well, things change.See ya, kid.Um...Wait. Uh...The truth is...I got separated from my mom...and now\\nwith this hunter around...Kid, I got my own problems.Come on. Please?\\nCan\\'t we just go together?There\\'s a lot of bears\\nand a ton of fish...and every night\\nwe watch the lights...touch the mountain,\\nand last year--Wait, wait,\\nwhat\\'d you just say?There\\'s lots of bears\\nand tons of fish.No. You know where\\nthe lights touch the earth?Yeah, it\\'s at the top\\nof the mountain...right by the salmon run.You\\'re kidding me.No, no.\\nThey\\'re practically next door.Come on, I\\'ll show you.\\nIt\\'ll be great.I promise to help you escape\\nfrom every trap you walk into.I\\'m not gonna walk\\ninto any more--uhh!--traps.Come on.What do you say?You\\'re sure you can take me...to where\\nthe lights touch the earth?Yeah, no problem.If you slow me down--I won\\'t. I promise.All right.\\nWe leave first thing tomorrow.Phew.And keep all that cuddly bear\\nstuff to a minimum, OK, kid?My name\\'s not kid. It\\'s Koda.-What\\'s your name?\\n-Ohh...Good day.Hey, how\\'s it goin\\', eh?-Beauty.\\n-Beauty.Oh, so, we got a lot\\nto get done today.You want to get started?Yeah, just give me one sec, eh?OK.\\nWhoo-oo-oo.Could you just\\nhelp me crack this?Oh, yeah.-Uhh.\\n-You ready now?-Uh, almost.\\n-Oh, jeez.Just want to do, uh,\\ndog facing forward.-Oh, come on!\\n-Uhh! Good. OK.And...go!Mm...mmm!This is a nice patch here.Oh, gee. Don\\'t--don\\'t--\\ndon\\'t go near this patch here.Somethin\\' went here.Hmm.Ahh...Skinny, fat, skinny, fat...Hey, I\\'ve got a mountain\\nto get to. Come on, kid.I told you before,\\nmy name\\'s Koda.Say it with me. Ko...da.Sure your mom didn\\'t ditch you,\\nKo...da?Hmm.R-Rutt?Go away, eh? I\\'m eatin\\' twigs.-R-Rutt?\\n-Go away.You\\'re breakin\\'\\nmy concentration, eh?W-we should start running.-How come?\\n-Like, now!I can\\'t.\\nI\\'m still digesting, eh?I\\'ll get cramps.Ptoo! Whoa, gee! He\\'s after us!Come on, little brother!Ow! Ooh! Cramp!Actually,\\nif you really want to know...Actually,\\nif you really want to know...how me and my mom\\ngot separated...I was saving this story\\nfor the salmon run...but I\\'ll tell you.It was probably\\nthe fifth or sixth...most coldest day\\nin my entire life.Oh, this sounds good.\\nYou should definitely save it.-You think so?\\n-Oh, yeah--for your friends.Oh.\\nWell, I have this other story--Uh, tell you what.\\nHow about no talking?-OK. Then I\\'ll sing.\\n-No, no, no, no, no.Tell everybody\\nI\\'m on my wayWill you stop it?New friends and new places\\nto seeShh! Koda, stop singing.With--Yes, I\\'m on my wayAnd there\\'s nowhere else\\nthat I\\'d rather beUhh.-Whoa!\\n-Aah!Hey! Hold on, eh!\\nWait--wait up.-How\\'s it going , bear boy?\\n-And , uh , smallish bear.Gee, I didn\\'t know\\nyou had a little brother.-He\\'s cute, eh?\\n-Well, actually, he\\'s just a--OK, there\\'s this hunter, eh...following us, and I was--\\nwe was thinking.If we could maybe just kind of\\nhang out with you guys--Yeah, just hang out.\\nThat\\'s right.Yeah. It\\'d be fun, you know?I mean, if the hunter,\\nwho\\'s going to catch up--Then you eat him.Right. Well, that\\'s what\\nwe was thinking.We lost the hunter\\nback under the glacier.So, you don\\'t think\\nhe\\'ll follow those?They are quite nice.I\\'ve got an idea.OK, this is really weird.Get out, eh. I\\'m driving.When can I have a turn, eh?It\\'s not as easy as it looks.\\nNow, just watch what I do, OK?Well, let\\'s get\\na backseat or something.I look like you hunted me.Hey, come on.Beauty, eh?Beauty, eh?OK, here\\'s how I remember it.If the snow is white,\\nthen it\\'s all right.Yellow or green,\\nit\\'s just not clean.I learned that one\\nthe hard way.Oh, that reminds me.\\nLast year at the salmon run...Oh, that reminds me.\\nLast year at the salmon run...my friend Bucky\\ntotally dared me...but I\\'d heard about\\nthis other cub...who stuck his tongue\\nto an iceberg...and then he started\\nto float away.And so, to save him, they had\\nto, like, rip off his tongue.And so now he has to talk...Iike this all the time and--Do you ever stop talking?Whoa, look.The night rainbow.You can see the spirits\\nfrom here.You know about\\nthe great spirits?Yeah. My grandma\\'s up there\\nand my granddad.Mom says the spirits...make all the magical changes\\nof the world...Iike how the leaves\\nchange color...or the moon changes shapes\\nor tadpoles change into frogs.Yeah, l--I get it.You know, for a change...maybe they could just\\nleave things alone.-What do you mean?\\n-My brother\\'s a spirit.If it wasn\\'t for him,\\nI--I wouldn\\'t be here.You have a brother up there?What happened to him?He was killed by a b--by a monster.What\\'s your brother\\'s name?Sitka.Thanks, Sitka.If it weren\\'t for you,\\nI would\\'ve never met Kenai.I always wanted a brother.So, you want to play I Spy?So, you want to play I Spy?All right. I\\'ll go first.-OK.\\n-I spy something green.-Tree?\\n-Aww.-My turn?\\n-Yeah.OK, I spy something tall.-Tree.\\n-OK.Uh, I spy...something with bark.-Tree?\\n-Aww.OK, I spy something...\\nuh, a vertical log.-Tree.\\n-Yeah.-OK, I spy--\\n-Tree.-Ohh.\\n-OK, my turn.-Tree.\\n-No, I got---Oh, it counts.\\n-I didn\\'t even spy anything.-lt counts.\\n-OK.Tree.Uhh. Let\\'s play something else.Uhh.Koda, uh...come on.-Koda, wake up.\\n-Two more months, mom.Uhh.Hmm.So, where are we?Um...Hmm.Well, which way?Um...I think it\\'s that way.You think, or you know?Uh, that way?Uhh. Why wasn\\'t l\\nturned into a homing pigeon?Come on.Hey, riding mammoths\\nwas your idea.Thanks for the ride, guys.\\nSee you.Lucky for you I\\'ve been lost\\nworse than this before.Last summer, I was digging\\nfor roots with Bucky--Uhh. Enough with the stories.I don\\'t care about the time\\nyou and Binky found...you know, the world\\'s biggest\\npine cone ever.First of all,\\nhis name\\'s Bucky, not Binky.Second, it wasn\\'t a pine cone.\\nIt was a pine nut...and it was huge--\\neven bigger than your fat head.Oh, gee, our big guardian bear\\nis leaving, eh?Yeah, yeah, we better follow.\\nCome on.I--can you swing your leg...-I can\\'t--I can\\'t get off.\\n-Me, neither.OK, you guys! I guess we\\'ll--I guess we\\'ll just catch up\\nwith those guys later, eh?-Ahh. Good trip, eh?\\n-Beauty.You know, I was thinking. Now\\nmight be a really good time...for me to drive, eh?Just relax and enjoy the ride.Yeah. OK.Whee.I\\'m sorry we\\'re lost, OK?Even though\\nit\\'s pretty much your fault.My fault? Uhh. That\\'s it.Just remember,\\nif it weren\\'t for me...you\\'d still be hanging\\nupside down right now.Yeah, well,\\nbetter than being stuck...in the middle of nowhere with\\nyou and your blabbering mouth.\"I\\'m lost.\\nI can\\'t find my mommy.Will you take me\\nto the salmon run?\"Why don\\'t you just grow up?Fine.\\nI\\'ll just go on my own, then.Fine. Go ahead.-Fine.\\n-Fine.Fine.Aww.Koda?Koda.Whoa.Those monsters are really scary.Especially with those sticks.Come on. Let\\'s go.So, you recognize anything yet?So, you recognize anything yet?Or maybe you can\\'t see\\npast my fat head.So, do you really think\\nI have a fat head?Well, if you hunched\\nyour shoulders a little...it wouldn\\'t seem so big.Oh, you mean like this?\\nOr like this?Ha ha! How about this?Oh, my. That was good.Hey, maybe they can\\ngive us directions.-Uhh! Ohh!\\n-Uhh! Ohh!Oh, that clears up the sinuses.-Oh, it does.\\n-OK, OK, OK.-OK.\\n-Hit me again.I think she\\'s looking.\\nHello, sweetie. Ha ha ha.Oh, yeah. She\\'s\\nchecking me out, all right.-What?\\n-Hey, baby.No, no, no. Come on, you nitwit.\\nAre you out of your head?She\\'s looking at me.\\nLook at that.Right. Like she\\'s looking\\nat your ugly mug?My--excuse me, miss.\\nOne second.-It\\'s go time, baby.\\n-Oh, you want to go?-Yeah!\\n-Come on, bring it on.-Horns up.\\n-Hey.-Hold on.\\n-Excuse me.What do you want?-What is that? Who is that?\\n-Just a minute, bear.-Hey, shut up!\\n-Hey, shut up!-No, you shut up!\\n-No, you shut up!-No, you shut up!\\n-No, you shut up!-Hey, will you shut up?\\n-Hey, will you shut up?-No.\\n-Just shut up!Ha. I think their horns\\nare screwed on too tight.Ha ha ha ha.Hey, wait a second.-I know this place.\\n-You do?Yeah.\\nThe salmon run\\'s not far.Ha ha ha.We just have to go through here.What?Hey, are you sure you know\\nwhere you\\'re going?Yeah, yeah, follow me.Uhh!Koda!Koda!Koda?Where are you?-Yaah!\\n-Aah!-Don\\'t do that.\\n-Scared you, didn\\'t l?There\\'s scared,\\nand then there\\'s surprised.And you were both. Ha ha ha.Whoa.Baah! Roar! Raah!Nice try.Uh, you got a little spit\\nright there.Kenai!You\\'re not getting me this time.-No, Kenai, look out!\\n-Uhh!Uhh!-No.\\n-Come on!Waah!Aah! Uhh!Kenai!Kenai, where are you?Aah!Uhh! Uhh!Left, left!\\nNo, no, no, the other left!Uhh! Uhh!Kenai!-Uhh!\\n-Whoa! Whoa!-Unh!\\n-Unh!Aah!No!What are you doing?\\nWe got to get out of here!Aah!Aah!Uhh!-Why do they hate us, Kenai?\\n-We\\'re bears.-So?\\n-So, you know how they are.They\\'re--they\\'re killers.Wait a minute.\\nWho\\'s the killers?-Bears.\\n-What? Which bears?I\\'m not like that,\\nand you\\'re not like that.Well, obviously not all bears.I mean, you\\'re OK,\\nbut most bears--most bears will look for\\nany excuse to attack the human.But, Kenai, he attacked us.You know,\\nyou\\'re--you\\'re just a cub.When you\\'re older,\\nyou\\'ll understand.Fish, fish, fish, fish, fish!Huh?We made it! Ha ha! We\\'re here!-Come on!\\n-What? Koda---Fish, fish!\\n-Hey, what are you--Hey, get away!Ow! Go on, shoo!Uhh! Uhh.Aah!Aah?Hey, you\\'re stirring up\\nthe water, dude.Yeah. Try not to scare off\\nthe fish there, buddy.-Uh...\\n-Tug!Hey, Koda, come here.Ha ha! Look at you.Hey, Tug,\\nhave you seen my mom yet?No, as a matter of fact,\\nI haven\\'t seen her.Ha ha.\\nMe and my friend Kenai beat her.He\\'s with you?Uh, heh. Uh, hi.Aah!Huh. I\\'ve never seen you\\nat the run before.Where are you from?Er, uh...well, l--I mean...And, see, Kenai?\\nThere\\'s the mountain...just like I promised.The lights touch the top\\nevery single night.Ha ha! It\\'s going to be\\na lot harder getting up there...than it was\\nriding those mammoths.-Mammoths?\\n-Are you kidding me?That\\'s kind of weird.Yeah.\\nHe does a lot of weird stuff...Like the way he drinks water\\nwith a leaf.He never sharpens his claws\\non a tree.He\\'s never hibernated before.Koda. Koda!Ha ha. Ahem.\\nCan I talk to you for a second?Excuse us.Hmm.\\nHe\\'s kind of jumpy, isn\\'t he?OK, OK.Koda, l, uh...Uh, I got to get going.Well, when you come back,\\nwe can go and--I--I won\\'t be coming back.What? Why not?Because...Well, it\\'s hard to explain.-You\\'re leaving?\\n-Aah!No. I--I mean, yes.Uh, well, it\\'s just that l--l...\\nI don\\'t belong here.Don\\'t belong?\\nEvery bear belongs here.Ha ha! Come on, buddy.Let\\'s have some fun!Whoo hoo hoo hoo!Yeah.All right, all right. Settle\\ndown, everyone, settle down.We--hey, don\\'t throw\\nyour fish bones over there.Somebody could choke on that.Look, OK, I\\'ll go first.\\nOK, let\\'s see.The most interesting thing\\nthat happened to me this year.Hmm. I\\'d...Oh, I know, I know, I know.\\nListen to this.I\\'d say it was when I finally\\nknocked down that tree...that was blocking the view\\nfrom my cave.Now I got a family of chipmunks\\nstaying at my place.Ahem.Um, yeah. All right,\\nall right, everybody...come on, let me see\\nsome paws in the air.Who\\'s going to be next?\\nCome on.Tug, Tug, I got one!Watch me, watch me.\\nHa. Hey, got you.This year,\\nI lost my dear husband Edgar.Quit telling everyone\\nI\\'m dead!Sometimes\\nI can still hear his voice.I\\'m getting the next one.Hmm.-Oh, yeah.\\n-Oh, yeah.This is it.\\nI got it, I got--uhh!I guess it\\'s our turn.This is the year\\nI met the most gorgeous--No, you\\'re gorgeous.You\\'re gorgeouser.Get a cave.Uhh.If only Edgar was alive.I told you, woman!\\nI\\'m right here!I love you, buttercup.-This has got to be it. Uhh!\\n-Heh. Here you go, Koda.-You got to tell it, Kenai.\\n-What?That\\'s right, Kenai.\\nYou caught it, you tell it.Didn\\'t you play this game\\nwhen you were a cub?-Uh...\\n-Come on, Keno.Ha ha. OK, all right,\\nalready, all right.Uh, you want to know\\nwhat I did this year?Yeah!I went on\\nthe longest, hardest...most exhausting journey\\nI\\'ve ever been on...with the biggest\\npain in the neck I\\'ve ever met.Heh. What do you expect\\nfrom a little brother?Aww!-Ha ha.\\n-OK, buddy, your turn.Ha ha. Let\\'s hear it, Koda.OK, OK. Here we go. Ahem.This year I watched my mom\\nin a life-and-death struggle...against all odds\\nbattling possibly...the most fiercest creature\\non the face of the earth.-OK, who\\'s next?\\n-What?Wait, wait, wait a minute.I think we all want to hear\\nthe rest of that one, Koda.I thought you might say that.\\nHmm, let\\'s see.It was probably the fifth\\nor sixth most coldest day...in my entire life.Me and mom were eating fish,\\nhaving a great time...when all of a sudden,\\nshe pushes me into the bushes...and tells me to be real quiet.She says, \"l smell something,\"\\nso I started sniffing.There was something\\nin the woods...running right towards us,\\ngetting closer and closer.-Ooh! Ahh!\\n-Hmm.And then, out of the trees,\\njumps the hunter!Ahh!And now there\\'s nowhere\\nfor mama to go.The monster has her backed up\\nagainst this giant glacier!Ahh!The monster attacks--pop!But mom\\'s too quick for him.And before he can do it again,\\nshe stands up real big...and yells, \"Go away!\"Aah! Aah!Then mom smells more of \\'em.There\\'s a whole pack\\ncomin\\' right at us!Sitka, no! The bear!She runs out to stop them...before they can get to me.And all around they\\'re\\npoking her with sticks.The whole thing broke,\\nand they fell into the water.There was ice everywhere!She couldn\\'t hold her breath\\nany longer before--pow!She burst out of the water.I\\'ve never been so scared\\nin my life.I\\'m going after the bear.-Koda?\\n-Aah!Whoa! Fell off a glacier?I\\'ve never seen anything\\nlike that.Can you imagine?Kenai.What\\'s the matter, Kenai?Koda, so what happened next?Was she OK?-Unh!\\n-Hey, Kenai, what\\'s wrong?Where you going?She got out of the water OK,\\nbut that\\'s how we got separated.Right after that, I met Kenai.Kenai?Rargh!-Scared you again, huh?\\n-Uh-huh. Yeah.Where have you been?\\nYou look horrible.Koda.My mom says\\nwhen you eat too much fish...-you should just lie down--\\n-Koda.There\\'s something l, uh...y-you know that story\\nyou told me last night?Yeah.Well, l--I have a story\\nto tell you.Really? What\\'s it about?Well...it\\'s kind of\\nabout a man...and kind of about a bear.But...mostly\\nit\\'s about a monster--a monster who did\\nsomething so bad...Koda,\\nI did something very wrong.I don\\'t like this story.Your mother\\'s not coming.No.Koda!Koda!Koda!Koda, I wish I could...If there was--if there\\nwas just some way...I--I\\'d give anything if...I could just...I\\'m sorry, Koda.I\\'m so sorry.I\\'m sorry, Kenai.I don\\'t know\\nwhat I\\'m doing anymore.I need help.Sitka?-Ohh!\\n-Look, I am sorry.If I was driving,\\nthis never would\\'ve happened.Just stop it.You never let me drive,\\nyou never let me do nothing.Oh, trample off, eh?\\nI said I was sorry. Let it go.I can\\'t believe\\nyou totalled a mammoth, eh.Oh, come on. That mountain\\ncame out of nowhere.I\\'m afraid I cannot\\naccept your apology.It was in my blind spot.-Hey, look.\\n-Wh-what?It\\'s that little cub.Gee, eh,\\nsomething\\'s bugging him.Yeah, what\\'s wrong,\\nsmallish bear?Nothing. I\\'m fine.Oh, good. Now, where were we?Oh, yeah. You\\'re a big\\nselfish, reckless hoofer...and you\\'re never gonna change.-What?!\\n-I\\'m fed up with it, eh.From now on,\\nhe\\'s my new brother.You can\\'t do that!Sorry. You\\'ve been replaced\\nwith my dear brother...Gee, I forget your name. What\\'s\\nyour name again, little bear?I don\\'t want any more brothers.See, he\\'s had enough of you,\\ntoo, eh?Aw, come on.\\nI promise I\\'ll change.Trample off.\\nYou\\'ll never change.Being a brother\\nmeans nothing to you.-Of course it does, eh.\\n-Oh, yeah? Like what?What about the time\\nyour hooves froze in the pond?Who sat with you\\nall winter, eh?You did.And who showed you\\nwhere the good grazing is?I mean the really tender stuff,\\nall covered in dew?Now, why do you think\\nI did that, eh?Because l...because I love...dew.Excuse me? I don\\'t believe\\nI heard what you said.I said I love...dew.I love dew, too, eh.-Hey, I can change.\\n-Go away, eh.-Come on. I can change.\\n-Go away, eh. Don\\'t touch me.I can change!Hey! Not--not there.\\nThat\\'s the spot.Like, we\\'ll see you later,\\nsmallish bear.Yeah. Good day, eh.Hey, you know\\nwhat this calls for?A pile of delicious\\nbarley and amberweed...on a cool bed\\nof malted hops, eh?I like it.Sitka! Sitka, are you there?Sitka!Please. Please, Sitka.I don\\'t know what else to do.Sitka?-Denahi.\\n-Aah!Sitka, hurry! Change me back!Where are you, Sitka?Aah!Aah!Raar!Denahi.Denahi, please.Koda?No!Leave him alone!Koda! Uhh!Kenai?Sitka?Koda.Koda, don\\'t be afraid.\\nIt\\'s me.He needs me.You know,\\nhe did look better as a bear.But...Denahi.It\\'s all right, Kenai.No matter what you choose...you\\'ll always be\\nmy little brother.Ha ha!Oh.Did I say \"little\"?Kenai!Ha!My brother Kenai...went on to live with Koda\\nand the other bears.He taught me\\nthat love is very powerful.And I passed on\\nthe wisdom of his story...to our people--The story of a boy\\nwho became a man...by becoming a bear.Hyah! Kwanzaa!So, like, what are you\\ndoing there, smallish bear?I\\'m practicing my moves.\\nWant to see one?Sure, eh.\\nThis ought to be good, eh?Listen to me.-Uh-huh.\\n-Uh-huh.I was a man that was changed\\ninto a bear. No beaver.Man into bear. That\\'s it.Oh, yeah. So...before that you was\\nprobably, like, a goat, eh?Hey, what about\\na water buffalo?No, no, no, he\\'s a rabbit, eh.Look at his ears\\nand his furry little feet.-Watch out for the rabbit, eh.\\n-No way, eh.OK, now, everyone.Take a--\\nbig inhale, eh?And then on the--\\non the exhale...shift into\\nsalutation to the sun.-No, you shut up!\\n-Uhh! Uhh!-No, you shut up!\\n-Uhh! Uhh!-Aww...\\n-Uhh.Heh heh.\\nHow you doing over there, Koda?Oh, pretty good.-Uhh...\\n-Arr!Uhh.Ahem.\\nIn accordance with...all federal and state\\nwildlife regulations...no fish were harmed during\\nthe making of this film.Aah!\\nHa ha ha ha ha ha ha!No! He\\'s going to eat me!\\nAah! Aah!Heh heh heh. Cut. Cut.Somebody help me!Ooh!',\n",
              " 'Do you know the difference\\nbetween being freeand being high?Neither do I.Back in Texas, I knew everything.Because I\\'m from Texas.But that was before\\nany of this happened.It was a writing class\\nin junior college.We were studying\\nthe elements of story...The acronym spells \"sucker,\"sort of.If you grew up in the setting of Houstonbelieving the Astrodome\\nwas visible from space,you, like me, are a sucker.If your parents have a conflictand your pothead father says,\"I\\'ll never leave you, little man,\"you, like me, are a sucker.And if it takes you 19 years of Sundays\\nto figure this out,you, like me,\\nare a Southern Baptist.A subtitle made possible by R3V0LV3R.Hey, your mom asked me\\nto church on Sunday.Something about going-away ceremony?You want to come to that?I do if I\\'m sitting next to your mom.Aw, here we go.She ain\\'t cheatin\\' on me, is she?Uh, these jokes never get old, Jordan.No. I bet it\\'s that Mexican gardener.I seen him weed-whacking\\noutside your apartment,taking his shirt off all slow,like in the movies.Like if there\\'s a sprinkler on him.Okay. I get the picture.Hey, he\\'s cute, man.If I was your mom,\\nall hot and sex-starved,I\\'d let him pop my tart.Hey, party tonight at my house.Wine, cheese, hot babes,not that you\\'d be interested.Ah, I got a thing at church.Of course. Just \\'cause you live theredoesn\\'t mean you shouldn\\'t\\nget out once in a while.It\\'s the junior high lock-in, man.\\nIt goes all night.Come on, bro. How we gonna celebrate\\nyour last day on the job?Ha ha! Follow me. Come on.Jordan!Jordan, come on, man!We\\'re in our street clothes!\\nYou\\'re gonna get us busted.My best friend Don,\\nat the end of the line.Salute.Ha ha! Texas tea, brother.Dude, not cool. Bro.Oh, you want to dance?- Seriously.\\n- Look at you.- Don\\'t mess around.\\n- Who said Baptists can\\'t dance?Jordan, I\\'m gonna\\nmake you drink that.I drink it all the time, bro.Confess your sins to each other,and pray for each otherso that you may be healed.So does anybody need to be healed?All right, now why don\\'t we focus\\non where it says,\"confess your sins.\"Does anybody have anything\\nthey need to confess? Anybody?My family went to the beach,\\nand my dad took me out,and a huge wave knocked me\\nout of his arms,and he couldn\\'t find me and stuff.He actually saw something pick me up\\nout of the water and take me to him.No way.I\\'ve had experiences with angels.\\nIt\\'s awesome.Ohh! Ohh!Who wants more sugar?Okay. All right.\\nKeep going. Keep going.It\\'s still going? Must be some party.\\nWho all\\'s there?Everybody.Tons of girls.Sorry, Jordo.\\nI\\'d come cheer you up,but right after this,\\nI got breakfast with The Hobo.Call you later.I gotta go at 6:00.- You bring my communion cups?\\n- Factory fresh.- They for tonight?\\n- Shh, shh.When you find out,\\nit\\'s gonna blow your mind.So... got your car packed- for the big, bad university?\\n- Yep.Don\\'t let \\'em brainwash you, Donny.Well, it is a Baptist college.Yeah, but it\\'s gotten way more liberal now.I mean, when I used to go there,the girls still had to wear heels,keep their knuckles\\nfrom dragging the ground.Don\\'t tell my wife I said that.All right, who wants Kool-Aid?!Bebop?You\\'ve been listening.Yeah, when I\\'m not in the mood\\nfor music, I put on jazz.Life is like jazz, son.Never resolves.You get the going-away\\npresent I sent you?I read a few chapters.- You guys still friends?\\n- Oh, yeah.He just bought 30 acres\\nup in, uh, Oregon.He\\'s a good writer\\nfor being full of crap.Went to a good school.Ever heard of Reed College?Know what the average\\nIQ score is at Reed?138, 2 points above genius.You want a beer?I won\\'t tell Jesus.No, thanks.So he\\'s still connected at the school,and when he told me\\nhe could pull a few strings,I, um...You what?I got you in, Donny,at Reed.You enrolled me?For this term?That\\'s not how it works.Well, took some finagling.Even had to send \\'em a deposit.I already got a scholarship,Trinity Baptist.So you can get\\na preaching degreeand make your mom happy?A brain like that\\nworking for a church?You only believe that stuff \\'cause you\\'re\\nafraid to hang out with people who don\\'t.I\\'m going for the writing program.Well, then go somewherethey don\\'t hand you the script\\nand tell you to copy it.You hear that?That\\'s free-form.Improvise.\\nWrite your own damn story,or that kook mom of yours\\nwill write it for you.Don\\'t call her that.Yeah, or I\\'ll be \"left behind\", right?Come on. Let me do this\\nfor you, Donny.Why now?It\\'s cheaper than having you\\nkidnapped and deprogrammed.All those years you were\\ndodging child support...our church paid for the groceries.- Who\\'s that one?\\n- Intern.Thought you were on sabbatical.That\\'s why I only have one.You want me to introduce you?You got a girlfriend yet?Hey, Lindsey,my Baptist son here\\nneeds some tutoring.Dad.Here comes Sunday morning.You know what works\\ngreat with sunrise?A Love Supreme, John Coltrane.Pushes the sun right\\nout of the earth, huh?They have no regard for Jesus.These people have no regard\\nfor common sense.They hate Christianity.Some of this they learn in the homes...Good morning, Mama.\\nRise and shine.- What time is it?\\n- It\\'s almost 8:00.I\\'ll take the first shower.\\nYou can sleep a little more, okay?Breakfast!Coming! Not too many bananas.You have one message.SeÃ±ora, buenos noches.\\nAre you home?Ah, bella muchacha,\\nare you awake, mi amor?Sleep the sleep de los Ã¡ngeles.\\nI\\'ll see you maÃ±ana.\" Yo te quiero infinito. \"\" Yo te quiero infinito. \"\" Yo te quiero, yo te quiero infinito. \"Message deleted.You like it?Is that new?It\\'s your big day.Any calls?Some Mexican guy\\nhad the wrong number.Hmm.So how\\'s your father?Huh? You really want to know?Not at all.That\\'s third night in a row\\nwith the TV on.Is that a record?Keeps me company\\nwhen you\\'re not around.Everybody\\'s been asking me,what am I gonna do with myself\\nwhen you\\'re gone.Mom, it\\'s not gonna be like that.I\\'m barely leaving the zip code.I\\'m sorry, Donny.\\nIt\\'s just hormones.Is my mascara running?You look beautiful, Mom.And nothing\\'s gonna change.I\\'m always just a phone call away.Ephesians 6:11 tells us\\nto put on the full armor of God,but wearing God\\'s armor\\nisn\\'t always easy, is it, Don?No, sir.Your friends may not think you\\'re cool.So when we dress you\\nin the full armor of God,it\\'s not just a fun,\\nlittle going-away gift.It tells the world what, Don?Romans 1:16, sir.\"I\\'m not ashamed of the\\nGospel of Christ.\"Amen. Let\\'s give him a hand, church.Give it up.Thank God. Appreciate it.All right.Now hold on. Hold on, folks.Hold on.\\nDonny, Donny, not so fast, bro.I\\'m gonna need my sidekick\\nfor story time, kids.Come on down as my lovely wife\\ntickles the organ.Just gather round\\nright here in front of us.That\\'s it.Ha ha. All right.Now, today we have a very special amigowho\\'s come to listen to our story,\\nbut he\\'s a bit shy.Let\\'s see if I can...Hey, hey, uh, Tito.Here he comes.Yes, today is Tito\\'s birthday, but,oh, oh, but he\\'s very sad.\\nYou know why?\\'Cause today he learned\\nwhat happened on the cross.So for his birthday,\\nwe\\'re going to show Titohow the cross can\\nmake him happy, yes?!- Yeah!\\n- Yeah!Yeah. All right,\\nlet\\'s bring down the cross.2, 3, go.That\\'s my girl.\\nAll right, here it comes.Look at this. Now we need\\nsomeone really, really strongto break down this piÃ±ata.- Who wants to do it?\\n- Me! Me!Who\\'s really strong?\\nAre you strong enough?I don\\'t know. I think...Smartacus here.Smartacus here,\\nhe\\'s got what it takes.Smartacus is going to use\\nhis Sword of the Spirit,and he is going to give it his best shot.All right, buddy. There you go.That\\'s it. Big swing, and...Oh, yeah.All right, Smartacus. Yeah.All right, boys and girls,What? What, were you\\nexpecting something else?Yeah? See, just like the piÃ±ata\\nhad to be broken to make candy,Jesus had to die on the cross\\nto make forgiveness for our sins.So, Tito, would you like to be forgiven?\"SÃ\\xad..\"\"SÃ\\xad, sÃ\\xad, sÃ\\xad, seÃ±or Kenny.I want Jesus to be my amigo\\nfor my birthday.\"\" Yo te quiero infinito. \"\" Yo te quiero infinito. \"\" Yo te quiero. \"\" Yo te quiero infinito. \"Right?Well, come on, boys and girls.This is better than candy.Grab the blood and body of Jesus,\\nand give it to all of Tito\\'s friends.\"Muchas gracias. Muchas gracias.\\nGo on. Go on. Do it.\"Like any good Southern Baptist,I\\'ve been trained\\nto assess awkward situationswith the question,\\n\"What would Jesus do?\"Make sure and bring some to the choir.\"Los cantantes..\"But what would Jesus doif his mom was sleeping\\nwith the youth pastor?Maybe he\\'d feel like a sucker,or maybe he\\'d just be pissed.What the heck?!- Don, Don, stop it.\\n- Son of a bitch.I don\\'t know what\\'s\\ngotten into your head,but it\\'s not what you\\'re thinking.I\\'m not thinking.That\\'s why I\\'m leaving.\"A brain like that\\nworking for a church?\"You only believe that stuff\\n\\'cause you\\'re afraidto hang out with people who don\\'t.\"Maybe for once in his life,\\nthe old man was right.There\\'s one way to find out.Message in your mailbox.Donny, I called your father,and he told me about\\nthis Reed College.I\\'d like to talk about this\\nbefore we make a decision.Please call me back this time.Messages deleted.Man.Yeah, I saw it,but it\\'s not like there was a nip slip\\nin there or anything.I mean, personally, I was like,\\n\"Pfft, whatever.\"That was the nineties.\\nThat was edgy back then.Come on. You got to\\ncontextualize it historically.So she\\'s breast-feeding a pig?\\nBig deal.That stuff was probably way common\\nduring the Dust Bowl.It\\'s a critique on the chauvinism\\nof the human species.How long you gonna be in there?What, are you taking a dump\\nor something?Till I\\'m done.Why don\\'t you practice\\nthat party trick of yours?You know, if queer theory\\nteaches us anything,it\\'s that sexual identity\\nis a social construct.I mean, it doesn\\'t matter\\nif she is or isn\\'t.Her image in generaland that image in particular\\nis transgressive.It\\'s... It\\'s deviant, it\\'s out,and that\\'s why our community\\nloves her.She\\'s co-opting a fan base.You\\'re acting like Tori Amos\\nis some kind of dyke messiah.Chill, Lauryn, okay?\\nI\\'m just saying.After all these years,\\nshe\\'s still kind of hot.What is she, like a B cup?Love is fleeting!\\nHerpes is forever!Put a jimmy on your stiffy!\\nCome on, now!You know you need one\\nfor the chub.One size does not fit all!Love is fleeting, but herpes is forever!\\nCome and get \\'em!Greetings, virgin.\\nHow many do you need?- Huh?\\n- Rainbow ticklersare the special of the day.\\nHere. No charge.Rub-a-dub-dub,\\nput a rub on your chub.Right here!Chub away, rubber man.Got your hands full?Oh, why don\\'t I just slide this\\ninto your pocket?...right here. Absolutely free.One way or the other!Hey!Jimmy on your stiffy, ladies.\\nTake it.Want to try \\'em out?Uh, I\\'m not 100%\\non what I\\'ve got here.I meant the water.Uh, sure. Sure. What do I do?Take a sip.\\nSwirl it around in your mouth a bit.Okay, now try this one.What about this?Swallow.Well?I can\\'t taste the difference.This one is Portland municipal tap water.This one is Aqualike bottled water.The Portland water is local\\nand comes with your tuition.The Aqualike water\\ncosts $1.50 for a 12-ounce bottle,and they say it comes\\nfrom the Himalayas,but it actually comes from Kashmir,which is one of the poorest\\nregions in India,so that would be good\\nfor their economy, right?Wrong.Aqualike Corporation practices\\nare actually depleting the water tableso that the local Kashmirian farmers\\ndon\\'t have enough to irrigate their crops.Well, so then I shouldn\\'t be\\ningesting this?No.Here comes trouble.Oh, yeah.Yeah.They do this all the time?Hey.Heh. Hey.Hey.Okay.Wait up.Uh, anybody sitting there?Hey.I\\'m Don.We, uh, sort of met\\nin the men\\'s roo...restroom.So where are you from?You know how to tell\\nif a girl\\'s a lesbian?\\'Cause she\\'s attracted\\nto other women?Is that how it works in Mayberry?Cutoffs at two o\\'clock.Last year, she was homecoming queen\\nback in Nebraska,two tiny biscuits floating\\nunder a cheerleader skirt.What do you think her ass says now?Uh...It says, \"I don\\'t care what you think.\"Which is why it\\'s beautiful.I\\'m Kent Bowers,and I am your\\nDean of Student Affairs.Close your laptops.Pocket your cellphones.\\nListen carefully.According to the words\\nand logic of Neil Postman,\"There is no escaping\\nfrom ourselves.\"The human dilemma is\\nas it has always been,\"and we solve nothingby cloaking ourselves\\nin technological glory.\"At Reed College,there is no reward\\nfor staring at a screen,no extra credit for looking busy.Forget everything\\nyou think you know,because you do not know anything.There\\'s nowhere to run.There\\'s nowhere to hide.There is no escaping ourselves.The human dilemma\\nmust be experienced.So, uh, that lecture\\nwas pretty brilliant.How was it brilliant?Um, the whole part about how life\\nneeds to be experienced.And technology influences\\nthe way we think,and we live\\nin a dumbed-down culture,and, oh, the sky is blue.\\nYeah, it\\'s genius.Sounds like a high school term paper.What do you like?Choose wisely.A bagel, I guess.- This?\\n- Yeah.Someone ate this?Dude, check out Quinn.\\nI think it\\'s growing.Heh. Bet you\\'d like\\nto pop her tart.Can you find me?That\\'s you?You look so...Before I found freedom.Eat, girl. Eat.You want to tell me\\nwhere you\\'re from now?Escaped from Kansas.Dad sells windows.\\nMom bakes pies.She\\'s fat.\\nHe looks at other women.Where are you from?Texas.Can I ask you a question?\\'Cause it\\'s been killing me.Sure.Are you the secret bastard child\\nof a televangelist?No.- Oh, my God. You are.\\n- What?Do all the boys in your choir\\nhave to wear their hair that way?What\\'s wrong with my hair?Well, it\\'s not exactly free.Are you trying to make me a lesbian?I\\'m trying not to picture youburning flags at a gay soldier\\'s funeral.Not all Christians are like that.Smile.You\\'ve got, like, spinach\\nstuck in your teeth.It\\'s really gross.Look, your private religious wacko\\nbeliefs are none of my business,but if you plan on sticking around.Long enough to unpack your secret\\nunderwear or whatever,you probably want to keep that quiet\\naround here.You\\'re kidding, right?I had a Mormon roommate\\nmy freshman year.She lasted two days.I mean, we haven\\'t had\\na Christian clubsince the Nixon administration.Dude, this is Reed College.\\nHello.I was looking at\\nthis student handbook.You\\'ve got so many\\ncrazy religious groups.\"S&M Wiccans. Jews for Jihad.\"What\\'s wrong with being a Christian?Do you have any idea what your hateful,\\nbullying tribe has been up to?\\'Cause around here, you represent\\na whole new category of despicable.So if you plan on ever making friends\\nor sharing a bowlor seeing a human vagina\\nwithout a credit card,get in the closet, Baptist boy,\\nand stay there.Setting, conflict, climax, resolution.If the setting in SCCR changes,\\ndoes the conflict go away?\\'Cause, I mean, it\\'s only been a week,\\nand I feel like I\\'m someone else.Hey, Jordan.You sounding chipper.I\\'m not disturbing you and your gay lover\\nroommate, am I?No, there\\'s no roommates here.They\\'re just single rooms.You got to pimp out your pad, dude,\\ncatch some ladies.You getting any action?Uh, there\\'s this one girl,\\nbut I didn\\'t get her number.Or her name.Spent some time\\nwith a hot lesbian.Yeah, you\\'re full of shit.Hold on, bro.Sorry, dude. It\\'s my mom.- Are you talking to her?\\n- Yeah. Yeah, we\\'re talking.- Sort of.\\n- Huh.- All right, call you later.\\n- Yeah.Hi, Mom.Hey. You get the cookies?Yeah, they came in the mail Friday.Sorry they were store-bought.Ah, store-bought or not,\\nthey\\'re still cookies.Sure is lonely here without you.Sorry that you\\'re lonely.- You could always unenroll.\\n- No. I can\\'t unenroll.- Why not?\\n- Because I like it here,and another 30-minute bitch session\\nis not gonna change that.- Uh, did you just call me...\\n- No, I\\'m not calling you that.I\\'m using it as an adjective.So is that what they\\'re teaching\\nyou at that school?Yes, Mom, that\\'s what they\\'re\\nteaching me at this school.You going to church anywhere?No, I haven\\'t found a church yet.I\\'m looking for one with a really\\ndynamic puppet ministry.Stop with that. There\\'s nothing\\ngoing on with Kenny.He\\'s just helping me through a rough spell.I don\\'t care if nothing\\'s going on, Mom.\\nIt\\'s weird.He\\'s a married man,\\nand he\\'s not a licensed counselor.He\\'s a pastor, Donny.- Donny.\\n- Huh?- Are you listening?\\n- Um,no, there\\'s just a guy\\ndressed in a pope outfitpushing a burning shopping cart.Is that a Catholic school, Donny?Don\\'t let them brainwash you.Can somebody tell me the difference\\nbetween archetype and stereotype?A stereotype is an archetype\\nwith no sense of fashion.Come on. Give me some examples.Yuri? You want to join us?You want examples\\nfrom mythology?I\\'ll take any literary example.Okay, um, archetype is\\nEmily Dickinson,and stereotype is Lisa Simpson.Nice, Penny.What about you, Don?Um, archetype is Tolstoy.Stereotype is, uh, Tolstoy.What do you know\\nabout Russian literature?Yuri, everyone\\'s entitled.Okay. Archetype is...Texan.Big car,tracks shit everywhere,closet racist, inbred...Ooh.Fundamentalist Christian.Okay, now you\\'re insulting me.Notice he doesn\\'t deny it.Oh, chill out, dude.There\\'s plenty of Texans\\nwho ain\\'t Christian.Bonnie and Clyde,ZZ Top,David Koresh.I hadn\\'t technically\\ndenied anything.It just felt good to have people\\nlaughing with me for once.You wake up here every day\\nfeeling lost in a sea of individuality.Everyone here\\nseems so sure of themselves.Double... Hey, Penny.They have their own look.They occupy their own space....whereas in a patriarchal society,our concept of God tends to mimic\\nthe way we see our own fathers.Thoughts?Why would a loving God refer to himself\\nas \"Father\" anyways,when so many fathers\\nabandon their children?Seems like a marketing mistake.They reward you for asking questions\\nI\\'d never even thought of in Texas.I didn\\'t care what it took.I just wanted to fit in,so I did what anyone else\\nin my position would do.I got drunk.- I had a lesbian take me shopping.\\n- Go.No.No.You\\'re so soft.And I searched for the perfect\\ncampus organizationthat would make me feel\\nlike a bona fide Reedie.I, uh, got a notice\\nthat Flag Football\\'s been canceled.Lack of interest.In football?What\\'s wrong? You lonely?Need a hobby?The human dilemma\\nmust be experienced.Preferably for credit.Fire Juggling, full.Human Chess Club, full.Lamaze for Non-mothers, full.Malaysian Cocktail Tennis\\nhas openings.Ball.My tennis partner is in rehab.Reflex Yoga, full.Sand Yoga, Hot Yoga, Partners Yoga, full.Vietnam War Reenactment needs a GI.Have you tried Civil Disobedience?For credit?Yeah.Okay, we go in two by two,one-minute intervals,\\noccupy all the aisles,especially the ones\\nnear the cash register.And remember,\\nif anything goes wrong,Remulac-7 is going\\nto sound the alarm.And we will reconvene\\nat the cemetery across the road.- Okay?\\n- Okay.Okay. Let\\'s do this.Hey, can I interest you in our\\nfrequent buyers program?I\\'m just a robot. The franchise\\ntells me what to read.Please direct me to your restroom.Just back there.Corporations control you\\nthrough printed lies.Leave this store. Run now.\"...little smidgens of fading heaven.Little cosmic mysteries plucked\\nfrom the starry, starry night.\"Attention, Books, Ink shoppers,Uh, you may have noticed some\\nalien life-forms roaming the aisles.Take me to your reader.I assume they, uh, mean us no harm.\"You are precious\\nlittle cosmic mysteries.\"Just, uh...\\nJust kids having their fun.But if any of them\\nbecome a nuisance,be sure and let me know\\nat the front counter.Just, uh, come up, and, uh...Ignore him, corporate drones.We are taking over your so-called\\nknowledge repository.All right, just...\\njust give me the book.Hey, hey! This is a rental.Security. Mall security.Can we have security up here\\nat the front counter, please?Or across the front aisle.\\nNow he\\'s in the main aisle.He\\'s in the main aisle.\\nHe crossed the main aisle.He\\'s the, uh, only astronaut\\nin the pet care section.He\\'s running like there\\'s no gravity.Can anybody hear me?Hey, this is a robot invasion,\\nnot an astronaut invasion.Yeah. When I went to the store,\\nthey were out...I can\\'t hear you.Don.I didn\\'t expect to see you here.In gardening?No, at a robot invasion...in an astronaut costume.Do I look stupid?You just look like you don\\'t belong.Which actually makes you\\nlook kind of cute.Do you even know why we\\'re here?Yeah. Yeah, yeah.Uh, you\\'re against something, right?We\\'re also for a lot of things.Then what are you\\ndoing in gardening?Anarchist\\'s Cookbook\\nis on aisle five.Are you gonna play nice,\\nor am I gonna have to shut that visorand leave you on a planet to die?Uh, excuse me, ma\\'am.\\nMa\\'am, we\\'re against gardening.It\\'s consumeristic.- We\\'re against gardening...\\n- No, gardening is fine,but there\\'s a lovely independent\\nbookstore on Hawthorne.Don\\'t let major corporations\\ntell you what to read.Or how to grow tomatoes.What?Oh, welcome to work, gentlemen.Did you enjoy your nap?Yeah, get rid of \\'em.\\nGet \\'em out of here.Look the door behind \\'em.Yeah... Son of a...\\nHey, come back!There. You want some?\\nI think you need some.I mean, what is the point\\nof all this stuff?Does anyone alive\\neven remember this guy?Oh, thanks.Why do you wear the same\\nclothes every day?I don\\'t.It\\'s a protest thing.Shut up.She\\'s not buying clothes\\nfor a year.What did clothes ever do to you?You wouldn\\'t understand, Don.I want to do something\\nagainst something.Yeah, have fun with that.I will.Oh, hey, Quinn, wait up.Oh, dude, hey,\\ngive me the bottle.Ah, there\\'s none left.Come on. It\\'s half full.Half empty. That\\'s the way I...- What\\'s that?!\\n- What the fu...Not funny. Whoo. Sorry.Ahh! Get away from me.Why do you want\\nto do something, Don?Uh, I don\\'t know.\\n\\'Cause chicks dig it, right?- You know any dead people?\\n- Not personally.- Parents alive and well?\\n- Alive, not well.- Divorced?\\n- Aren\\'t they all?Tell me about it.Come on.Mom got sick.She hears things,sees people that aren\\'t there.You really want to hear all this?It started when I was seven.She thought the CIA was after her\\nfor having an affair with JFK.That one might be true.Do the math.You want to know my favorite\\nmemory of my mom?Don\\'t laugh, okay?We would spend, like...half an hour\\ngoing through our hair,checking for microphones.She got diagnosed that year,but I still wanted to believe I had\\nmicrophones in my hair,because if I did,it would mean\\nI could keep my mom.I\\'m sorry, Penny.No, I mean it.\\nI\\'m really sorry.She says she didn\\'t know\\nwhat was in the bottle,but I swear I tasted Red Bull.Or whatever I drank has me\\nfeeling pretty good.Thanks for walking me home.Oh, yeah, sure. Anytime.Maybe I\\'ll just power through\\ntill morning.It\\'s okay.\\nI got this from here.Okay. Nice dorms.Sorry.It\\'s time for bed, Don.Hey, uh, there\\'s a...There\\'s a... Testing, one, two.Okay, good night, Don.I was just checking\\nfor microphones.Hey, I can help you\\nwith your box.I\\'ll be fine. Thank you.Relax. I\\'ll recycle it.I said I\\'ve got it, Don.Hey, uh, Penny.Hey, uh...Hey, I\\'m sorry.I-I\\'m not... I\\'m not like that.It\\'s...Okay. Um...I\\'ll see you in class tomorrow.Different war, same story.We do the bidding of the gods.It\\'s always God\\'s fault with you.I was actually talking\\nabout Republicans,but I suppose you could\\nargue they\\'re God\\'s fault.What are the rest of you thinking?Is Achilles\\' army just dying for nothing?It\\'s not for nothing.\\nThey fight for glory,for family, for their culture.Come on. It\\'s a culture war.Achilles\\' pride starts it.\\nThe gods bless it,and mythology stokes up another\\nround of misery for everyone.Why do you always dismiss\\nall religious impulse?I grew up agnostic, but...I admire any religion that has\\nthe balls to search for God.Yeah, because the Crusades,\\nthose were very ballsy.You know nothing.My grandfather Topovwas killed for smuggling an icon\\nout of Russia,for trying to preserve a way of life.Don, you\\'re strangely quiet.\\nWhat do you think?I think that if it weren\\'t for religion,Grandpa Topov might have preserved\\nhis own life.Hey, by the way,it wasn\\'t religion that\\nkilled Yuri\\'s grandfather.It was Stalin.Don\\'t take it personal, Miller.Nerd babes.Many have tried. All have failed.There\\'s just something\\nabout her that I get.My dorm mate last year\\nthought the same exact thing.Rhodes scholar, Tall Biker,looked like Jeff Buckley,and if he couldn\\'t bag that,\\nwell, good luck.Tall Biker?My friend, the Reed College\\nTall Bike Clubis the apex of our prestige pyramid.It\\'s like being captain\\nof the tennis team.Mommy, look.Hey, um, how much are these?- 15.\\n- Mom!Hey!Hey, stop that bear!Hey!Hey!What are you doing? Hey!Come on, man!Ohh!What did I do?This is literally the best water\\nyou have ever had in your life.This bottle is not recycled,\\nbut that is a good thing,because recycled bottles\\nequal dirty plastic.This is amazing.\\nIt is bottled straight at the source.It\\'s pretty much all I drink.- Everybody have one.\\n- Thank you.They\\'re free. Merry Christmas.The place in the Himalayas\\nwhere they got ithas actually been hidden\\nfor the last 300 years.Hey.Can we talk?Looks easier from the ground.Yeah, we don\\'t give spiders\\nenough credit.Sorry.Are you okay?Bear stole my bike\\nat the flea market.Aw, that\\'s awful.\\nI didn\\'t know they rode bikes.They do at the flea market.Bought you an early\\nChristmas present.It\\'s okay.\\nIt\\'s just a little something.You celebrate Christmas?I\\'m sentimental that way.Your hands were cold\\nthat night at the graveyard.And I know you\\'re not\\nbuying clothes this year.This was really thoughtful.\\nThanks, Don.Merry Christmas.There we go. Swallow.It\\'s so good.- I know, right?\\n- Yeah.What are you doing\\nthis weekend?Studying. You?I have to...Don, feet on the wall,\\nand lean back.I thought you said you were certified.I am, on the climbing wall\\nat Fun-world.I got the card in my wallet.I... I think that my spray adhesive\\nis coming off.Tori to Amos. Tori to Amos.- I was kidding. I\\'m okay.\\n- Come in, Tori.Do you hear sirens?Affirmative.\\nWhat\\'s going on down there?May want to pick up the pace.Donald Miller.I may agree with the sentiment\\nof your protest.I may even agree in principle\\nwith your activism,but the school cannot condone\\nthe destruction of private property,no matter how just the cause.Hey, guys, take a look.Quinn, check this out.I suppose you all could use some lunch.I got a call from AqualikeÂ\\x92s\\npublicist this morning.They decided that some sales\\njust aren\\'t worth it.Speech! Speech!Speech! Speech! Speech!Speech! Speech! Speech!\\nSpeech! Speech!Come on. Go.Well, last night was\\nmy first time in the big house.And I\\'m not gonna make\\nthe standard jokeabout who made me\\ntheir, you know, girlfriend.Where I come from, we do crazy things\\nfor the hell of it,but last night was the first timeI felt like what I was doing\\nmeant something.So thanks for bailing us out.But I\\'d especially like\\nto thank our ringleader, Penny.Thanks.Hey.There you are.I was looking for you.Hey.You missed the part\\nwhere I thanked you.You mean I missed your speech?Hey, Penny,what\\'s with you?We got arrested.Okay, so maybe I like the attention.Maybe you just like feeling better\\nthan everybody else.Nice umbrella!What was that all about?People in Portland don\\'t use umbrellas.That\\'s dumb.Penny.Hey.Are you mad?Do you really think I do all of this\\nto feel superior?No.I mean, it\\'s just...you\\'re so good that...I guess you can\\'t help making other people\\nfeel like shit sometimes.That\\'s all.If you\\'re trying to seduce me,\\nit\\'s not working.I\\'ll work on it over Christmas break.So when do you head home?I think I\\'m just gonna hang out heresince home feels\\nabout a million miles away.- You?\\n- I\\'m taking a little trip.Where you going?India.The country?Yeah, my dad asked me\\nwhat I wanted for Christmas,and I\\'ve always wanted\\nto go there, so...Gonna sabotage\\nAqualikeÂ\\x92s pipeline?Actually, I\\'m gonna be\\nworking in a refugee camp.I\\'m sorry if that\\nmakes you feel like shit.Have a good Christmas, Don.I\\'ll think about what you said.Pen.You want to keep the umbrella?No.Message in your mailbox.Donny, I know it\\'s a long drive,but we\\'ve never been apart\\nfor the holidays.And I can\\'t bear the thought\\nof Christmas without you.Please call me\\nand tell me you got this.Message deleted.90 minutes till Christmas, friend.Maybe this\\'ll get me in the mood.Jordan?Merry Christmas, dude.You look good.I got some beer.Do you?I read on the Internetthere\\'s something in turkey\\ninterferes with the patch.- You started smoking?\\n- No, I stopped chewing.Remember my little stunt\\nthe last day on the line?- Yeah.\\n- Well, couple months later,they\\'re having this big outdoor\\nyouth rally in Australia...or Austria, something...\\nfor the Pope,Baptists, Catholics, Episcopalians.They\\'re passing out, like, 100,000\\nof them porta-cups for Mass.Hey, guess what\\'s in one of \\'em.No way.Some nun got sick drinking\\nthe Skoal-tainted blood of Christ.No!\\'Course it gets traced\\nback to the shop.Boss is pissed.He was ready to swab everyone\\'s cheek,\\nget their DNA.That\\'s when I fessed up.They fired you?Hell, yeah, they fired me.Best thing that ever happened to me.Next Sunday, I go to Mass\\nfor the first time since I was a kid.I figure I owe the Pope one,\\nyou know.Well, don\\'t laugh,but when I go up for Communion,it\\'s like Jesus is whispering to me\\nfrom inside the cup.Really?I swear to God, I can hear himtelling me the same thing\\nmy mama used to say.\"Don\\'t shit where you eat.\"Anyway, I find out that the nun,\\nthe one who got sick,live up in Canada\\nrunning a home for retards.Except you ain\\'t\\nsupposed to call \\'em that.Don\\'t laugh!\\nBut I felt like Godwanted me to even things up,\\nyou know.So I call her up,and after talking to her\\non the phone for 10 minutes,she said I need to be there.So I\\'m off to Canada\\nto help the retards.Come on. You\\'re into this stuff, right?Merry Christmas, dude.What?What do you say we don\\'t go\\nto midnight Mass somewhere,give old baby Jesus a holler?I\\'m not really dressed.Come on, man.\\nAin\\'t like your church.Not even the priest wears a tie.Nah, I\\'m not really interested.\\'Cause it ain\\'t Baptist?You all right, big guy?So when do you start\\nup in Canada?Not until February.\\nI saved up a little money.I was thinking maybe I\\'d\\nkick it around here a while,assuming you got a spare floor.Uh, bro, my, um...You know, I\\'d totally let you crash,but my roommate\\'s coming back early.Ah, that\\'s cool.I was thinking that maybe\\nI\\'d head up there early.They got these cabins\\nwhere the volunteers gofor these three-day silent retreats.Heh. I can\\'t shut the hell up\\nfor five minutes.I figure I might need\\na few practice runs.You still got\\nmy cell number, right?\\'Cause I tried\\ncalling you a few times.School has been,\\nlike, really crazy.Yeah.Yeah.Well...I guess I\\'m gonna go wish\\nJesus a happy birthday.Peace.See ya.It was good seeing you, man.Yeah. Hey, thanks for coming, Jordan.Hey, merry Christmas.Here it is again!\\nBullshit bookmobile!Welcome back, Reedies.It\\'s that time of year\\nagain to donatethose Christmas presents\\nyou are never gonna read!Come on. You know your\\nparents only gave \\'em to youbecause they are easy to wrap!Give \\'em the demise\\nthey so richly deserve!Put \\'em out of their misery!Give me your tired,\\nyour poorly written,your huddled mass media\\nyearning to be trees!Miller, you look lost.- Me?\\n- Yeah.Ah, it\\'s just a beer buzz.How was Christmas break?I don\\'t do Christmas.What you got going later?Sleeping off a holiday hangover.I have a little project\\nthat might require your...special talents.\\nWhat do you think?What?Trust me. It\\'s big,very big.Texas big!What the hell?Lauryn?She\\'s straight.What?Quinn is straight.She doesn\\'t even experiment.I know I told myself\\nI\\'d give it six months,just to see if she\\nshowed any sign.And then I...\\nI caught her readingan Anais Nin book\\nin the campus bookstore.I just assumed.Wouldn\\'t you assume?Told you her ass\\nwasn\\'t big enough.Stop, Don. I\\'m serious.I mean, I love her.Can I stay here tonight?Will you put out?No.Then leave immediately.Come on. Think back\\nto when you were bi-curious.Think back to when you were nice.I just don\\'t understand\\nwhat girls see in you guys.So you can move heavy objects?Big deal.Are there that many heavy\\nobjects that need moving?I heard the penis plays\\na role in procreation.Genitals are overrated.So is Anais Nin.Yeah.I\\'m sorry, Lauryn.Oh, man, it just sucks.Yeah.- Are you ready?\\n- What?- Oh, come on.\\n- Not you, too.Junior college transfers.What are you doing?I\\'m purging the campus\\nof false dogma,but I didn\\'t think for a second\\nthat you were gonna need my help.Do you know the Stone Age tribes\\nof New Guinea do not have cellphonesbecause they never grew wheat?\\nDid you know that?I didn\\'t get that far.Now you know.Hey, those cost money.I\\'m The Pope, man.I speak for God.God wants you to burn books?God doesn\\'t exist,\\nand here is the proof.Would a loving God possibly\\nallow this to exist?I think not.That was a graduation gift.Who made you Pope, anyway?Last year\\'s Pope at Renn Fayre.You don\\'t know about any of this?Big weekend bash after exams\\nat the end of the school year.Sex, drugs, naked elves.The firstjob of the new Popeis to take confessions\\nduring Renn Fayre, so...go to a little booth,and all the students line up\\nto confess their sins.They confess to you?All night long.At first, I thought,\"This is gonna be awesome.\"I mean, I\\'m gonna hear aboutevery kinky sex act\\nfrom here to Seattle,\"and I got a lot of that,\\nbut then...this one sad bastard,\\nhe starts telling mehow when he was a kid,this priest at his church\\nused to take him into his office,you know, and...right there under the crucifix,Father Feel-you-up would just...go at him.It was heavy.So I start thinking, right?I should be doing something\\nto help these people.I mean, I got the robe.\\nI got the hat. I\\'m The Pope.I should be using my powers for good.So then I get the idea.I start getting people to tell me\\nright there in the confession booth,\"How has God screwed you up?\"And maybe it\\'s the PCP talking, but...I find out how afraid people are\\nof a God who doesn\\'t even exist.Oh, don\\'t touch those albums.\\nHey. Come on.You know, tomorrow\\nmillions of peopleare gonna start filing into churchesand praying that their loving Godis not gonna burn them\\nin Hell forever.And you think burning books\\nis gonna help?It\\'s not like I\\'m torching\\nanything useful.Every steeple\\nhides a sleeper cell.They smile,\\nThey shake your hand,and then you\\'re drinking\\nthe Kool-Aid.They want to rule us,\\nDonny boy.They\\'re like Taliban in training,and we\\'ve gotta stop \\'em, you know,\\ncombine all our resources.Street theater. Civil unrest.\\nYou know what I mean?I don\\'t want to scare you,but there\\'s a lesbian in your bed.Oh, man, I need a beer.Get your shoes on, Miller.I\\'ve got something plannedthat\\'s gonna make\\nyour little billboard escapade.Look like frat boys\\nTPing the dean\\'s house.You want civil unrest at 4 A.M.?You\\'re okay with heights, right?What is it, Daddy?It\\'s a, uh, balloon,a happy balloon.\"Don\\'t let\"these people...re-prod-uce.\"Very good, Sophie.Hey.When\\'d you get back from India?- Was it you?\\n- Huh?The condom and the steeple.Are you wearing a wire?Answer the question.So you saw it.I go to church there, Don.You what?You heard me.Well, it\\'s not like we did\\nany permanent damage.I had a six-year-old ask me why the cross\\nwas wearing a baggie.It\\'s supposed to symbolize...A condom on the steeple?It was just a...\"Don\\'t let these people reproduce\"?It was just a joke.What do you know\\nabout those people?Whatever, you know?People can do what they want,believe what they want.It was just a joke.I\\'m sorry, all right?I had no idea you even went to church.You really believe\\nall that stuff, huh?Don\\'t patronize me.I don\\'t mean to.It just seems a little primitive\\nto still be a...A Christian?Well, yeah.I wasn\\'t born that way, Don.I read the Bible in Lit class last year,and it turns out I like Jesus.A lot.Does anybody know?Are you gonna turn me in?You know what? I\\'m leaving.H-Hey, Penny.How was India?It was life-changing.Did you take pictures?Yeah. I\\'m doing a slide show\\non Sunday night.I\\'ll come.Do you forgive me\\nfor the steeple thing?It\\'s not about me, Don.You don\\'t even\\nreally know what you did,because you don\\'t know\\nthe people that you hurt.Well, maybe I can meet these people.I\\'m not asking you to do that.No. It\\'s my idea.I want to.Okay.10:30, next Sunday.Hi, Mom.Hi, Don. Is this a good time?Not good.On my way to church,believe it or not.Don, I have some hard news...Hold on.Am I on speakerphone, Don?- You there?\\n- Am I... Am I on speakerphone?It\\'s fine, Mom. Nobody\\'s around.Don, can you take me\\noff the speakerphone, please?Fine. Okay,\\nI\\'ll take it off speakerphone.What\\'s wrong?Don, I have some hard news.Okay, I\\'m just gonna say it.I\\'m pregnant.I\\'m pregnant,\\nand the baby is Kenny\\'s.Oh, God.It was a mistake.- What?\\n- I made a mistake.- Hypocrite!\\n- We made a mistake.Bitch!I\\'m gonna let you talk to Kenny.Hey, bro.Put her back on.Listen, I know exactly how you feel.No, Kenny, you don\\'t know how\\nI\\'m feeling.You know why?\\nBecause you\\'re an asshole!You\\'re a puppeteering\\nasshole freak!Well, see that school has improved\\nyour language.We can learn much\\nabout the spiritual lifefrom a term used\\nin sound recording,called the \"noise floor.\"The noise floor is the amount of noisealready present in an environment...that, uh, has to be overcome\\nbefore anything else can be heard.Now, this concept\\nis particularly important......when it comes\\nto the life of the spirit.We need to find a refuge\\nfrom the often-deafeningnoise floor of life...to hear the still, small\\nvoice of God.Young man, may I help you?Yeah. Got some things to return.All right. Okay, you ready?\\nOverhand again.Okay, bring it back overhand.Hello.Miller! Miller.Hey, park this piece of crap.\\nIt\\'s about to start.I can\\'t find a space.Ah, it\\'s after 6:00.\\nI give you my blessing to park here.Yeah, right. Nice.Take the Bible. Please.It\\'s not that the book\\nis contradictory.It\\'s not a book at all.It\\'s a collection of writingscompiled over the course\\nof nine centuriesthat, when taken together,present such a hopelessly\\nmuddled worldviewthat it\\'s easy to see\\nwhy so many of its followersfor so much of our historyhave killed one another\\nover its meanings.Many refugee families\\nhave become subsistence farmerswho live in abandoned and often\\ncondemned houses and shacksand survive year to year by planting\\nwhatever crops they can.Mr. Larkin has set up\\nthe scientific methodas his biblical canon,yet with that method,he still can\\'t prove that a sunset\\nis more beautiful than...I don\\'t know, camel dung.Or that music is more sensible\\nthan noise.By his own reasoning,he is delusional to even tell\\nhis wife and children he loves them.There\\'s nothing delusional about\\nthe chemical reaction we call love.It forces the species to bond togetherand preserve the social structure,\\nnothing more.The theist has a sound explanationas to why humans need more than\\nto just survive.We long for love and justice,beauty, transcendence,because they echo the voice calling us\\nto know their origin.Okay, let\\'s take another question.Uh, Mr. Larkin,\\nI\\'m just curious...Actually, the gentleman\\nright next to the hat, please.Um, Mr. Larkin,in your book, you admit to a sense\\nof awe and reverencewhen you encounter\\nthe beauty of natureand the intricacies\\nof the universe.Has that ever led you to consider\\nthat there might be a God?No.Hell, no.So then where do we find meaning?Meaning?The universe doesn\\'t owe us\\nmeaning, son.If you want meaning,I suggest you try a dictionary.Yeah. Thanks.And on the last day,when I went to say goodbye\\nto the family,they were already waiting for me.Little Reena came up to me\\nwith a giant smile on her faceand handed me an egg\\nthat their chicken had laid.I knew it was all they had.So when you think of Kashmir...that\\'s the face\\nI\\'d like you to remember.Um, are there any questions?Lauryn.The amount of misery and suffering\\nin that part of the worldseems so overwhelming.I just... I don\\'t know\\nhow you deal with it.Is that a question, Lauryn?I mean, I don\\'t mean\\nto get personal,but I know you have\\nthese religious beliefs,and...don\\'t you ever wonder why God\\ndoesn\\'t just do something?Look, I don\\'t mean to go\\nall Mother Teresa on you,but she believed that the spiritual\\npoverty of the Westwas far more oppressivethan any physical poverty\\nshe saw in India.All I know is that\\nwhen I was there,away from all the noise\\nand distraction,I never felt so close to God.I can\\'t explain it.I just want to go back.Thank you.Don?Are you there?Don.Where were you tonight?What are you doing\\nwith my phone?Um, I fixed it with my hair dryer.You shouldn\\'t hang up on your mom.You didn\\'t talk to her, did you?We chatted... briefly.She needs you, Don.Stay away from me, Penny.Don!Don, wait!Don, she made a mistake.No, dialing the wrong number\\nis a mistake.Having a baby with a married man,\\nthat\\'s being a slut.You\\'re talking about your mother.Yeah, I think I know her\\na little better than you do.What else did she tell you?Not that much.Were you really assistant\\nto your youth pastor?Get the hell away from me.Why are you trying\\nto hide who you are?\\'Cause I\\'m done with those freaks.What, like me?- You wouldn\\'t understand.\\n- Why not?Because your mom isn\\'t having sex\\nwith a youth pastor.No, my mom is just roaming the streets\\nof God knows wherehaving sex with JFK.- At least she\\'s got an excuse.\\n- And what\\'s my excuse?I stopped visiting her\\nwhen I was in high schoolbecause I was too ashamed.Now I have no idea\\nwhere she is.I didn\\'t know.Yeah, there\\'s a lot you don\\'t\\nknow about everybody.People are human.\\nPeople are flawed.We all have our crap.I abandoned my mom.Talk to her.I want to be alone.I\\'m taking this.Don\\'t look at the flame.If you start pushing people away,eventually they just leave you alone...with your thoughts,with your demons,with the sound of your own breathing.But if you\\'re going to have\\nan existential crisis,Portland in winter is hard to beat.The city is a shadow.The clouds are a blanket\\npulled over your head.School year seems like\\nit\\'s never going to end.And it\\'s easy to avoid\\nthe people you\\'re trying to avoid.By the end of finals,you\\'re so burned out\\non the pursuit of knowledgethat any sign of life,even if it\\'s artificial,seems worth pursuing.Hey, hey, hey. What\\'s up?We\\'re almost there. Lauryn!I found her barking up a tree.\\nI think she\\'s dehydrated.Let\\'s get her to a cot.Hey, Miller! Little help?- Hey.\\n- Hey.Thank you for returning my e-mails.Sorry. School has been crazy.Yeah, you promised me last month\\nyou\\'d help me with this.I don\\'t do well around blood.Or that.Miller.Leaded or unleaded?Time will tell.So... your first Renn Fayre.What do you think?Snacks are good.You have no idea.You gonna miss being The Pope?You know, it\\'s weird.Certain people see the hat coming,\\nand it\\'s almost like...It\\'s almost like it gives them hope.Go with dog, my son.If God\\'s dead, what\\'s the point?\\'Cause people need this shit,\\nand they always will.The people with steel balls\\nare the ones who never cry out to God.I mean, they\\'ve looked into the abyss,\\nand they know, man.There is no one coming to the rescue.How do you know that?I know what I know, Miller.That kid,\\nthe one in the booth last year,who got abused by the priest...What about him?Nothing.To the great nothing.What\\'s this?It goes with the brownies.Let\\'s do some damage.Yeah!The air is heavy with anticipationas the silent crowd awaits the decision.The Pope has made his selection.Prepare for the crowning\\nof the new Pope!Candidates, present yourselves!Huzzah! Huzzah.Ah, this is gonna get nasty.The Pope considers the Russian.And the Russian has been passed over!Who shall it be?The young foppish prince?It is not to be, my friends!Will the ginger lady ragdoll\\nbe our new Pope?She is not.\\nThe rabbit stands alone.Prepare for the crowning\\nof our new Pope!No! The rabbit\\nhas been rejected.This is unprecedented!\\nWho now?!Who now amongst us\\nshall be The Pope?The Pope considers the Texan.What madness is this?It\\'s just a hunch, Miller.The Pope will now remove his miter.Hold your applause.His Eminence can be fickle.The Pope has been chosen!Citizens of the Reed,\\nwe have a new Pope!Yeah!Let the christening\\nof the pagans commence!Prepare yourself...to kiss The Virgin.Virgin! Virgin! Virgin!Virgin! Virgin! Virgin! Virgin!Faithful subjects of Reed,greet your new Pope!The Pope is down!We have a down Pope!Oh, God.Climax.Oh, God help me.The final C in SCCR.Hello!Hello?Somebody!I\\'m trapped in... in this thing!Hello! Help me!Hello?Hello. Hello. Get me out of here!Uh, hold on.Hey, n-no. I\\'m trapped in here!Please get me out of here!Please! Please get me out!I... I think I\\'m gonna have to roll this.Okay. Okay, I don\\'t care.\\nI don\\'t care. Go.All right, you ready?Yeah, yeah, yeah, yeah.\\nJust do it.Try again. Try...You okay?It\\'s okay. Just take my hand.My daddy has a dress like that.Don\\'t forget your miter.Very good, Sophie.When dawn breaks in Echo Parknear downtown Los Angeles,\\nthe locals begin to...Breaking news report.The government is calling it the deadliest\\nearthquake in India\\'s history,and the devastation took\\nthe greatest toll on Kashmir,with local officials confirming\\nat least 16,000 dead,a number they fear may double,as area refugee camps face a shortage\\nof food, water and medical supplies.Penny.Penny?She left.Gone to India.When?Last night after the news about\\nthe earthquake broke.Dude, she was trying\\nto find you.Um, I\\'m doing laundry,so you want to...Yeah.I\\'ll use the delicate cycle.Thanks.Don\\'t look.- Don\\'t flatter yourself.\\n- Shut up.No peeking.Are those owls?Penguins.Told you not to look.Sorry.Sometimes you have to watch\\nsomebody love something...before you can love it yourself.Penny loves Jesus.My dad loves jazz.He told me jazz is like life,because it doesn\\'t resolve.And he gave me his record\\ncollection to prove it.But I\\'ve been listening\\nto those records over and over,and every time I put on\\nColtrane\\'s A Love Supreme,I could swear I hear something\\nmy father says isn\\'t there.I hear a resolution.Resolution,the final element in story.I know not everybody hears\\nthe universe this way,but what if Penny\\'s right?What if God is trying\\nto compose something?What if all these stars\\nare notes on a page of music,swirling in the blue like jazz?Hey, Mom.Don, is that you?I\\'m glad you called, Mom.\\nHow are you?Some of you have come\\na long way to get here,and I\\'m talking about\\na geography of the heart.But what you\\'re looking for\\nis bigger than any church,so this is the time in the servicewhen we get out of the wayso that you can speak to God directly...and hopefully hear God speak to you.Thought you were in Kashmir.I got as far as Los Angeles,and the embassy\\nstopped issuing visas.Did you ever call your mom?She said to give you a hug.Amen.The peace of the Lord\\nbe always with you.And also with you.Right this way, Your Eminence.Well, you look reasonably sober.Yeah, you know.Try it on.Sweet.All right, sit down.And according to tradition,I am to be your first confession,so let\\'s see.Oh, I stole a condom\\nout of The Virgin\\'s wallet.Last night while he was passed out.I figured he wasn\\'t really\\ngonna be using it, so...This is the part\\nwhere I say you\\'re forgiven?Uh-huh. Are you sure\\nyou\\'re up for this?It\\'s hard shoes to fill.You were a well-loved Pope.Ah. Kiss-ass.Well, I\\'m going to leave you\\nto your flock.Some of us are heading out\\nto the Grand Canyon in the morningfor a little, uh, summer trip,so, um, I won\\'t be seeing you.Have a good time.\\nCongrats on graduating.Yeah, well,nine years well spent.Hey.Um, I forgot to ask you something.Can you come back in just a minute?I need to say...I\\'m sorry.Sorry for what?I\\'m sorry for what might have\\nhappened to youwhen you were younger.The priest.I don\\'t know.I\\'m just sorry.I have no idea what you\\'re talking about.Can... Can you just sit back down?There\\'s a lot you don\\'t know about me.I come out of this subculturethat believes in Godand Jesus, the whole deal.I came here to escape it,because I was ashamed of it.Well, you\\'ve done a hell of a job.\\nI\\'m very proud of you.But it turns out that\\nI\\'m not just ashamedof my strange churchor its political viewsor all the hypocrites.I\\'m ashamed of Jesus.Is this gonna get weird?Yeah, probably.But that\\'s the point.I-I\\'m ashamed of Jesus\\nbecause I want you to like me.I want you to think I\\'m smartor sophisticated or whatever.It\\'s like Jesus is the geek\\nin the cafeteria sitting by himself,and I\\'m the guy pretending\\nhe\\'s not my friend.Miller, we\\'re both tired.You\\'re The Pope now.\\nDo with it what you want.That\\'s not what I\\'m saying.I\\'m talking to you as a person.You and I both hatethose people who think they can do\\nwhatever they wantbecause God is on their side, right?Well, I\\'m apologizing,because I\\'m the same as they are.All that stuff in the Bibleabout feeding the poor,I\\'ve never done any of that.God tells us to love everybody.I\\'ve hated people...my family,folks back home I don\\'t agree with,idiot pastors.I... I hated \\'embecause I thought they made me\\nlook like a fool.I\\'ve spent the school year\\ntrying to ditch God.But I can\\'t.It\\'s like He\\'s following me around.I\\'m confessing to youthat I\\'m tired of being a hypocriteand a coward.I need you to forgive me.Do you forgive me?I wouldn\\'t know what\\nto forgive you for.Do you forgive me\\nfor misrepresenting God?He isn\\'t like me.He isn\\'t... He isn\\'t afraid,and He isn\\'t a coward,\\nand He isn\\'t a hypocrite,and He isn\\'t like\\nthat messed-up priestwho raped you\\nwhen you were a kid.I should have told you that\\na long time ago.Will you forgive me?Yeah.I forgive you.It\\'s good, Miller,what you\\'re doing.It\\'s a start.You know, if everybody\\nout there in that linegets the same treatment I did,you are in for a long night.Yeah, well,\\nso much to apologize for.Maybe I\\'ll start with the Crusades...Yeah.Then work my way through\\nto U.S. foreign policy.Yeah.You\\'re gonna be here a while.You really believe in all this stuff?I think...I do.Then...Dominus vobiscum.My man.Hey, guys, you are not\\ngonna want to miss this.Come on, come on.\\nI\\'m sure that we gota free space in line for you.Hey, what\\'s up?Everybody in line,\\nsaints and sinners.Hey, hey, there\\'s a line, man.I have something to confess.- Your, uh...\\n- Wait.I\\'m going first.',\n",
              " \"FULL FRONTALSubtitles ripped by ~FilVe~ Â©2003CALVIN: Gus Delario--\\nthe invisible man is Gus.He's one of those guys...who you feel like\\nyou know them really well...but when\\nyou think about it...you don't really know them\\nat all. you know what I mean?And. you know. obviously...you look at his track record\\nof all the movies he's done--He's been very successful.\\nAlmost every actor in town...wants to work in. you know.\\none of Gus's movies.FRANCESCA: I've done\\nsome mean things in my life.Yeah. And sometimes.\\nthe--ahem. ahem--the worst part is\\nis that sometimes...it doesn't bother me.I just say. well.\\nyeah. this is mean.I wanted to be mean.\\nand I was mean.Period.LEE: Well. I have to be\\nsomewhat judgmental...because of what I do.\\nyou know...so I don't think\\nthat it's such a bad thing...to be judgmental.I think that's\\nhow you get through life.You have to assess things...and people do it\\nabout you all the time...and that's life.\\nand it's too bad.CARL: I think there is\\nno amount of money...I could have been paid--there is no deal\\nthat I could have made...that she would not have felt\\nthat I had been too passive...and that--I think that...her opinion of me\\non that level...was formed before\\nthe movie was ever sold.I think it has nothing to do\\nwith the movie. frankly.ARTHUR: It's frightening.\\nIt's monstrous.It's evil\\nto not have feelings.So I spoke to Carl about it.\\nand we discussed it...and we went immediately...to the most monstrous\\ncharacter...we could think of in history--you know. Hitler himself.LINDA: Yeah. they're always\\ntrying to set me up...Lee and Carl. They--Well. they never have\\nintroduced me to anyone...but they always talk about\\nhow I should be dating.But they're\\ntrying to set me up now...with this producer friend\\nof theirs--a guy named Gus.Uh... we'll see.\\nI don 't think...a film producer's going to go\\nfor me. but I don 't know.(Piano music playing)-Catherine?\\n-Nicholas.Yes.-How are you?\\n-l'm good. How are you?Excellent. Thank you.\\nThank you for having me.-Sure.\\n-Mind if we get started?So, I play his partner.An equal partner?No, l'm his flunky...if that's what you want to hear.Is that what you want to write?Is that what\\nyou want me to write?No.\\nNo, you can write sidekick.That's fine.See, the thing is,\\nl've done a lot of TV.He's an established star,\\na big star.I figure it doesn't make me\\nany less talented.So, no,\\nI don't have a problem with it.Look, if l'm going to make\\nthe leap to the big screen...I expect to work for it.Don't that make sense?Don't you think\\nmost black actors...expect to have to work\\nto make that leap?It doesn't seem to happen\\nas often with white actors.-Jesus.\\n-Don't you find that the case?A couple of movies...1 5, 20 million dollar paychecks,\\nmagazine covers.OK, is this the kind of story\\nyou want to write?We can go there.Trust me, l've got plenty\\nof opinions on the subject.(Heavy breathing)Jesus.(Shower running)LEE: Carl.\\nI've reached the point...where I can't continue\\nin this marriage.I'm writing because\\nI can't take any more...emotional confrontations\\nabout it.I'm out of ideas.\\nand I want to make a change.When I get home tonight.\\nwe can discuss...the practical issues\\nof how to separate.Please don 't call me.\\nI'm sorry.Fifth robbery in two weeks\\nat a pornographic bookstore.CARL: Oh.LEE:\\nThey say it's a woman.Jesus.Did you have\\nbad dreams last night?LEE: No.Well, I did.Well, I had a weird dream.I dreamt that my job...was that every day\\nI would go into work...and narrate a documentary\\nabout some guy's life...and go home from work\\nand have dinner...and go to bed and go back\\nto work in the morning.It's like\\nI have no effect on anyone.So. what's on for today?More bloodshed.God.\\nHow do you stand it?(Sighs) Hey, listen, don't\\nforget to make the brownies...for Gus tonight, OK?Right.Bye.ARTHUR: Nobody I know...is in any kind\\nof long-term relationship...with anybody they've met\\non the internet...but the short-term stuff\\nhave been pretty exciting.I don't know what\\nI'm gonna do when I meet her.She thinks I'm twenty-two\\nyears old. and I'm not.I'm not a painter.\\nalthough I'd like to paint.So. it could be anything.I mean. the imagination\\ncould take you anywhere.I find that\\nreally. really exciting.And it's one of those places\\nwhere I can lie.LINDA: I'm happy with\\nmeeting men on the computer...on the internet.\\nin the chat rooms.And. you know.\\npeople disappoint...and these people\\ndon 't so much. so...I really connected\\nwith somebody.So--and he's a painter...and. you know. gosh...five years from now. I'd like\\nto be living there with him.I've told him\\nI'm a massage therapist...and I didn't lie.Um...I lied a little about my age--just a little--\\nbecause he's so young.(Laughs) So. I just knocked\\na few years off of that.CAL VIN: She said.\\nNo. baby. you're bored...but why are you\\ntaking that out on us?(Chuckles)\\nIt was that kind of thing.It just--you know,\\neverything clicked...for me.(Click)\\nOh. Sorry.You transcribe those yourself?Someone at work.-Like an intern?\\n-Mm-hmm.Male or female?What do you think?Male.(Laughs)\\nYeah. So, which is it?And don't tell me\\nyou're not gonna say.Male.-Ah.\\n-Mm-hmm.Do you want to know\\nif he's straight?Oh, no, I know he's straight.(Cell phone ringing)Oh, shit.Yeah, l'm coming, l'm coming.(Ring ring)\\nWait. Wait. I--(Ring ring)Django, go, go, go, go, go.(Ring ring)(Ring ring)(Beep beep)Hey, Frank!CARL: I'll tell you--\\nI'll tell you what it's like.OK. you know.\\nI work at this magazine.This magazine is great.\\nIt's very good.It has very high standards.\\nI think.I think they can do\\nreally good work.But I think the guy\\nwho runs the thing...is just not very smart.I mean. you know.\\nthis is between us...but I just don 't think\\nhe's very smart.I think his instincts\\nare all wrong...and I think\\nhe's. you know. the big butt.LEE: Yeah. you know.\\nI've lost my temper in traffic.I have. I've lost my temper.I wouldn't call it road rage...but I have gotten pissed\\ndriving...because people. you know...they drive cars\\nthat are ridiculous--you know. wrong for them.(Car door opens)(Car beeping)I don 't really like my job.I've thought about\\ndoing something else.I like the money.I don't even\\nlike that that much.I could get a betterjob.LINDA: Lee is ambitious\\nand smart and beautiful...and she always has been\\nall of those things...and she's always done\\nreally well. you know?So. maybe she is\\ncompletely in control.(Razor buzzing)-Hey.\\n-Hey.-Coffee.\\n-Herr director.-How are you?\\n-What's up, man?Rehearsing something\\nfor ten days sucks.And I know how tough it's been.Oh. no. no. no.\\nListen. Iisten...I think I know\\nwhere you're going. man.First of all,\\nI got to apologize.I know l've been\\nall over the map...and that's my process,\\nand l've kind of been crazy.Listen, I really feel bad\\nabout what I said...to your friend.\\nI know he's Jewish...and I went way too far\\nwith that whole oven thing.But believe me,\\nI was going over...some of my anger management\\nstuff last night...and I really feel like\\nI had another breakthrough.That's great. That's great.But I just--oh, I felt so bad.You know what,\\nCarl and I wrote this for you.You are our Hitler.\\nDon't you ever forget that, OK?That means a lot,\\nbut I know this is...your and Carl's vision--\\nI mean, you wrote this.But, yeah, it's funny,\\nI was talking to Tom Sizemore...and he was saying the only way\\nto learn how to act is to act.-Right. Yes.\\n-And I know you're concerned...because I haven't really\\nmemorized anything...and l've been\\nall over the place...but believe me, on the day--\\nwell, you know, tonight--yeah, I really think\\nit's gonna be salty.You're gonna be OK.I just want to make sure\\nyou're all right.-l'm good.\\n-OK. All right.-See you later.\\n-Oh, hey. Um...I don't take cream,\\ncould you--just, black?-Sure.\\n-Thanks, pal.All right.* Bad boys. bad boys.\\nwhat you gonna do? ** What you gonna do\\nwhen they come for you? *LINDA:\\nWell. no. not married.This guy that I was seeing...This guy Tom that I was seeing\\nlast year at this time...said when he broke up with me.\\nhe said he was...getting back together\\nwith an ex-girlfriend...but I don 't know\\nif that's true or not.I heard he's--\\nI heard it's not true.But that's what he said\\nat the time.-Hey!\\n-Hey, how are you?-l'm OK, how are you?\\n-Good, good.It's funny.Yeah, what are the odds, right?Well, uh, have a good day.\\nSee you.LINDA: I like Carl.Uh, have you ever been\\nin therapy?(Chuckles) Who?No. I don't even get that.I don't even get that.\\nIt's like...they're just selling you\\nback to yourself.What is that?Hmm.\\nI never thought of it that way.-Mm-hmm.\\n-Um...your appetite\\nis certainly worth noting.-l'm hungry.\\n-Mm-hmm.Oh, don't tell me\\nyou're one of those---You don't eat?\\n-Oh, no, I eat.I just don't eat airplane food.Why not? It's first class.They cook the shit\\non the premises.What's the problem?I'll wait for the cookies.Man, how corrupt\\nwas your father?And milk.Did he kill people?He killed their spirits.Did he threaten\\ntheir identities?Something like that.So, what about you?He, um...No, no, that's all right.\\nSorry.-No.\\n-OK.No, he didn't.\\nHe--he adored me, actually.-Adored?\\n-Mm-hmm.Wow.I don't think\\nl've ever been adored.CARL: You can get paid\\nto have sex by a company--CARL: You can get paid\\nto have sex by a company--I mean.\\nacting in an adult film--but if some guy pays you\\nfive hundred bucks...to have sex with him.\\nthat's illegal.So. you're in porn.Why are you in porn?\\nTwo reasons.Either you need the money.\\nor you're an exhibitionist.WOMAN: What do you think\\nis exhibitionism?CARL: Porn.What--well. no. OK.\\nThat's a good question.I think it goes way beyond\\njust wanting to perform.You can't pretend that you're\\nhaving sex with someone...when you are actually\\nhaving sex with them.Well, I think\\nit's easier to think...that they're\\nenjoying themselves.Or maybe they want you\\nto enjoy yourselves.Why would you want\\nto think about it so much?It's been made to turn you on.\\nIt's nothing deeper than that.Yes, I do.Sorry. I thought you said\\nthis didn't bother you.Carl, I can't have\\nconversations like this anymore.(Chuckles) You can't?I've met someone.-Oh.\\n-lt's not appropriate anymore.-Oh, I understand.\\n-Sorry.Don't be--sorry? Hey, you are\\nshowing absolute respect...by being honest with me and not\\nbeing weird or, you know...protracted about it.\\nThank you.I just--hey, I like to know\\nwhere I stand.Otherwise,\\nI feel like an asshole.(Laughs)Are you all right?Yep.Yeah, I was just thinking\\nof the rest of my day.Jerry wants to meet with me.-Really?\\n-Yes.He's never liked me,\\nyou know, from day one.Just--nothing I can do\\nabout that. I just, uh--I'm sure you'll do just fine.LEE: You are aware\\nof the recent layoffs. correct?MAN: Well. yes.LEE: We're making some changes.\\nrearranging our priorities...getting things straight.\\nthat sort of thing.(T akes polaroid)Mmm. Are you a smoker, Brian?I participate\\nwhen it's available.-Are you a smoker?\\n-No, but I smoke.Have you ever been caught\\ndriving under the influence?Under the influence of what?DUl--\\nyou're familiar with the term.Yeah.-Correct?\\n-Yeah.No. I mean,\\nwhat does this have to do with--Do you vote\\ndemocrat or republican?Neither. Either.\\nI--I vote for the best person.-And how do you judge that?\\n-Uh...-Do you know in an instant?\\n-Yes.Right.Hmm.(Laughs)(Woman crying)(Man taps table)(Sniffles)Oh, come on, kitten--\\nthe water works?You know,\\nwe've talked about this.Nothing's changed...since the last time\\nwe had this discussion.(Sniffles)No, l'm just--\\nl'm too committed to my work...to sustain a serious\\nrelationship right now.You know, I bring work\\nhome with me. I'm distracted.I'm taking a swim in Lake Me,\\nyou know?And, you--hey, you deserve\\nbetter, believe you me.I would only cause you pain.Remember how I let you\\ntwirl my key chain?Nice, right?\\nHugging, kissing, all nice.Now, go on, sweetie.\\nGo on, split. Come on, come on.I'll call you.If the phone doesn't ring,\\nit's probably me.(Sighing) Oh, man.(Pager beeping)Fucking Goebbels--\\nhe thinks it's a toy.(Chuckling)\\nGone to get haircut.What an asshole.LINDA: I don't know why.\\nI just started that.I don't--I just don't want\\nthem knowing me. you know?I don't want them knowing me.I give--I give the name Ann\\nall the time...because it seems like Ann is--One.And it's less invasive.It's less--\\nor more anonymous. you know?More invisible.\\nIf they know me as Ann...they don't know who really\\nis in the room with them.And for some reason.\\nthat feels good to me.CAL VIN: Nicholas.\\nI will begin simply.l love you.Have always loved you...and will always love you.Ever since the moment\\nI met you...the love I feel for you\\nis overwhelming.When we are apart,\\nyou are all I think about...and can't wait until...we are just even\\nin the same room again.Until then.I've been away a lot.(Placing note in envelope)Ahem.-Hi.\\n-Hi.-Hey, Mike?\\n-Yes?-Can I ask you a question?\\n-Yes.-lt's kind of personal.\\n-Shoot.Is that your real hair?Absolutely.Hmm. I'm thinking of\\ngetting some more.Don't do that.-Why not?\\n-You'll have doll head.I don't care. I want more hair.Low-level, free-floating\\nanxiety about it, you know?I have anxiety about it.I see homeless guys\\nwith a full head of hair...and I think, What the fuck?You know, Kirk Douglas,\\nwhat the fuck--Does Lee mind?Uh, she says no.Well, that's a lie.She doesn't say anything,\\nand I assume that's a no.We sit in the same room,\\nwe live in the same house...but, uh...-And.\\n-What?Try changing your buts\\nto ands. See what happens.We live in the same house,\\nand--Now you got it.Yes, I would say that.-How often?\\n-Um...Once a week, once a month,\\nonce a year, once---This is kind of--\\n-l'll come back to that.(Laughs) God.Do you believe in him?Well, you know,\\nnot like a bearded guy--It's a yes or no question,\\nDavid.Yes, then.Listen, l'm sorry,\\nI just thought--I'm going to be straight\\nwith you, David, OK?OK.In three years,\\nyou haven't impressed...a single person at this agency.You'll be notified officially\\nthrough the mail.-l'll watch for it.\\n-OK.Do you have a girlfriend?-What?\\n-Are you involved?Are you--are you--\\nWhat--what are you doing?Put that chair\\nagainst the door.-Ms. Bright?\\n-Yeah.Is this a joke?\\n'Cause I'm a good sport.This is a test of skill\\nof sorts.I like you, David.\\nI'll tell you that right now.-OK.\\n-OK?Yeah.On one leg--balanced.(Laughs)You--you are a piece of work,\\ndo you know that?-OK.\\n-Good!-All righty.\\n-OK.Now. name all the countries\\nin Africa.-Oh!\\n-One minute.LINDA: There's this guy I met\\non the internet.LINDA: There's this guy I met\\non the internet.WOMAN:\\nOoh. are we doing this now?LINDA: Mm-hmm. He wants me\\nto meet him in Tucson...for the weekend. He's a kid.-In Tucson?\\n-Mmm.-You have to try these.\\n-Do they have sugar?-No. sugar free. Why Tucson?\\n-Mmm. He lives near there.WOMAN:\\nDoes he live in the desert?LINDA: But we're staying\\nat a Holiday Inn.-Uhh.\\n-I'm intrigued.-ln Tucson?\\n-These are good.I know. They're sweetened\\nwith fruit juice.I could eat\\nthis whole damn tray.I bought new underwear.-Have you seen a photo?\\n-No.That Holiday lnn part--\\nthat's kind of a little sad.-Why is that sad?\\n-Because, Tucson?-So what? He knows a good one.\\n-All right.Seems like you put\\na lot of thought into this.-Planned--we both have.\\n-Mm-hmm.-Kind of like a wedding?\\n-Sort of.OK, I think that was good,\\nbut I really, really think...you guys shouldn't make\\neye contact.Hold on, hold on.That whole thing of you guys\\nbeing an extension of me--Hold on.\\nStop giving them directions.One second.\\nJust let me work this out, OK?One second.\\nYou know when we do...that first scene\\nwhere l'm exercising...you guys gotta have\\nathletic supporters.You know what. stop. Stop.Hey. guess who the world\\ndoesn't revolve around?You. OK? I'm trying--Maybe you want to come out here\\nand look at it.Give me the jacket--Can I talk to you for a second?I'm fucking giving my all here.I know, I know.I'm giving my all, and\\nl'm really fucking worried, OK?Because last week you tell me...you want me to play it\\nlike Danny Kaye, right?This morning,\\nyou come in, and you say...Hey, why don't you play it\\nlike Alan Alda.What am l, fucking Danny Alda?OK, I think\\nyou're really distracted.You've been\\non the fucking laptop...Iike a little crack monkey,\\nlogging onto Expedia...for this fucking chick\\nin Tucson?Let me tell you something, man.\\nThis is art.I dumped my girlfriend\\nthe day we started rehearsals.You're not here, man.\\nYou're not present.I am here. I am here.You're not, OK?\\nAnd l'm starting to question...whether you and Carl know what\\nthe fuck you're talking about.Because let me tell you\\nsomething...Peter Ustinov said,\\nTo act is difficult...but it's more difficult\\nto write a bad play...than to give\\na bad performance.You know what? You know what?What a great fucking idea,\\nwatching me squirm.What are you talking about?-Catherine.\\n-What are you talking about?-The letter.\\n-What letter?Uh, the letter.-May l?\\n-Oh, yeah.You're acting crazy.Hmm.Wow. Well.Pretty extraordinary.Really?This is a prank, right?I mean, that's cool.\\nYou can tell me.I don't think it's a prank, no.You didn't write this?Is it your fantasy\\nthat I wrote it?Oh, don't. Don't do that.I don't know what to tell you.OK, here's the deal.This right here,\\nyou can't write about.-I can't?\\n-No, you cannot. It's not fair.You know, they really do\\nhave ovens back there.I am onto you, girl.Well, I think l'm onto you,\\nall right?Look at me.-Look at me.\\n-Oh, my.Come on,\\ndid you write the letter?It's OK.See?Ahem. I'm just not gonna play\\nthis game with you anymore.I ain't even thinking about you.\\nLook.You missed a piece.(Sighs)CARL: So. Tracy--\\nis that your given name?-Yes.\\n-Mm-hmm.And what's your porn name?I'm--Do you know about porn names?-No.\\n-OK.Your porn name\\nis your middle name...and the name of the first\\nstreet you grew up on.OK.So. Iike. my porn name\\nis Andrew Highland.(Laughs) It's terrible.\\nIt's not very sexy.So. you're Tracy...I don't have a middle name.Oh. well. you can--Yeah. well. you can also use\\nthe name of your first pet.We weren't allowed to have pets.Ivory Coast, Senegal,\\nSierra Leone...LEE: Mm-hmm. Good.Ghana, Mali.Have you ever--been tested\\nlately for the H.I.V. virus?No. Yes.\\nMorocco, Mozambique, Angola...Good. My goodness.-Cameroon...\\n-Stay there.-Congo...\\n-God, you are good.Gabon, Angola.-Go east.\\n-Kenya, Somalia Republic...-Jesus.\\n-Ethiopia.Time.\\nYou are very impressive.I don't think\\nyou're allowed to do this.(Takes polaroid)Of course I am.Get down from there.LEE: Just meet me\\nin the lobby. please.You'll have a great time.\\nI know you'll love Gus.I can't go to a party like that.\\nI have nothing to wear.LEE: Wear the green dress.\\nYou look great in it.It's too tight.\\nIt doesn't fit me anymore...and it has a stain that's--LEE:\\nYou always have an excuse.It's not an excuse.\\nLee, that's a reason.There's a difference.Look, are we still\\nhaving lunch today?Because I have\\na birthday present for you.LEE: It's tomorrow.You know what? I know\\nwhen your birthday is, OK?I'm not here tomorrow.LEE: Hey. Linda...Hello?LEE: You're breaking up.\\nCall me back.Hello? Listen, if you can\\nhear me, call me back.LEE: Call me back.(Hangs up)\\nFuck.LINDA:\\nYeah. I think about him a lot.You know? It's hard.\\nI found him in the basement.And then I found Lee...who was outside. I think.\\nor somewhere else in the house.I mean. I remember screaming...and then I remember her\\nappearing.Uh. and then. you know.\\nno one else was home...so she ran to a neighbor's...and. uh. I stayed with him.And then neighbors came. and...and then my mom was home.They found my mom. and so...LEE:\\nIt's pretty surprising...when you see\\nsomebody you know...Iike your dad. you know.\\nin that state. you know?So. it was surprising...but I think that. you know.\\nin retrospect. he...(Groaning)He was pretty unhappy...most of the time.My friend Gus says that people--\\nthe straight world--will always be fascinated\\nby gangster sagas...because, here are these guys...they say,\\nWe're not going to live...by some unspoken rule...that we don't take you\\nto the cleaners...when you're not looking.We don't have any agreement\\nnot to take advantage of you.And these people, they're\\nin the minority, fortunately...otherwise, there would be chaos.But we love watching them,\\nbecause--because...it's a walk on the wild side...without any real risk\\nof corruption.It's two-dimensional, you know?And it's always\\ngoing to be compelling.Uh, you know, sometimes,\\nwe can't look away.But--and we should.(Door opens)-Hey, Carl, how you doing, pal?\\n-Good to see you.-You look great.\\n-Thanks. Uh...you know, that's amazing\\nthat you called today...because l--ahem--\\nI needed to see you.I have an idea. I have an idea.\\nI think it's a cover.You got slobber\\nall up on your...Mmm.What time is it?Oh, I feel--I feel nauseous.Are you ready to talk\\nabout this?Ohh. Nicholas...Iook, I think\\nthat you're very talented...and l'll probably write\\na very nice piece about you...but you're really annoying\\nabout this whole letter thing.No. You're annoying.Mm-hmm. OK.CARL: You see. I think that is\\nworth discussing. I really do.Well, Carl, l'll discuss\\nanything with you anytime...because every time\\nyou've come into my office...every time\\nl've asked to see you...or you've come to see me\\nwith an idea...about a cover\\nor a feature story...or anything you want to do...it always has validity.\\nIt always has...it's important to me\\nto hear your ideas, you know?Thank you. thank you.Let me ask you a question.The reason I called you in\\ntoday. actually...Yeah. Sorry. Ahem.I have a question for you...and it's kind of important\\nto me to hear the answer.And the question is...when you go to your\\nrefrigerator in your home...and you open the door,\\nand you see a bottle of beer...do you take\\nthat bottle of beer...and pour it into a glass\\nand drink it...or do you drink it\\nfrom the bottle?Um. I--I--\\nwell. I drink it from a glass.Ah, you see?Ohh. That's the problem.You see, I want this magazine\\nto drink from the bottle.In talks? What the fuck, Alex?Tch. All right, in talks.I need this.All right, all right.NICHOLAS:\\nI suppose we've come a ways...since Sambo. Mr. Bojangles.Step and fetch it. boy.What?\\nMan. call me Mr. Tibbs...we've heard Poitier say.It's a new day. some say.Because every now and then.\\nblack men are even in.Motion picture heroes.\\nIt's the American way. Wesley.Be cute\\nand still save the world.Yes. we will. Will.Go from Boy in the Hood\\nto Man of Honor.Show 'em the money now. Cuba.Give 'em funnies\\nlike Chris Rock or Tucker.Or just cool it,\\nbe anybody, like Denzel.But wait. He ain't even really\\ngetting no loving...Iike Sidney before him\\nand whoever after him.Romancin' and dancin'\\nwith amore's passion...ain't in the script's equation.But can even Mr. Washington...briefly be seen kissing\\na Pretty Woman...underneath a Pelican Moon?Can even he be a romantic lead?Check it. From Sambo to Sidney\\nto Denzel to me.Brothers ain't getting\\nnor giving no love now.I don't want to complain, but\\nmy doctor says l'm suffering...from underloved syndrome.Maybe it is a conspiracy.\\nBut do folks still fear...the black man's sexuality\\nlike that?A fear that could be wiped out\\njust by seeing us love...not by race, but by heart.And can't a brother\\nget some love?Now, that, Catherine...is a question\\nfor the screen pages...written by folks\\nwho rarely look like me...but want to see me\\nrun and jump and shoot...but don't care to see me kiss\\na woman with my skin tone...and would shoot me if I were\\nkissing a woman of their hue.Who are you?Who are you? Who are we?We are human, too...and we love loving, and...can't a brother get some love?That's the state of being...a chocolate leading man\\nin Hollywood today.(Click)I keep bringing it up...I keep bringing it up...because I don't want you\\nto think I forgot.Look, you just pay me back\\nwhen you have all of it.-I have half now, so--\\n-Keep it. I don't want---lt just feels awkward.\\n-Please.-Hi.\\n-Right this way.-Thank you.\\n-Thanks.What would you like\\nto start with?Some evian or pellegrino?-Thank you.\\n-You're welcome.You still going on your weekend\\nwith that guy from the internet?Mm-hmm.\\nNo, I haven't cancelled.I'm putting myself out there.\\nI'm going.Good.\\nYou need money for that.You want me to meet men,\\nand l'm meeting men.You could meet men there.\\nThere'll be plenty.I can't come tonight.\\nI can't.On the internet?\\nHow is that meeting?It's encountering.What airline are you flying?Southwest.-Southwest?\\n-Yeah.That's a good airline.Southwest, younger man...new underwear, Tucson,\\nHoliday lnn.What is your point?Have you ever stayed\\nat a Holiday lnn?No. Have you?I think that's what's\\nreally bothering me.You know what, Lee?\\nHe's paying for it.So if that's what's\\nreally bothering you---What does he do?\\n-He's an artist.-An actor.\\n-A painter.In Tucson?Yeah. He says the desert\\ninspires him.-Lend me what?\\n-What is wrong with you?Seriously. what is wrong\\nwith you right now?Friday. Fridays are good.\\nT. G. I. F. Fridays are good. Lee.You're acting insane.I'm going to have the squash.But this is\\na boundary issue. man!What I do off-stage is\\nmy process and my business. OK?And I don't care\\nwhat anybody thinks.And it's my business\\nto put on a play.And now l've got three hours\\nto find a new Eva Braun.Oh, OK. You know what?\\nFuck her.And here's why. Number one--anyone who's offended\\nby drinking blood...obviously doesn't drink blood.Number two--anybody who drinks\\nas much blood as I do...knows it has no effect.Number three--there is absolutely\\nno scientific connection...between drinking\\na shot of blood a day...and being\\nan extraordinary actor.And number 4--it is impossible\\nto prove number 3.You know, do the words Masai\\nmean anything to you?Do you know who that is?Yeah. Herzog made\\na documentary about them.The herdsmen of fire.\\nwarriors of Africa.They drank blood.Jack fucking LaLanne\\ndrank blood in the fifties.Yeah. granted.\\nhis wife wouldn't kiss him...but this is bullshit. man.I don't care what you do\\noutside of this theater.I don't give a shit. You could\\neat the ass out of a dead wolf.I don't care.Just keep it to yourself, OK?Just keep it to yourself.I think it's fucking hysterical\\nthat she walked.And I know comedy.LINDA: I don't understand.I don't understand\\nwhat's wrong.I mean. birthdays are fun.Well, OK, this is mom\\nwhen I was four...at my birthday\\nintroducing me to people.And this is Lee. She ruined\\nmy body, didn't you, dear?-There.\\n-Thanks.I won't be here tomorrow.\\nso happy birthday.Oh. It's smaller than the gift\\nyou gave me last year...for my fortieth birthday.You know what. Lee. you make\\nforty a bigger deal than it is.You have no idea about forty.I'll be forty.What did I give you last year?\\nI don't even remember.You know, that--that thing.\\nThat...-Oh. You didn't like it?\\n-No.Well. honestly.\\nI would have rather had...just. Iike.\\na card or something.OK. God.It's just a weird gift\\nto give your sister...who's married.\\non her fortieth birthday.You know what Gus gave me\\nlast year for my birthday?First edition of Bernard Shaw's\\nThe Sanity of Art.Did you get anything out of it?-Which?\\n-The gift I gave you.Are you kidding?No. I mean, yes or no.But for my fortieth birthday?Well, I have one, so...I used it once.OK. All right.\\nWell, what happened?Um, I got stuck in the chair.You used it in a chair?Well, yeah,\\nthat's what's on the box.Different ways. I've never...Not in a chair. I've never...Well...gift-giving--\\nyou know, it's an art.You should have\\nthe person in mind--OK, l'm sorry. I thought\\nyou'd like it. I like it--Well. that's--\\nbut you should give people...what you think\\nthey would want--you know. something personal.How much more personal\\ncould that be?But then. you and that guy--\\nwhat was his name?-Tom.\\n-Tom.Yeah. You sat at\\nthe other end of the table...and just stared\\nat each other the whole time.You didn't even\\nreally socialize.Oh, my God. Oh, my God.\\nLee, forgive me, OK?I happened to be in love--\\nfor a brief period of time.Once--which happened\\nto include...the week of your birthday.-This is all a year later.\\n-You don't get it.Christ!You know what?\\nGift--it's a gift.A gift is a gift.\\nDon't question it.At least not to the giver\\nand out loud a whole year later.Chr---OK, now I know.\\n-What?Well, that it meant something\\nto you.What?Just the whole thing,\\nthat you put thought into it.You know.\\nit's for your small change.FRANCESCA: So he gives me\\nthis injection...and I become invisible.And I can do anything. right?Because. you know.\\nI'm invisible.What do I do? I go to\\none of my colleagues. Carl...and I make him\\nsign a confession...while I hold a knife\\nto his neck.Now. it's just weird.\\nbecause I really like Carl.He's a brilliant,\\ntalented man...completely misunderstood\\nby his boss.Well, you know, l'm not\\nsurprised he was in my dream...really, because\\nI think of him a lot.I think l'm actually--MAN: Wheel in Nicholas.\\nWe're ready for him.It's funny, because\\nhe's one of these guys--You know what?\\nI want to tell you...what I think about that,\\nbut I gotta go do this.OK. I'll be here--listening.Hey, Pitty.(Laughs)Hey, man. What's going on?OK, exactly the same thing.\\nWe're starting from over here.It took me a little bit--I needed to do this\\nwith track...instead of just the walk-up...so we're gonna do\\na little bit of a push-in.There's probably\\ngoing to be some focus stuff...so we're gonna shoot a few.OK.But just split the extras\\nas they come through--don't be precious about it.Tell them we're coming through.I will, I will.R-1 39, take one.(Man muttering)And background action--action!Move! Move!-Out of the way!\\n-Goddamn it.Uh, looks like we're late.Looks like.Back to square one.That's what he thinks.You think different?Like the back\\nof my big ten-inch.-Oh.\\n-Come on.(Sighs)CARL: One minute\\nI'm drinking a beer...and the next minute\\nI'm unemployed.How does that happen?(Laughs)He said I have confused...my personality quirks\\nwith standards.What the fuck?CARL: You have no idea\\nwhat I have lost just now.This goes way beyond this job.\\nI could lose everything.The ripple effect.\\nIt's the ripple effect.It's like. Oh. yeah.\\nby the way. you're fired.Oh. yeah. honey. by the way...uh. you don 't think\\nI'm so great.Guess what? They don 't think\\nI'm so great at work.Hey. maybe I'm not so great.Hey. that's simple.\\nWell. there. I can write that.I can write.\\nI'm not so great.Maybe I can write it...a hundred-fucking-thousand\\ntimes on a blackboard--Oh. I can teach.\\nI used to teach.I love teaching.\\nI do love teaching.R-1 39, take 49, mark!MAN: OK. here we go!\\nAnd background! Action!BRAD: Move!-Out of the way!\\n-Move!-Move!\\n-Out of the way!Ohh. Looks like we're late.Looks like.Back to square one.That's what he thinks.You think different?(Both panting)I know different.Come on.(Sighs)-Cut it!\\n-OK. we got.Nice one.Very nice, very nice.Check the gate. Check the gate.BRAD: Lunch?OK.So, David, David.\\nYou need me for anything?No, no. Absolutely.\\nLunch--go ahead.-Nice scene, man.\\n-Yeah, thanks, Brad.Thanks.Would you not take a role\\nif you felt...the people of the black\\ncommunity wouldn't like it?Hmm.This guy that lives\\nin my neighborhood--Iives right across the street\\nfrom me.And he dresses like--\\nyeah, yeah.He dresses like a vampire\\ntwenty-four hours a day.I don't know if he's got a job.\\nI don't know what he does...but I know\\nhe dresses like a vampire...Iike Dracula all the damn time.-You want to go?\\n-Mm.I mean, look,\\nI see this guy at Pavilion's...buying romaine lettuce\\ndressed as Dracula...so you got to figure...he's an actor, right?\\nHe's got to be.Well, you could find out.Yeah. The point is, the answer\\nto your question is...if I needed the money,\\nabso-fucking-lutely.Absolutely.\\nNow, am I proud of that?No.\\nBut, yeah, l'd take it...'cause, look,\\na brother's got to eat.-OK. Are they gonna say cut?\\n-I don't know.OK, what's going on?-OK, can somebody--\\n-Did they call cut?Well, can somebody\\ncommunicate--OK.Bonnie, Bonnie, this is\\nitching me so bad today.Fran, listen, listen.\\nHey, after lunch...next time we do this.\\ncould you give me...more to work with\\non this whole attraction--What do you mean?\\nThat was good, huh?We can't hear in there, though.\\nWe can't hear anything.No, 'cause l'm not feeling\\nthe whole sexual chemistry.No, no, but remember...you gotta leave yourself\\nsomewhere to go...for the second letter\\nat the airport.All right. Oh!\\nAll right, all right.Right?In the way it's got to build...you got to give me\\nsomething to go on.-We had it going before.\\n-Did he call?-Yeah.\\n-lt's not working for me.OK, well, if you're\\ngoing to stay for lunch...Iet's talk about\\nwhatever it is--No. I gotta run an errand,\\nso next time--and maybe it's me.All right.We'll figure it out.\\nDon't worry about it.All right. I think it was good!\\nOh. thanks.No, it's the movie.\\nThis is the only movie.As far as he's concerned,\\nit's the only movie.CALVIN: Hey. can you\\nhold that door for me?-Sure.\\n-Thank you.Got it?Excuse me.CARL: Oh. the film.\\nWell. the film--Artie and I wrote this.We started working together--really writing together.\\nabout a year ago.We tossed around\\na couple of ideas.And Artie's a pretty good\\nplaywright in his own right.And we thought.\\nyou know. maybe this--sort of my understanding\\nof Hollywood and everything...and his ability\\nto actually write...would be a good combination...and so we came up\\nwith this idea...for what is now\\nRendezvous. the movie.It's almost like a spy film\\nin the intrigue...of this romantic encounter...between this guy\\nthat Calvin plays--I'm sorry. there's a...Uh. and this woman.And anyway.\\nI think it's a neat story.And I think it's a great cast.Um. uh. but. uh...Yeah. I'm sorry.\\nI have some--it's weird.I'm really happy about\\nthe project. I really am.I got--you know. there's--\\nI've got issues with some of--Actually. Calvin. Calvin is.\\nI think. I don 't know--You know. other people...get more excited about him\\nthan I do.It's not to say I'm not happy\\nhaving him on the movie.I think that's great. and\\nI'm sure he's very good in it.I just don't get what\\nthe big thing is with Calvin.I think--you know. you picture\\na role in a certain way...And sometimes it's--\\nI'm not always right. either.I know. you know. certainly\\nmy wife thinks he's great.(Heavy breathing)(Shuts door)FRANCESCA:\\nI'm starving to death.-Well, l've got it right here.\\n-I might actually faint.OK, tuna. No celery.No celery and no...-Onion.\\n-Right.Uh. so listen...you know that thing\\nthat we were talking about?Um. I can't keep--OK. I mean---Come on, come on.\\n-OK, OK.I'm uncomfortable dealing\\nwith this aspect of your life.I don't want to talk to them.Well. I don't want\\nto talk to them. either.I don't even want to talk\\nto the guys l'm dating.Uh-huh.\\nWell. I'm not dating anyone.A date is not dating.Well, you know,\\nsomeone buys you dinner...you owe them a phone call,\\nin my opinion.See. dinner--\\nthat's where I fucked up.It should have been lunch,\\nbecause lunch is meaningless.They all seem pretty nice\\nto me.Well, they don't strike you as,\\nlike, networky, freaky...actress-dating\\nexecutive types...with their water bottles\\nin, like, a mesh tote bag?This is really--\\nthis is disgusting.I can't eat this.\\nThat arugula is so bitter.It's like\\nmy algebra teacher on bread.-OK.\\n-Ugh.I'm truly, l'm--look at me.I'm gonna faint.\\nI might actually faint.We all know how you get\\nwhen your blood sugar's low.All right. I'll be right back.OK. Thank you.-You're welcome.\\n-I need some wet naps, too.-OK.\\n-Tuna fingers.-Don't want tuna fingers.\\n-No, we don't.-You're an angel. Thank you.\\n-Oh, you're welcome.Oh. post-its!LEE: See. I knew\\nsomething was wrong. I just--I didn't know it was that.I had that one this morning.(Kisses)CALVlN: Hey...I need to talk to you\\nabout something.-Lee--\\n-Don't.(Cell phone ringing)(Ring)Why did you even pursue this?What? Wait a minute.\\nYou came over and spoke to me.Now, all of this began\\nbecause of you.Are you saying\\nyou weren't attracted to me?No--Gus told me\\nto watch out for you.Gus told me\\nto watch out for you.I'm forty-one tomorrow,\\nCalvin--the age where\\nI could have a stroke...in the middle of the night.If you think l'm not going\\nto Gus', you're...OK, I have a meeting.\\nGo fuck somebody else.-Hey.\\n-Hi.-You're still here?\\n-Yeah, I was just upstairs.I was shopping\\nfor my friend Gus.-Oh.\\n-Yeah.-Are you OK?\\n-Oh, yeah, l'm good.I've just had really some\\nsad cases today, so l'm just---l'm sorry.\\n-l'm emotional.Yeah.\\nWhat did you get him?-Who?\\n-What did you get Gus?Oh. They didn't have it.-What was it?\\n-Yeah.-Are you...\\n-lt was a thing.He's--he's, uh...It was--they didn't--you know,\\n'cause he's forty today...and I was just gonna get him\\nsome, I don't know, this---Are you OK?\\n-Yeah.I just have to go.\\nI'm really late, so---Are you sure?\\n-Yeah.I'll call you later.Oh, OK.Thank you.Um, you need to find him.Um, you need to find him.I don't know if he knows\\nl'm here at the office...so I have to have a contact\\nname in order to transfer you.Um. Harvey's not here\\nat the office right now.He sees on the TV a murder...and as he listens to the murder,\\nhe just goes white.His whole face\\njust goes white...and he bolts\\nfrom his apartment.Now. we follow him.The murders--they deviate\\nat this key point...for reasons nobody can\\nunderstand. because--T ell Trevors l'm not gonna\\ndo it. I'm not gonna do it.Good, good. Go. Sorry. Go ahead.Aah.My brother Bob\\nshould look at this.Yeah. Good. Good!-Great.\\n-Good.CALVlN: Motherfuckers.Did you see their faces\\nlooking at us?Yes.It was like a labrador\\nstaring at a Picasso.Right.Ed, we walked in there\\nwith a china cup.-They want beer mugs.\\n-Yeah, right?I could so see myself\\nin that part.Right?Fuck!-lt's all right.\\n-All right, I gotta go.-See you later.\\n-See you.Hey, Ed, keep the faith.It was good. It was good.-Mr. Liveright.\\n-Hey, hey. Bill.-Come on in.\\n-Thanks.-Ann?\\n-Yeah.My massage is here.\\nI'll call you back in an hour.-How about in back? Good?\\n-OK, sure.Um, what do you think\\nabout the lighting?A little light--too bright?Whatever you're comfortable\\nwith is fine. Yeah.I think a little darker.-Like so.\\n-Sure.-Need some help?\\n-No.Done it before, huh?Bill Liveright--great name.Well, a name with a message\\nis a good name, right?I don't know.\\nIt just always eluded me.Mmm.\\nMoney is just feminine energy.Huh. It always seems so male.\\nI don't get it.Money: Mater. The Latin.You connect with that,\\nand you're golden.You make it sound pretty simple.-lt is.\\n-Just connecting with it.You're catching on, Ann.Look, don't be\\none of the confused people.If you have purpose,\\nyou can just wade right through.It's like running past\\npeople who are asleep.OK...you can turn over now.I think I kind of drooled\\na little bit.Just scoot your head down.\\nso you're not in the hole.(Exhales)OK.You're from L.A.?No. Miami, actually. You?-New York.\\n-Oh.(Sniffs)Do you find me attractive?What?Yes.In what sort of way?In a human sort of way.-Ann.\\n-Bill.It's my birthday, Ann.-Really?\\n-Yeah.Happy birthday.What's your philosophy\\non release?You know what, Bill, I know\\nwhere you're going with this...and the thing is,\\nI don't do it, so...Right. Not even\\nfor a little extra money?Mm-mmm. It's not\\nthe kind of massage I do.Right.I offer a release\\nof tension and toxins...and sometimes emotion, but...Yes, well,\\nthat's what l'm talking about.-Well, I don't do it, so--\\n-lt would take thirty seconds.Oh, yeah.\\nYou can come in thirty seconds?-Do you have a second-hand?\\n-Look, I can't do it.You could stop\\nafter thirty seconds.Five hundred dollars.\\nWhen was the last time...you made five hundred dollars\\nfor thirty seconds of work?-You're cruel.\\n-l'm not cruel, l'm practical.You need the cash,\\nI need the release.This is crazy.Five hundred dollars, Ann.You can't make any noise.-The place is noisy.\\n-No. You can audibly exhale.You can't moan or grunt or sigh.I can't moan or grunt or sigh,\\njust audible exhale only?-Yes.\\n-Ahh!No. Too loud. And if\\nyou do it--it's too much.I'll be quiet.\\nOK, Ann, l'll be quiet.Are you ready?Fuck.Are you ready?Will you just hand me\\nthat plastic bag right there?Well. why?No reason.(Sighs)Oh.Oh, my God.Ahem.-Here.\\n-Thank you.GUS: Shit.-Hey, Ann?\\n-What?I'm sorry.\\nI thought I had more cash on me.-That's OK, Bill.\\n-I saw an ATM in the lobby.You know what? There's a limit.There's a limit.To the machine. You can only\\nget three hundred dollars out.Could you move that, please?\\nThat bag.-You're kidding.\\n-No, l'm not kidding.-I feel bad.\\n-You should.You should feel\\nreally bad and ashamed.It's...-Hold on.\\n-Forget it.-Just hold on a second.\\n-You know what? Forget it.It's pathetic.Mater equals money.  I mean.\\ngive me a fucking break.All the world loves a winner.You know why\\nthey love the winner?Because they think\\nhe knows something.I mean, he had to know\\nsomething in order to win.So, we admire him.But the winner doesn't\\nlearn anything from winning.No, the loser--the loser\\nlearns something about himself.Losing teaches you\\nabout yourself.So. the loser's the winner.I don't know. I mean.\\nit's not in actual terms.I'm speaking figuratively.(Elevator doors open)Sorry. Excuse me.-Good night, Denny.\\n-May I see you, please?The gentleman in 205\\nleft this for you.Oh. Huh.Wow. That was nice.GUS: Ann. thanks\\nfor the happy ending. Bill.Nice card.(Opens bottle)Django?Django? Hey, hey, hey!(Clapping) Sweetie-pie?Dja--(Hums)LEE:\\nI know what they say.I know what they say\\nabout me--my colleagues...and my family.I don't--fucking movies.OK, let's fucking go.Fucking movies!Fucking overpaid, fucking\\nunhappy childhood fuckers.Fucking movie fucking fuckers.Let's go! Somebody--\\nJesus, buddy!Uh, do you think somebody else\\ncould go?Maybe one of us could\\nfucking cross the street?Fucking movie cop!Hey. fucking movie cop!Could I maybe\\nfucking cross the street?Francesca Davis. Fuck.Yes. He's gonna get--what?\\nDehydrated? OK.Yes. Yeah, I understand.\\nThank you.Hello. Yeah, hi.(Clears throat)\\nI did that...and--and I gave him\\nsome water, yeah...and I was just hoping\\nthat Dr. Green could come by...and, uh, and give him\\na quick look.Oh, he is?Oh, I see. Uh...Yeah?Well, if--you know,\\nI just--I just, uh...want to make sure\\nhe's not gonna die...you know, or anything.Um, so if you could,\\nthat would be great.Right, heh heh. Yeah.Uh, that's fantastic.Yes, I will see you then.Yes. What? The address?Oh. Oh, my address. Oh, yeah.I guess you'd need that,\\nwouldn't you? Heh heh.(Alarm chirps)(Cell phone rings)Hi.I know.\\nYou know, I can't really talk.I'm going into a store.\\nCan I call you back?OK.Oh, really?Oh that'd be--\\nthat's--that's great.I'm--l'm glad.You met Gus?Where? Wow.\\nYeah, well, there's a guy...who could change your life,\\nyou know?(Sighs)So, l'm gonna get the dress.-Oh, good. Great.\\n-Yeah.LINDA: Mm-hmm. Sure.Yeah. I was. um. fat...overweight. and very short...and. um. I hadn't\\ngone through puberty.So. yeah. I mean. I looked.\\nyou know--I did not look...Iike I would've liked\\nto have looked in high school.Yeah. surely I would've\\nchanged my social status.I still would. Heh heh. Yeah.Treat myself.So, that's five there.Oh, great. Thank you very much.-OK.\\n-Excellent. Thank you.Hey, you came. I thought\\nyou were coming later.No.Hey. How are you, man?\\nGood to see you.The house is open, guys,\\nif you want to...-Oh. Hi, Dee.\\n-lt's good to see you.Good to see you.\\nThank you for coming.Good.That guy didn't pay.Did you pay, sir?MAN: I did. yes.\\nWould you like--No, no. I just--I saw you\\ncome the other way...and most people were coming...\\nI'm sorry.Right in here.\\nRight there on the sofa.Oh, boy.What else was in the brownies\\nbesides chocolate?Um...-Hash?\\n-Yeah.Aw, come on, man.No. My wife\\nbrought it back from London.We made the brownies\\nfor my friend's fortieth--So, what'd you do,\\nleave it out for him to eat?No, no. I know.\\nWhen I left it, look...it was right here\\non this counter.I didn't think\\nhe could jump that high.He's got little legs like a...All this--he ate all this.It's so much better than pot,\\nright?-Uh--\\n-Aw, no, no, no.You don't understand,\\nyou don't understand.I haven't smoked that in years,\\nso, you know what l'm saying?Goddamn.When I was in my twenties,\\nthis guitar player and l...would make up all these lyrics\\nwhile he played...and our songs would end up...with all these fucked-up\\nrhyme schemes.Heather. Heather, l'm sorry.\\nIs he going to be all right?Oh, he's going to be fine.\\nHe's going to be fine.So, uh...you going to throw that out?(Saxophone playing)Look, you liked it...and you've told me\\nyou haven't liked things.You liked it. Man, listen.\\nI don't want you telling me...you're not going to pursue\\nany more meetings...because\\nthis is what I want to do.I'm serious. OK?Hey. Iisten. Could you. Iike...It's better now.\\nIt's a lot better now.Ed and l,\\nwe've been working on it.We've been\\nbeefing up the scenes.And that whole thing\\nyou mentioned...I agree with you--\\nabout me being in it.I'm not going to do it.Even if they ask about it.\\nwe're not going to build it in.I figure. you know.\\nin the long run...it's probably a good thing...me trying to establish myself\\nas a writer instead of an actor.Like Pinter. You know. Pinter.\\nhe was an actor.He started off as an actor.He still acts. occasionally.All right, this shit\\nis cyclical, you know that?All right. don't.\\nDon't. don't. don't.I got it.OK. Thank you.(Line ringing)If you stop telling me\\nthat that letter makes sense...you can throw up all you want.\\nHow about that?Tch. Yeah. Aw.Do you know her?-Ahem. Who?\\n-Carl's wife.Nuh-uh.That's kind of funny, because\\nl've heard things, actually.Yeah. Yeah.\\nA couple of them.-Hey, how are you doing?\\n-Uhh.Hey, Fran, listen,\\nI want you to meet--Frannie. It's Lucy Morgan.\\nL.A. Magazine.-l'm sorry. I--\\n-The Sedona piece.Oh, my God. Yes. Oh, wow.Wow. You changed your hair\\nor something?Yeah. How do you know Cal?-Uh. we--\\n-It was a dinner.Yeah.Excuse me.Hey.Hi.Is it--is it upstairs,\\nor is it in there?God.-Oh, this is wrong.\\n-No.-l'm overdressed.\\n-You look...-I wasn't sure what...\\n-lt's on the roof.Where's Carl?He's not here yet.\\nI just, um...-We should go up and...\\n-OK.-Wow.\\n-You OK?Yeah.You know,\\nI wish I didn't have this on.No. You look great.Well...You know, I have to admire you\\nfor your belief...in this project.\\nbut the reality...is a whole different thing\\naltogether.It's all marketplace shit.And I don't think that\\nthis is a good role for you...so don't even push that.When does this article\\ncome out?In a couple of months.Well, you call me...if you can't get any answers\\nout of this guy.Thank you.Nice to meet you.Nice seeing you.Huh?Huh?Meltzin.Name kind of suits him.\\nOh, Nicholas.No, it looks good.\\nWhere'd you get that dress?No, it looks good.\\nWhere'd you get that dress?-Seaver.\\n-Where?On Third. Do you know it?-ls it good?\\n-Yeah.-lt was on sale. I like it.\\n-No, it's...Oh.God.All chromium is not bad,\\nthough...because\\nI get Fitness magazine...I need a drink.No. I'm saying there's\\na lot of good chromiums.-I read it in a magazine.\\n-Hey.Hey. I wouldn't go\\nto the lengths...of bathing in bottled water,\\nthat's all l'm saying.I believe what you're saying.-Franny Davis?\\n-Yeah.Sam Osborne.-l'm sorry.\\n-The Duchess of Malfi.-Birchers.\\n-Yeah.I was the lighting guy.Mmm. Oh, my God. Oh, OK. Yeah.-Sam Osborne.\\n-Osborne.-How are you?\\n-Nice to see you again.Oh, you, too. Wow. That's funny.-Yeah.\\n-That's--Do you remember when you said...l feel like a waitress\\non vacation?Oh, God.It was, like, just the cutest\\nthing l've ever heard, and...I don't know why\\nthat just stuck out.I don't--yeah.\\nI just--um, well...-I was going to go...\\n-OK.Jesus. You remember that?Yeah.Yeah, I do.-I got a funny memory that way.\\n-Oh.Anyway, hey,\\nl--I don't want to bug you.I know you got\\nlots of people to see.I just wanted to say\\nhow happy I am for you, and...Oh, thanks. Thank you.It's--I always thought\\nyou had something special.This...You know, it's just amazing\\nwhat you've been able to do...-well, from...\\n-From nothing. Ha ha ha!Or, well...yeah.No. I'm just--l'm--thank you.\\nThank you.Right. Good. Well, hey...-Cheers. Good to see you.\\n-Thank you. Cheers.I couldn't Cheers you.\\nI don't have a drink...but, well, shit,\\nSam Osborne...Ha ha!\\nBirchers lighting guy.Birchers.Get me a--\\nwhy don't you come with me?(Laughs)-Yeah. OK.\\n-OK.-Nicholas. Oh, my goodness.\\n-Oh, God.-Uhh.\\n-Let's get you on the sofa.-Oh, God, did I just--\\n-Yes, you did.-Ohh.\\n-Go slowly.Ah, Catherine, l'm sorry.Are you all right?-Here's some water.\\n-Oh, thank you so much.-I feel a little light headed.\\n-Here, have some water.-Yeah.\\n-Drink it.Yeah?\\nAre you sure you're all right?-Mm-hmm.\\n-Thank goodness.-I need to ask you something.\\n-What?I need you to come back\\nto New York with me.-Nicholas, I can't--\\n-No. It's the letter.Catherine, it's that letter.\\nI can't get it out of my head.Well, but that was--I've never had anybody\\nwrite me a love letter.-Never.\\n-But I just--No, listen.\\nYou come back to New York.You're here.\\nYou there just makes sense.You write the article,\\nand--and we go from there.Nicholas, these kind of things--A moment of inspiration...that's all\\nanybody ever really wants.Mmm.To have an original idea...to fall in love.It takes courage...to surrender these things.Especially when you have\\ncontrol issues.I get that a lot.(Sighs)I know what\\nthey're going to talk about...when they talk about me.They're going to talk\\nabout the mustache.People are so fucking petty.People say,\\nGod, what's up with that?Like, didn't you know\\nthat Chaplin had it first?Yeah! I knew, OK?(Sighs)It's either the name\\nof your first pet...and the first street\\nthat you ever lived on...or it's your middle name...and the first street\\nthat you lived on.Well. which is it?\\nI think--is it pet?-Pet.\\n-lt's pet.So. if it's pet...\\nall right.WOMAN: I'm Daisy Bufane.Daisy Bufane?Jo Jo Mountainview.(Laughter)I would be Peavey Meander.-What?\\n-Peavey Meander.Meander.-Thurston Craddock.\\n-Hmm.Uh, Baron Von Hugecock.(Laughter)What?\\nThat's--that was my street.I lived on\\nVan Hugecock Avenue.(Laughter)MAN: The little kid\\nwho lives on Van Hugecock.FRANCESCA:\\nOh. God. where is Gus?-Save us from this misery.\\n-Uhh.CARL:\\nSo. it's your middle name...-Right.\\n-first.CARL: And then--and then...the name of the street\\nthat you grew up on.HEA THER: OK.(lnhales)Lolita...Honeysuckle.(Both laugh)(Line ringing)(People chattering)CALVIN:\\nAll right. I'll open it.Obviously. everybody.\\nGus is not here...so I was thinking...to pass the time,\\nwhy don't we all just kind of...whoever wants to, stand up\\nand give our little Gus stories.Uh, so, let me start off.I think\\nmy favorite Gus moment...was when he called me\\nat 1:20 in the morning...to ask what\\nI really thought about him.WOMAN: What'd you say?What did I say?\\nWhat did I say?I said, Well, Gus,\\nwhatever I think about you...l'm going to think the same\\nthing at 10:00 in the morning.Then I hung up.-Whatever.\\n-Calvin.Aw...It's all right. It's all right.Listen.\\nIet's get down to business.If someone wants to stand up.\\nplease. feel free.The floor is open.MAN. TAPPING GLASS:\\nAll right. I got one. Calvin.Yes.\\nthat's right. that's right.So. Gus and I--some of you\\nmay not know this--Gus and I used\\nto hunt together. all right?And this one time, we're\\nwaiting up in this deer stand...and, uh, Gus climbs down...to relieve himself\\nin the bushes, OK?(lnflating)And. uh--it gets funnier.\\nIt gets funnier.So. uh...Wow. Thank you. man.I can't tell you\\nhow much that means to me.I really appreciate that,\\nyou know?Especially coming\\nfrom someone like you...who writes and acts and directs\\nand plays the sax.Originally,\\nI kind of felt like...it was really coming after me,\\nyou know?Now I feel like\\nl'm coming after it.Perfect.It's not coming after me.\\nI'm going to get it.-Can you grab that sword?\\n-l'm already on it, man.It's weird. I was watching\\nthis interview with Al.-Pacino?\\n-Yeah.And he was talking\\nabout the differences...between stage acting\\nand film acting...and he was talking about\\nhow being on stage...is like being on this high wire,\\nlike, a hundred feet up.And if you fall,\\nyou're fucked...but acting in film is like\\nhaving the wire on the...-Ground.\\n-On the Ground.Oh, OK, you've heard that.Yeah, man, working for guys\\nlike you and Carl...-the writing, just everything--\\n-Aw, come on, man.Where is Carl, by the way?\\nIs he...He had a party to go to.Oh, that's right.\\nIs that that producer guy?-Gus Delario.\\n-Oh, OK.That's not too shabby.\\nCarl owns a tux, huh?Mm-hmm.Huh. Not just one of those\\nshirts with the design on it?You know, he says\\ngood luck and break a leg.Thank you. Thank you.Did I tell you about tomorrow?Yeah. Fuck, man.\\nGood luck, you know?That should go really good.\\nAnn? Is that her name?Yeah. It's a nice name.I hope so, man.\\nI've been looking a long time.Yeah. I hear you.\\nIt's hard. I don't know.You want to go for a beer\\nor something?No, I got to teach a pilates\\nclass, but thank you.FRANCESCA:\\nShouldn't we all say grace?I think you're right.Listen, it's been 45 minutes,\\nand Gus is still not here...so let's eat.\\nEverybody dig in.MAN: Thank you.FRANCESCA:\\nEven at a party--bossy. bossy.CALVIN: You know you love it.\\nYou love it. You know you do.(Low conversations)-Oh!\\n-Oh!FRANCESCA:\\nWhat are you doing? Shit.* C-C-C-Calvin *I'll get my ball. (Giggles)CALVIN: Uh. everybody. this is\\nLee Bright. Carl's wife.Hi!Our writer.\\nGave us a beautiful script.-Hi.\\n-Hi.Hi. Thank you.Lee, Lucy Morgan. L.A. Magazine.\\nI've worked with Carl.Oh, yeah. That's right. Hi.\\nHow are you? Nice to meet you.Hi. I'm Lee.Yeah. Hi, hi.Hey, can you name all\\nthe countries in Africa, Calvin?What do you want from me?-l'm not drunk.\\n-OK. Let's go.I'm just--\\nyou know, fuck you, man.-Yeah, let's go.\\n-He needs to sober up.All right. Sorry.\\nSit down. Sit down.He needs to fucking sober up.\\nI mean, come on.LlNDA:\\nYou know what? Enough. No more.No more drinks, all right?\\nI'm sorry. I'm sorry.No more. Do not drink anything.\\nCarl's on his way, all right?-Where are you going?\\n-l'll be right back.Don't drink\\nand don't talk to anybody.No one!Tch.Tch.(Knocking)Hey, Soledad. Do me a favor.-You're beautiful.\\n-Oh, thank you.-You working?\\n-No, l'm not.You know.\\nI left something in here today.Could you just let me in\\nfor a second?Of course.Yeah. Thank you.Thanks. Gus?Hello?Hello?Oh, my God.Oh. my God.(Linda runs out)LEE: I mean. I'm wearing\\na linen suit. for God's sake...and mascara's\\nrunning all over my face...(Cell phone rings)And I'm the only fucking car\\nin the parking lot.(Cell phone rings)It's...Iate...Hey, where did you go?Why?He's what?OK, OK, look, look, look,\\nwe gotta call somebody, OK?We'll call down, and l'll say\\nI left something in here...We'll call down, and l'll say\\nI left something in here...and I came up and I knocked\\nand he didn't answer, OK?What? What?\\nLee, I don't know what!-Just wait.\\n-Fuck!Wait for what? Oh, my God!A few hours ago he was alive,\\nOK? He was really alive!-Oh, man!\\n-Gus?-Fuck, fuck! Do not touch him!\\n-He's cold.-Jesus Christ!\\n-Oh, my God!Of course he's cold!CARL: I don't know\\nifyou can calculate...I don't know\\nif you can quantify...the effect that would have\\non a ten-year-old girl.I think Lee is like...Have you ever seen\\na dog get hit by a car...but walk away?And... there's this impact...and you know\\nsomething terrible...has happened to that dog...but it walks away...and it doesn't seem to even\\nrealize the implications...'cause it just goes on.But you know\\nthat something terrible...has happened inside this dog.LEE:\\nWhy do you think he did it?Oh, God, I don't know.It's some weird sex thing.\\nI don't know.LEE: No. Not this.Ohh.CARL: That's. I think.\\nwhat happened to Lee.It's like--it's like--She's a dog that got hit by\\na car. and she walked away...and she's still walking. but...LINDA: I don't know.\\nI guess he was really sad.CARL: Some very. very\\nimportant things...inside her are damaged.LEE: Oh.Jesus.(Traffic noise)CARL: So... my wife and I\\nwere having trouble...and I said I thought\\nmaybe we were in a rut...and that maybe\\nwe should try something...to liven things up.\\nand she said. Like what?And I said like maybe we should\\ntape ourselves doing it.And she was\\ncompletely shocked by this...and she thought\\nit was beyond disgusting...and that was that\\nfor. Iike. four months.And then one night.\\nout of the blue...she says. Let's do it.Ohh... (Laughs)So, we get it all set up, and\\nl'm ready and she's ready...and, uh, and she has gone out\\nand bought herself...a little toy to use\\nin the video.Really?Well, it's not a little toy.\\nIt's a--it's a huge...(Giggling)Fucking...I mean, it was--No one has a--you know, OK.Well, anyway, I took one look\\nat this thing...and I knew\\nI would not be able to--(Laughs)I mean, it--I just couldn't--\\nI couldn't...I couldn't.So we haven't.And, you know...you can't come back\\nfrom something like that.I don't know whether\\nshe lost respect for me...or I lost respect for myself,\\nbut something was lost.HEATHER:\\nWhat are you going to do?CARL: I have no idea.I mean. I know professionally.\\nI'm gonna go back to teaching.I always loved teaching.-Really?\\n-Yeah.CARL: Never learned a thing in\\nmy life. but I love teaching.The legacy of higher education.HEATHER: What about your wife?CARL: Tsk. I...will hope\\nthat we get over this.HEATHER: Hmm.CARL: Aside from loving her.\\nI just really like her.A lot.But...I guess she thinks...everyone and everything\\nis against her.Somehow I just think...it keeps her from being happy.(lnhales)Is that your wife?-Hey!\\n-Hi.HEATHER: l'm with Dr. Green.CARL:\\nThis is--Heather, this is Lee.-Django, he was sick.\\n-Django ate the brownies.-Yeah.\\n-He's OK.-He's fine now.\\n-We put him to bed.CARL: Are you OK?Um, the...they found Gus\\nin his hotel room.He's--he's dead.(Crying) He's--HEATHER: I should go.CARL: OK, OK. Thank you.\\nThank you. Thank you for that.HEATHER: Yeah.Hey...OK?(Sniffles)OK. OK.He--he's dead.Oh.Oh, sweetie pie. OK.Um...(Sobs)Well...If you ever left me,\\nI would die.I would die. Please don't.OK.(Kisses)(Sighs)I just want this day to be over.(Laughs)Mmm.(Sobs)Yeah. Let it out.OK.(Door closes)-Happy birthday.\\n-Thanks.CARL: Mmm.LEE: Hi.Did you have any\\ninteresting dreams last night?CARL:\\nUm...no. Back to normal.LEE: Oh.CARL: I had an afro.LEE: Huh?LEE: I really don't know\\nwhat you should do...when you're in love\\nwith someone.I know that you're thinking\\nabout them all the time.You want to be with them\\nand see things with them.I think it's impossible.\\nIt's an ideal to just think...that you can actually\\nbe kind all the time...and never be disappointed\\nin them or by them.It's hard. I mean. it's like\\nthe dream is short-lived.CARL: You've got\\nto keep hoping that...that there's more.FRANCESCA:\\nYou know. you always--It's when\\nyou least expect it...that something\\nkind of pops up. Iiterally.He just was--\\nappeared. kind of...Um. so...And nice that it's somebody...that I knew\\na really long time ago.And. clearly. you know.\\npaid attention to me...before I was. you know. blond.(Laughs)So. that makes it nice...but I think\\nthat it's just fate...and it's kind of. um...I don 't know. And today. just\\nnegative ions in the air...bringing good fortune\\nand--and. yeah.Yeah.Sam Osborne.CAL VIN: I think.\\nyou know. with Lucy...she's a good listener.\\nIike I said...but she's also. you know.\\nshe's teaching me stuff.She comes from a nice family.\\nHer parents are still together.She got three-four\\nbrothers and sisters...and they're\\na real close-knit family.It's just the opposite\\nof where I had come from.I don 't know. Honestly.\\nI don 't know what it is.I mean. I gotta just kinda go\\noff my gut right now...and just see what feels right.And right now.\\nwhen I'm with Lucy...man. it just feels right.(Piano playing)(Piano playing)(Sighs)(Footsteps)Catherine.Nicholas.You're here.I am.I wasn't sure.Neither was l--until now.Mmm.-Mmm.\\n-Mmm.(lce rattling)(Announcement on P.A.)(Soda hissing)-Did you get that?\\n-The announcement? No.-Where you going?\\n-Oh, Tucson.Mmm! I'm going to Tucson.-Oh, yeah?\\n-Yeah.-You ever been?\\n-No.It's supposed to be beautiful.That's what I hear.\\nI've never been, either.(lce rattling)-l'll see you on the plane.\\n-All right.-Oh, are you Russian?\\n-No.No. you're supposed to say.\\nAm I rushin' where?(Both laugh)-That's funny.\\n-Thanks.Hi. I'm sorry.\\nIs this seat taken?-No, no.\\n-Great.Ohh.Sorry.\\nI hope this isn't a full flight.-Yeah, I hope so, too.\\n-Sorry.LINDA:\\nYou know. I was ready to go.I was at the airport.\\nand I met...Iike. in the food court.\\nI met this guy. um...and then he sat next to me\\non the plane...and we just hit it off.His name's Arty. and we just...He just made me laugh.\\nHe's really funny and sweet...and. um. sort of open.We just talked the whole time.\\nthe whole flight.ARTY:.\\nShe laughed in a way...that made me feel like\\nshe saw me.I blew off\\nmeeting--meeting Ann...but we ended up spending\\nthe weekend together.And she's terrific.LINDA: It was amazing.\\nWe just had an amazing time.It was definitely--It was like out of a movie.(Rock music playing)* Do something real ** Sidewalks chasing.\\ncitizens racing ** Do something real ** Bloodhounds closing in\\non opposing men ** Do something real ** Do something real ** Crows like rats\\nlike cats on vacation ** Do something real ** You've been scrapped.\\nI'm trapped at the station ** Small claims courts.\\ncommunity snorts ** It's fine\\nwhen it's so concealed ** Do something real ** Extra special happiness ** Defined\\nby an endless field ** Of nothing real ** Do something real ** Crap stripe exits.\\nexaminers expect it ** Do something real ** Plot of rockets.\\nholy ghost markets ** Do something real ** Small claims courts.\\ncommunity snorts ** It's fine\\nwhen it's so concealed ** Extra special happiness ** Defined\\nby an endless field ** Of nothing real *This is, like,\\nthe apex of the drama.When we know\\nwho the killer is...I know.\\nThe audience doesn't know yet.But I know.(Snaps fingers)And this is where you see me\\nput the pieces together.\"]"
            ]
          },
          "metadata": {},
          "execution_count": 40
        }
      ]
    },
    {
      "cell_type": "code",
      "source": [
        "tokenizer = AutoTokenizer.from_pretrained(\"distilbert-base-uncased\")"
      ],
      "metadata": {
        "colab": {
          "base_uri": "https://localhost:8080/"
        },
        "id": "Xl1MnQ1rYAw4",
        "outputId": "1968a4f8-6e90-41ec-c7b2-ed0ec568ccc3"
      },
      "execution_count": null,
      "outputs": [
        {
          "output_type": "stream",
          "name": "stderr",
          "text": [
            "loading configuration file config.json from cache at /root/.cache/huggingface/hub/models--distilbert-base-uncased/snapshots/1c4513b2eedbda136f57676a34eea67aba266e5c/config.json\n",
            "Model config DistilBertConfig {\n",
            "  \"_name_or_path\": \"distilbert-base-uncased\",\n",
            "  \"activation\": \"gelu\",\n",
            "  \"architectures\": [\n",
            "    \"DistilBertForMaskedLM\"\n",
            "  ],\n",
            "  \"attention_dropout\": 0.1,\n",
            "  \"dim\": 768,\n",
            "  \"dropout\": 0.1,\n",
            "  \"hidden_dim\": 3072,\n",
            "  \"initializer_range\": 0.02,\n",
            "  \"max_position_embeddings\": 512,\n",
            "  \"model_type\": \"distilbert\",\n",
            "  \"n_heads\": 12,\n",
            "  \"n_layers\": 6,\n",
            "  \"pad_token_id\": 0,\n",
            "  \"qa_dropout\": 0.1,\n",
            "  \"seq_classif_dropout\": 0.2,\n",
            "  \"sinusoidal_pos_embds\": false,\n",
            "  \"tie_weights_\": true,\n",
            "  \"transformers_version\": \"4.26.1\",\n",
            "  \"vocab_size\": 30522\n",
            "}\n",
            "\n",
            "loading file vocab.txt from cache at /root/.cache/huggingface/hub/models--distilbert-base-uncased/snapshots/1c4513b2eedbda136f57676a34eea67aba266e5c/vocab.txt\n",
            "loading file tokenizer.json from cache at /root/.cache/huggingface/hub/models--distilbert-base-uncased/snapshots/1c4513b2eedbda136f57676a34eea67aba266e5c/tokenizer.json\n",
            "loading file added_tokens.json from cache at None\n",
            "loading file special_tokens_map.json from cache at None\n",
            "loading file tokenizer_config.json from cache at /root/.cache/huggingface/hub/models--distilbert-base-uncased/snapshots/1c4513b2eedbda136f57676a34eea67aba266e5c/tokenizer_config.json\n",
            "loading configuration file config.json from cache at /root/.cache/huggingface/hub/models--distilbert-base-uncased/snapshots/1c4513b2eedbda136f57676a34eea67aba266e5c/config.json\n",
            "Model config DistilBertConfig {\n",
            "  \"_name_or_path\": \"distilbert-base-uncased\",\n",
            "  \"activation\": \"gelu\",\n",
            "  \"architectures\": [\n",
            "    \"DistilBertForMaskedLM\"\n",
            "  ],\n",
            "  \"attention_dropout\": 0.1,\n",
            "  \"dim\": 768,\n",
            "  \"dropout\": 0.1,\n",
            "  \"hidden_dim\": 3072,\n",
            "  \"initializer_range\": 0.02,\n",
            "  \"max_position_embeddings\": 512,\n",
            "  \"model_type\": \"distilbert\",\n",
            "  \"n_heads\": 12,\n",
            "  \"n_layers\": 6,\n",
            "  \"pad_token_id\": 0,\n",
            "  \"qa_dropout\": 0.1,\n",
            "  \"seq_classif_dropout\": 0.2,\n",
            "  \"sinusoidal_pos_embds\": false,\n",
            "  \"tie_weights_\": true,\n",
            "  \"transformers_version\": \"4.26.1\",\n",
            "  \"vocab_size\": 30522\n",
            "}\n",
            "\n"
          ]
        }
      ]
    },
    {
      "cell_type": "code",
      "source": [
        "def tokenize_function(examples):\n",
        "    return tokenizer(examples[\"text\"], padding=\"max_length\", truncation=True)\n",
        "\n",
        "tokenized_datasets = dataset.map(tokenize_function, batched=True)"
      ],
      "metadata": {
        "colab": {
          "base_uri": "https://localhost:8080/",
          "height": 17,
          "referenced_widgets": [
            "bee481f8e2ea4f0586060915a7445cc0",
            "6a61d952ee3f426caacf54d1a8842722",
            "66b89288d1e3454490545c89888e388a",
            "4448217e586c4140bdb5c88b1b5d8b2f",
            "3ba41befc4af4f3d8edcb5b22ecd92e0",
            "ddbd545a4714452e8fdc9ee8560c1358",
            "84bf4ad854a548d18c3eba2944ff2de8",
            "16b3dd856fbc42ca9e079f9005ecce6a",
            "c4440c43e8524740bc52676fbb204a6c",
            "ffdf74b5d56a43f386e56606bd6868ab",
            "d2184efe2e8f40238349780cf85f256b",
            "686cf7c8345349439345b2bfc5f3dbe8",
            "c0ad3086c0944d23a846b506b654d6c9",
            "177eb9c6274c46ceb05f3ce0b48e1332",
            "5753851a26804427a4141d4def7859cf",
            "41e9789fd17c4792aee293e05371b935",
            "8d438def73644e288446eea43e921003",
            "f020a823b0804840abdf0ded2dfa9072",
            "85d96070ed28421494c4d59e5b9cdeb9",
            "973f626b18bb4e52b71a72bc4a5ecf25",
            "c440aea1799f40749a5efefd7a04248f",
            "ea3dc628d08a4cc9bb32112a64bbd0a7"
          ]
        },
        "id": "Zb4YQdT_YEME",
        "outputId": "8ef3499b-9c48-43b9-bc0e-d877277443f2"
      },
      "execution_count": null,
      "outputs": [
        {
          "output_type": "display_data",
          "data": {
            "text/plain": [
              "Map:   0%|          | 0/700 [00:00<?, ? examples/s]"
            ],
            "application/vnd.jupyter.widget-view+json": {
              "version_major": 2,
              "version_minor": 0,
              "model_id": "bee481f8e2ea4f0586060915a7445cc0"
            }
          },
          "metadata": {}
        },
        {
          "output_type": "display_data",
          "data": {
            "text/plain": [
              "Map:   0%|          | 0/300 [00:00<?, ? examples/s]"
            ],
            "application/vnd.jupyter.widget-view+json": {
              "version_major": 2,
              "version_minor": 0,
              "model_id": "686cf7c8345349439345b2bfc5f3dbe8"
            }
          },
          "metadata": {}
        }
      ]
    },
    {
      "cell_type": "code",
      "source": [
        "model = AutoModelForSequenceClassification.from_pretrained(\"distilbert-base-uncased\", num_labels=1)\n"
      ],
      "metadata": {
        "colab": {
          "base_uri": "https://localhost:8080/"
        },
        "id": "bBeu50FQYQvg",
        "outputId": "078fdeaf-934b-43a7-91f2-268cf4831f27"
      },
      "execution_count": null,
      "outputs": [
        {
          "output_type": "stream",
          "name": "stderr",
          "text": [
            "loading configuration file config.json from cache at /root/.cache/huggingface/hub/models--distilbert-base-uncased/snapshots/1c4513b2eedbda136f57676a34eea67aba266e5c/config.json\n",
            "Model config DistilBertConfig {\n",
            "  \"_name_or_path\": \"distilbert-base-uncased\",\n",
            "  \"activation\": \"gelu\",\n",
            "  \"architectures\": [\n",
            "    \"DistilBertForMaskedLM\"\n",
            "  ],\n",
            "  \"attention_dropout\": 0.1,\n",
            "  \"dim\": 768,\n",
            "  \"dropout\": 0.1,\n",
            "  \"hidden_dim\": 3072,\n",
            "  \"id2label\": {\n",
            "    \"0\": \"LABEL_0\"\n",
            "  },\n",
            "  \"initializer_range\": 0.02,\n",
            "  \"label2id\": {\n",
            "    \"LABEL_0\": 0\n",
            "  },\n",
            "  \"max_position_embeddings\": 512,\n",
            "  \"model_type\": \"distilbert\",\n",
            "  \"n_heads\": 12,\n",
            "  \"n_layers\": 6,\n",
            "  \"pad_token_id\": 0,\n",
            "  \"qa_dropout\": 0.1,\n",
            "  \"seq_classif_dropout\": 0.2,\n",
            "  \"sinusoidal_pos_embds\": false,\n",
            "  \"tie_weights_\": true,\n",
            "  \"transformers_version\": \"4.26.1\",\n",
            "  \"vocab_size\": 30522\n",
            "}\n",
            "\n",
            "loading weights file pytorch_model.bin from cache at /root/.cache/huggingface/hub/models--distilbert-base-uncased/snapshots/1c4513b2eedbda136f57676a34eea67aba266e5c/pytorch_model.bin\n",
            "Some weights of the model checkpoint at distilbert-base-uncased were not used when initializing DistilBertForSequenceClassification: ['vocab_transform.weight', 'vocab_projector.weight', 'vocab_transform.bias', 'vocab_projector.bias', 'vocab_layer_norm.weight', 'vocab_layer_norm.bias']\n",
            "- This IS expected if you are initializing DistilBertForSequenceClassification from the checkpoint of a model trained on another task or with another architecture (e.g. initializing a BertForSequenceClassification model from a BertForPreTraining model).\n",
            "- This IS NOT expected if you are initializing DistilBertForSequenceClassification from the checkpoint of a model that you expect to be exactly identical (initializing a BertForSequenceClassification model from a BertForSequenceClassification model).\n",
            "Some weights of DistilBertForSequenceClassification were not initialized from the model checkpoint at distilbert-base-uncased and are newly initialized: ['classifier.weight', 'pre_classifier.weight', 'classifier.bias', 'pre_classifier.bias']\n",
            "You should probably TRAIN this model on a down-stream task to be able to use it for predictions and inference.\n"
          ]
        }
      ]
    },
    {
      "cell_type": "code",
      "source": [
        "model.resize_token_embeddings(len(tokenizer))"
      ],
      "metadata": {
        "colab": {
          "base_uri": "https://localhost:8080/"
        },
        "id": "bzsOYuWGYZzZ",
        "outputId": "5aef2d16-6a8d-4bcb-c80d-2f6f3c8e1549"
      },
      "execution_count": null,
      "outputs": [
        {
          "output_type": "execute_result",
          "data": {
            "text/plain": [
              "Embedding(30522, 768, padding_idx=0)"
            ]
          },
          "metadata": {},
          "execution_count": 44
        }
      ]
    },
    {
      "cell_type": "code",
      "source": [
        "from datasets import load_metric\n",
        "from sklearn.metrics import mean_squared_error\n",
        "\n",
        "def compute_metrics(eval_pred):\n",
        "    predictions, labels = eval_pred\n",
        "    rmse = mean_squared_error(labels, predictions, squared=False)\n",
        "    return {\"rmse\": rmse}"
      ],
      "metadata": {
        "id": "thETvhFcYaY-"
      },
      "execution_count": null,
      "outputs": []
    },
    {
      "cell_type": "code",
      "source": [
        "from transformers import TrainingArguments, Trainer\n",
        "\n",
        "training_args = TrainingArguments(output_dir=\"test_trainer\",\n",
        "                                  logging_strategy=\"epoch\",\n",
        "                                  evaluation_strategy=\"epoch\",\n",
        "                                  per_device_train_batch_size=16,\n",
        "                                  per_device_eval_batch_size=16,\n",
        "                                  num_train_epochs=3,\n",
        "                                  save_total_limit = 2,\n",
        "                                  save_strategy = 'no',\n",
        "                                  load_best_model_at_end=False\n",
        "                                  )\n",
        "\n",
        "\n",
        "trainer = Trainer(\n",
        "    model=model,\n",
        "    args=training_args,\n",
        "    train_dataset=tokenized_datasets[\"train\"],\n",
        "    eval_dataset=tokenized_datasets[\"test\"],\n",
        "    compute_metrics=compute_metrics\n",
        ")\n",
        "trainer.train()"
      ],
      "metadata": {
        "colab": {
          "base_uri": "https://localhost:8080/",
          "height": 773
        },
        "id": "8J85IBRuYm3n",
        "outputId": "7119ffa4-1906-4f22-cd50-bb1cb50888a6"
      },
      "execution_count": null,
      "outputs": [
        {
          "output_type": "stream",
          "name": "stderr",
          "text": [
            "PyTorch: setting up devices\n",
            "The default value for the training argument `--report_to` will change in v5 (from all installed integrations to none). In v5, you will need to use `--report_to all` to get the same behavior as now. You should start updating your code and make this info disappear :-).\n",
            "The following columns in the training set don't have a corresponding argument in `DistilBertForSequenceClassification.forward` and have been ignored: Sex_Nudity_Description, Violence_Gore, Substance_Use_Description, Sex_Nudity, HyperLink, Unnamed: 0.1, Discussion_Topics_Description, Unnamed: 0, Movie_Title, Movie_Description, Violence_Gore_Description, text, Message, Language_Description. If Sex_Nudity_Description, Violence_Gore, Substance_Use_Description, Sex_Nudity, HyperLink, Unnamed: 0.1, Discussion_Topics_Description, Unnamed: 0, Movie_Title, Movie_Description, Violence_Gore_Description, text, Message, Language_Description are not expected by `DistilBertForSequenceClassification.forward`,  you can safely ignore this message.\n",
            "/usr/local/lib/python3.8/dist-packages/transformers/optimization.py:306: FutureWarning: This implementation of AdamW is deprecated and will be removed in a future version. Use the PyTorch implementation torch.optim.AdamW instead, or set `no_deprecation_warning=True` to disable this warning\n",
            "  warnings.warn(\n",
            "***** Running training *****\n",
            "  Num examples = 700\n",
            "  Num Epochs = 3\n",
            "  Instantaneous batch size per device = 16\n",
            "  Total train batch size (w. parallel, distributed & accumulation) = 16\n",
            "  Gradient Accumulation steps = 1\n",
            "  Total optimization steps = 132\n",
            "  Number of trainable parameters = 66954241\n"
          ]
        },
        {
          "output_type": "display_data",
          "data": {
            "text/plain": [
              "<IPython.core.display.HTML object>"
            ],
            "text/html": [
              "\n",
              "    <div>\n",
              "      \n",
              "      <progress value='132' max='132' style='width:300px; height:20px; vertical-align: middle;'></progress>\n",
              "      [132/132 2:11:10, Epoch 3/3]\n",
              "    </div>\n",
              "    <table border=\"1\" class=\"dataframe\">\n",
              "  <thead>\n",
              " <tr style=\"text-align: left;\">\n",
              "      <th>Epoch</th>\n",
              "      <th>Training Loss</th>\n",
              "      <th>Validation Loss</th>\n",
              "      <th>Rmse</th>\n",
              "    </tr>\n",
              "  </thead>\n",
              "  <tbody>\n",
              "    <tr>\n",
              "      <td>1</td>\n",
              "      <td>11.779600</td>\n",
              "      <td>7.900503</td>\n",
              "      <td>2.810784</td>\n",
              "    </tr>\n",
              "    <tr>\n",
              "      <td>2</td>\n",
              "      <td>7.658600</td>\n",
              "      <td>7.474644</td>\n",
              "      <td>2.733979</td>\n",
              "    </tr>\n",
              "    <tr>\n",
              "      <td>3</td>\n",
              "      <td>6.080400</td>\n",
              "      <td>6.918003</td>\n",
              "      <td>2.630210</td>\n",
              "    </tr>\n",
              "  </tbody>\n",
              "</table><p>"
            ]
          },
          "metadata": {}
        },
        {
          "output_type": "stream",
          "name": "stderr",
          "text": [
            "The following columns in the evaluation set don't have a corresponding argument in `DistilBertForSequenceClassification.forward` and have been ignored: Sex_Nudity_Description, Violence_Gore, Substance_Use_Description, Sex_Nudity, HyperLink, Unnamed: 0.1, Discussion_Topics_Description, Unnamed: 0, Movie_Title, Movie_Description, Violence_Gore_Description, text, Message, Language_Description. If Sex_Nudity_Description, Violence_Gore, Substance_Use_Description, Sex_Nudity, HyperLink, Unnamed: 0.1, Discussion_Topics_Description, Unnamed: 0, Movie_Title, Movie_Description, Violence_Gore_Description, text, Message, Language_Description are not expected by `DistilBertForSequenceClassification.forward`,  you can safely ignore this message.\n",
            "***** Running Evaluation *****\n",
            "  Num examples = 300\n",
            "  Batch size = 16\n",
            "The following columns in the evaluation set don't have a corresponding argument in `DistilBertForSequenceClassification.forward` and have been ignored: Sex_Nudity_Description, Violence_Gore, Substance_Use_Description, Sex_Nudity, HyperLink, Unnamed: 0.1, Discussion_Topics_Description, Unnamed: 0, Movie_Title, Movie_Description, Violence_Gore_Description, text, Message, Language_Description. If Sex_Nudity_Description, Violence_Gore, Substance_Use_Description, Sex_Nudity, HyperLink, Unnamed: 0.1, Discussion_Topics_Description, Unnamed: 0, Movie_Title, Movie_Description, Violence_Gore_Description, text, Message, Language_Description are not expected by `DistilBertForSequenceClassification.forward`,  you can safely ignore this message.\n",
            "***** Running Evaluation *****\n",
            "  Num examples = 300\n",
            "  Batch size = 16\n",
            "The following columns in the evaluation set don't have a corresponding argument in `DistilBertForSequenceClassification.forward` and have been ignored: Sex_Nudity_Description, Violence_Gore, Substance_Use_Description, Sex_Nudity, HyperLink, Unnamed: 0.1, Discussion_Topics_Description, Unnamed: 0, Movie_Title, Movie_Description, Violence_Gore_Description, text, Message, Language_Description. If Sex_Nudity_Description, Violence_Gore, Substance_Use_Description, Sex_Nudity, HyperLink, Unnamed: 0.1, Discussion_Topics_Description, Unnamed: 0, Movie_Title, Movie_Description, Violence_Gore_Description, text, Message, Language_Description are not expected by `DistilBertForSequenceClassification.forward`,  you can safely ignore this message.\n",
            "***** Running Evaluation *****\n",
            "  Num examples = 300\n",
            "  Batch size = 16\n",
            "\n",
            "\n",
            "Training completed. Do not forget to share your model on huggingface.co/models =)\n",
            "\n",
            "\n"
          ]
        },
        {
          "output_type": "execute_result",
          "data": {
            "text/plain": [
              "TrainOutput(global_step=132, training_loss=8.506208477598248, metrics={'train_runtime': 7933.8924, 'train_samples_per_second': 0.265, 'train_steps_per_second': 0.017, 'total_flos': 278176576204800.0, 'train_loss': 8.506208477598248, 'epoch': 3.0})"
            ]
          },
          "metadata": {},
          "execution_count": 46
        }
      ]
    },
    {
      "cell_type": "code",
      "source": [
        "# save the model/tokenizer\n",
        "\n",
        "model.save_pretrained(\"model\")\n",
        "tokenizer.save_pretrained(\"tokenizer\")\n",
        "\n",
        "\n",
        "\n",
        "# load the model/tokenizer\n",
        "\n",
        "from transformers import AutoModelForTokenClassification\n",
        "model = AutoModelForSequenceClassification.from_pretrained(\"model\")\n",
        "tokenizer = AutoTokenizer.from_pretrained(\"tokenizer\")"
      ],
      "metadata": {
        "colab": {
          "base_uri": "https://localhost:8080/"
        },
        "id": "dvYaGNaAYqxw",
        "outputId": "7d9d2932-247a-461e-c45c-aaa0e4eee8ce"
      },
      "execution_count": null,
      "outputs": [
        {
          "output_type": "stream",
          "name": "stderr",
          "text": [
            "Configuration saved in model/config.json\n",
            "Model weights saved in model/pytorch_model.bin\n",
            "tokenizer config file saved in tokenizer/tokenizer_config.json\n",
            "Special tokens file saved in tokenizer/special_tokens_map.json\n",
            "loading configuration file model/config.json\n",
            "Model config DistilBertConfig {\n",
            "  \"_name_or_path\": \"model\",\n",
            "  \"activation\": \"gelu\",\n",
            "  \"architectures\": [\n",
            "    \"DistilBertForSequenceClassification\"\n",
            "  ],\n",
            "  \"attention_dropout\": 0.1,\n",
            "  \"dim\": 768,\n",
            "  \"dropout\": 0.1,\n",
            "  \"hidden_dim\": 3072,\n",
            "  \"id2label\": {\n",
            "    \"0\": \"LABEL_0\"\n",
            "  },\n",
            "  \"initializer_range\": 0.02,\n",
            "  \"label2id\": {\n",
            "    \"LABEL_0\": 0\n",
            "  },\n",
            "  \"max_position_embeddings\": 512,\n",
            "  \"model_type\": \"distilbert\",\n",
            "  \"n_heads\": 12,\n",
            "  \"n_layers\": 6,\n",
            "  \"pad_token_id\": 0,\n",
            "  \"problem_type\": \"regression\",\n",
            "  \"qa_dropout\": 0.1,\n",
            "  \"seq_classif_dropout\": 0.2,\n",
            "  \"sinusoidal_pos_embds\": false,\n",
            "  \"tie_weights_\": true,\n",
            "  \"torch_dtype\": \"float32\",\n",
            "  \"transformers_version\": \"4.26.1\",\n",
            "  \"vocab_size\": 30522\n",
            "}\n",
            "\n",
            "loading weights file model/pytorch_model.bin\n",
            "All model checkpoint weights were used when initializing DistilBertForSequenceClassification.\n",
            "\n",
            "All the weights of DistilBertForSequenceClassification were initialized from the model checkpoint at model.\n",
            "If your task is similar to the task the model of the checkpoint was trained on, you can already use DistilBertForSequenceClassification for predictions without further training.\n",
            "loading file vocab.txt\n",
            "loading file tokenizer.json\n",
            "loading file added_tokens.json\n",
            "loading file special_tokens_map.json\n",
            "loading file tokenizer_config.json\n"
          ]
        }
      ]
    },
    {
      "cell_type": "code",
      "source": [
        "ds=pd.read_csv(\"/content/drive/MyDrive/Research ISB - Data Science for Product Managers/kidsInMindSubtitles2004.csv\")"
      ],
      "metadata": {
        "id": "fYsRkyCevJou"
      },
      "execution_count": null,
      "outputs": []
    },
    {
      "cell_type": "code",
      "source": [
        "from transformers import Trainer\n",
        "trainer = Trainer(model=model)\n",
        "\n",
        "def tokenize_function(examples):\n",
        "    return tokenizer(examples[\"text\"], padding=\"max_length\", truncation=True) \n",
        "\n",
        "def pipeline_prediction(text):\n",
        "    df=pd.DataFrame({'text':[text]})\n",
        "    dataset = Dataset.from_pandas(df,preserve_index=False) \n",
        "    tokenized_datasets = dataset.map(tokenize_function)\n",
        "    raw_pred, _, _ = trainer.predict(tokenized_datasets) \n",
        "    return(raw_pred[0][0])\n",
        "\n",
        "pipeline_prediction(ds['subtitles'][425])"
      ],
      "metadata": {
        "colab": {
          "base_uri": "https://localhost:8080/",
          "height": 183,
          "referenced_widgets": [
            "3291ce925dcb4222b4818a5632f0766b",
            "2dabc5ee12c840a1b5c45bdf75723046",
            "4b061058eab849a7b1936c6ec069a1d2",
            "f4a76560182546f6bda7060ca6ed9787",
            "0b988aa15be8471d9a42bd658d7d766c",
            "683ebc62c37749cba082302a2e061166",
            "f8cac0ec79cd48d18b2f29411ac53772",
            "005c0ea848ea4ebd9a9efd6c8c8fa371",
            "1943f7003839424590e16df880e34c77",
            "572873460d214eeb8c044474f9461bcb",
            "452cc08834b1468980e414be42d92a47"
          ]
        },
        "id": "HXD2NBRUYvYH",
        "outputId": "9467b665-7520-4443-e8f9-ab5bc864eacf"
      },
      "execution_count": null,
      "outputs": [
        {
          "output_type": "stream",
          "name": "stderr",
          "text": [
            "No `TrainingArguments` passed, using `output_dir=tmp_trainer`.\n",
            "PyTorch: setting up devices\n",
            "The default value for the training argument `--report_to` will change in v5 (from all installed integrations to none). In v5, you will need to use `--report_to all` to get the same behavior as now. You should start updating your code and make this info disappear :-).\n"
          ]
        },
        {
          "output_type": "display_data",
          "data": {
            "text/plain": [
              "Map:   0%|          | 0/1 [00:00<?, ? examples/s]"
            ],
            "application/vnd.jupyter.widget-view+json": {
              "version_major": 2,
              "version_minor": 0,
              "model_id": "3291ce925dcb4222b4818a5632f0766b"
            }
          },
          "metadata": {}
        },
        {
          "output_type": "stream",
          "name": "stderr",
          "text": [
            "The following columns in the test set don't have a corresponding argument in `DistilBertForSequenceClassification.forward` and have been ignored: text. If text are not expected by `DistilBertForSequenceClassification.forward`,  you can safely ignore this message.\n",
            "***** Running Prediction *****\n",
            "  Num examples = 1\n",
            "  Batch size = 8\n"
          ]
        },
        {
          "output_type": "display_data",
          "data": {
            "text/plain": [
              "<IPython.core.display.HTML object>"
            ],
            "text/html": []
          },
          "metadata": {}
        },
        {
          "output_type": "execute_result",
          "data": {
            "text/plain": [
              "5.540816"
            ]
          },
          "metadata": {},
          "execution_count": 48
        }
      ]
    },
    {
      "cell_type": "code",
      "source": [
        "pipeline_prediction(ds['subtitles'][700])"
      ],
      "metadata": {
        "colab": {
          "base_uri": "https://localhost:8080/",
          "height": 128,
          "referenced_widgets": [
            "b7cf322db8234380a6e4f9927399d3bd",
            "7437a60a0dd34d94bd719937c40fb097",
            "2a3ed57cc2964ab3b200a70435400cba",
            "5aa2af082e704f9ebd98274fa20490e0",
            "19ee598331534fec965a64b6328861f9",
            "f32aa0ec59e84f28a19404c9f9c38293",
            "200ac24d225c48ada1fb1beb0eabcd75",
            "68178823318840679ed11a4e23f4f71e",
            "8b6b72fccbd64c3095c6d571891794b3",
            "c45406fc80344c4fa54104a0ae38c816",
            "b24b837b3c114c45a893733d7a157fa1"
          ]
        },
        "id": "qkbHSYhOvf_R",
        "outputId": "a2c8c66c-333f-4280-a169-157566407856"
      },
      "execution_count": null,
      "outputs": [
        {
          "output_type": "display_data",
          "data": {
            "text/plain": [
              "Map:   0%|          | 0/1 [00:00<?, ? examples/s]"
            ],
            "application/vnd.jupyter.widget-view+json": {
              "version_major": 2,
              "version_minor": 0,
              "model_id": "b7cf322db8234380a6e4f9927399d3bd"
            }
          },
          "metadata": {}
        },
        {
          "output_type": "stream",
          "name": "stderr",
          "text": [
            "The following columns in the test set don't have a corresponding argument in `DistilBertForSequenceClassification.forward` and have been ignored: text. If text are not expected by `DistilBertForSequenceClassification.forward`,  you can safely ignore this message.\n",
            "***** Running Prediction *****\n",
            "  Num examples = 1\n",
            "  Batch size = 8\n"
          ]
        },
        {
          "output_type": "display_data",
          "data": {
            "text/plain": [
              "<IPython.core.display.HTML object>"
            ],
            "text/html": []
          },
          "metadata": {}
        },
        {
          "output_type": "execute_result",
          "data": {
            "text/plain": [
              "3.392324"
            ]
          },
          "metadata": {},
          "execution_count": 49
        }
      ]
    },
    {
      "cell_type": "code",
      "source": [
        "pipeline_prediction(ds['subtitles'][200])"
      ],
      "metadata": {
        "colab": {
          "base_uri": "https://localhost:8080/",
          "height": 128,
          "referenced_widgets": [
            "b779f9b779204433b903b5aca1e3cd6f",
            "27bb213730024328aea8934c43ce9baa",
            "95887cbae2464436bd5b92c2c2e05590",
            "dde4418510844e68a6ed99188a21d56d",
            "f28051d1d154479a8db0d5ee0e03fb51",
            "1c09a2aae6f64ce8b9e22604d24ce572",
            "f899851ad741443cb119a8ccc6ce4504",
            "61a7282ef0184c3e881a8f65e19b67f2",
            "f411d339b8d64cb8a6a3d336b917cfd1",
            "9ecf7379aedd4325985ca7419e0a5ce4",
            "2b9c86bc09ce4533a86c8a9b0d912a8d"
          ]
        },
        "id": "VNB-anYwv1Fo",
        "outputId": "e90e7039-eaf1-4f79-93b2-0f44a059ac75"
      },
      "execution_count": null,
      "outputs": [
        {
          "output_type": "display_data",
          "data": {
            "text/plain": [
              "Map:   0%|          | 0/1 [00:00<?, ? examples/s]"
            ],
            "application/vnd.jupyter.widget-view+json": {
              "version_major": 2,
              "version_minor": 0,
              "model_id": "b779f9b779204433b903b5aca1e3cd6f"
            }
          },
          "metadata": {}
        },
        {
          "output_type": "stream",
          "name": "stderr",
          "text": [
            "The following columns in the test set don't have a corresponding argument in `DistilBertForSequenceClassification.forward` and have been ignored: text. If text are not expected by `DistilBertForSequenceClassification.forward`,  you can safely ignore this message.\n",
            "***** Running Prediction *****\n",
            "  Num examples = 1\n",
            "  Batch size = 8\n"
          ]
        },
        {
          "output_type": "display_data",
          "data": {
            "text/plain": [
              "<IPython.core.display.HTML object>"
            ],
            "text/html": []
          },
          "metadata": {}
        },
        {
          "output_type": "execute_result",
          "data": {
            "text/plain": [
              "5.2081404"
            ]
          },
          "metadata": {},
          "execution_count": 50
        }
      ]
    },
    {
      "cell_type": "code",
      "source": [
        "ds['Language'][200]"
      ],
      "metadata": {
        "colab": {
          "base_uri": "https://localhost:8080/"
        },
        "id": "hEc2Aj_Av36y",
        "outputId": "f3e3710d-b10c-48a3-d30f-90b0c5f100a1"
      },
      "execution_count": null,
      "outputs": [
        {
          "output_type": "execute_result",
          "data": {
            "text/plain": [
              "4"
            ]
          },
          "metadata": {},
          "execution_count": 51
        }
      ]
    },
    {
      "cell_type": "code",
      "source": [
        "ds['Language'][700]"
      ],
      "metadata": {
        "colab": {
          "base_uri": "https://localhost:8080/"
        },
        "id": "_hOWSEaDvovv",
        "outputId": "fb966927-4991-4fa1-9050-0cf985a66eae"
      },
      "execution_count": null,
      "outputs": [
        {
          "output_type": "execute_result",
          "data": {
            "text/plain": [
              "1"
            ]
          },
          "metadata": {},
          "execution_count": 30
        }
      ]
    },
    {
      "cell_type": "code",
      "source": [
        "ds['Language'][425]"
      ],
      "metadata": {
        "colab": {
          "base_uri": "https://localhost:8080/"
        },
        "id": "zQxY_3POvRtZ",
        "outputId": "93c59768-d556-4d95-d9ce-20a0091e0353"
      },
      "execution_count": null,
      "outputs": [
        {
          "output_type": "execute_result",
          "data": {
            "text/plain": [
              "2"
            ]
          },
          "metadata": {},
          "execution_count": 27
        }
      ]
    },
    {
      "cell_type": "code",
      "source": [
        "pipeline_prediction(ds['subtitles'][989])"
      ],
      "metadata": {
        "colab": {
          "base_uri": "https://localhost:8080/",
          "height": 128,
          "referenced_widgets": [
            "778a0c120ac442639a59eb1a6ecaafa4",
            "5661b2868bbd4a56bf44d654a461096e",
            "66189ae1fa3943eaa55b3674ab7ed00b",
            "b5a24ea907ca49dab58bbec23c6545a0",
            "b5fcc2a67a834311a888fc7f3e321168",
            "617ff3a216c047c981206745bac0cffa",
            "58e00b90a302469988ebe533b4b714b6",
            "dbea399282a44daba2defed3db6ed597",
            "1e97abf72b4e4fcd912da80bcf1e1209",
            "ea4bc8f2c53c40baa7324d5887e42de0",
            "f674d067a8ff42fa83546d1429a7edc6"
          ]
        },
        "id": "gsWA5k_KxW6g",
        "outputId": "4a710462-1664-4865-c851-008664caa387"
      },
      "execution_count": null,
      "outputs": [
        {
          "output_type": "display_data",
          "data": {
            "text/plain": [
              "Map:   0%|          | 0/1 [00:00<?, ? examples/s]"
            ],
            "application/vnd.jupyter.widget-view+json": {
              "version_major": 2,
              "version_minor": 0,
              "model_id": "778a0c120ac442639a59eb1a6ecaafa4"
            }
          },
          "metadata": {}
        },
        {
          "output_type": "stream",
          "name": "stderr",
          "text": [
            "The following columns in the test set don't have a corresponding argument in `DistilBertForSequenceClassification.forward` and have been ignored: text. If text are not expected by `DistilBertForSequenceClassification.forward`,  you can safely ignore this message.\n",
            "***** Running Prediction *****\n",
            "  Num examples = 1\n",
            "  Batch size = 8\n"
          ]
        },
        {
          "output_type": "display_data",
          "data": {
            "text/plain": [
              "<IPython.core.display.HTML object>"
            ],
            "text/html": []
          },
          "metadata": {}
        },
        {
          "output_type": "execute_result",
          "data": {
            "text/plain": [
              "4.914034"
            ]
          },
          "metadata": {},
          "execution_count": 52
        }
      ]
    },
    {
      "cell_type": "code",
      "source": [
        "ds['Language'][989]"
      ],
      "metadata": {
        "id": "qVCsLYhVRzKB",
        "outputId": "70160b4c-90d0-4f27-8f85-8f329195f488",
        "colab": {
          "base_uri": "https://localhost:8080/"
        }
      },
      "execution_count": null,
      "outputs": [
        {
          "output_type": "execute_result",
          "data": {
            "text/plain": [
              "3"
            ]
          },
          "metadata": {},
          "execution_count": 53
        }
      ]
    }
  ]
}