{
 "cells": [
  {
   "cell_type": "markdown",
   "id": "2101449d-775e-4d07-b6b3-382ce5812f0f",
   "metadata": {},
   "source": [
    "As mentioned in the paper this baseline model has considered from the `BERT-Attention` model from the paper [Utilizing BERT Intermediate Layers for Aspect Based Sentiment Analysis and Natural Language Inference](https://aclanthology.org/N19-1035/). We have considered taking code from the paper where the authors has released the code opensource in [GitHub](https://github.com/avinashsai/BERT-Aspect). To run this code there are addtional files required to load the models which we have already shared in the Baseline directory."
   ]
  },
  {
   "cell_type": "code",
   "execution_count": 1,
   "id": "464041b5-3dcb-4ac8-a6dc-60f439e4c02d",
   "metadata": {},
   "outputs": [],
   "source": [
    "\n",
    "## Loading all the required libraries\n",
    "import pandas as pd\n",
    "import copy\n",
    "import numpy as np\n",
    "from sklearn.metrics import f1_score\n",
    "import torch\n",
    "import torch.nn.functional as F\n",
    "from model import Bert_Base, Bert_Attention, Bert_LSTM\n",
    "from tqdm import tqdm\n",
    "import torch\n",
    "from transformers import AutoModelForSeq2SeqLM, BartTokenizer\n",
    "from torch.utils.data import DataLoader, Dataset\n",
    "from sklearn.model_selection import train_test_split\n",
    "from transformers import BertTokenizer\n",
    "import matplotlib.pyplot as plt"
   ]
  },
  {
   "cell_type": "code",
   "execution_count": 3,
   "id": "fbc3f665-8ec7-4452-84c9-8ad21162fac0",
   "metadata": {},
   "outputs": [],
   "source": [
    "## As we are running in GPU. So we are initializing for the GPU\n",
    "device = torch.device(\"cuda\" if torch.cuda.is_available() else \"cpu\")\n",
    "device"
   ]
  },
  {
   "cell_type": "code",
   "execution_count": 5,
   "id": "a1690d83-d5c1-47c8-aaad-bfc996dad5ea",
   "metadata": {},
   "outputs": [],
   "source": [
    "## Loading the dataset and splitting the test dataset for later\n",
    "df = pd.read_csv(\"kidsInMindSubtitles2004.csv\")\n",
    "df = df[:1803].reset_index( drop = True)"
   ]
  },
  {
   "cell_type": "code",
   "execution_count": 7,
   "id": "b036375b-8d26-4798-99e2-b3dd80dd35ee",
   "metadata": {},
   "outputs": [
    {
     "name": "stderr",
     "output_type": "stream",
     "text": [
      "Some weights of the model checkpoint at bert-base-uncased were not used when initializing BertModel: ['cls.predictions.transform.LayerNorm.weight', 'cls.seq_relationship.bias', 'cls.predictions.bias', 'cls.predictions.transform.LayerNorm.bias', 'cls.predictions.transform.dense.weight', 'cls.predictions.decoder.weight', 'cls.seq_relationship.weight', 'cls.predictions.transform.dense.bias']\n",
      "- This IS expected if you are initializing BertModel from the checkpoint of a model trained on another task or with another architecture (e.g. initializing a BertForSequenceClassification model from a BertForPreTraining model).\n",
      "- This IS NOT expected if you are initializing BertModel from the checkpoint of a model that you expect to be exactly identical (initializing a BertForSequenceClassification model from a BertForSequenceClassification model).\n"
     ]
    },
    {
     "name": "stdout",
     "output_type": "stream",
     "text": [
      "BERT Model Loaded\n"
     ]
    }
   ],
   "source": [
    "## As we doing predicting modelling by predicting rating of the each movie. So setting the numclasses to 1\n",
    "numclasses = 1\n",
    "model = Bert_Attention(numclasses, device).to(device)\n",
    "tokenizer = BertTokenizer.from_pretrained('bert-base-uncased',\n",
    "                                                   do_lower_case=True\n",
    "                                                   )"
   ]
  },
  {
   "cell_type": "code",
   "execution_count": 9,
   "id": "aaf744b5-9d18-45f7-8f70-02da71e6e41e",
   "metadata": {},
   "outputs": [],
   "source": [
    "## Customized dataset loader class for loading the dataset\n",
    "class SubtitlesDataset(Dataset):\n",
    "    def __init__(self, texts, labels_regression, tokenizer, max_length):\n",
    "        self.texts = texts\n",
    "        self.labels_regression = labels_regression\n",
    "        self.tokenizer = tokenizer\n",
    "        self.max_length = max_length\n",
    "\n",
    "    def __len__(self):\n",
    "        return len(self.texts)\n",
    "\n",
    "    def __getitem__(self, idx):\n",
    "        text = str(self.texts[idx])\n",
    "        label_regression = float(self.labels_regression[idx])\n",
    "\n",
    "        encoding = self.tokenizer(text, padding='max_length', truncation=True, max_length=self.max_length, return_tensors='pt')\n",
    "\n",
    "        #print(\"encoding :\", encoding)\n",
    "        input_ids = encoding['input_ids'].squeeze()\n",
    "        attention_mask = encoding['attention_mask'].squeeze()\n",
    "        token_type_ids = encoding['token_type_ids'].squeeze()\n",
    "\n",
    "        return input_ids, attention_mask, token_type_ids, label_regression"
   ]
  },
  {
   "cell_type": "code",
   "execution_count": 11,
   "id": "2a54fbdb-a1f2-4a65-81e2-54b5fedca680",
   "metadata": {},
   "outputs": [],
   "source": [
    "## In this code cell we are splitting the train and validation datasets\n",
    "texts = df['subtitles'].tolist()\n",
    "labels_regression = df['Language'].tolist()\n",
    "train_texts, val_texts, train_labels_regression, val_labels_regression = train_test_split(texts, \n",
    "                                                                                          labels_regression, \n",
    "                                                                                          test_size=0.1, \n",
    "                                                                                          random_state=42)"
   ]
  },
  {
   "cell_type": "code",
   "execution_count": 12,
   "id": "d0088d1f-791b-4c1f-b22d-666079a447d8",
   "metadata": {},
   "outputs": [],
   "source": [
    "## By utilizing the dataloader class above we are creating train and validation dataloaders\n",
    "train_dataset = SubtitlesDataset(train_texts, train_labels_regression, tokenizer, max_length=128)\n",
    "val_dataset = SubtitlesDataset(val_texts, val_labels_regression, tokenizer, max_length=128)\n",
    "train_loader = DataLoader(train_dataset, batch_size=32, shuffle=True)\n",
    "val_loader = DataLoader(val_dataset, batch_size=64)"
   ]
  },
  {
   "cell_type": "code",
   "execution_count": 32,
   "id": "7d3c9c82-ab67-4949-be8d-7d53ac79a5d8",
   "metadata": {},
   "outputs": [
    {
     "name": "stderr",
     "output_type": "stream",
     "text": [
      "  4%|████▊                                                                                                                    | 1/25 [03:27<1:23:07, 207.80s/it]"
     ]
    },
    {
     "name": "stdout",
     "output_type": "stream",
     "text": [
      "Epoch 1/25, Training Loss: 13.9415, Validation Loss: 8.5120\n"
     ]
    },
    {
     "name": "stderr",
     "output_type": "stream",
     "text": [
      "  8%|█████████▋                                                                                                               | 2/25 [06:54<1:19:24, 207.16s/it]"
     ]
    },
    {
     "name": "stdout",
     "output_type": "stream",
     "text": [
      "Epoch 2/25, Training Loss: 11.6125, Validation Loss: 6.9845\n"
     ]
    },
    {
     "name": "stderr",
     "output_type": "stream",
     "text": [
      " 12%|██████████████▌                                                                                                          | 3/25 [10:21<1:15:54, 207.02s/it]"
     ]
    },
    {
     "name": "stdout",
     "output_type": "stream",
     "text": [
      "Epoch 3/25, Training Loss: 10.9074, Validation Loss: 10.0282\n"
     ]
    },
    {
     "name": "stderr",
     "output_type": "stream",
     "text": [
      " 16%|███████████████████▎                                                                                                     | 4/25 [13:40<1:11:25, 204.07s/it]"
     ]
    },
    {
     "name": "stdout",
     "output_type": "stream",
     "text": [
      "Epoch 4/25, Training Loss: 8.5924, Validation Loss: 9.0295\n"
     ]
    },
    {
     "name": "stderr",
     "output_type": "stream",
     "text": [
      " 20%|████████████████████████▏                                                                                                | 5/25 [16:52<1:06:30, 199.54s/it]"
     ]
    },
    {
     "name": "stdout",
     "output_type": "stream",
     "text": [
      "Epoch 5/25, Training Loss: 9.2021, Validation Loss: 6.9236\n"
     ]
    },
    {
     "name": "stderr",
     "output_type": "stream",
     "text": [
      " 24%|█████████████████████████████                                                                                            | 6/25 [20:02<1:02:12, 196.43s/it]"
     ]
    },
    {
     "name": "stdout",
     "output_type": "stream",
     "text": [
      "Epoch 6/25, Training Loss: 8.3710, Validation Loss: 7.1455\n"
     ]
    },
    {
     "name": "stderr",
     "output_type": "stream",
     "text": [
      " 28%|██████████████████████████████████▍                                                                                        | 7/25 [23:13<58:24, 194.68s/it]"
     ]
    },
    {
     "name": "stdout",
     "output_type": "stream",
     "text": [
      "Epoch 7/25, Training Loss: 9.0254, Validation Loss: 8.3607\n"
     ]
    },
    {
     "name": "stderr",
     "output_type": "stream",
     "text": [
      " 32%|███████████████████████████████████████▎                                                                                   | 8/25 [26:24<54:48, 193.42s/it]"
     ]
    },
    {
     "name": "stdout",
     "output_type": "stream",
     "text": [
      "Epoch 8/25, Training Loss: 8.7874, Validation Loss: 10.7403\n"
     ]
    },
    {
     "name": "stderr",
     "output_type": "stream",
     "text": [
      " 36%|████████████████████████████████████████████▎                                                                              | 9/25 [29:35<51:22, 192.63s/it]"
     ]
    },
    {
     "name": "stdout",
     "output_type": "stream",
     "text": [
      "Epoch 9/25, Training Loss: 8.6519, Validation Loss: 7.0924\n"
     ]
    },
    {
     "name": "stderr",
     "output_type": "stream",
     "text": [
      " 40%|████████████████████████████████████████████████▊                                                                         | 10/25 [32:45<47:59, 191.97s/it]"
     ]
    },
    {
     "name": "stdout",
     "output_type": "stream",
     "text": [
      "Epoch 10/25, Training Loss: 8.3217, Validation Loss: 7.5606\n"
     ]
    },
    {
     "name": "stderr",
     "output_type": "stream",
     "text": [
      " 44%|█████████████████████████████████████████████████████▋                                                                    | 11/25 [35:56<44:43, 191.67s/it]"
     ]
    },
    {
     "name": "stdout",
     "output_type": "stream",
     "text": [
      "Epoch 11/25, Training Loss: 7.3841, Validation Loss: 7.4266\n"
     ]
    },
    {
     "name": "stderr",
     "output_type": "stream",
     "text": [
      " 48%|██████████████████████████████████████████████████████████▌                                                               | 12/25 [39:08<41:29, 191.53s/it]"
     ]
    },
    {
     "name": "stdout",
     "output_type": "stream",
     "text": [
      "Epoch 12/25, Training Loss: 7.7194, Validation Loss: 6.9984\n"
     ]
    },
    {
     "name": "stderr",
     "output_type": "stream",
     "text": [
      " 52%|███████████████████████████████████████████████████████████████▍                                                          | 13/25 [42:18<38:14, 191.21s/it]"
     ]
    },
    {
     "name": "stdout",
     "output_type": "stream",
     "text": [
      "Epoch 13/25, Training Loss: 7.3190, Validation Loss: 7.7917\n"
     ]
    },
    {
     "name": "stderr",
     "output_type": "stream",
     "text": [
      " 56%|████████████████████████████████████████████████████████████████████▎                                                     | 14/25 [45:29<35:02, 191.13s/it]"
     ]
    },
    {
     "name": "stdout",
     "output_type": "stream",
     "text": [
      "Epoch 14/25, Training Loss: 7.4619, Validation Loss: 6.3275\n"
     ]
    },
    {
     "name": "stderr",
     "output_type": "stream",
     "text": [
      " 60%|█████████████████████████████████████████████████████████████████████████▏                                                | 15/25 [48:40<31:49, 190.97s/it]"
     ]
    },
    {
     "name": "stdout",
     "output_type": "stream",
     "text": [
      "Epoch 15/25, Training Loss: 7.9558, Validation Loss: 8.7858\n"
     ]
    },
    {
     "name": "stderr",
     "output_type": "stream",
     "text": [
      " 64%|██████████████████████████████████████████████████████████████████████████████                                            | 16/25 [51:50<28:37, 190.87s/it]"
     ]
    },
    {
     "name": "stdout",
     "output_type": "stream",
     "text": [
      "Epoch 16/25, Training Loss: 6.9384, Validation Loss: 6.6743\n"
     ]
    },
    {
     "name": "stderr",
     "output_type": "stream",
     "text": [
      " 68%|██████████████████████████████████████████████████████████████████████████████████▉                                       | 17/25 [55:02<25:27, 190.96s/it]"
     ]
    },
    {
     "name": "stdout",
     "output_type": "stream",
     "text": [
      "Epoch 17/25, Training Loss: 9.0630, Validation Loss: 10.0682\n"
     ]
    },
    {
     "name": "stderr",
     "output_type": "stream",
     "text": [
      " 72%|███████████████████████████████████████████████████████████████████████████████████████▊                                  | 18/25 [58:12<22:16, 190.92s/it]"
     ]
    },
    {
     "name": "stdout",
     "output_type": "stream",
     "text": [
      "Epoch 18/25, Training Loss: 6.5080, Validation Loss: 7.1572\n"
     ]
    },
    {
     "name": "stderr",
     "output_type": "stream",
     "text": [
      " 76%|███████████████████████████████████████████████████████████████████████████████████████████▏                            | 19/25 [1:01:23<19:04, 190.82s/it]"
     ]
    },
    {
     "name": "stdout",
     "output_type": "stream",
     "text": [
      "Epoch 19/25, Training Loss: 10.1637, Validation Loss: 11.2617\n"
     ]
    },
    {
     "name": "stderr",
     "output_type": "stream",
     "text": [
      " 80%|████████████████████████████████████████████████████████████████████████████████████████████████                        | 20/25 [1:04:34<15:54, 190.88s/it]"
     ]
    },
    {
     "name": "stdout",
     "output_type": "stream",
     "text": [
      "Epoch 20/25, Training Loss: 7.6396, Validation Loss: 5.8946\n"
     ]
    },
    {
     "name": "stderr",
     "output_type": "stream",
     "text": [
      " 84%|████████████████████████████████████████████████████████████████████████████████████████████████████▊                   | 21/25 [1:07:44<12:43, 190.76s/it]"
     ]
    },
    {
     "name": "stdout",
     "output_type": "stream",
     "text": [
      "Epoch 21/25, Training Loss: 6.4933, Validation Loss: 8.9885\n"
     ]
    },
    {
     "name": "stderr",
     "output_type": "stream",
     "text": [
      " 88%|█████████████████████████████████████████████████████████████████████████████████████████████████████████▌              | 22/25 [1:10:55<09:32, 190.77s/it]"
     ]
    },
    {
     "name": "stdout",
     "output_type": "stream",
     "text": [
      "Epoch 22/25, Training Loss: 9.1066, Validation Loss: 9.2126\n"
     ]
    },
    {
     "name": "stderr",
     "output_type": "stream",
     "text": [
      " 92%|██████████████████████████████████████████████████████████████████████████████████████████████████████████████▍         | 23/25 [1:14:06<06:21, 190.83s/it]"
     ]
    },
    {
     "name": "stdout",
     "output_type": "stream",
     "text": [
      "Epoch 23/25, Training Loss: 7.0477, Validation Loss: 5.9598\n"
     ]
    },
    {
     "name": "stderr",
     "output_type": "stream",
     "text": [
      " 96%|███████████████████████████████████████████████████████████████████████████████████████████████████████████████████▏    | 24/25 [1:17:18<03:11, 191.02s/it]"
     ]
    },
    {
     "name": "stdout",
     "output_type": "stream",
     "text": [
      "Epoch 24/25, Training Loss: 6.0150, Validation Loss: 7.0325\n"
     ]
    },
    {
     "name": "stderr",
     "output_type": "stream",
     "text": [
      "100%|████████████████████████████████████████████████████████████████████████████████████████████████████████████████████████| 25/25 [1:20:29<00:00, 193.20s/it]"
     ]
    },
    {
     "name": "stdout",
     "output_type": "stream",
     "text": [
      "Epoch 25/25, Training Loss: 5.9938, Validation Loss: 6.2228\n"
     ]
    },
    {
     "name": "stderr",
     "output_type": "stream",
     "text": [
      "\n"
     ]
    }
   ],
   "source": [
    "\n",
    "## Initializing the hyperparameters and lists for storing train and validation losses\n",
    "\n",
    "optimizer = torch.optim.AdamW(model.parameters(), lr=2e-05)\n",
    "num_epochs = 25\n",
    "train_losses = []\n",
    "val_losses = []\n",
    "\n",
    "\n",
    "for epoch in tqdm(range(num_epochs)):\n",
    "    ## Training MODE\n",
    "    model.train()\n",
    "    total_loss = 0\n",
    "    for batch in train_loader:\n",
    "        input_id, attention_masks, token_ids, labels = batch\n",
    "        input_id = input_id.to(device)\n",
    "        attention_masks = attention_masks.to(device)\n",
    "        token_ids = token_ids.to(device)\n",
    "        labels = labels.long().to(device)\n",
    "        regression_output = model(input_id, attention_masks, token_ids)\n",
    "        labels_regression = labels.float()\n",
    "        regression_output = regression_output.squeeze(-1)\n",
    "        loss = torch.nn.functional.mse_loss(regression_output, labels_regression)\n",
    "        \n",
    "        loss.backward()\n",
    "        optimizer.step()\n",
    "\n",
    "        total_loss += loss.item()\n",
    "\n",
    "    avg_loss = total_loss / len(train_loader)\n",
    "    train_losses.append(avg_loss)\n",
    "\n",
    "    ## Evaluation Mode\n",
    "    model.eval()\n",
    "    total_val_loss = 0\n",
    "\n",
    "\n",
    "    with torch.no_grad():\n",
    "        for batch in val_loader:\n",
    "            input_id, attention_masks, token_ids, labels = batch\n",
    "            input_id = input_id.to(device)\n",
    "            attention_masks = attention_masks.to(device)\n",
    "            token_ids = token_ids.to(device)\n",
    "            labels = labels.long().to(device)\n",
    "            \n",
    "            regression_output = model(input_id, attention_masks, token_ids)\n",
    "            labels_regression = labels.float()\n",
    "            regression_output = regression_output.squeeze(-1)\n",
    "            val_loss = torch.nn.functional.mse_loss(regression_output, labels_regression)\n",
    "            total_val_loss += val_loss.item()\n",
    "    avg_val_loss = total_val_loss / len(val_loader)\n",
    "    val_losses.append(avg_val_loss)\n",
    "\n",
    "    ## Printing Training and Validation\n",
    "    print(f\"Epoch {epoch + 1}/{num_epochs}, Training Loss: {avg_loss:.4f}, Validation Loss: {avg_val_loss:.4f}\")"
   ]
  },
  {
   "cell_type": "code",
   "execution_count": null,
   "id": "ec769f46-db3b-4b2d-84e6-8e2b4239f17b",
   "metadata": {},
   "outputs": [],
   "source": [
    "# Time took to run this code 1:20:29"
   ]
  },
  {
   "cell_type": "code",
   "execution_count": 35,
   "id": "7555db15-958c-4c02-b3b9-0f2c4c37098d",
   "metadata": {},
   "outputs": [
    {
     "name": "stdout",
     "output_type": "stream",
     "text": [
      "Train and Validation Losses per Epoch saved to: losses_per_epoch2_bart_attention.xlsx\n"
     ]
    }
   ],
   "source": [
    "\n",
    "## Storing the Loss values in dictionary for creating and storing the results in the dataframe\n",
    "data = {'Epoch': range(1, num_epochs + 1),\n",
    "        'Train Loss': train_losses,\n",
    "        'Validation Loss': val_losses}\n",
    "\n",
    "df2 = pd.DataFrame(data)\n",
    "excel_filename = \"losses_per_epoch2_bart_attention.xlsx\"\n",
    "df2.to_excel(excel_filename, index=False)\n",
    "print(\"Train and Validation Losses per Epoch saved to:\", excel_filename)"
   ]
  },
  {
   "cell_type": "code",
   "execution_count": 38,
   "id": "8479bd30-0577-4306-adca-79119a8de5a6",
   "metadata": {},
   "outputs": [
    {
     "data": {
      "image/png": "[encoded data removed]",
      "text/plain": [
       "<Figure size 720x360 with 1 Axes>"
      ]
     },
     "metadata": {
      "needs_background": "light"
     },
     "output_type": "display_data"
    }
   ],
   "source": [
    "## Plotting the Loss values\n",
    "df_excel= pd.read_excel(\"./losses_per_epoch2_bart_attention.xlsx\")\n",
    "plt.figure(figsize = (10, 5))\n",
    "plt.plot(range(1, 26), df_excel['Train Loss'].tolist(), label='Total Train Loss')\n",
    "plt.plot(range(1, 26), df_excel['Validation Loss'].tolist(), label='Total Validation Loss')\n",
    "plt.xlabel('Epoch')\n",
    "plt.ylabel('Loss')\n",
    "plt.title('Train and Validation Loss For Baseline Model')\n",
    "plt.legend()\n",
    "\n",
    "plt.savefig(\"baseline_model_losses.pdf\")\n",
    "plt.show()"
   ]
  },
  {
   "cell_type": "code",
   "execution_count": 39,
   "id": "03492d56-7a76-4ae9-8b39-05b8ba21efdc",
   "metadata": {},
   "outputs": [
    {
     "data": {
      "text/plain": [
       "5.894572099049886"
      ]
     },
     "execution_count": 39,
     "metadata": {},
     "output_type": "execute_result"
    }
   ],
   "source": [
    "## Minimum Validataion loss\n",
    "min(val_losses)"
   ]
  },
  {
   "cell_type": "code",
   "execution_count": null,
   "id": "2170f52b-ad82-432f-9c50-278db34be552",
   "metadata": {},
   "outputs": [],
   "source": [
    "## Storing and Loading the model for future doing inference\n",
    "# torch.save(model.state_dict(), 'models/baseline_bart_attention(baseline1).pth')\n",
    "# model = Bert_Attention(numclasses, device).to(device)\n",
    "# model.load_state_dict(torch.load('models/baseline_bart_attention(baseline1).pth'))"
   ]
  },
  {
   "cell_type": "code",
   "execution_count": null,
   "id": "2096cd6e-9083-45e4-9625-cb0ff05f7729",
   "metadata": {},
   "outputs": [],
   "source": [
    "\n",
    "## Now doing inference on the test dataset\n",
    "\n",
    "df = pd.read_csv(\"kidsInMindSubtitles2004.csv\")\n",
    "df = df[1803:].reset_index( drop = True)\n",
    "\n",
    "model.eval()\n",
    "predictions=[]\n",
    "for sub in tqdm(df.subtitles):\n",
    "    \n",
    "    inputs = tokenizer(sub, padding='max_length', truncation=True, max_length=128, return_tensors='pt')\n",
    "    \n",
    "    # Get input_ids and attention_mask from the tokenizer output\n",
    "    input_id = inputs['input_ids'].to(device)\n",
    "    attention_mask = inputs['attention_mask'].to(device)\n",
    "    token_ids = inputs['token_type_ids'].to(device)\n",
    "    \n",
    "    model.eval()\n",
    "    with torch.no_grad():\n",
    "        regression_output = model(input_id, attention_mask, token_ids).squeeze(-1)\n",
    "    \n",
    "    predicted_score = regression_output.item()\n",
    "\n",
    "    predictions.append(predicted_score)\n"
   ]
  },
  {
   "cell_type": "code",
   "execution_count": null,
   "id": "5f36ea71-eb43-4d7d-9a04-f09095cdf193",
   "metadata": {},
   "outputs": [],
   "source": []
  },
  {
   "cell_type": "code",
   "execution_count": 114,
   "id": "0be9d06b-c458-46dc-af0b-ce2155332874",
   "metadata": {},
   "outputs": [],
   "source": [
    "## Evaluating the performance of the model and printing the r\n",
    "\n",
    "from sklearn.metrics import mean_squared_error, mean_absolute_error, r2_score, explained_variance_score\n",
    "df_predictions = pd.DataFrame({ 'Language_Score':df['Language'].tolist(),\"Predcited_Score\":predictions})\n",
    "true_labels = np.array(df_predictions['Language_Score'].tolist())\n",
    "predicted_scores=np.array(df_predictions['Predcited_Score'].tolist())\n",
    "mse = mean_squared_error(true_labels, predicted_scores)\n",
    "rmse = np.sqrt(mse)\n",
    "mae = mean_absolute_error(true_labels, predicted_scores)\n",
    "r2 = r2_score(true_labels, predicted_scores)\n",
    "evs = explained_variance_score(true_labels, predicted_scores)\n",
    "\n",
    "print(\"mse: \",mse)\n",
    "print(\"rmse: \",rmse)\n",
    "print(\"mae: \",mae)\n",
    "print(\"r2: \",r2)\n",
    "print(\"evs: \",evs)\n"
   ]
  },
  {
   "cell_type": "code",
   "execution_count": null,
   "id": "54d9e86c-e6ab-4b95-9b2b-1a8f29bc1dbb",
   "metadata": {},
   "outputs": [],
   "source": []
  },
  {
   "cell_type": "code",
   "execution_count": null,
   "id": "fffa3f2a-072c-4529-afef-f98c0705086e",
   "metadata": {},
   "outputs": [],
   "source": []
  },
  {
   "cell_type": "code",
   "execution_count": null,
   "id": "013a99d6-9cc0-4759-b950-c26725e93917",
   "metadata": {},
   "outputs": [],
   "source": []
  },
  {
   "cell_type": "code",
   "execution_count": null,
   "id": "421b409e-07a9-4fa2-90ff-fac17bfeffa1",
   "metadata": {},
   "outputs": [],
   "source": []
  },
  {
   "cell_type": "code",
   "execution_count": null,
   "id": "f9238aa7-395b-4796-9297-b6fec4d1a14d",
   "metadata": {},
   "outputs": [],
   "source": []
  },
  {
   "cell_type": "code",
   "execution_count": null,
   "id": "5190810f-dfbe-444c-b8f5-a545af20f798",
   "metadata": {},
   "outputs": [],
   "source": []
  },
  {
   "cell_type": "code",
   "execution_count": null,
   "id": "bbaf6666-f4cd-4ad9-8051-6c26327d7ed0",
   "metadata": {},
   "outputs": [],
   "source": []
  },
  {
   "cell_type": "code",
   "execution_count": null,
   "id": "f20d5f9a-8014-4489-965d-3072ce4488d4",
   "metadata": {},
   "outputs": [],
   "source": []
  }
 ],
 "metadata": {
  "kernelspec": {
   "display_name": "Python 3 (ipykernel)",
   "language": "python",
   "name": "python3"
  },
  "language_info": {
   "codemirror_mode": {
    "name": "ipython",
    "version": 3
   },
   "file_extension": ".py",
   "mimetype": "text/x-python",
   "name": "python",
   "nbconvert_exporter": "python",
   "pygments_lexer": "ipython3",
   "version": "3.8.10"
  }
 },
 "nbformat": 4,
 "nbformat_minor": 5
}
