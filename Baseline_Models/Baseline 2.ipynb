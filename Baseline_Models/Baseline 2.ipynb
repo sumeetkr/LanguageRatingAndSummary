{
 "cells": [
  {
   "cell_type": "markdown",
   "id": "36732810-1861-41a4-85af-1f7aebf22e24",
   "metadata": {},
   "source": [
    "This is another baseline model named $LSA_{T}-DeBERTa$ proposed in the paper [Modeling Aspect Sentiment Coherency via Local Sentiment Aggregation](https://aclanthology.org/2024.findings-eacl.13.pdf) which we have adopted to compare againist our proposed model. The authors of this paper built a model based on DeBERTa model with novel local sentiment aggregation (LSA) to the model. In LSA, the model extracts each individual apsects of the sentences and builts sentiment aggregation window. In this particular case of $LSA_T$ the model is employing local context focus-based aspect features."
   ]
  },
  {
   "cell_type": "code",
   "execution_count": 2,
   "id": "fb0159a5-2f47-4824-b73e-2b7c8a00a39a",
   "metadata": {},
   "outputs": [],
   "source": [
    "\n",
    "## Loading all the required libraries\n",
    "import pandas as pd\n",
    "import copy\n",
    "import numpy as np\n",
    "from sklearn.metrics import f1_score\n",
    "import torch\n",
    "import torch.nn.functional as F\n",
    "import torch\n",
    "from transformers import AutoModelForSeq2SeqLM, BartTokenizer\n",
    "from transformers import AutoTokenizer, AutoModelForSequenceClassification\n",
    "from torch.utils.data import DataLoader, Dataset\n",
    "from sklearn.model_selection import train_test_split\n",
    "from transformers import BertTokenizer\n",
    "from tqdm import tqdm\n",
    "import matplotlib.pyplot as plt"
   ]
  },
  {
   "cell_type": "code",
   "execution_count": 4,
   "id": "7c3e15f7-ddef-4273-84fa-b71437fa7e61",
   "metadata": {},
   "outputs": [
    {
     "data": {
      "text/plain": [
       "device(type='cuda')"
      ]
     },
     "execution_count": 4,
     "metadata": {},
     "output_type": "execute_result"
    }
   ],
   "source": [
    "## As we are running in GPU. So we are initializing for the GPU\n",
    "device = torch.device(\"cuda\" if torch.cuda.is_available() else \"cpu\")\n",
    "device"
   ]
  },
  {
   "cell_type": "code",
   "execution_count": 5,
   "id": "c5f39190-226b-4710-9be5-7ca5965d20a8",
   "metadata": {},
   "outputs": [],
   "source": [
    "## Loading the dataset and splitting the test dataset for later\n",
    "df = pd.read_csv(\"kidsInMindSubtitles2004.csv\")\n",
    "df = df[:1803].reset_index( drop = True)"
   ]
  },
  {
   "cell_type": "code",
   "execution_count": 6,
   "id": "c0429b9d-3679-4b4b-bc76-e6850cf61440",
   "metadata": {},
   "outputs": [],
   "source": [
    "## As we doing predicting modelling by predicting rating of the each movie. So setting the numclasses to 1\n",
    "model_name = \"yangheng/deberta-v3-base-absa-v1.1\"\n",
    "tokenizer = AutoTokenizer.from_pretrained(model_name)\n",
    "model = AutoModelForSequenceClassification.from_pretrained(model_name, num_labels=1, ignore_mismatched_sizes = True)"
   ]
  },
  {
   "cell_type": "code",
   "execution_count": 7,
   "id": "224cde1f-8a73-457f-9730-1775f103de16",
   "metadata": {},
   "outputs": [],
   "source": [
    "## Customized dataset loader class for loading the dataset\n",
    "class SubtitlesDataset(Dataset):\n",
    "    def __init__(self, texts, labels_regression, tokenizer, max_length):\n",
    "        self.texts = texts\n",
    "        self.labels_regression = labels_regression\n",
    "        self.tokenizer = tokenizer\n",
    "        self.max_length = max_length\n",
    "\n",
    "    def __len__(self):\n",
    "        return len(self.texts)\n",
    "\n",
    "    def __getitem__(self, idx):\n",
    "        text = str(self.texts[idx])\n",
    "        label_regression = float(self.labels_regression[idx])\n",
    "\n",
    "        encoding = self.tokenizer(text, padding='max_length', truncation=True, max_length=self.max_length, return_tensors='pt')\n",
    "\n",
    "        #print(\"encoding :\", encoding)\n",
    "        input_ids = encoding['input_ids'].squeeze()\n",
    "        attention_mask = encoding['attention_mask'].squeeze()\n",
    "        token_type_ids = encoding['token_type_ids'].squeeze()\n",
    "\n",
    "        return input_ids, attention_mask, token_type_ids, label_regression"
   ]
  },
  {
   "cell_type": "code",
   "execution_count": 10,
   "id": "6fd7b717-f4dd-486c-93a3-6ac1edc87650",
   "metadata": {},
   "outputs": [],
   "source": [
    "## In this code cell we are splitting the train and validation datasets\n",
    "texts = df['subtitles'].tolist()\n",
    "labels_regression = df['Language'].tolist()\n",
    "\n",
    "train_texts, val_texts, train_labels_regression, val_labels_regression = train_test_split(texts, \n",
    "                                                                                          labels_regression, \n",
    "                                                                                          test_size=0.1, \n",
    "                                                                                          random_state=42)"
   ]
  },
  {
   "cell_type": "code",
   "execution_count": 11,
   "id": "f6b0e8bc-fbb7-4c61-85f2-c09beebd2ae5",
   "metadata": {},
   "outputs": [],
   "source": [
    "## By utilizing the dataloader class above we are creating train and validation dataloaders\n",
    "train_dataset = SubtitlesDataset(train_texts, train_labels_regression, tokenizer, max_length=128)\n",
    "val_dataset = SubtitlesDataset(val_texts, val_labels_regression, tokenizer, max_length=128)\n",
    "train_loader = DataLoader(train_dataset, batch_size=32, shuffle=True)\n",
    "val_loader = DataLoader(val_dataset, batch_size=64)"
   ]
  },
  {
   "cell_type": "code",
   "execution_count": 16,
   "id": "e564e0e1-f982-4454-b49f-4e3a7736a34f",
   "metadata": {},
   "outputs": [
    {
     "name": "stderr",
     "output_type": "stream",
     "text": [
      "  4%|████▉                                                                                                                       | 1/25 [01:34<37:58, 94.95s/it]"
     ]
    },
    {
     "name": "stdout",
     "output_type": "stream",
     "text": [
      "Epoch 1/25, Training Loss: 24.8045, Validation Loss: 17.0506\n"
     ]
    },
    {
     "name": "stderr",
     "output_type": "stream",
     "text": [
      "  8%|█████████▉                                                                                                                  | 2/25 [03:14<37:21, 97.48s/it]"
     ]
    },
    {
     "name": "stdout",
     "output_type": "stream",
     "text": [
      "Epoch 2/25, Training Loss: 14.7039, Validation Loss: 10.1041\n"
     ]
    },
    {
     "name": "stderr",
     "output_type": "stream",
     "text": [
      " 12%|██████████████▉                                                                                                             | 3/25 [04:52<35:49, 97.72s/it]"
     ]
    },
    {
     "name": "stdout",
     "output_type": "stream",
     "text": [
      "Epoch 3/25, Training Loss: 9.5329, Validation Loss: 7.2960\n"
     ]
    },
    {
     "name": "stderr",
     "output_type": "stream",
     "text": [
      " 16%|███████████████████▊                                                                                                        | 4/25 [06:31<34:22, 98.20s/it]"
     ]
    },
    {
     "name": "stdout",
     "output_type": "stream",
     "text": [
      "Epoch 4/25, Training Loss: 7.5661, Validation Loss: 7.2077\n"
     ]
    },
    {
     "name": "stderr",
     "output_type": "stream",
     "text": [
      " 20%|████████████████████████▊                                                                                                   | 5/25 [08:08<32:36, 97.82s/it]"
     ]
    },
    {
     "name": "stdout",
     "output_type": "stream",
     "text": [
      "Epoch 5/25, Training Loss: 7.6365, Validation Loss: 8.0249\n"
     ]
    },
    {
     "name": "stderr",
     "output_type": "stream",
     "text": [
      " 24%|█████████████████████████████▊                                                                                              | 6/25 [09:46<30:59, 97.85s/it]"
     ]
    },
    {
     "name": "stdout",
     "output_type": "stream",
     "text": [
      "Epoch 6/25, Training Loss: 7.6888, Validation Loss: 7.2431\n"
     ]
    },
    {
     "name": "stderr",
     "output_type": "stream",
     "text": [
      " 28%|██████████████████████████████████▋                                                                                         | 7/25 [11:23<29:16, 97.61s/it]"
     ]
    },
    {
     "name": "stdout",
     "output_type": "stream",
     "text": [
      "Epoch 7/25, Training Loss: 7.5854, Validation Loss: 7.0947\n"
     ]
    },
    {
     "name": "stderr",
     "output_type": "stream",
     "text": [
      " 32%|███████████████████████████████████████▋                                                                                    | 8/25 [13:01<27:42, 97.82s/it]"
     ]
    },
    {
     "name": "stdout",
     "output_type": "stream",
     "text": [
      "Epoch 8/25, Training Loss: 7.4891, Validation Loss: 7.4404\n"
     ]
    },
    {
     "name": "stderr",
     "output_type": "stream",
     "text": [
      " 36%|████████████████████████████████████████████▋                                                                               | 9/25 [14:38<26:01, 97.62s/it]"
     ]
    },
    {
     "name": "stdout",
     "output_type": "stream",
     "text": [
      "Epoch 9/25, Training Loss: 7.7318, Validation Loss: 7.9460\n"
     ]
    },
    {
     "name": "stderr",
     "output_type": "stream",
     "text": [
      " 40%|█████████████████████████████████████████████████▏                                                                         | 10/25 [16:17<24:29, 97.95s/it]"
     ]
    },
    {
     "name": "stdout",
     "output_type": "stream",
     "text": [
      "Epoch 10/25, Training Loss: 7.6279, Validation Loss: 7.0521\n"
     ]
    },
    {
     "name": "stderr",
     "output_type": "stream",
     "text": [
      " 44%|██████████████████████████████████████████████████████                                                                     | 11/25 [17:55<22:51, 97.99s/it]"
     ]
    },
    {
     "name": "stdout",
     "output_type": "stream",
     "text": [
      "Epoch 11/25, Training Loss: 7.7784, Validation Loss: 7.2818\n"
     ]
    },
    {
     "name": "stderr",
     "output_type": "stream",
     "text": [
      " 48%|███████████████████████████████████████████████████████████                                                                | 12/25 [19:28<20:55, 96.59s/it]"
     ]
    },
    {
     "name": "stdout",
     "output_type": "stream",
     "text": [
      "Epoch 12/25, Training Loss: 7.6643, Validation Loss: 7.0507\n"
     ]
    },
    {
     "name": "stderr",
     "output_type": "stream",
     "text": [
      " 52%|███████████████████████████████████████████████████████████████▉                                                           | 13/25 [21:05<19:20, 96.71s/it]"
     ]
    },
    {
     "name": "stdout",
     "output_type": "stream",
     "text": [
      "Epoch 13/25, Training Loss: 7.6685, Validation Loss: 8.1230\n"
     ]
    },
    {
     "name": "stderr",
     "output_type": "stream",
     "text": [
      " 56%|████████████████████████████████████████████████████████████████████▉                                                      | 14/25 [22:43<17:47, 97.02s/it]"
     ]
    },
    {
     "name": "stdout",
     "output_type": "stream",
     "text": [
      "Epoch 14/25, Training Loss: 8.1529, Validation Loss: 8.2561\n"
     ]
    },
    {
     "name": "stderr",
     "output_type": "stream",
     "text": [
      " 60%|█████████████████████████████████████████████████████████████████████████▊                                                 | 15/25 [24:21<16:12, 97.28s/it]"
     ]
    },
    {
     "name": "stdout",
     "output_type": "stream",
     "text": [
      "Epoch 15/25, Training Loss: 7.7211, Validation Loss: 7.0767\n"
     ]
    },
    {
     "name": "stderr",
     "output_type": "stream",
     "text": [
      " 64%|██████████████████████████████████████████████████████████████████████████████▋                                            | 16/25 [25:59<14:37, 97.45s/it]"
     ]
    },
    {
     "name": "stdout",
     "output_type": "stream",
     "text": [
      "Epoch 16/25, Training Loss: 7.6762, Validation Loss: 7.4234\n"
     ]
    },
    {
     "name": "stderr",
     "output_type": "stream",
     "text": [
      " 68%|███████████████████████████████████████████████████████████████████████████████████▋                                       | 17/25 [27:38<13:03, 97.91s/it]"
     ]
    },
    {
     "name": "stdout",
     "output_type": "stream",
     "text": [
      "Epoch 17/25, Training Loss: 8.2706, Validation Loss: 7.4744\n"
     ]
    },
    {
     "name": "stderr",
     "output_type": "stream",
     "text": [
      " 72%|████████████████████████████████████████████████████████████████████████████████████████▌                                  | 18/25 [29:16<11:24, 97.84s/it]"
     ]
    },
    {
     "name": "stdout",
     "output_type": "stream",
     "text": [
      "Epoch 18/25, Training Loss: 7.7651, Validation Loss: 7.0404\n"
     ]
    },
    {
     "name": "stderr",
     "output_type": "stream",
     "text": [
      " 76%|█████████████████████████████████████████████████████████████████████████████████████████████▍                             | 19/25 [30:53<09:47, 97.84s/it]"
     ]
    },
    {
     "name": "stdout",
     "output_type": "stream",
     "text": [
      "Epoch 19/25, Training Loss: 7.5861, Validation Loss: 7.8950\n"
     ]
    },
    {
     "name": "stderr",
     "output_type": "stream",
     "text": [
      " 80%|██████████████████████████████████████████████████████████████████████████████████████████████████▍                        | 20/25 [32:32<08:10, 98.03s/it]"
     ]
    },
    {
     "name": "stdout",
     "output_type": "stream",
     "text": [
      "Epoch 20/25, Training Loss: 8.2433, Validation Loss: 8.7311\n"
     ]
    },
    {
     "name": "stderr",
     "output_type": "stream",
     "text": [
      " 84%|███████████████████████████████████████████████████████████████████████████████████████████████████████▎                   | 21/25 [34:09<06:31, 97.91s/it]"
     ]
    },
    {
     "name": "stdout",
     "output_type": "stream",
     "text": [
      "Epoch 21/25, Training Loss: 8.3364, Validation Loss: 7.9441\n"
     ]
    },
    {
     "name": "stderr",
     "output_type": "stream",
     "text": [
      " 88%|████████████████████████████████████████████████████████████████████████████████████████████████████████████▏              | 22/25 [35:48<04:54, 98.06s/it]"
     ]
    },
    {
     "name": "stdout",
     "output_type": "stream",
     "text": [
      "Epoch 22/25, Training Loss: 7.6369, Validation Loss: 7.0816\n"
     ]
    },
    {
     "name": "stderr",
     "output_type": "stream",
     "text": [
      " 92%|█████████████████████████████████████████████████████████████████████████████████████████████████████████████████▏         | 23/25 [37:25<03:15, 97.88s/it]"
     ]
    },
    {
     "name": "stdout",
     "output_type": "stream",
     "text": [
      "Epoch 23/25, Training Loss: 7.5489, Validation Loss: 7.2217\n"
     ]
    },
    {
     "name": "stderr",
     "output_type": "stream",
     "text": [
      " 96%|██████████████████████████████████████████████████████████████████████████████████████████████████████████████████████     | 24/25 [39:03<01:37, 97.71s/it]"
     ]
    },
    {
     "name": "stdout",
     "output_type": "stream",
     "text": [
      "Epoch 24/25, Training Loss: 8.1023, Validation Loss: 7.6245\n"
     ]
    },
    {
     "name": "stderr",
     "output_type": "stream",
     "text": [
      "100%|███████████████████████████████████████████████████████████████████████████████████████████████████████████████████████████| 25/25 [40:42<00:00, 97.69s/it]"
     ]
    },
    {
     "name": "stdout",
     "output_type": "stream",
     "text": [
      "Epoch 25/25, Training Loss: 8.2459, Validation Loss: 7.4912\n"
     ]
    },
    {
     "name": "stderr",
     "output_type": "stream",
     "text": [
      "\n"
     ]
    }
   ],
   "source": [
    "## Loading the model to GPU\n",
    "model = model.to(device)\n",
    "\n",
    "## Initializing the hyperparameters and lists for storing train and validation losses\n",
    "optimizer = torch.optim.AdamW(model.parameters(), lr=2.2908675418875646e-06)\n",
    "num_epochs = 25\n",
    "train_losses = []\n",
    "val_losses = []\n",
    "\n",
    "for epoch in tqdm(range(num_epochs)):\n",
    "    ## Training MODE\n",
    "    model.train()\n",
    "    total_loss = 0\n",
    "\n",
    "    for batch in train_loader:\n",
    "        input_id, attention_masks, token_ids, labels = batch\n",
    "        input_id = input_id.to(device)\n",
    "        attention_masks = attention_masks.to(device)\n",
    "        token_ids = token_ids.to(device)\n",
    "        labels = labels.long().to(device)\n",
    "        regression_output = model(input_id, attention_masks, token_ids)\n",
    "        labels_regression = labels.float()\n",
    "        regression_output = regression_output.logits.squeeze(-1)\n",
    "        loss = torch.nn.functional.mse_loss(regression_output, labels_regression)\n",
    "        \n",
    "        loss.backward()\n",
    "        optimizer.step()\n",
    "\n",
    "        total_loss += loss.item()\n",
    "\n",
    "    avg_loss = total_loss / len(train_loader)\n",
    "    train_losses.append(avg_loss)\n",
    "\n",
    "    ## Evaluation Mode\n",
    "    model.eval()\n",
    "    total_val_loss = 0\n",
    "\n",
    "\n",
    "    with torch.no_grad():\n",
    "        for batch in val_loader:\n",
    "            input_id, attention_masks, token_ids, labels = batch\n",
    "            input_id = input_id.to(device)\n",
    "            attention_masks = attention_masks.to(device)\n",
    "            token_ids = token_ids.to(device)\n",
    "            labels = labels.long().to(device)\n",
    "            \n",
    "            regression_output = model(input_id, attention_masks, token_ids)\n",
    "            labels_regression = labels.float()\n",
    "            regression_output = regression_output.logits.squeeze(-1)\n",
    "            val_loss = torch.nn.functional.mse_loss(regression_output, labels_regression)\n",
    "            total_val_loss += val_loss.item()\n",
    "\n",
    "    avg_val_loss = total_val_loss / len(val_loader)\n",
    "    val_losses.append(avg_val_loss)\n",
    "    ## Printing Training and Validation\n",
    "    print(f\"Epoch {epoch + 1}/{num_epochs}, Training Loss: {avg_loss:.4f}, Validation Loss: {avg_val_loss:.4f}\")"
   ]
  },
  {
   "cell_type": "code",
   "execution_count": 11,
   "id": "1a72ba5f-531c-4bbb-8d17-4544042304a1",
   "metadata": {},
   "outputs": [],
   "source": [
    "# time took to run 40:42"
   ]
  },
  {
   "cell_type": "code",
   "execution_count": 20,
   "id": "64bd41c8-dc1d-4dca-a2d2-7e8d525967c7",
   "metadata": {},
   "outputs": [
    {
     "name": "stdout",
     "output_type": "stream",
     "text": [
      "Train and Validation Losses per Epoch saved to: losses_per_epoch2_deberta.xlsx\n"
     ]
    }
   ],
   "source": [
    "## Storing the Loss values in dictionary for creating and storing the results in the dataframe\n",
    "data = {'Epoch': range(1, num_epochs + 1),\n",
    "        'Train Loss': train_losses,\n",
    "        'Validation Loss': val_losses}\n",
    "df2 = pd.DataFrame(data)\n",
    "excel_filename = \"losses_per_epoch2_deberta.xlsx\"\n",
    "df2.to_excel(excel_filename, index=False)\n",
    "print(\"Train and Validation Losses per Epoch saved to:\", excel_filename)"
   ]
  },
  {
   "cell_type": "code",
   "execution_count": 23,
   "id": "01380bbc-7d86-4512-8a92-80eafbd0800a",
   "metadata": {},
   "outputs": [
    {
     "data": {
      "image/png": "[encoded data removed]",
      "text/plain": [
       "<Figure size 720x360 with 1 Axes>"
      ]
     },
     "metadata": {
      "needs_background": "light"
     },
     "output_type": "display_data"
    }
   ],
   "source": [
    "## Plotting the Loss values\n",
    "df_excel=pd.read_excel(\"./losses_per_epoch2_deberta.xlsx\")\n",
    "plt.figure(figsize = (10, 5))\n",
    "plt.plot(range(1, 26), df_excel['Train Loss'].tolist(), label='Total Train Loss')\n",
    "plt.plot(range(1, 26), df_excel['Validation Loss'].tolist(), label='Total Validation Loss')\n",
    "plt.xlabel('Epoch')\n",
    "plt.ylabel('Loss')\n",
    "plt.title('Train and Validation Loss For Baseline Model')\n",
    "plt.legend()\n",
    "\n",
    "plt.savefig(\"baseline_model_losses_baseline2.pdf\")\n",
    "plt.show()"
   ]
  },
  {
   "cell_type": "code",
   "execution_count": 24,
   "id": "b502656a-08cf-4e9d-a3db-b225af5107f6",
   "metadata": {},
   "outputs": [
    {
     "data": {
      "text/plain": [
       "7.040414492289226"
      ]
     },
     "execution_count": 24,
     "metadata": {},
     "output_type": "execute_result"
    }
   ],
   "source": [
    "## Minimum Validataion loss\n",
    "min(val_losses)"
   ]
  },
  {
   "cell_type": "code",
   "execution_count": null,
   "id": "db32ce88-0899-4948-9445-c847bc975c0a",
   "metadata": {},
   "outputs": [],
   "source": [
    "## Storing and Loading the model for future doing inference\n",
    "# torch.save(model.state_dict(), 'models/baseline_lsa-DeBERTa(baseline1).pth')\n",
    "# model = Bert_Attention(numclasses, device).to(device)\n",
    "# model.load_state_dict(torch.load('models/baseline_lsa-DeBERTa(baseline1).pth'))"
   ]
  },
  {
   "cell_type": "code",
   "execution_count": 26,
   "id": "00f2c9e3-7f5f-4d37-aa7a-077b03351bb9",
   "metadata": {},
   "outputs": [
    {
     "name": "stderr",
     "output_type": "stream",
     "text": [
      "100%|█████████████████████████████████████████████████████████████████████████████████████████████████████████████████████████| 201/201 [01:05<00:00,  3.05it/s]\n"
     ]
    }
   ],
   "source": [
    "df = pd.read_csv(\"kidsInMindSubtitles2004.csv\")\n",
    "df = df[1803:].reset_index( drop = True)\n",
    "\n",
    "predictions=[]\n",
    "for sub in tqdm(df.subtitles):\n",
    "    inputs = tokenizer(sub, padding='max_length', truncation=True, max_length=128, return_tensors='pt')\n",
    "    # Get input_ids and attention_mask from the tokenizer output\n",
    "    input_ids = inputs['input_ids']\n",
    "    attention_mask = inputs['attention_mask']\n",
    "    token_ids = inputs['token_type_ids']\n",
    "\n",
    "    input_ids = input_ids.to(device)\n",
    "    attention_masks = attention_masks.to(device)\n",
    "    token_ids = token_ids.to(device)\n",
    "    labels = labels.long().to(device)\n",
    "    \n",
    "    with torch.no_grad():\n",
    "        regression_output = model(input_ids, attention_masks, token_ids)\n",
    "        predicted_score = regression_output.logits\n",
    "        predicted_score = list(set([x.item() for x in predicted_score]))[0]#regression_output.logits\n",
    "    predictions.append(predicted_score)"
   ]
  },
  {
   "cell_type": "code",
   "execution_count": 36,
   "id": "fdc6099f-a84c-4d3e-b8aa-af6884844475",
   "metadata": {},
   "outputs": [
    {
     "name": "stdout",
     "output_type": "stream",
     "text": [
      "mse:  8.505554643742947\n",
      "rmse:  2.9164284053861063\n",
      "mae:  2.349168504648541\n",
      "r2:  -0.09532114813423997\n",
      "evs:  1.0481554292285367e-06\n"
     ]
    }
   ],
   "source": [
    "## Evaluating the performance of the model and printing the results\n",
    "from sklearn.metrics import mean_squared_error, mean_absolute_error, r2_score, explained_variance_score\n",
    "df_predictions=pd.DataFrame({ 'Language_Score':df['Language'].tolist(),\"Predcited_Score\":predictions})\n",
    "true_labels = np.array(df_predictions['Language_Score'].tolist())\n",
    "predicted_scores=np.array(df_predictions['Predcited_Score'].tolist())\n",
    "mse = mean_squared_error(true_labels, predicted_scores)\n",
    "rmse = np.sqrt(mse)\n",
    "mae = mean_absolute_error(true_labels, predicted_scores)\n",
    "r2 = r2_score(true_labels, predicted_scores)\n",
    "evs = explained_variance_score(true_labels, predicted_scores)\n",
    "\n",
    "print(\"mse: \",mse)\n",
    "print(\"rmse: \",rmse)\n",
    "print(\"mae: \",mae)\n",
    "print(\"r2: \",r2)\n",
    "print(\"evs: \",evs)"
   ]
  },
  {
   "cell_type": "code",
   "execution_count": null,
   "id": "aacad6bb-bd5d-44d9-9999-56a801457c1d",
   "metadata": {},
   "outputs": [],
   "source": []
  },
  {
   "cell_type": "code",
   "execution_count": null,
   "id": "1b6d024b-11db-473d-a128-bfbc69770c28",
   "metadata": {},
   "outputs": [],
   "source": []
  },
  {
   "cell_type": "code",
   "execution_count": null,
   "id": "022717cb-e114-4c24-8270-d910ef185eb5",
   "metadata": {},
   "outputs": [],
   "source": []
  },
  {
   "cell_type": "code",
   "execution_count": null,
   "id": "4ef4bf9c-37f2-47d4-ae68-4ca7f70b6c43",
   "metadata": {},
   "outputs": [],
   "source": []
  },
  {
   "cell_type": "code",
   "execution_count": null,
   "id": "c0bff6cf-9ce1-42b1-81bb-8684ed37faab",
   "metadata": {},
   "outputs": [],
   "source": []
  },
  {
   "cell_type": "code",
   "execution_count": null,
   "id": "f3d328d2-7486-4418-bbce-c9e33b318990",
   "metadata": {},
   "outputs": [],
   "source": []
  },
  {
   "cell_type": "code",
   "execution_count": null,
   "id": "508ead4c-ad87-49dc-85b0-386bf37a1664",
   "metadata": {},
   "outputs": [],
   "source": []
  }
 ],
 "metadata": {
  "kernelspec": {
   "display_name": "Python 3 (ipykernel)",
   "language": "python",
   "name": "python3"
  },
  "language_info": {
   "codemirror_mode": {
    "name": "ipython",
    "version": 3
   },
   "file_extension": ".py",
   "mimetype": "text/x-python",
   "name": "python",
   "nbconvert_exporter": "python",
   "pygments_lexer": "ipython3",
   "version": "3.8.10"
  }
 },
 "nbformat": 4,
 "nbformat_minor": 5
}
