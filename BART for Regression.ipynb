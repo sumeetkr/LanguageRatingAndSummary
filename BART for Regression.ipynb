{
 "cells": [
  {
   "cell_type": "code",
   "execution_count": 1,
   "id": "95a2ee12",
   "metadata": {},
   "outputs": [
    {
     "data": {
      "text/plain": [
       "197"
      ]
     },
     "execution_count": 1,
     "metadata": {},
     "output_type": "execute_result"
    }
   ],
   "source": [
    "import gc\n",
    "gc.collect()"
   ]
  },
  {
   "cell_type": "code",
   "execution_count": 2,
   "id": "a0639dcd",
   "metadata": {},
   "outputs": [],
   "source": [
    "import pandas as pd"
   ]
  },
  {
   "cell_type": "code",
   "execution_count": 3,
   "id": "e7dc0441",
   "metadata": {},
   "outputs": [
    {
     "data": {
      "text/plain": [
       "(2004, 15)"
      ]
     },
     "execution_count": 3,
     "metadata": {},
     "output_type": "execute_result"
    }
   ],
   "source": [
    "df = pd.read_csv(\"kidsInMindSubtitles2004.csv\")\n",
    "df.shape"
   ]
  },
  {
   "cell_type": "code",
   "execution_count": null,
   "id": "bb43742b",
   "metadata": {},
   "outputs": [],
   "source": []
  },
  {
   "cell_type": "code",
   "execution_count": 4,
   "id": "cc3e5caf",
   "metadata": {},
   "outputs": [],
   "source": [
    "import torch\n",
    "from transformers import AutoModelForSeq2SeqLM, BartTokenizer\n",
    "from torch.utils.data import DataLoader, Dataset\n",
    "from sklearn.model_selection import train_test_split"
   ]
  },
  {
   "cell_type": "code",
   "execution_count": 5,
   "id": "1edd79c3",
   "metadata": {},
   "outputs": [],
   "source": [
    "model_name = \"facebook/bart-large-cnn\"  \n",
    "class BartForRegression(torch.nn.Module):\n",
    "    def __init__(self):\n",
    "        super(BartForRegression, self).__init__()\n",
    "        self.bart_model = AutoModelForSeq2SeqLM.from_pretrained(\"facebook/bart-large-cnn\")\n",
    "        self.dropout = torch.nn.Dropout(0.1)\n",
    "        self.regression_head = torch.nn.Linear(self.bart_model.config.hidden_size, 1)\n",
    "\n",
    "    def forward(self, input_ids, attention_mask):\n",
    "        outputs = self.bart_model(input_ids=input_ids, attention_mask=attention_mask, output_hidden_states=True)\n",
    "\n",
    "        hidden_state = outputs.decoder_hidden_states[-1]\n",
    "        regression_output = self.regression_head(self.dropout(hidden_state[:, 0]))\n",
    "\n",
    "        return regression_output.squeeze(-1)"
   ]
  },
  {
   "cell_type": "code",
   "execution_count": 6,
   "id": "e7dd540a",
   "metadata": {},
   "outputs": [],
   "source": [
    "class SubtitlesDataset(Dataset):\n",
    "    def __init__(self, texts, labels_regression, tokenizer, max_length):\n",
    "        self.texts = texts\n",
    "        self.labels_regression = labels_regression\n",
    "        self.tokenizer = tokenizer\n",
    "        self.max_length = max_length\n",
    "\n",
    "    def __len__(self):\n",
    "        return len(self.texts)\n",
    "\n",
    "    def __getitem__(self, idx):\n",
    "        text = str(self.texts[idx])\n",
    "        label_regression = float(self.labels_regression[idx])\n",
    "\n",
    "        encoding = self.tokenizer(text, padding='max_length', truncation=True, max_length=self.max_length, return_tensors='pt')\n",
    "        input_ids = encoding['input_ids'].squeeze()\n",
    "        attention_mask = encoding['attention_mask'].squeeze()\n",
    "\n",
    "        return input_ids, attention_mask, label_regression"
   ]
  },
  {
   "cell_type": "code",
   "execution_count": 7,
   "id": "744596b9",
   "metadata": {},
   "outputs": [],
   "source": [
    "texts = df['subtitles'].tolist()\n",
    "labels_regression = df['Language'].tolist()"
   ]
  },
  {
   "cell_type": "code",
   "execution_count": 8,
   "id": "243f0bc6",
   "metadata": {},
   "outputs": [],
   "source": [
    "train_texts, val_texts, train_labels_regression, val_labels_regression = train_test_split(texts, \n",
    "                                                                                          labels_regression, \n",
    "                                                                                          test_size=0.1, \n",
    "                                                                                          random_state=42)"
   ]
  },
  {
   "cell_type": "code",
   "execution_count": 9,
   "id": "8d6cfd50",
   "metadata": {},
   "outputs": [],
   "source": [
    "tokenizer = BartTokenizer.from_pretrained(\"facebook/bart-large-cnn\")\n",
    "model = BartForRegression()"
   ]
  },
  {
   "cell_type": "code",
   "execution_count": 10,
   "id": "546b0e91",
   "metadata": {},
   "outputs": [],
   "source": [
    "#!pip install numpy==1.20"
   ]
  },
  {
   "cell_type": "code",
   "execution_count": 11,
   "id": "27a767bd",
   "metadata": {},
   "outputs": [],
   "source": [
    "train_dataset = SubtitlesDataset(train_texts, train_labels_regression, tokenizer, max_length=128)\n",
    "val_dataset = SubtitlesDataset(val_texts, val_labels_regression, tokenizer, max_length=128)"
   ]
  },
  {
   "cell_type": "code",
   "execution_count": 12,
   "id": "ef6e1aa6",
   "metadata": {},
   "outputs": [],
   "source": [
    "train_loader = DataLoader(train_dataset, batch_size=32, shuffle=True)\n",
    "val_loader = DataLoader(val_dataset, batch_size=64)"
   ]
  },
  {
   "cell_type": "code",
   "execution_count": 13,
   "id": "1ecbcf30",
   "metadata": {},
   "outputs": [],
   "source": [
    "# optimizer = torch.optim.AdamW(model.parameters(), lr=1e-5)\n",
    "optimizer = torch.optim.AdamW(model.parameters(), lr=2.2908675418875646e-06)\n",
    "num_epochs = 25\n",
    "train_losses = []\n",
    "val_losses = []"
   ]
  },
  {
   "cell_type": "code",
   "execution_count": 14,
   "id": "5af83997",
   "metadata": {},
   "outputs": [
    {
     "name": "stderr",
     "output_type": "stream",
     "text": [
      "/tmp/ipykernel_548266/1399904515.py:1: TqdmDeprecationWarning: This function will be removed in tqdm==5.0.0\n",
      "Please use `tqdm.notebook.*` instead of `tqdm._tqdm_notebook.*`\n",
      "  from tqdm._tqdm_notebook import tqdm_notebook as tqdm\n"
     ]
    }
   ],
   "source": [
    "from tqdm._tqdm_notebook import tqdm_notebook as tqdm"
   ]
  },
  {
   "cell_type": "code",
   "execution_count": null,
   "id": "7e6b07c1",
   "metadata": {
    "scrolled": true
   },
   "outputs": [
    {
     "data": {
      "application/vnd.jupyter.widget-view+json": {
       "model_id": "f9822a26ad63452390a82dba891ae513",
       "version_major": 2,
       "version_minor": 0
      },
      "text/plain": [
       "  0%|          | 0/25 [00:00<?, ?it/s]"
      ]
     },
     "metadata": {},
     "output_type": "display_data"
    },
    {
     "data": {
      "application/vnd.jupyter.widget-view+json": {
       "model_id": "6e614062b7ff420598fee3d77730fbb8",
       "version_major": 2,
       "version_minor": 0
      },
      "text/plain": [
       "  0%|          | 0/57 [00:00<?, ?it/s]"
      ]
     },
     "metadata": {},
     "output_type": "display_data"
    },
    {
     "name": "stdout",
     "output_type": "stream",
     "text": [
      "Epoch 1/25, Training Loss: 10.5638\n"
     ]
    },
    {
     "data": {
      "application/vnd.jupyter.widget-view+json": {
       "model_id": "a375ef2cf4744328a20c3283521f1f01",
       "version_major": 2,
       "version_minor": 0
      },
      "text/plain": [
       "  0%|          | 0/57 [00:00<?, ?it/s]"
      ]
     },
     "metadata": {},
     "output_type": "display_data"
    },
    {
     "name": "stdout",
     "output_type": "stream",
     "text": [
      "Epoch 2/25, Training Loss: 7.3209\n"
     ]
    },
    {
     "data": {
      "application/vnd.jupyter.widget-view+json": {
       "model_id": "65a60b5fccbe418e981ff1ebc67ae301",
       "version_major": 2,
       "version_minor": 0
      },
      "text/plain": [
       "  0%|          | 0/57 [00:00<?, ?it/s]"
      ]
     },
     "metadata": {},
     "output_type": "display_data"
    },
    {
     "name": "stdout",
     "output_type": "stream",
     "text": [
      "Epoch 3/25, Training Loss: 7.1929\n"
     ]
    },
    {
     "data": {
      "application/vnd.jupyter.widget-view+json": {
       "model_id": "23d4d663e19b46f08935564bac139147",
       "version_major": 2,
       "version_minor": 0
      },
      "text/plain": [
       "  0%|          | 0/57 [00:00<?, ?it/s]"
      ]
     },
     "metadata": {},
     "output_type": "display_data"
    },
    {
     "name": "stdout",
     "output_type": "stream",
     "text": [
      "Epoch 4/25, Training Loss: 6.9324\n"
     ]
    },
    {
     "data": {
      "application/vnd.jupyter.widget-view+json": {
       "model_id": "412bd49ade3c4449aaa2d0dfa1218d01",
       "version_major": 2,
       "version_minor": 0
      },
      "text/plain": [
       "  0%|          | 0/57 [00:00<?, ?it/s]"
      ]
     },
     "metadata": {},
     "output_type": "display_data"
    },
    {
     "name": "stdout",
     "output_type": "stream",
     "text": [
      "Epoch 5/25, Training Loss: 6.6065\n"
     ]
    },
    {
     "data": {
      "application/vnd.jupyter.widget-view+json": {
       "model_id": "72542b678522413d8ca30c0a5c611062",
       "version_major": 2,
       "version_minor": 0
      },
      "text/plain": [
       "  0%|          | 0/57 [00:00<?, ?it/s]"
      ]
     },
     "metadata": {},
     "output_type": "display_data"
    },
    {
     "name": "stdout",
     "output_type": "stream",
     "text": [
      "Epoch 6/25, Training Loss: 5.8859\n"
     ]
    },
    {
     "data": {
      "application/vnd.jupyter.widget-view+json": {
       "model_id": "43de0b8d904f4492acd848956a226968",
       "version_major": 2,
       "version_minor": 0
      },
      "text/plain": [
       "  0%|          | 0/57 [00:00<?, ?it/s]"
      ]
     },
     "metadata": {},
     "output_type": "display_data"
    },
    {
     "name": "stdout",
     "output_type": "stream",
     "text": [
      "Epoch 7/25, Training Loss: 5.2917\n"
     ]
    },
    {
     "data": {
      "application/vnd.jupyter.widget-view+json": {
       "model_id": "20d70cb4217543ccac0738b75284d029",
       "version_major": 2,
       "version_minor": 0
      },
      "text/plain": [
       "  0%|          | 0/57 [00:00<?, ?it/s]"
      ]
     },
     "metadata": {},
     "output_type": "display_data"
    },
    {
     "name": "stdout",
     "output_type": "stream",
     "text": [
      "Epoch 8/25, Training Loss: 4.6850\n"
     ]
    },
    {
     "data": {
      "application/vnd.jupyter.widget-view+json": {
       "model_id": "2496eccd89a24779a0561608a64cc7b2",
       "version_major": 2,
       "version_minor": 0
      },
      "text/plain": [
       "  0%|          | 0/57 [00:00<?, ?it/s]"
      ]
     },
     "metadata": {},
     "output_type": "display_data"
    },
    {
     "name": "stdout",
     "output_type": "stream",
     "text": [
      "Epoch 9/25, Training Loss: 4.0310\n"
     ]
    },
    {
     "data": {
      "application/vnd.jupyter.widget-view+json": {
       "model_id": "a1751438e9b145f68226898036206b3e",
       "version_major": 2,
       "version_minor": 0
      },
      "text/plain": [
       "  0%|          | 0/57 [00:00<?, ?it/s]"
      ]
     },
     "metadata": {},
     "output_type": "display_data"
    },
    {
     "name": "stdout",
     "output_type": "stream",
     "text": [
      "Epoch 10/25, Training Loss: 3.4420\n"
     ]
    },
    {
     "data": {
      "application/vnd.jupyter.widget-view+json": {
       "model_id": "f61f6d3c80144c6d9767fa0ce8a3d29a",
       "version_major": 2,
       "version_minor": 0
      },
      "text/plain": [
       "  0%|          | 0/57 [00:00<?, ?it/s]"
      ]
     },
     "metadata": {},
     "output_type": "display_data"
    },
    {
     "name": "stdout",
     "output_type": "stream",
     "text": [
      "Epoch 11/25, Training Loss: 3.0652\n"
     ]
    },
    {
     "data": {
      "application/vnd.jupyter.widget-view+json": {
       "model_id": "bd3f624a8ae8498fa4fd82fbf930701c",
       "version_major": 2,
       "version_minor": 0
      },
      "text/plain": [
       "  0%|          | 0/57 [00:00<?, ?it/s]"
      ]
     },
     "metadata": {},
     "output_type": "display_data"
    },
    {
     "name": "stdout",
     "output_type": "stream",
     "text": [
      "Epoch 12/25, Training Loss: 2.7860\n"
     ]
    },
    {
     "data": {
      "application/vnd.jupyter.widget-view+json": {
       "model_id": "d0dae90bf7014541945d87256d9db0d3",
       "version_major": 2,
       "version_minor": 0
      },
      "text/plain": [
       "  0%|          | 0/57 [00:00<?, ?it/s]"
      ]
     },
     "metadata": {},
     "output_type": "display_data"
    },
    {
     "name": "stdout",
     "output_type": "stream",
     "text": [
      "Epoch 13/25, Training Loss: 2.4019\n"
     ]
    },
    {
     "data": {
      "application/vnd.jupyter.widget-view+json": {
       "model_id": "1d8bdc2d69024e11bd0f84a10b02a92b",
       "version_major": 2,
       "version_minor": 0
      },
      "text/plain": [
       "  0%|          | 0/57 [00:00<?, ?it/s]"
      ]
     },
     "metadata": {},
     "output_type": "display_data"
    },
    {
     "name": "stdout",
     "output_type": "stream",
     "text": [
      "Epoch 14/25, Training Loss: 2.1851\n"
     ]
    },
    {
     "data": {
      "application/vnd.jupyter.widget-view+json": {
       "model_id": "c6fac3a96f8745e6a0e865d91edcd730",
       "version_major": 2,
       "version_minor": 0
      },
      "text/plain": [
       "  0%|          | 0/57 [00:00<?, ?it/s]"
      ]
     },
     "metadata": {},
     "output_type": "display_data"
    },
    {
     "name": "stdout",
     "output_type": "stream",
     "text": [
      "Epoch 15/25, Training Loss: 1.8885\n"
     ]
    },
    {
     "data": {
      "application/vnd.jupyter.widget-view+json": {
       "model_id": "da14a6a3749a4a22b35e74c5a4b17b30",
       "version_major": 2,
       "version_minor": 0
      },
      "text/plain": [
       "  0%|          | 0/57 [00:00<?, ?it/s]"
      ]
     },
     "metadata": {},
     "output_type": "display_data"
    },
    {
     "name": "stdout",
     "output_type": "stream",
     "text": [
      "Epoch 16/25, Training Loss: 1.7062\n"
     ]
    },
    {
     "data": {
      "application/vnd.jupyter.widget-view+json": {
       "model_id": "4c63da4edda54d108f431016a4a966fc",
       "version_major": 2,
       "version_minor": 0
      },
      "text/plain": [
       "  0%|          | 0/57 [00:00<?, ?it/s]"
      ]
     },
     "metadata": {},
     "output_type": "display_data"
    },
    {
     "name": "stdout",
     "output_type": "stream",
     "text": [
      "Epoch 17/25, Training Loss: 1.5781\n"
     ]
    },
    {
     "data": {
      "application/vnd.jupyter.widget-view+json": {
       "model_id": "bd344867e4c54c13af97c7386c25cdc9",
       "version_major": 2,
       "version_minor": 0
      },
      "text/plain": [
       "  0%|          | 0/57 [00:00<?, ?it/s]"
      ]
     },
     "metadata": {},
     "output_type": "display_data"
    },
    {
     "name": "stdout",
     "output_type": "stream",
     "text": [
      "Epoch 18/25, Training Loss: 1.4142\n"
     ]
    },
    {
     "data": {
      "application/vnd.jupyter.widget-view+json": {
       "model_id": "4a6fe8d7f7ea4d899c07dd40724f0326",
       "version_major": 2,
       "version_minor": 0
      },
      "text/plain": [
       "  0%|          | 0/57 [00:00<?, ?it/s]"
      ]
     },
     "metadata": {},
     "output_type": "display_data"
    }
   ],
   "source": [
    "for epoch in tqdm(range(num_epochs)):\n",
    "    model.train()\n",
    "    total_loss = 0\n",
    "\n",
    "    for batch in tqdm(train_loader):\n",
    "        input_ids, attention_mask, labels_regression = batch\n",
    "        optimizer.zero_grad()\n",
    "\n",
    "        regression_output = model(input_ids=input_ids, attention_mask=attention_mask)\n",
    "        labels_regression = labels_regression.float()\n",
    "        regression_output = regression_output.squeeze(-1)\n",
    "        loss = torch.nn.functional.mse_loss(regression_output, labels_regression)\n",
    "        #print(loss)\n",
    "        loss.backward()\n",
    "        optimizer.step()\n",
    "\n",
    "        total_loss += loss.item()\n",
    "\n",
    "    avg_loss = total_loss / len(train_loader)\n",
    "    train_losses.append(avg_loss)\n",
    "    \n",
    "    model.eval()\n",
    "    total_val_loss = 0\n",
    "    \n",
    "    with torch.no_grad():\n",
    "        for batch in val_loader:\n",
    "            input_ids, attention_mask, labels_regression = batch\n",
    "            regression_output = model(input_ids=input_ids, attention_mask=attention_mask)\n",
    "            regression_output = regression_output.squeeze(-1)\n",
    "            val_loss = torch.nn.functional.mse_loss(regression_output, labels_regression)\n",
    "            total_val_loss += val_loss.item()\n",
    "\n",
    "    avg_val_loss = total_val_loss / len(val_loader)\n",
    "    val_losses.append(avg_val_loss)\n",
    "    print(f\"Epoch {epoch + 1}/{num_epochs}, Training Loss: {avg_loss:.4f}\")\n"
   ]
  },
  {
   "cell_type": "code",
   "execution_count": null,
   "id": "2b9b88c5",
   "metadata": {},
   "outputs": [],
   "source": [
    "data = {'Epoch': range(1, num_epochs + 1),\n",
    "        'Train Loss': train_losses,\n",
    "        'Validation Loss': val_losses}"
   ]
  },
  {
   "cell_type": "code",
   "execution_count": null,
   "id": "d26215dd",
   "metadata": {},
   "outputs": [],
   "source": [
    "len(val_losses)"
   ]
  },
  {
   "cell_type": "code",
   "execution_count": 18,
   "id": "5a753953",
   "metadata": {},
   "outputs": [
    {
     "name": "stdout",
     "output_type": "stream",
     "text": [
      "Train and Validation Losses per Epoch saved to: losses_per_epoch2.xlsx\n"
     ]
    }
   ],
   "source": [
    "df2 = pd.DataFrame(data)\n",
    "excel_filename = \"losses_per_epoch2.xlsx\"\n",
    "df2.to_excel(excel_filename, index=False)\n",
    "print(\"Train and Validation Losses per Epoch saved to:\", excel_filename)"
   ]
  },
  {
   "cell_type": "code",
   "execution_count": 37,
   "id": "931b1af8",
   "metadata": {},
   "outputs": [],
   "source": [
    "#torch.save(model.state_dict(), 'models/BartForRegression.pth')"
   ]
  },
  {
   "cell_type": "code",
   "execution_count": 35,
   "id": "5c2a53f0",
   "metadata": {},
   "outputs": [],
   "source": [
    "model = BartForRegression()"
   ]
  },
  {
   "cell_type": "code",
   "execution_count": 36,
   "id": "543cf7d3",
   "metadata": {},
   "outputs": [
    {
     "data": {
      "text/plain": [
       "<All keys matched successfully>"
      ]
     },
     "execution_count": 36,
     "metadata": {},
     "output_type": "execute_result"
    }
   ],
   "source": [
    "model.load_state_dict(torch.load('models/BartForRegression.pth'))"
   ]
  },
  {
   "cell_type": "code",
   "execution_count": 13,
   "id": "6f251cea",
   "metadata": {},
   "outputs": [],
   "source": [
    "test_text = df['subtitles'][1700]"
   ]
  },
  {
   "cell_type": "code",
   "execution_count": 14,
   "id": "47ae73ac",
   "metadata": {},
   "outputs": [],
   "source": [
    "inputs = tokenizer(test_text, padding='max_length', truncation=True, max_length=128, return_tensors='pt')\n",
    "\n",
    "# Get input_ids and attention_mask from the tokenizer output\n",
    "input_ids = inputs['input_ids']\n",
    "attention_mask = inputs['attention_mask']"
   ]
  },
  {
   "cell_type": "code",
   "execution_count": 15,
   "id": "8d16d12e",
   "metadata": {},
   "outputs": [],
   "source": [
    "model.eval()\n",
    "\n",
    "with torch.no_grad():\n",
    "    regression_output = model(input_ids=input_ids, attention_mask=attention_mask).squeeze(-1)\n",
    "\n",
    "predicted_score = regression_output.item()"
   ]
  },
  {
   "cell_type": "code",
   "execution_count": 16,
   "id": "7de49210",
   "metadata": {},
   "outputs": [
    {
     "name": "stdout",
     "output_type": "stream",
     "text": [
      "Predicted Regression Score: 0.18485945463180542\n"
     ]
    }
   ],
   "source": [
    "print(\"Predicted Regression Score:\", predicted_score)"
   ]
  },
  {
   "cell_type": "code",
   "execution_count": 17,
   "id": "c3de6114",
   "metadata": {},
   "outputs": [
    {
     "data": {
      "text/plain": [
       "5"
      ]
     },
     "execution_count": 17,
     "metadata": {},
     "output_type": "execute_result"
    }
   ],
   "source": [
    "df['Language'][1700]"
   ]
  },
  {
   "cell_type": "code",
   "execution_count": 18,
   "id": "dfccb1da",
   "metadata": {},
   "outputs": [],
   "source": [
    "df_excel=pd.read_excel(\"./losses_per_epoch2.xlsx\")"
   ]
  },
  {
   "cell_type": "code",
   "execution_count": 19,
   "id": "de0d05a7",
   "metadata": {},
   "outputs": [
    {
     "data": {
      "text/plain": [
       "25"
      ]
     },
     "execution_count": 19,
     "metadata": {},
     "output_type": "execute_result"
    }
   ],
   "source": [
    "len(df_excel)"
   ]
  },
  {
   "cell_type": "code",
   "execution_count": 20,
   "id": "aa7b5a69",
   "metadata": {},
   "outputs": [],
   "source": [
    "#df_excel.columns"
   ]
  },
  {
   "cell_type": "code",
   "execution_count": 21,
   "id": "602dc94f",
   "metadata": {},
   "outputs": [],
   "source": [
    "import matplotlib.pyplot as plt"
   ]
  },
  {
   "cell_type": "code",
   "execution_count": 22,
   "id": "c6e76fb8",
   "metadata": {},
   "outputs": [
    {
     "data": {
      "image/png": "[encoded data removed]",
      "text/plain": [
       "<Figure size 432x288 with 1 Axes>"
      ]
     },
     "metadata": {
      "needs_background": "light"
     },
     "output_type": "display_data"
    }
   ],
   "source": [
    "plt.plot(range(1, 26), df_excel['Train Loss'].tolist(), label='Total Train Loss')\n",
    "plt.plot(range(1, 26), df_excel['Validation Loss'].tolist(), label='Total Validation Loss')\n",
    "plt.xlabel('Epoch')\n",
    "plt.ylabel('Loss')\n",
    "plt.title('Train and Validation Loss For BART for Regression')\n",
    "plt.legend()\n",
    "plt.show()"
   ]
  },
  {
   "cell_type": "code",
   "execution_count": 28,
   "id": "bbde1065",
   "metadata": {},
   "outputs": [],
   "source": [
    "df = df[1800:1805].reset_index(drop = True)"
   ]
  },
  {
   "cell_type": "code",
   "execution_count": 29,
   "id": "b33aac57",
   "metadata": {},
   "outputs": [
    {
     "data": {
      "text/plain": [
       "(5, 15)"
      ]
     },
     "execution_count": 29,
     "metadata": {},
     "output_type": "execute_result"
    }
   ],
   "source": [
    "df.shape"
   ]
  },
  {
   "cell_type": "code",
   "execution_count": 30,
   "id": "51fe8ace",
   "metadata": {},
   "outputs": [],
   "source": [
    "predictions=[]"
   ]
  },
  {
   "cell_type": "code",
   "execution_count": 31,
   "id": "e7836e1c",
   "metadata": {},
   "outputs": [],
   "source": [
    "for sub in df.subtitles:\n",
    "    inputs = tokenizer(sub, padding='max_length', truncation=True, max_length=128, return_tensors='pt')\n",
    "    input_ids = inputs['input_ids']\n",
    "    attention_mask = inputs['attention_mask']\n",
    "    with torch.no_grad():\n",
    "        regression_output = model(input_ids=input_ids, attention_mask=attention_mask).squeeze(-1)\n",
    "        predicted_score = regression_output.item()\n",
    "    predictions.append(predicted_score)\n",
    "    "
   ]
  },
  {
   "cell_type": "code",
   "execution_count": 32,
   "id": "0c693d89",
   "metadata": {},
   "outputs": [],
   "source": [
    "df_predictions=pd.DataFrame({ 'Language_Score':df['Language'].tolist(),\"Predcited_Score\":predictions})"
   ]
  },
  {
   "cell_type": "code",
   "execution_count": 33,
   "id": "ebe64f6a",
   "metadata": {},
   "outputs": [
    {
     "data": {
      "text/html": [
       "<div>\n",
       "<style scoped>\n",
       "    .dataframe tbody tr th:only-of-type {\n",
       "        vertical-align: middle;\n",
       "    }\n",
       "\n",
       "    .dataframe tbody tr th {\n",
       "        vertical-align: top;\n",
       "    }\n",
       "\n",
       "    .dataframe thead th {\n",
       "        text-align: right;\n",
       "    }\n",
       "</style>\n",
       "<table border=\"1\" class=\"dataframe\">\n",
       "  <thead>\n",
       "    <tr style=\"text-align: right;\">\n",
       "      <th></th>\n",
       "      <th>Language_Score</th>\n",
       "      <th>Predcited_Score</th>\n",
       "    </tr>\n",
       "  </thead>\n",
       "  <tbody>\n",
       "    <tr>\n",
       "      <th>0</th>\n",
       "      <td>1</td>\n",
       "      <td>0.338820</td>\n",
       "    </tr>\n",
       "    <tr>\n",
       "      <th>1</th>\n",
       "      <td>5</td>\n",
       "      <td>-0.099284</td>\n",
       "    </tr>\n",
       "    <tr>\n",
       "      <th>2</th>\n",
       "      <td>2</td>\n",
       "      <td>0.291905</td>\n",
       "    </tr>\n",
       "    <tr>\n",
       "      <th>3</th>\n",
       "      <td>6</td>\n",
       "      <td>0.015218</td>\n",
       "    </tr>\n",
       "    <tr>\n",
       "      <th>4</th>\n",
       "      <td>7</td>\n",
       "      <td>-0.053623</td>\n",
       "    </tr>\n",
       "  </tbody>\n",
       "</table>\n",
       "</div>"
      ],
      "text/plain": [
       "   Language_Score  Predcited_Score\n",
       "0               1         0.338820\n",
       "1               5        -0.099284\n",
       "2               2         0.291905\n",
       "3               6         0.015218\n",
       "4               7        -0.053623"
      ]
     },
     "execution_count": 33,
     "metadata": {},
     "output_type": "execute_result"
    }
   ],
   "source": [
    "df_predictions.head()"
   ]
  },
  {
   "cell_type": "code",
   "execution_count": 34,
   "id": "833c9ee5",
   "metadata": {},
   "outputs": [
    {
     "data": {
      "text/html": [
       "<div>\n",
       "<style scoped>\n",
       "    .dataframe tbody tr th:only-of-type {\n",
       "        vertical-align: middle;\n",
       "    }\n",
       "\n",
       "    .dataframe tbody tr th {\n",
       "        vertical-align: top;\n",
       "    }\n",
       "\n",
       "    .dataframe thead th {\n",
       "        text-align: right;\n",
       "    }\n",
       "</style>\n",
       "<table border=\"1\" class=\"dataframe\">\n",
       "  <thead>\n",
       "    <tr style=\"text-align: right;\">\n",
       "      <th></th>\n",
       "      <th>Language_Score</th>\n",
       "      <th>Predcited_Score</th>\n",
       "    </tr>\n",
       "  </thead>\n",
       "  <tbody>\n",
       "  </tbody>\n",
       "</table>\n",
       "</div>"
      ],
      "text/plain": [
       "Empty DataFrame\n",
       "Columns: [Language_Score, Predcited_Score]\n",
       "Index: []"
      ]
     },
     "execution_count": 34,
     "metadata": {},
     "output_type": "execute_result"
    }
   ],
   "source": [
    "df_predictions[1803:]"
   ]
  },
  {
   "cell_type": "code",
   "execution_count": 38,
   "id": "1eed4c4f",
   "metadata": {},
   "outputs": [],
   "source": [
    "import numpy as np"
   ]
  },
  {
   "cell_type": "code",
   "execution_count": 39,
   "id": "3b2b4422",
   "metadata": {},
   "outputs": [],
   "source": [
    "#df_predictions=pd.read_excel('./predictions_BartForRegression.xlsx')"
   ]
  },
  {
   "cell_type": "code",
   "execution_count": 40,
   "id": "d38de49f",
   "metadata": {},
   "outputs": [
    {
     "data": {
      "text/html": [
       "<div>\n",
       "<style scoped>\n",
       "    .dataframe tbody tr th:only-of-type {\n",
       "        vertical-align: middle;\n",
       "    }\n",
       "\n",
       "    .dataframe tbody tr th {\n",
       "        vertical-align: top;\n",
       "    }\n",
       "\n",
       "    .dataframe thead th {\n",
       "        text-align: right;\n",
       "    }\n",
       "</style>\n",
       "<table border=\"1\" class=\"dataframe\">\n",
       "  <thead>\n",
       "    <tr style=\"text-align: right;\">\n",
       "      <th></th>\n",
       "      <th>Language_Score</th>\n",
       "      <th>Predcited_Score</th>\n",
       "    </tr>\n",
       "  </thead>\n",
       "  <tbody>\n",
       "    <tr>\n",
       "      <th>0</th>\n",
       "      <td>5</td>\n",
       "      <td>3.753606</td>\n",
       "    </tr>\n",
       "    <tr>\n",
       "      <th>1</th>\n",
       "      <td>10</td>\n",
       "      <td>10.582192</td>\n",
       "    </tr>\n",
       "    <tr>\n",
       "      <th>2</th>\n",
       "      <td>5</td>\n",
       "      <td>5.527488</td>\n",
       "    </tr>\n",
       "    <tr>\n",
       "      <th>3</th>\n",
       "      <td>5</td>\n",
       "      <td>5.070580</td>\n",
       "    </tr>\n",
       "    <tr>\n",
       "      <th>4</th>\n",
       "      <td>9</td>\n",
       "      <td>8.121773</td>\n",
       "    </tr>\n",
       "    <tr>\n",
       "      <th>...</th>\n",
       "      <td>...</td>\n",
       "      <td>...</td>\n",
       "    </tr>\n",
       "    <tr>\n",
       "      <th>1999</th>\n",
       "      <td>1</td>\n",
       "      <td>1.109995</td>\n",
       "    </tr>\n",
       "    <tr>\n",
       "      <th>2000</th>\n",
       "      <td>1</td>\n",
       "      <td>2.468549</td>\n",
       "    </tr>\n",
       "    <tr>\n",
       "      <th>2001</th>\n",
       "      <td>6</td>\n",
       "      <td>7.052896</td>\n",
       "    </tr>\n",
       "    <tr>\n",
       "      <th>2002</th>\n",
       "      <td>6</td>\n",
       "      <td>6.756784</td>\n",
       "    </tr>\n",
       "    <tr>\n",
       "      <th>2003</th>\n",
       "      <td>6</td>\n",
       "      <td>5.697064</td>\n",
       "    </tr>\n",
       "  </tbody>\n",
       "</table>\n",
       "<p>2004 rows × 2 columns</p>\n",
       "</div>"
      ],
      "text/plain": [
       "      Language_Score  Predcited_Score\n",
       "0                  5         3.753606\n",
       "1                 10        10.582192\n",
       "2                  5         5.527488\n",
       "3                  5         5.070580\n",
       "4                  9         8.121773\n",
       "...              ...              ...\n",
       "1999               1         1.109995\n",
       "2000               1         2.468549\n",
       "2001               6         7.052896\n",
       "2002               6         6.756784\n",
       "2003               6         5.697064\n",
       "\n",
       "[2004 rows x 2 columns]"
      ]
     },
     "execution_count": 40,
     "metadata": {},
     "output_type": "execute_result"
    }
   ],
   "source": [
    "df_predictions"
   ]
  },
  {
   "cell_type": "code",
   "execution_count": 41,
   "id": "46590e0a",
   "metadata": {},
   "outputs": [],
   "source": [
    "from sklearn.metrics import mean_squared_error, mean_absolute_error, r2_score, explained_variance_score\n",
    "\n",
    "true_labels = np.array(df_predictions['Language_Score'].tolist())\n",
    "predicted_scores=np.array(df_predictions['Predcited_Score'].tolist())\n",
    "mse = mean_squared_error(true_labels[1803:], predicted_scores[1803:])\n",
    "rmse = np.sqrt(mse)\n",
    "mae = mean_absolute_error(true_labels, predicted_scores)\n",
    "r2 = r2_score(true_labels, predicted_scores)\n",
    "evs = explained_variance_score(true_labels, predicted_scores)"
   ]
  },
  {
   "cell_type": "code",
   "execution_count": 42,
   "id": "9b542806",
   "metadata": {},
   "outputs": [
    {
     "name": "stdout",
     "output_type": "stream",
     "text": [
      "mse:  2.1610417387986565\n",
      "rmse:  1.4700482096851981\n",
      "mae:  0.8017503249490571\n",
      "r2:  0.8126009004293708\n",
      "evs:  0.8221079699195839\n"
     ]
    }
   ],
   "source": [
    "print(\"mse: \",mse)\n",
    "print(\"rmse: \",rmse)\n",
    "print(\"mae: \",mae)\n",
    "print(\"r2: \",r2)\n",
    "print(\"evs: \",evs)"
   ]
  },
  {
   "cell_type": "code",
   "execution_count": null,
   "id": "bd43c73a",
   "metadata": {},
   "outputs": [],
   "source": []
  },
  {
   "cell_type": "code",
   "execution_count": 43,
   "id": "d9769ff5",
   "metadata": {},
   "outputs": [],
   "source": [
    "#df['Language_Description'][1803:]"
   ]
  },
  {
   "cell_type": "code",
   "execution_count": 44,
   "id": "e5c1a690",
   "metadata": {},
   "outputs": [],
   "source": [
    "\n",
    "predicted_list = []\n",
    "ground_truth_list = []\n",
    "subtitle_list = []\n",
    "summary_list = []\n",
    "\n",
    "\n",
    "for text, rating, lang_sum in zip(df.subtitles[1803:], df['Language'][1803:], df['Language_Description'][1803:]):\n",
    "    \n",
    "    inputs = tokenizer(text, padding='max_length', truncation=True, max_length=128, return_tensors='pt')\n",
    "    input_ids = inputs['input_ids']\n",
    "    attention_mask = inputs['attention_mask']\n",
    "    with torch.no_grad():\n",
    "        regression_output = model(input_ids=input_ids, attention_mask=attention_mask).squeeze(-1)\n",
    "        predicted_score = regression_output.item()\n",
    "    \n",
    "    predicted_list.append(predicted_score)\n",
    "    ground_truth_list.append(rating)\n",
    "    subtitle_list.append(text)\n",
    "    summary_list.append(lang_sum)\n",
    "    "
   ]
  },
  {
   "cell_type": "code",
   "execution_count": 45,
   "id": "450cd30d",
   "metadata": {},
   "outputs": [],
   "source": [
    "df_predictions = pd.DataFrame({ 'Language_Score':ground_truth_list,\"Predcited_Score\":predicted_list, \n",
    "                            \"subtitle\":subtitle_list, \"language_summary\":summary_list})"
   ]
  },
  {
   "cell_type": "code",
   "execution_count": 46,
   "id": "5e9a143e",
   "metadata": {},
   "outputs": [],
   "source": [
    "#df_predictions['']"
   ]
  },
  {
   "cell_type": "code",
   "execution_count": 47,
   "id": "6816aa48",
   "metadata": {},
   "outputs": [],
   "source": [
    "foul_words = [x.lower().strip() for x in open(\"../Kritika_project/final_lexicon_aaai.txt\").readlines()]"
   ]
  },
  {
   "cell_type": "code",
   "execution_count": 48,
   "id": "e2734e65",
   "metadata": {},
   "outputs": [
    {
     "data": {
      "text/plain": [
       "1311"
      ]
     },
     "execution_count": 48,
     "metadata": {},
     "output_type": "execute_result"
    }
   ],
   "source": [
    "len(foul_words)"
   ]
  },
  {
   "cell_type": "code",
   "execution_count": 49,
   "id": "e62b3027",
   "metadata": {},
   "outputs": [],
   "source": [
    "from gensim.parsing.preprocessing import remove_stopwords\n",
    "from tqdm._tqdm_notebook import tqdm_notebook as tqdm\n",
    "tqdm.pandas()"
   ]
  },
  {
   "cell_type": "code",
   "execution_count": 50,
   "id": "3b3ff599",
   "metadata": {},
   "outputs": [],
   "source": [
    "\n",
    "def clean_text(text):\n",
    "    \n",
    "    new_filtered_text = remove_stopwords(text)\n",
    "    \n",
    "    return new_filtered_text.lower()\n"
   ]
  },
  {
   "cell_type": "code",
   "execution_count": 52,
   "id": "85a5f585",
   "metadata": {},
   "outputs": [],
   "source": [
    "def get_inappropriate_words(text):\n",
    "    \n",
    "    \n",
    "    text_list = text.split()\n",
    "    inappropriate_words = [word for word in text_list if word in foul_words]\n",
    "    \n",
    "    \n",
    "    return inappropriate_words"
   ]
  },
  {
   "cell_type": "code",
   "execution_count": 53,
   "id": "30eee2bf",
   "metadata": {},
   "outputs": [
    {
     "data": {
      "application/vnd.jupyter.widget-view+json": {
       "model_id": "b19192f7ddb54c5390d2f48988e3913c",
       "version_major": 2,
       "version_minor": 0
      },
      "text/plain": [
       "  0%|          | 0/201 [00:00<?, ?it/s]"
      ]
     },
     "metadata": {},
     "output_type": "display_data"
    }
   ],
   "source": [
    "df_predictions['cleaned_text'] = df_predictions['subtitle'].progress_apply(clean_text)"
   ]
  },
  {
   "cell_type": "code",
   "execution_count": 54,
   "id": "c36a9608",
   "metadata": {},
   "outputs": [
    {
     "data": {
      "application/vnd.jupyter.widget-view+json": {
       "model_id": "1a08cdc017274b85a98cba4c74c2c0f7",
       "version_major": 2,
       "version_minor": 0
      },
      "text/plain": [
       "  0%|          | 0/201 [00:00<?, ?it/s]"
      ]
     },
     "metadata": {},
     "output_type": "display_data"
    }
   ],
   "source": [
    "df_predictions['inappropriate_words'] = df_predictions['cleaned_text'].progress_apply(get_inappropriate_words)"
   ]
  },
  {
   "cell_type": "code",
   "execution_count": 57,
   "id": "4973875c",
   "metadata": {},
   "outputs": [],
   "source": [
    "df_predictions['inappropriate_words_count'] = [len(x) for x in df_predictions['inappropriate_words']]"
   ]
  },
  {
   "cell_type": "code",
   "execution_count": 13,
   "id": "92c3d0dc",
   "metadata": {},
   "outputs": [],
   "source": [
    "df_predictions.to_csv(\"test_dataset__bart_model_language_rating_prediction.csv\", index = False)"
   ]
  },
  {
   "cell_type": "code",
   "execution_count": null,
   "id": "05d23a08",
   "metadata": {},
   "outputs": [],
   "source": []
  },
  {
   "cell_type": "code",
   "execution_count": null,
   "id": "514ebd04",
   "metadata": {},
   "outputs": [],
   "source": []
  }
 ],
 "metadata": {
  "kernelspec": {
   "display_name": "Python 3 (ipykernel)",
   "language": "python",
   "name": "python3"
  },
  "language_info": {
   "codemirror_mode": {
    "name": "ipython",
    "version": 3
   },
   "file_extension": ".py",
   "mimetype": "text/x-python",
   "name": "python",
   "nbconvert_exporter": "python",
   "pygments_lexer": "ipython3",
   "version": "3.8.10"
  }
 },
 "nbformat": 4,
 "nbformat_minor": 5
}
