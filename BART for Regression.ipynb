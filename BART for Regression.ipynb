{
 "cells": [
  {
   "cell_type": "markdown",
   "id": "ea5956bc",
   "metadata": {},
   "source": [
    "## Our proposed model of `BART for Regression`"
   ]
  },
  {
   "cell_type": "code",
   "execution_count": 56,
   "id": "211fddd5",
   "metadata": {},
   "outputs": [],
   "source": [
    "## Loading all the required libraries\n",
    "\n",
    "import pandas as pd\n",
    "import torch\n",
    "from transformers import AutoModelForSeq2SeqLM, BartTokenizer\n",
    "from torch.utils.data import DataLoader, Dataset\n",
    "from sklearn.model_selection import train_test_split\n",
    "from tqdm._tqdm_notebook import tqdm_notebook as tqdm\n",
    "import matplotlib.pyplot as plt"
   ]
  },
  {
   "cell_type": "code",
   "execution_count": 48,
   "id": "790182aa",
   "metadata": {},
   "outputs": [
    {
     "data": {
      "text/plain": [
       "(1803, 15)"
      ]
     },
     "execution_count": 48,
     "metadata": {},
     "output_type": "execute_result"
    }
   ],
   "source": [
    "## Loading the dataset and splitting the test dataset for later\n",
    "df = pd.read_csv(\"kidsInMindSubtitles2004.csv\")\n",
    "df = df[:1803].reset_index( drop = True)\n",
    "df.shape"
   ]
  },
  {
   "cell_type": "code",
   "execution_count": 5,
   "id": "552d44bb",
   "metadata": {},
   "outputs": [],
   "source": [
    "## Customizing the last layers of the BART model based on our task\n",
    "model_name = \"facebook/bart-large-cnn\"  \n",
    "class BartForRegression(torch.nn.Module):\n",
    "    def __init__(self):\n",
    "        super(BartForRegression, self).__init__()\n",
    "        self.bart_model = AutoModelForSeq2SeqLM.from_pretrained(\"facebook/bart-large-cnn\")\n",
    "        self.dropout = torch.nn.Dropout(0.1)\n",
    "        self.regression_head = torch.nn.Linear(self.bart_model.config.hidden_size, 1)\n",
    "\n",
    "    def forward(self, input_ids, attention_mask):\n",
    "        outputs = self.bart_model(input_ids=input_ids, attention_mask=attention_mask, output_hidden_states=True)\n",
    "\n",
    "        hidden_state = outputs.decoder_hidden_states[-1]\n",
    "        regression_output = self.regression_head(self.dropout(hidden_state[:, 0]))\n",
    "\n",
    "        return regression_output.squeeze(-1)\n"
   ]
  },
  {
   "cell_type": "code",
   "execution_count": 6,
   "id": "326663b5",
   "metadata": {},
   "outputs": [],
   "source": [
    "## As we doing predicting modelling by predicting rating of the each movie. So setting the numclasses to 1\n",
    "class SubtitlesDataset(Dataset):\n",
    "    def __init__(self, texts, labels_regression, tokenizer, max_length):\n",
    "        self.texts = texts\n",
    "        self.labels_regression = labels_regression\n",
    "        self.tokenizer = tokenizer\n",
    "        self.max_length = max_length\n",
    "\n",
    "    def __len__(self):\n",
    "        return len(self.texts)\n",
    "\n",
    "    def __getitem__(self, idx):\n",
    "        text = str(self.texts[idx])\n",
    "        label_regression = float(self.labels_regression[idx])\n",
    "\n",
    "        encoding = self.tokenizer(text, padding='max_length', truncation=True, max_length=self.max_length, return_tensors='pt')\n",
    "        input_ids = encoding['input_ids'].squeeze()\n",
    "        attention_mask = encoding['attention_mask'].squeeze()\n",
    "\n",
    "        return input_ids, attention_mask, label_regression\n"
   ]
  },
  {
   "cell_type": "code",
   "execution_count": 7,
   "id": "c769d345",
   "metadata": {},
   "outputs": [],
   "source": [
    "## As we doing predicting modelling by predicting rating of the each movie. So setting the numclasses to 1\n",
    "tokenizer = BartTokenizer.from_pretrained(\"facebook/bart-large-cnn\")\n",
    "model = BartForRegression()"
   ]
  },
  {
   "cell_type": "code",
   "execution_count": 8,
   "id": "c6b22472",
   "metadata": {},
   "outputs": [],
   "source": [
    "## In this code cell we are splitting the train and validation datasets\n",
    "texts = df['subtitles'].tolist()\n",
    "labels_regression = df['Language'].tolist()\n",
    "train_texts, val_texts, train_labels_regression, val_labels_regression = train_test_split(texts, \n",
    "                                                                                          labels_regression, \n",
    "                                                                                          test_size=0.1, \n",
    "                                                                                          random_state=42)"
   ]
  },
  {
   "cell_type": "code",
   "execution_count": 10,
   "id": "17f6628f",
   "metadata": {},
   "outputs": [],
   "source": [
    "## By utilizing the dataloader class above we are creating train and validation dataloaders\n",
    "train_dataset = SubtitlesDataset(train_texts, train_labels_regression, tokenizer, max_length=128)\n",
    "val_dataset = SubtitlesDataset(val_texts, val_labels_regression, tokenizer, max_length=128)\n",
    "\n",
    "train_loader = DataLoader(train_dataset, batch_size=32, shuffle=True)\n",
    "val_loader = DataLoader(val_dataset, batch_size=64)"
   ]
  },
  {
   "cell_type": "code",
   "execution_count": 14,
   "id": "e1a215f5",
   "metadata": {},
   "outputs": [
    {
     "data": {
      "application/vnd.jupyter.widget-view+json": {
       "model_id": "cf14bc96d44e4f2fb92bf797bdf7b053",
       "version_major": 2,
       "version_minor": 0
      },
      "text/plain": [
       "  0%|          | 0/25 [00:00<?, ?it/s]"
      ]
     },
     "metadata": {},
     "output_type": "display_data"
    },
    {
     "data": {
      "application/vnd.jupyter.widget-view+json": {
       "model_id": "cacb249154484d7f9f0e32e75abc96b0",
       "version_major": 2,
       "version_minor": 0
      },
      "text/plain": [
       "  0%|          | 0/57 [00:00<?, ?it/s]"
      ]
     },
     "metadata": {},
     "output_type": "display_data"
    },
    {
     "name": "stdout",
     "output_type": "stream",
     "text": [
      "Epoch 1/25, Training Loss: 11.9859\n"
     ]
    },
    {
     "data": {
      "application/vnd.jupyter.widget-view+json": {
       "model_id": "714011af3cf6463db0c739cbea72e7d9",
       "version_major": 2,
       "version_minor": 0
      },
      "text/plain": [
       "  0%|          | 0/57 [00:00<?, ?it/s]"
      ]
     },
     "metadata": {},
     "output_type": "display_data"
    },
    {
     "name": "stdout",
     "output_type": "stream",
     "text": [
      "Epoch 2/25, Training Loss: 7.3656\n"
     ]
    },
    {
     "data": {
      "application/vnd.jupyter.widget-view+json": {
       "model_id": "6a89288973fb45c9a67c7801f43dc12a",
       "version_major": 2,
       "version_minor": 0
      },
      "text/plain": [
       "  0%|          | 0/57 [00:00<?, ?it/s]"
      ]
     },
     "metadata": {},
     "output_type": "display_data"
    },
    {
     "name": "stdout",
     "output_type": "stream",
     "text": [
      "Epoch 3/25, Training Loss: 7.2158\n"
     ]
    },
    {
     "data": {
      "application/vnd.jupyter.widget-view+json": {
       "model_id": "845bac8be7c7417695d56c41b3f9a98f",
       "version_major": 2,
       "version_minor": 0
      },
      "text/plain": [
       "  0%|          | 0/57 [00:00<?, ?it/s]"
      ]
     },
     "metadata": {},
     "output_type": "display_data"
    },
    {
     "name": "stdout",
     "output_type": "stream",
     "text": [
      "Epoch 4/25, Training Loss: 7.0026\n"
     ]
    },
    {
     "data": {
      "application/vnd.jupyter.widget-view+json": {
       "model_id": "582b4304ce564d5ba0a56ddb44eb1344",
       "version_major": 2,
       "version_minor": 0
      },
      "text/plain": [
       "  0%|          | 0/57 [00:00<?, ?it/s]"
      ]
     },
     "metadata": {},
     "output_type": "display_data"
    },
    {
     "name": "stdout",
     "output_type": "stream",
     "text": [
      "Epoch 5/25, Training Loss: 6.5869\n"
     ]
    },
    {
     "data": {
      "application/vnd.jupyter.widget-view+json": {
       "model_id": "b908189628a548e583276f1a370df6de",
       "version_major": 2,
       "version_minor": 0
      },
      "text/plain": [
       "  0%|          | 0/57 [00:00<?, ?it/s]"
      ]
     },
     "metadata": {},
     "output_type": "display_data"
    },
    {
     "name": "stdout",
     "output_type": "stream",
     "text": [
      "Epoch 6/25, Training Loss: 5.8212\n"
     ]
    },
    {
     "data": {
      "application/vnd.jupyter.widget-view+json": {
       "model_id": "f6b64e89049146228398b31ac12f93e9",
       "version_major": 2,
       "version_minor": 0
      },
      "text/plain": [
       "  0%|          | 0/57 [00:00<?, ?it/s]"
      ]
     },
     "metadata": {},
     "output_type": "display_data"
    },
    {
     "name": "stdout",
     "output_type": "stream",
     "text": [
      "Epoch 7/25, Training Loss: 5.3396\n"
     ]
    },
    {
     "data": {
      "application/vnd.jupyter.widget-view+json": {
       "model_id": "cfcdc707b5bf42bdae79981c3a39936d",
       "version_major": 2,
       "version_minor": 0
      },
      "text/plain": [
       "  0%|          | 0/57 [00:00<?, ?it/s]"
      ]
     },
     "metadata": {},
     "output_type": "display_data"
    },
    {
     "name": "stdout",
     "output_type": "stream",
     "text": [
      "Epoch 8/25, Training Loss: 4.7318\n"
     ]
    },
    {
     "data": {
      "application/vnd.jupyter.widget-view+json": {
       "model_id": "c4a1fc660e1847ac9eb005fa6417c6c8",
       "version_major": 2,
       "version_minor": 0
      },
      "text/plain": [
       "  0%|          | 0/57 [00:00<?, ?it/s]"
      ]
     },
     "metadata": {},
     "output_type": "display_data"
    },
    {
     "name": "stdout",
     "output_type": "stream",
     "text": [
      "Epoch 9/25, Training Loss: 4.2205\n"
     ]
    },
    {
     "data": {
      "application/vnd.jupyter.widget-view+json": {
       "model_id": "dbf8d68cc0644ad29073349e544d290a",
       "version_major": 2,
       "version_minor": 0
      },
      "text/plain": [
       "  0%|          | 0/57 [00:00<?, ?it/s]"
      ]
     },
     "metadata": {},
     "output_type": "display_data"
    },
    {
     "name": "stdout",
     "output_type": "stream",
     "text": [
      "Epoch 10/25, Training Loss: 3.6741\n"
     ]
    },
    {
     "data": {
      "application/vnd.jupyter.widget-view+json": {
       "model_id": "4dc172b7f74345e4ae71c22e23f496f6",
       "version_major": 2,
       "version_minor": 0
      },
      "text/plain": [
       "  0%|          | 0/57 [00:00<?, ?it/s]"
      ]
     },
     "metadata": {},
     "output_type": "display_data"
    },
    {
     "name": "stdout",
     "output_type": "stream",
     "text": [
      "Epoch 11/25, Training Loss: 3.2991\n"
     ]
    },
    {
     "data": {
      "application/vnd.jupyter.widget-view+json": {
       "model_id": "3aa0debccd36475ea885a7a810f0611d",
       "version_major": 2,
       "version_minor": 0
      },
      "text/plain": [
       "  0%|          | 0/57 [00:00<?, ?it/s]"
      ]
     },
     "metadata": {},
     "output_type": "display_data"
    },
    {
     "name": "stdout",
     "output_type": "stream",
     "text": [
      "Epoch 12/25, Training Loss: 2.9071\n"
     ]
    },
    {
     "data": {
      "application/vnd.jupyter.widget-view+json": {
       "model_id": "14ef973e00c24a828e627a38584765e2",
       "version_major": 2,
       "version_minor": 0
      },
      "text/plain": [
       "  0%|          | 0/57 [00:00<?, ?it/s]"
      ]
     },
     "metadata": {},
     "output_type": "display_data"
    },
    {
     "name": "stdout",
     "output_type": "stream",
     "text": [
      "Epoch 13/25, Training Loss: 2.4910\n"
     ]
    },
    {
     "data": {
      "application/vnd.jupyter.widget-view+json": {
       "model_id": "af6ee038e23f48cdaf135eef6288fcca",
       "version_major": 2,
       "version_minor": 0
      },
      "text/plain": [
       "  0%|          | 0/57 [00:00<?, ?it/s]"
      ]
     },
     "metadata": {},
     "output_type": "display_data"
    },
    {
     "name": "stdout",
     "output_type": "stream",
     "text": [
      "Epoch 14/25, Training Loss: 2.1485\n"
     ]
    },
    {
     "data": {
      "application/vnd.jupyter.widget-view+json": {
       "model_id": "e21d196e46a84ed7adce1bac63c910b6",
       "version_major": 2,
       "version_minor": 0
      },
      "text/plain": [
       "  0%|          | 0/57 [00:00<?, ?it/s]"
      ]
     },
     "metadata": {},
     "output_type": "display_data"
    },
    {
     "name": "stdout",
     "output_type": "stream",
     "text": [
      "Epoch 15/25, Training Loss: 2.0274\n"
     ]
    },
    {
     "data": {
      "application/vnd.jupyter.widget-view+json": {
       "model_id": "9b4b7e5a56c04be0b858bfd67305f40a",
       "version_major": 2,
       "version_minor": 0
      },
      "text/plain": [
       "  0%|          | 0/57 [00:00<?, ?it/s]"
      ]
     },
     "metadata": {},
     "output_type": "display_data"
    },
    {
     "name": "stdout",
     "output_type": "stream",
     "text": [
      "Epoch 16/25, Training Loss: 1.7539\n"
     ]
    },
    {
     "data": {
      "application/vnd.jupyter.widget-view+json": {
       "model_id": "be160ef3f8944c10957d1727dcb490b6",
       "version_major": 2,
       "version_minor": 0
      },
      "text/plain": [
       "  0%|          | 0/57 [00:00<?, ?it/s]"
      ]
     },
     "metadata": {},
     "output_type": "display_data"
    },
    {
     "name": "stdout",
     "output_type": "stream",
     "text": [
      "Epoch 17/25, Training Loss: 1.6754\n"
     ]
    },
    {
     "data": {
      "application/vnd.jupyter.widget-view+json": {
       "model_id": "be7594500c7b467b8caff38020a559a4",
       "version_major": 2,
       "version_minor": 0
      },
      "text/plain": [
       "  0%|          | 0/57 [00:00<?, ?it/s]"
      ]
     },
     "metadata": {},
     "output_type": "display_data"
    },
    {
     "name": "stdout",
     "output_type": "stream",
     "text": [
      "Epoch 18/25, Training Loss: 1.4983\n"
     ]
    },
    {
     "data": {
      "application/vnd.jupyter.widget-view+json": {
       "model_id": "5755e20d01da442fb622fea72a29df3a",
       "version_major": 2,
       "version_minor": 0
      },
      "text/plain": [
       "  0%|          | 0/57 [00:00<?, ?it/s]"
      ]
     },
     "metadata": {},
     "output_type": "display_data"
    },
    {
     "name": "stdout",
     "output_type": "stream",
     "text": [
      "Epoch 19/25, Training Loss: 1.3127\n"
     ]
    },
    {
     "data": {
      "application/vnd.jupyter.widget-view+json": {
       "model_id": "5b2d6bedf50342259e959d0b50e6e5d6",
       "version_major": 2,
       "version_minor": 0
      },
      "text/plain": [
       "  0%|          | 0/57 [00:00<?, ?it/s]"
      ]
     },
     "metadata": {},
     "output_type": "display_data"
    },
    {
     "name": "stdout",
     "output_type": "stream",
     "text": [
      "Epoch 20/25, Training Loss: 1.3267\n"
     ]
    },
    {
     "data": {
      "application/vnd.jupyter.widget-view+json": {
       "model_id": "caa14c731e2a4ff692ec653cda461f28",
       "version_major": 2,
       "version_minor": 0
      },
      "text/plain": [
       "  0%|          | 0/57 [00:00<?, ?it/s]"
      ]
     },
     "metadata": {},
     "output_type": "display_data"
    },
    {
     "name": "stdout",
     "output_type": "stream",
     "text": [
      "Epoch 21/25, Training Loss: 1.2626\n"
     ]
    },
    {
     "data": {
      "application/vnd.jupyter.widget-view+json": {
       "model_id": "8984d0c5be2543daaf462338500fb7b6",
       "version_major": 2,
       "version_minor": 0
      },
      "text/plain": [
       "  0%|          | 0/57 [00:00<?, ?it/s]"
      ]
     },
     "metadata": {},
     "output_type": "display_data"
    },
    {
     "name": "stdout",
     "output_type": "stream",
     "text": [
      "Epoch 22/25, Training Loss: 1.1365\n"
     ]
    },
    {
     "data": {
      "application/vnd.jupyter.widget-view+json": {
       "model_id": "fe0445ab848d4267b635aa1b5ec11f3b",
       "version_major": 2,
       "version_minor": 0
      },
      "text/plain": [
       "  0%|          | 0/57 [00:00<?, ?it/s]"
      ]
     },
     "metadata": {},
     "output_type": "display_data"
    },
    {
     "name": "stdout",
     "output_type": "stream",
     "text": [
      "Epoch 23/25, Training Loss: 1.0827\n"
     ]
    },
    {
     "data": {
      "application/vnd.jupyter.widget-view+json": {
       "model_id": "41addd7ec6344553ba5ceb490c32f1ca",
       "version_major": 2,
       "version_minor": 0
      },
      "text/plain": [
       "  0%|          | 0/57 [00:00<?, ?it/s]"
      ]
     },
     "metadata": {},
     "output_type": "display_data"
    },
    {
     "name": "stdout",
     "output_type": "stream",
     "text": [
      "Epoch 24/25, Training Loss: 1.0456\n"
     ]
    },
    {
     "data": {
      "application/vnd.jupyter.widget-view+json": {
       "model_id": "c35aa52c00ba4c12886ba450a9b42d44",
       "version_major": 2,
       "version_minor": 0
      },
      "text/plain": [
       "  0%|          | 0/57 [00:00<?, ?it/s]"
      ]
     },
     "metadata": {},
     "output_type": "display_data"
    },
    {
     "name": "stdout",
     "output_type": "stream",
     "text": [
      "Epoch 25/25, Training Loss: 1.0093\n"
     ]
    }
   ],
   "source": [
    "\n",
    "## Initializing the hyperparameters and lists for storing train and validation losses\n",
    "optimizer = torch.optim.AdamW(model.parameters(), lr=2.2908675418875646e-06)\n",
    "num_epochs = 25\n",
    "train_losses = []\n",
    "val_losses = []\n",
    "\n",
    "\n",
    "for epoch in tqdm(range(num_epochs)):\n",
    "    ## Training MODE\n",
    "    model.train()\n",
    "    total_loss = 0\n",
    "\n",
    "    for batch in tqdm(train_loader):\n",
    "        input_ids, attention_mask, labels_regression = batch\n",
    "        optimizer.zero_grad()\n",
    "\n",
    "        regression_output = model(input_ids=input_ids, attention_mask=attention_mask)\n",
    "        labels_regression = labels_regression.float()\n",
    "        regression_output = regression_output.squeeze(-1)\n",
    "        loss = torch.nn.functional.mse_loss(regression_output, labels_regression)\n",
    "        #print(loss)\n",
    "        loss.backward()\n",
    "        optimizer.step()\n",
    "\n",
    "        total_loss += loss.item()\n",
    "\n",
    "    avg_loss = total_loss / len(train_loader)\n",
    "    train_losses.append(avg_loss)\n",
    "    \n",
    "    ## Evaluation Mode\n",
    "    model.eval()\n",
    "    total_val_loss = 0\n",
    "    \n",
    "    with torch.no_grad():\n",
    "        for batch in val_loader:\n",
    "            input_ids, attention_mask, labels_regression = batch\n",
    "            regression_output = model(input_ids=input_ids, attention_mask=attention_mask)\n",
    "            regression_output = regression_output.squeeze(-1)\n",
    "            val_loss = torch.nn.functional.mse_loss(regression_output, labels_regression)\n",
    "            total_val_loss += val_loss.item()\n",
    "\n",
    "    avg_val_loss = total_val_loss / len(val_loader)\n",
    "    val_losses.append(avg_val_loss)\n",
    "    print(f\"Epoch {epoch + 1}/{num_epochs}, Training Loss: {avg_loss:.4f}\")"
   ]
  },
  {
   "cell_type": "code",
   "execution_count": 17,
   "id": "cfa5ba5c",
   "metadata": {},
   "outputs": [
    {
     "name": "stdout",
     "output_type": "stream",
     "text": [
      "Train and Validation Losses per Epoch saved to: losses_per_epoch2.xlsx\n"
     ]
    }
   ],
   "source": [
    "## Storing the Loss values in dictionary for creating and storing the results in the dataframe\n",
    "data = {'Epoch': range(1, num_epochs + 1),\n",
    "        'Train Loss': train_losses,\n",
    "        'Validation Loss': val_losses}\n",
    "\n",
    "df2 = pd.DataFrame(data)\n",
    "excel_filename = \"losses_per_epoch2.xlsx\"\n",
    "df2.to_excel(excel_filename, index=False)\n",
    "print(\"Train and Validation Losses per Epoch saved to:\", excel_filename)\n"
   ]
  },
  {
   "cell_type": "code",
   "execution_count": 26,
   "id": "9908f5de",
   "metadata": {},
   "outputs": [],
   "source": [
    "#torch.save(model.state_dict(), 'models/BartForRegression.pth')"
   ]
  },
  {
   "cell_type": "code",
   "execution_count": 27,
   "id": "709f01db",
   "metadata": {},
   "outputs": [],
   "source": [
    "#model = BartForRegression()"
   ]
  },
  {
   "cell_type": "code",
   "execution_count": 28,
   "id": "583f57e5",
   "metadata": {},
   "outputs": [],
   "source": [
    "#model.load_state_dict(torch.load('models/BartForRegression.pth'))"
   ]
  },
  {
   "cell_type": "code",
   "execution_count": 47,
   "id": "e3712611",
   "metadata": {},
   "outputs": [
    {
     "data": {
      "image/png": "[encoded data removed]",
      "text/plain": [
       "<Figure size 1000x500 with 1 Axes>"
      ]
     },
     "metadata": {},
     "output_type": "display_data"
    }
   ],
   "source": [
    "## Plotting the Loss values\n",
    "df_excel=pd.read_excel(\"./losses_per_epoch2.xlsx\")\n",
    "plt.figure(figsize = (10, 5))\n",
    "plt.plot(range(1, 26), df_excel['Train Loss'].tolist(), label='Total Train Loss')\n",
    "plt.plot(range(1, 26), df_excel['Validation Loss'].tolist(), label='Total Validation Loss')\n",
    "plt.xlabel('Epoch')\n",
    "plt.ylabel('Loss')\n",
    "plt.title('Train and Validation Loss For BART for Regression')\n",
    "plt.legend()\n",
    "plt.savefig(\"baseline_model_losses.pdf\")\n",
    "plt.show()\n"
   ]
  },
  {
   "cell_type": "code",
   "execution_count": 49,
   "id": "b5701663",
   "metadata": {},
   "outputs": [],
   "source": [
    "df = pd.read_csv(\"kidsInMindSubtitles2004.csv\")\n",
    "df = df[1803:].reset_index( drop = True)"
   ]
  },
  {
   "cell_type": "code",
   "execution_count": 50,
   "id": "878f8c30",
   "metadata": {},
   "outputs": [
    {
     "data": {
      "application/vnd.jupyter.widget-view+json": {
       "model_id": "b22025e181554213a348c8291a69c003",
       "version_major": 2,
       "version_minor": 0
      },
      "text/plain": [
       "  0%|          | 0/201 [00:00<?, ?it/s]"
      ]
     },
     "metadata": {},
     "output_type": "display_data"
    }
   ],
   "source": [
    "predictions = []\n",
    "for sub in tqdm(df.subtitles):\n",
    "    inputs = tokenizer(sub, padding='max_length', truncation=True, max_length=128, return_tensors='pt')\n",
    "    input_ids = inputs['input_ids']\n",
    "    attention_mask = inputs['attention_mask']\n",
    "    with torch.no_grad():\n",
    "        regression_output = model(input_ids=input_ids, attention_mask=attention_mask).squeeze(-1)\n",
    "        predicted_score = regression_output.item()\n",
    "    predictions.append(predicted_score)"
   ]
  },
  {
   "cell_type": "code",
   "execution_count": 54,
   "id": "9016cb6e",
   "metadata": {},
   "outputs": [
    {
     "name": "stdout",
     "output_type": "stream",
     "text": [
      "mse:  2.2886737085737194\n",
      "rmse:  1.5128363125512685\n",
      "mae:  0.9744045878227671\n",
      "r2:  0.7052711058621264\n",
      "evs:  0.7287416666472817\n"
     ]
    }
   ],
   "source": [
    "\n",
    "from sklearn.metrics import mean_squared_error, mean_absolute_error, r2_score, explained_variance_score\n",
    "import numpy as np\n",
    "\n",
    "df_predictions=pd.DataFrame({ 'Language_Score':df['Language'].tolist(),\"Predcited_Score\":predictions})\n",
    "\n",
    "true_labels = np.array(df_predictions['Language_Score'].tolist())\n",
    "predicted_scores=np.array(df_predictions['Predcited_Score'].tolist())\n",
    "mse = mean_squared_error(true_labels, predicted_scores)\n",
    "rmse = np.sqrt(mse)\n",
    "mae = mean_absolute_error(true_labels, predicted_scores)\n",
    "r2 = r2_score(true_labels, predicted_scores)\n",
    "evs = explained_variance_score(true_labels, predicted_scores)\n",
    "\n",
    "print(\"mse: \",mse)\n",
    "print(\"rmse: \",rmse)\n",
    "print(\"mae: \",mae)\n",
    "print(\"r2: \",r2)\n",
    "print(\"evs: \",evs)"
   ]
  },
  {
   "cell_type": "code",
   "execution_count": null,
   "id": "439f05e4",
   "metadata": {},
   "outputs": [],
   "source": []
  },
  {
   "cell_type": "code",
   "execution_count": null,
   "id": "e795af84",
   "metadata": {},
   "outputs": [],
   "source": []
  }
 ],
 "metadata": {
  "kernelspec": {
   "display_name": "Python 3 (ipykernel)",
   "language": "python",
   "name": "python3"
  },
  "language_info": {
   "codemirror_mode": {
    "name": "ipython",
    "version": 3
   },
   "file_extension": ".py",
   "mimetype": "text/x-python",
   "name": "python",
   "nbconvert_exporter": "python",
   "pygments_lexer": "ipython3",
   "version": "3.11.5"
  }
 },
 "nbformat": 4,
 "nbformat_minor": 5
}
